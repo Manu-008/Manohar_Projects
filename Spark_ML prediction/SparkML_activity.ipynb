{
  "nbformat": 4,
  "nbformat_minor": 0,
  "metadata": {
    "colab": {
      "provenance": [],
      "collapsed_sections": [
        "IourPh73QsOF",
        "Kqb_kTjcXgct",
        "4zqX8la4YBmi",
        "gYD58zZEx3LN",
        "FceIoPSzAe8f",
        "5VK6BbZkJCw9",
        "J5jejYd3Jf5u",
        "PN9ScdndKh7z",
        "8Y9z7K5TK4Ef",
        "o7WW6lXxLIvp",
        "oviBVoeWP4GU"
      ]
    },
    "kernelspec": {
      "name": "python3",
      "display_name": "Python 3"
    },
    "language_info": {
      "name": "python"
    }
  },
  "cells": [
    {
      "cell_type": "markdown",
      "source": [
        "# BATCH 188\n",
        "##EMP ID :-4876\n",
        "##Name :- T.manohar\n",
        "##MLSPARK ASSIGNMENT"
      ],
      "metadata": {
        "id": "Cz9hfDuNQXgX"
      }
    },
    {
      "cell_type": "markdown",
      "source": [
        "#Importing necessary libraries, mount to drive and importing File"
      ],
      "metadata": {
        "id": "IourPh73QsOF"
      }
    },
    {
      "cell_type": "code",
      "execution_count": null,
      "metadata": {
        "colab": {
          "base_uri": "https://localhost:8080/"
        },
        "id": "qczaL3hWQTic",
        "outputId": "6627ce3c-2d49-418a-e22d-388c563fab2e"
      },
      "outputs": [
        {
          "output_type": "stream",
          "name": "stdout",
          "text": [
            "Looking in indexes: https://pypi.org/simple, https://us-python.pkg.dev/colab-wheels/public/simple/\n",
            "Requirement already satisfied: pyspark in /usr/local/lib/python3.7/dist-packages (3.3.0)\n",
            "Requirement already satisfied: py4j in /usr/local/lib/python3.7/dist-packages (0.10.9.5)\n"
          ]
        }
      ],
      "source": [
        "!pip install pyspark py4j"
      ]
    },
    {
      "cell_type": "code",
      "source": [
        "from google.colab import drive\n",
        "drive.mount('/content/drive')"
      ],
      "metadata": {
        "colab": {
          "base_uri": "https://localhost:8080/"
        },
        "id": "_wj6iibYRfEO",
        "outputId": "690afec2-c9c6-41fb-c7aa-16f8972d12e2"
      },
      "execution_count": null,
      "outputs": [
        {
          "output_type": "stream",
          "name": "stdout",
          "text": [
            "Drive already mounted at /content/drive; to attempt to forcibly remount, call drive.mount(\"/content/drive\", force_remount=True).\n"
          ]
        }
      ]
    },
    {
      "cell_type": "code",
      "source": [
        "from pyspark.sql import SparkSession\n",
        "spark = SparkSession.builder.appName(\"taitanic_model\").getOrCreate()"
      ],
      "metadata": {
        "id": "pFOEaoJURjO3"
      },
      "execution_count": null,
      "outputs": []
    },
    {
      "cell_type": "code",
      "source": [
        "from pyspark.sql.types import *\n",
        "\n",
        "# df_Schema describes the structure of the data in the train.csv file\n",
        "\n",
        "df_Schema = StructType([\n",
        "  StructField(\"PassengerId\", StringType(), False),\n",
        "  StructField(\"Survived\", StringType(), False),\n",
        "  StructField(\"Pclass\", StringType(), False),\n",
        "  StructField(\"Name\", StringType(), False),\n",
        "  StructField(\"Sex\", StringType(), False),\n",
        "  StructField(\"Age\", IntegerType(), False),\n",
        "  StructField(\"SibSp\", StringType(), False),\n",
        "  StructField(\"Parch\", StringType(), False),\n",
        "  StructField(\"Ticket\", StringType(), False),\n",
        "  StructField(\"Fare\", IntegerType(), False),\n",
        "  StructField(\"Cabin\", IntegerType(), False),\n",
        "  StructField(\"Embarked\", StringType(), False)\n",
        "])\n",
        "#"
      ],
      "metadata": {
        "id": "sY2qnlaBRmFw"
      },
      "execution_count": null,
      "outputs": []
    },
    {
      "cell_type": "code",
      "source": [
        "pwd"
      ],
      "metadata": {
        "colab": {
          "base_uri": "https://localhost:8080/",
          "height": 36
        },
        "id": "jKHOhxzgVAVH",
        "outputId": "7cd8e56c-f8b8-42bf-e47f-872dd0f14716"
      },
      "execution_count": null,
      "outputs": [
        {
          "output_type": "execute_result",
          "data": {
            "text/plain": [
              "'/content'"
            ],
            "application/vnd.google.colaboratory.intrinsic+json": {
              "type": "string"
            }
          },
          "metadata": {},
          "execution_count": 144
        }
      ]
    },
    {
      "cell_type": "code",
      "source": [
        "df = spark.read.csv(\"/content/drive/MyDrive/bigdata2/assignment/train.csv\",schema = df_Schema,header = True )"
      ],
      "metadata": {
        "id": "wGu4V7AnVBRd"
      },
      "execution_count": null,
      "outputs": []
    },
    {
      "cell_type": "code",
      "source": [
        "df = df.repartition(32)\n",
        "df.rdd.getNumPartitions()"
      ],
      "metadata": {
        "colab": {
          "base_uri": "https://localhost:8080/"
        },
        "id": "6TXiR-KxVi29",
        "outputId": "5caf1aaa-dd6f-47fd-a8f9-c19e6f1467d2"
      },
      "execution_count": null,
      "outputs": [
        {
          "output_type": "execute_result",
          "data": {
            "text/plain": [
              "32"
            ]
          },
          "metadata": {},
          "execution_count": 146
        }
      ]
    },
    {
      "cell_type": "code",
      "source": [
        "df.dtypes"
      ],
      "metadata": {
        "colab": {
          "base_uri": "https://localhost:8080/"
        },
        "id": "zQntT2PHVt9E",
        "outputId": "82d0c98a-cdc1-420f-a468-a5d71b1897b9"
      },
      "execution_count": null,
      "outputs": [
        {
          "output_type": "execute_result",
          "data": {
            "text/plain": [
              "[('PassengerId', 'string'),\n",
              " ('Survived', 'string'),\n",
              " ('Pclass', 'string'),\n",
              " ('Name', 'string'),\n",
              " ('Sex', 'string'),\n",
              " ('Age', 'int'),\n",
              " ('SibSp', 'string'),\n",
              " ('Parch', 'string'),\n",
              " ('Ticket', 'string'),\n",
              " ('Fare', 'int'),\n",
              " ('Cabin', 'int'),\n",
              " ('Embarked', 'string')]"
            ]
          },
          "metadata": {},
          "execution_count": 147
        }
      ]
    },
    {
      "cell_type": "code",
      "source": [
        "df.printSchema()"
      ],
      "metadata": {
        "colab": {
          "base_uri": "https://localhost:8080/"
        },
        "id": "ZlYM-DThV6wx",
        "outputId": "08b06f93-02d6-4c10-ad7f-963bd78ae457"
      },
      "execution_count": null,
      "outputs": [
        {
          "output_type": "stream",
          "name": "stdout",
          "text": [
            "root\n",
            " |-- PassengerId: string (nullable = true)\n",
            " |-- Survived: string (nullable = true)\n",
            " |-- Pclass: string (nullable = true)\n",
            " |-- Name: string (nullable = true)\n",
            " |-- Sex: string (nullable = true)\n",
            " |-- Age: integer (nullable = true)\n",
            " |-- SibSp: string (nullable = true)\n",
            " |-- Parch: string (nullable = true)\n",
            " |-- Ticket: string (nullable = true)\n",
            " |-- Fare: integer (nullable = true)\n",
            " |-- Cabin: integer (nullable = true)\n",
            " |-- Embarked: string (nullable = true)\n",
            "\n"
          ]
        }
      ]
    },
    {
      "cell_type": "code",
      "source": [
        "df.show()"
      ],
      "metadata": {
        "colab": {
          "base_uri": "https://localhost:8080/"
        },
        "id": "4UFDO3PtWLLJ",
        "outputId": "d04eea99-ae85-4d26-89c0-cc3581952120"
      },
      "execution_count": null,
      "outputs": [
        {
          "output_type": "stream",
          "name": "stdout",
          "text": [
            "+-----------+--------+------+--------------------+------+----+-----+-----+------------------+----+-----+--------+\n",
            "|PassengerId|Survived|Pclass|                Name|   Sex| Age|SibSp|Parch|            Ticket|Fare|Cabin|Embarked|\n",
            "+-----------+--------+------+--------------------+------+----+-----+-----+------------------+----+-----+--------+\n",
            "|        834|       0|     3|Augustsson, Mr. A...|  male|  23|    0|    0|            347468|null| null|       S|\n",
            "|        785|       0|     3|    Ali, Mr. William|  male|  25|    0|    0|SOTON/O.Q. 3101312|null| null|       S|\n",
            "|        155|       0|     3|Olsen, Mr. Ole Ma...|  male|null|    0|    0|         Fa 265302|null| null|       S|\n",
            "|        250|       0|     2|Carter, Rev. Erne...|  male|  54|    1|    0|            244252|  26| null|       S|\n",
            "|        655|       0|     3|\"Hegarty, Miss. H...|female|  18|    0|    0|            365226|null| null|       Q|\n",
            "|        233|       0|     2|Sjostedt, Mr. Ern...|  male|  59|    0|    0|            237442|null| null|       S|\n",
            "|        547|       1|     2|Beane, Mrs. Edwar...|female|  19|    1|    0|              2908|  26| null|       S|\n",
            "|        770|       0|     3|Gronnestad, Mr. D...|  male|  32|    0|    0|              8471|null| null|       S|\n",
            "|        540|       1|     1|Frolicher, Miss. ...|female|  22|    0|    2|             13568|null| null|       C|\n",
            "|        500|       0|     3|  Svensson, Mr. Olof|  male|  24|    0|    0|            350035|null| null|       S|\n",
            "|        575|       0|     3|Rush, Mr. Alfred ...|  male|  16|    0|    0|        A/4. 20589|null| null|       S|\n",
            "|        285|       0|     1|Smith, Mr. Richar...|  male|null|    0|    0|            113056|  26| null|       S|\n",
            "|        416|       0|     3|Meek, Mrs. Thomas...|female|null|    0|    0|            343095|null| null|       S|\n",
            "|        579|       0|     3|Caram, Mrs. Josep...|female|null|    1|    0|              2689|null| null|       C|\n",
            "|        841|       0|     3|Alhomaki, Mr. Ilm...|  male|  20|    0|    0|  SOTON/O2 3101287|null| null|       S|\n",
            "|        494|       0|     1|Artagaveytia, Mr....|  male|  71|    0|    0|          PC 17609|null| null|       C|\n",
            "|        825|       0|     3|Panula, Master. U...|  male|   2|    4|    1|           3101295|null| null|       S|\n",
            "|        130|       0|     3|  Ekstrom, Mr. Johan|  male|  45|    0|    0|            347061|null| null|       S|\n",
            "|        164|       0|     3|     Calic, Mr. Jovo|  male|  17|    0|    0|            315093|null| null|       S|\n",
            "|        846|       0|     3| Abbing, Mr. Anthony|  male|  42|    0|    0|         C.A. 5547|null| null|       S|\n",
            "+-----------+--------+------+--------------------+------+----+-----+-----+------------------+----+-----+--------+\n",
            "only showing top 20 rows\n",
            "\n"
          ]
        }
      ]
    },
    {
      "cell_type": "markdown",
      "source": [
        "#1.In the dataframe im checking that how many persons are survived and not survived"
      ],
      "metadata": {
        "id": "Kqb_kTjcXgct"
      }
    },
    {
      "cell_type": "code",
      "source": [
        "num_of_passengers_survived = df[df.Survived==1]"
      ],
      "metadata": {
        "id": "3Ynp94cEWON0"
      },
      "execution_count": null,
      "outputs": []
    },
    {
      "cell_type": "code",
      "source": [],
      "metadata": {
        "id": "fUYf_ZPkXxFG"
      },
      "execution_count": null,
      "outputs": []
    },
    {
      "cell_type": "code",
      "source": [
        "num_of_passengers_survived.count()"
      ],
      "metadata": {
        "colab": {
          "base_uri": "https://localhost:8080/"
        },
        "id": "_r52FfjzWvBl",
        "outputId": "2ba2a60c-9959-4b92-f019-6a7e33e69454"
      },
      "execution_count": null,
      "outputs": [
        {
          "output_type": "execute_result",
          "data": {
            "text/plain": [
              "342"
            ]
          },
          "metadata": {},
          "execution_count": 151
        }
      ]
    },
    {
      "cell_type": "code",
      "source": [],
      "metadata": {
        "id": "Lvj0dNQfXxBu"
      },
      "execution_count": null,
      "outputs": []
    },
    {
      "cell_type": "code",
      "source": [
        "num_of_not_passengers_survived = df.count()-num_of_passengers_survived.count()"
      ],
      "metadata": {
        "id": "yCT-g8_vXEU5"
      },
      "execution_count": null,
      "outputs": []
    },
    {
      "cell_type": "code",
      "source": [
        "num_of_not_passengers_survived"
      ],
      "metadata": {
        "colab": {
          "base_uri": "https://localhost:8080/"
        },
        "id": "B1rbIed7XUsh",
        "outputId": "7df69bc8-b9bd-4927-be63-d3a046b46b73"
      },
      "execution_count": null,
      "outputs": [
        {
          "output_type": "execute_result",
          "data": {
            "text/plain": [
              "549"
            ]
          },
          "metadata": {},
          "execution_count": 153
        }
      ]
    },
    {
      "cell_type": "markdown",
      "source": [
        "#2.the count of male and female passengers surviving"
      ],
      "metadata": {
        "id": "4zqX8la4YBmi"
      }
    },
    {
      "cell_type": "code",
      "source": [
        "df_male = df[df.Sex==\"male\"]\n",
        "df_male.count()"
      ],
      "metadata": {
        "colab": {
          "base_uri": "https://localhost:8080/"
        },
        "id": "aItH8otGY4ZP",
        "outputId": "c9df53c4-6a4c-4c94-e68e-0f75c64d0ccc"
      },
      "execution_count": null,
      "outputs": [
        {
          "output_type": "execute_result",
          "data": {
            "text/plain": [
              "577"
            ]
          },
          "metadata": {},
          "execution_count": 154
        }
      ]
    },
    {
      "cell_type": "code",
      "source": [
        "df_male_surviver = df_male[df_male.Survived==1]\n",
        "df_male_surviver.count()\n"
      ],
      "metadata": {
        "colab": {
          "base_uri": "https://localhost:8080/"
        },
        "id": "rkK8onJnXd4i",
        "outputId": "73b70754-59e9-460d-c7de-5cdf063b19e2"
      },
      "execution_count": null,
      "outputs": [
        {
          "output_type": "execute_result",
          "data": {
            "text/plain": [
              "109"
            ]
          },
          "metadata": {},
          "execution_count": 155
        }
      ]
    },
    {
      "cell_type": "markdown",
      "source": [
        "The male surviver are 109 out of 577"
      ],
      "metadata": {
        "id": "jFv2GkqawNdl"
      }
    },
    {
      "cell_type": "code",
      "source": [
        "df_female = df[df.Sex==\"female\"]\n",
        "df_female.count()"
      ],
      "metadata": {
        "id": "ycbabJ1jYmpj",
        "colab": {
          "base_uri": "https://localhost:8080/"
        },
        "outputId": "06fb1507-2558-4dd9-e949-21eda48f60b2"
      },
      "execution_count": null,
      "outputs": [
        {
          "output_type": "execute_result",
          "data": {
            "text/plain": [
              "314"
            ]
          },
          "metadata": {},
          "execution_count": 156
        }
      ]
    },
    {
      "cell_type": "code",
      "source": [
        "df_female_surviver = df_female[df_female.Survived==1]\n",
        "df_female_surviver.count()"
      ],
      "metadata": {
        "colab": {
          "base_uri": "https://localhost:8080/"
        },
        "id": "_30tfb6Zwj1r",
        "outputId": "eba32e34-f9dc-4a31-a3d5-f0a1daceac82"
      },
      "execution_count": null,
      "outputs": [
        {
          "output_type": "execute_result",
          "data": {
            "text/plain": [
              "233"
            ]
          },
          "metadata": {},
          "execution_count": 157
        }
      ]
    },
    {
      "cell_type": "code",
      "source": [
        "df.show()"
      ],
      "metadata": {
        "colab": {
          "base_uri": "https://localhost:8080/"
        },
        "id": "_FgNw9Tgx84y",
        "outputId": "76446596-f07a-4169-ea4e-8f739fa6917e"
      },
      "execution_count": null,
      "outputs": [
        {
          "output_type": "stream",
          "name": "stdout",
          "text": [
            "+-----------+--------+------+--------------------+------+----+-----+-----+------------------+----+-----+--------+\n",
            "|PassengerId|Survived|Pclass|                Name|   Sex| Age|SibSp|Parch|            Ticket|Fare|Cabin|Embarked|\n",
            "+-----------+--------+------+--------------------+------+----+-----+-----+------------------+----+-----+--------+\n",
            "|        834|       0|     3|Augustsson, Mr. A...|  male|  23|    0|    0|            347468|null| null|       S|\n",
            "|        785|       0|     3|    Ali, Mr. William|  male|  25|    0|    0|SOTON/O.Q. 3101312|null| null|       S|\n",
            "|        155|       0|     3|Olsen, Mr. Ole Ma...|  male|null|    0|    0|         Fa 265302|null| null|       S|\n",
            "|        250|       0|     2|Carter, Rev. Erne...|  male|  54|    1|    0|            244252|  26| null|       S|\n",
            "|        655|       0|     3|\"Hegarty, Miss. H...|female|  18|    0|    0|            365226|null| null|       Q|\n",
            "|        233|       0|     2|Sjostedt, Mr. Ern...|  male|  59|    0|    0|            237442|null| null|       S|\n",
            "|        547|       1|     2|Beane, Mrs. Edwar...|female|  19|    1|    0|              2908|  26| null|       S|\n",
            "|        770|       0|     3|Gronnestad, Mr. D...|  male|  32|    0|    0|              8471|null| null|       S|\n",
            "|        540|       1|     1|Frolicher, Miss. ...|female|  22|    0|    2|             13568|null| null|       C|\n",
            "|        500|       0|     3|  Svensson, Mr. Olof|  male|  24|    0|    0|            350035|null| null|       S|\n",
            "|        575|       0|     3|Rush, Mr. Alfred ...|  male|  16|    0|    0|        A/4. 20589|null| null|       S|\n",
            "|        285|       0|     1|Smith, Mr. Richar...|  male|null|    0|    0|            113056|  26| null|       S|\n",
            "|        416|       0|     3|Meek, Mrs. Thomas...|female|null|    0|    0|            343095|null| null|       S|\n",
            "|        579|       0|     3|Caram, Mrs. Josep...|female|null|    1|    0|              2689|null| null|       C|\n",
            "|        841|       0|     3|Alhomaki, Mr. Ilm...|  male|  20|    0|    0|  SOTON/O2 3101287|null| null|       S|\n",
            "|        494|       0|     1|Artagaveytia, Mr....|  male|  71|    0|    0|          PC 17609|null| null|       C|\n",
            "|        825|       0|     3|Panula, Master. U...|  male|   2|    4|    1|           3101295|null| null|       S|\n",
            "|        130|       0|     3|  Ekstrom, Mr. Johan|  male|  45|    0|    0|            347061|null| null|       S|\n",
            "|        164|       0|     3|     Calic, Mr. Jovo|  male|  17|    0|    0|            315093|null| null|       S|\n",
            "|        846|       0|     3| Abbing, Mr. Anthony|  male|  42|    0|    0|         C.A. 5547|null| null|       S|\n",
            "+-----------+--------+------+--------------------+------+----+-----+-----+------------------+----+-----+--------+\n",
            "only showing top 20 rows\n",
            "\n"
          ]
        }
      ]
    },
    {
      "cell_type": "markdown",
      "source": [
        "The total num females survived are 223 from 314 females passengers\n",
        "\n",
        "\n"
      ],
      "metadata": {
        "id": "wqXuVwVJxUg4"
      }
    },
    {
      "cell_type": "code",
      "source": [
        "groupBy_output=df.groupBy(\"Survived\").count().show()"
      ],
      "metadata": {
        "colab": {
          "base_uri": "https://localhost:8080/"
        },
        "id": "ej7TNgMG53bD",
        "outputId": "8ca36bd9-3227-461e-a913-b765911ef52a"
      },
      "execution_count": null,
      "outputs": [
        {
          "output_type": "stream",
          "name": "stdout",
          "text": [
            "+--------+-----+\n",
            "|Survived|count|\n",
            "+--------+-----+\n",
            "|       0|  549|\n",
            "|       1|  342|\n",
            "+--------+-----+\n",
            "\n"
          ]
        }
      ]
    },
    {
      "cell_type": "code",
      "source": [
        "df.groupBy(\"Sex\",\"Survived\").count().show()"
      ],
      "metadata": {
        "colab": {
          "base_uri": "https://localhost:8080/"
        },
        "id": "vd2WxUml6j_L",
        "outputId": "38c57f80-130f-40e9-ca3a-73c1e045807d"
      },
      "execution_count": null,
      "outputs": [
        {
          "output_type": "stream",
          "name": "stdout",
          "text": [
            "+------+--------+-----+\n",
            "|   Sex|Survived|count|\n",
            "+------+--------+-----+\n",
            "|female|       0|   81|\n",
            "|female|       1|  233|\n",
            "|  male|       1|  109|\n",
            "|  male|       0|  468|\n",
            "+------+--------+-----+\n",
            "\n"
          ]
        }
      ]
    },
    {
      "cell_type": "code",
      "source": [],
      "metadata": {
        "id": "rC_qufNC6nK2"
      },
      "execution_count": null,
      "outputs": []
    },
    {
      "cell_type": "code",
      "source": [],
      "metadata": {
        "id": "cDTwXlkO6tse"
      },
      "execution_count": null,
      "outputs": []
    },
    {
      "cell_type": "markdown",
      "source": [
        "#3.columns are irrelevant and can be dropped"
      ],
      "metadata": {
        "id": "gYD58zZEx3LN"
      }
    },
    {
      "cell_type": "markdown",
      "source": [
        "From DataFrame we can drop Name,Ticket,cabin. Because name and id we can define by Id and cabin has lot of null values more than 50%"
      ],
      "metadata": {
        "id": "hTADCLZGx7hi"
      }
    },
    {
      "cell_type": "code",
      "source": [
        "# Find Count of Null, None, NaN of All DataFrame Columns\n",
        "from pyspark.sql.functions import col,isnan, when, count\n",
        "df.select([count(when(isnan(c) | col(c).isNull(), c)).alias(c) for c in df.columns]\n",
        "   ).show()"
      ],
      "metadata": {
        "colab": {
          "base_uri": "https://localhost:8080/"
        },
        "id": "b66haKB_0ogo",
        "outputId": "4fe60533-1367-4a86-cbf2-2856fca2c20f"
      },
      "execution_count": null,
      "outputs": [
        {
          "output_type": "stream",
          "name": "stdout",
          "text": [
            "+-----------+--------+------+----+---+---+-----+-----+------+----+-----+--------+\n",
            "|PassengerId|Survived|Pclass|Name|Sex|Age|SibSp|Parch|Ticket|Fare|Cabin|Embarked|\n",
            "+-----------+--------+------+----+---+---+-----+-----+------+----+-----+--------+\n",
            "|          0|       0|     0|   0|  0|202|    0|    0|     0| 730|  891|       2|\n",
            "+-----------+--------+------+----+---+---+-----+-----+------+----+-----+--------+\n",
            "\n"
          ]
        }
      ]
    },
    {
      "cell_type": "code",
      "source": [
        "df_1 = df.drop(\"Name\",\"Ticket\",\"cabin\")"
      ],
      "metadata": {
        "id": "Wp3P2tkIxSeb"
      },
      "execution_count": null,
      "outputs": []
    },
    {
      "cell_type": "code",
      "source": [
        "df_1.show()"
      ],
      "metadata": {
        "colab": {
          "base_uri": "https://localhost:8080/"
        },
        "id": "x3q4eTHrzPwO",
        "outputId": "d715d8f4-53b8-462e-8596-a7a9b54e6e0c"
      },
      "execution_count": null,
      "outputs": [
        {
          "output_type": "stream",
          "name": "stdout",
          "text": [
            "+-----------+--------+------+------+----+-----+-----+----+--------+\n",
            "|PassengerId|Survived|Pclass|   Sex| Age|SibSp|Parch|Fare|Embarked|\n",
            "+-----------+--------+------+------+----+-----+-----+----+--------+\n",
            "|        669|       0|     3|  male|  43|    0|    0|null|       S|\n",
            "|        408|       1|     2|  male|   3|    1|    1|null|       S|\n",
            "|        807|       0|     1|  male|  39|    0|    0|   0|       S|\n",
            "|        136|       0|     2|  male|  23|    0|    0|null|       C|\n",
            "|        518|       0|     3|  male|null|    0|    0|null|       Q|\n",
            "|        181|       0|     3|female|null|    8|    2|null|       S|\n",
            "|        483|       0|     3|  male|  50|    0|    0|null|       S|\n",
            "|         98|       1|     1|  male|  23|    0|    1|null|       C|\n",
            "|        470|       1|     3|female|null|    2|    1|null|       C|\n",
            "|        353|       0|     3|  male|  15|    1|    1|null|       C|\n",
            "|        535|       0|     3|female|  30|    0|    0|null|       S|\n",
            "|        344|       0|     2|  male|  25|    0|    0|  13|       S|\n",
            "|        547|       1|     2|female|  19|    1|    0|  26|       S|\n",
            "|        505|       1|     1|female|  16|    0|    0|null|       S|\n",
            "|        278|       0|     2|  male|null|    0|    0|   0|       S|\n",
            "|        382|       1|     3|female|   1|    0|    2|null|       C|\n",
            "|        559|       1|     1|female|  39|    1|    1|null|       S|\n",
            "|        230|       0|     3|female|null|    3|    1|null|       S|\n",
            "|        432|       1|     3|female|null|    1|    0|null|       S|\n",
            "|         34|       0|     2|  male|  66|    0|    0|null|       S|\n",
            "+-----------+--------+------+------+----+-----+-----+----+--------+\n",
            "only showing top 20 rows\n",
            "\n"
          ]
        }
      ]
    },
    {
      "cell_type": "code",
      "source": [
        "df_1.select([count(when(isnan(c) | col(c).isNull(), c)).alias(c) for c in df_1.columns]\n",
        "   ).show()"
      ],
      "metadata": {
        "colab": {
          "base_uri": "https://localhost:8080/"
        },
        "id": "fSzh0T_LzRwW",
        "outputId": "9c786670-84bf-4cbb-8993-44f92cd1f139"
      },
      "execution_count": null,
      "outputs": [
        {
          "output_type": "stream",
          "name": "stdout",
          "text": [
            "+-----------+--------+------+---+---+-----+-----+----+--------+\n",
            "|PassengerId|Survived|Pclass|Sex|Age|SibSp|Parch|Fare|Embarked|\n",
            "+-----------+--------+------+---+---+-----+-----+----+--------+\n",
            "|          0|       0|     0|  0|202|    0|    0| 730|       2|\n",
            "+-----------+--------+------+---+---+-----+-----+----+--------+\n",
            "\n"
          ]
        }
      ]
    },
    {
      "cell_type": "markdown",
      "source": [
        "Im droping the Fare column because it has 50% above null values   "
      ],
      "metadata": {
        "id": "9xoDwsyl0BCu"
      }
    },
    {
      "cell_type": "code",
      "source": [
        "df_1=df_1.drop(\"Fare\")"
      ],
      "metadata": {
        "id": "0KmMZ_4Oz55a"
      },
      "execution_count": null,
      "outputs": []
    },
    {
      "cell_type": "code",
      "source": [
        "df_1.select([count(when(isnan(c) | col(c).isNull(), c)).alias(c) for c in df_1.columns]\n",
        "   ).show()"
      ],
      "metadata": {
        "colab": {
          "base_uri": "https://localhost:8080/"
        },
        "id": "G0RfFJ4V0SFK",
        "outputId": "7e8b027d-8940-4577-8660-39343f066968"
      },
      "execution_count": null,
      "outputs": [
        {
          "output_type": "stream",
          "name": "stdout",
          "text": [
            "+-----------+--------+------+---+---+-----+-----+--------+\n",
            "|PassengerId|Survived|Pclass|Sex|Age|SibSp|Parch|Embarked|\n",
            "+-----------+--------+------+---+---+-----+-----+--------+\n",
            "|          0|       0|     0|  0|202|    0|    0|       2|\n",
            "+-----------+--------+------+---+---+-----+-----+--------+\n",
            "\n"
          ]
        }
      ]
    },
    {
      "cell_type": "markdown",
      "source": [
        "Im kepping id in variable for safty and im droping it"
      ],
      "metadata": {
        "id": "6yWLi3Zu00Uu"
      }
    },
    {
      "cell_type": "code",
      "source": [
        "df_ID = df_1.select(\"PassengerId\")\n"
      ],
      "metadata": {
        "id": "rE9b5mVL0W4B"
      },
      "execution_count": null,
      "outputs": []
    },
    {
      "cell_type": "code",
      "source": [
        "df_ID.show()"
      ],
      "metadata": {
        "colab": {
          "base_uri": "https://localhost:8080/"
        },
        "id": "wGs3iBib1HjB",
        "outputId": "201cb0e9-6a13-4796-d62e-2fcad15cc131"
      },
      "execution_count": null,
      "outputs": [
        {
          "output_type": "stream",
          "name": "stdout",
          "text": [
            "+-----------+\n",
            "|PassengerId|\n",
            "+-----------+\n",
            "|        605|\n",
            "|        356|\n",
            "|        192|\n",
            "|         46|\n",
            "|         78|\n",
            "|        446|\n",
            "|        831|\n",
            "|        161|\n",
            "|        794|\n",
            "|        306|\n",
            "|        771|\n",
            "|        287|\n",
            "|        604|\n",
            "|         80|\n",
            "|        460|\n",
            "|        479|\n",
            "|        607|\n",
            "|        859|\n",
            "|        476|\n",
            "|         65|\n",
            "+-----------+\n",
            "only showing top 20 rows\n",
            "\n"
          ]
        }
      ]
    },
    {
      "cell_type": "code",
      "source": [
        "df_1 = df_1.drop(\"PassengerId\")"
      ],
      "metadata": {
        "id": "6INyml_P1Ta0"
      },
      "execution_count": null,
      "outputs": []
    },
    {
      "cell_type": "code",
      "source": [
        "df_1.show()"
      ],
      "metadata": {
        "colab": {
          "base_uri": "https://localhost:8080/"
        },
        "id": "8eqZENqK3wIO",
        "outputId": "8f079260-8651-4019-9b1d-fb9f92e6e151"
      },
      "execution_count": null,
      "outputs": [
        {
          "output_type": "stream",
          "name": "stdout",
          "text": [
            "+--------+------+------+----+-----+-----+--------+\n",
            "|Survived|Pclass|   Sex| Age|SibSp|Parch|Embarked|\n",
            "+--------+------+------+----+-----+-----+--------+\n",
            "|       0|     3|  male|  30|    0|    0|       C|\n",
            "|       1|     1|female|  39|    1|    1|       C|\n",
            "|       0|     3|  male|null|    1|    0|       Q|\n",
            "|       0|     3|  male|null|    0|    0|       C|\n",
            "|       1|     3|female|null|    0|    0|       Q|\n",
            "|       1|     1|female|  60|    1|    0|       C|\n",
            "|       0|     3|  male|  16|    1|    1|       S|\n",
            "|       0|     3|female|  21|    0|    0|       Q|\n",
            "|       0|     3|  male|null|    0|    0|       S|\n",
            "|       0|     1|female|   2|    1|    2|       S|\n",
            "|       0|     3|female|  17|    0|    0|       C|\n",
            "|       0|     1|  male|  61|    0|    0|       S|\n",
            "|       1|     3|  male|null|    0|    0|       S|\n",
            "|       0|     3|  male|  32|    0|    0|       Q|\n",
            "|       1|     1|female|  21|    0|    0|       S|\n",
            "|       1|     2|  male|   1|    2|    1|       S|\n",
            "|       0|     1|  male|  54|    0|    1|       S|\n",
            "|       0|     3|female|  30|    0|    0|       S|\n",
            "|       1|     3|female|  24|    0|    2|       S|\n",
            "|       0|     2|  male|  34|    0|    0|       S|\n",
            "+--------+------+------+----+-----+-----+--------+\n",
            "only showing top 20 rows\n",
            "\n"
          ]
        }
      ]
    },
    {
      "cell_type": "code",
      "source": [
        "#null values after droping columns\n",
        "df_1.select([count(when(isnan(c) | col(c).isNull(), c)).alias(c) for c in df_1.columns]\n",
        "   ).show()\n"
      ],
      "metadata": {
        "colab": {
          "base_uri": "https://localhost:8080/"
        },
        "id": "y0gcD_JN3x7P",
        "outputId": "3025df7e-182d-4bac-83c6-347ceb0609c9"
      },
      "execution_count": null,
      "outputs": [
        {
          "output_type": "stream",
          "name": "stdout",
          "text": [
            "+--------+------+---+---+-----+-----+--------+\n",
            "|Survived|Pclass|Sex|Age|SibSp|Parch|Embarked|\n",
            "+--------+------+---+---+-----+-----+--------+\n",
            "|       0|     0|  0|202|    0|    0|       2|\n",
            "+--------+------+---+---+-----+-----+--------+\n",
            "\n"
          ]
        }
      ]
    },
    {
      "cell_type": "code",
      "source": [
        "df_1.groupBy(\"Embarked\").count().show()"
      ],
      "metadata": {
        "colab": {
          "base_uri": "https://localhost:8080/"
        },
        "id": "Cf-8G42LCDMZ",
        "outputId": "1d67b7c3-4665-4314-bd97-bc3bf63fab84"
      },
      "execution_count": null,
      "outputs": [
        {
          "output_type": "stream",
          "name": "stdout",
          "text": [
            "+--------+-----+\n",
            "|Embarked|count|\n",
            "+--------+-----+\n",
            "|       Q|   77|\n",
            "|    null|    2|\n",
            "|       C|  168|\n",
            "|       S|  644|\n",
            "+--------+-----+\n",
            "\n"
          ]
        }
      ]
    },
    {
      "cell_type": "markdown",
      "source": [
        "In Embarked the \"s\" is the most repeted so im filling with that in null values"
      ],
      "metadata": {
        "id": "47lALYf_6Nuk"
      }
    },
    {
      "cell_type": "code",
      "source": [
        "df_1 = df_1.na.fill({\"Embarked\":\"S\"})"
      ],
      "metadata": {
        "id": "Pm5aXBVoC4Gh"
      },
      "execution_count": null,
      "outputs": []
    },
    {
      "cell_type": "code",
      "source": [
        "df_1.describe().show()"
      ],
      "metadata": {
        "colab": {
          "base_uri": "https://localhost:8080/"
        },
        "id": "XWl3HMVD36CR",
        "outputId": "6a1f4b80-1a0b-40d4-d877-caab12f54231"
      },
      "execution_count": null,
      "outputs": [
        {
          "output_type": "stream",
          "name": "stdout",
          "text": [
            "+-------+-------------------+-----------------+------+------------------+------------------+-------------------+--------+\n",
            "|summary|           Survived|           Pclass|   Sex|               Age|             SibSp|              Parch|Embarked|\n",
            "+-------+-------------------+-----------------+------+------------------+------------------+-------------------+--------+\n",
            "|  count|                891|              891|   891|               689|               891|                891|     891|\n",
            "|   mean| 0.3838383838383838|2.308641975308642|  null|29.847605224963715|0.5230078563411896|0.38159371492704824|    null|\n",
            "| stddev|0.48659245426485753|0.836071240977049|  null|14.317668714749667|1.1027434322934317| 0.8060572211299483|    null|\n",
            "|    min|                  0|                1|female|                 1|                 0|                  0|       C|\n",
            "|    max|                  1|                3|  male|                80|                 8|                  6|       S|\n",
            "+-------+-------------------+-----------------+------+------------------+------------------+-------------------+--------+\n",
            "\n"
          ]
        }
      ]
    },
    {
      "cell_type": "markdown",
      "source": [
        "Im filling the age null values with mean"
      ],
      "metadata": {
        "id": "r4HJu6Gs52Bm"
      }
    },
    {
      "cell_type": "code",
      "source": [],
      "metadata": {
        "id": "7HUz_xkj51q_"
      },
      "execution_count": null,
      "outputs": []
    },
    {
      "cell_type": "code",
      "source": [
        "from pyspark.ml.feature import Imputer\n",
        "imputer = Imputer(strategy='mean', inputCols=['Age'], outputCols=['AgeImputed'])\n",
        "imputer_model = imputer.fit(df_1)\n",
        "df_1 = imputer_model.transform(df_1)"
      ],
      "metadata": {
        "id": "wD7qmddI5EHQ"
      },
      "execution_count": null,
      "outputs": []
    },
    {
      "cell_type": "code",
      "source": [
        "df_1.select([count(when(isnan(c) | col(c).isNull(), c)).alias(c) for c in df_1.columns]\n",
        "   ).show()"
      ],
      "metadata": {
        "colab": {
          "base_uri": "https://localhost:8080/"
        },
        "id": "4UXbC23i5T9N",
        "outputId": "250e29f0-e866-48e1-bea8-c986dffa8872"
      },
      "execution_count": null,
      "outputs": [
        {
          "output_type": "stream",
          "name": "stdout",
          "text": [
            "+--------+------+---+---+-----+-----+--------+----------+\n",
            "|Survived|Pclass|Sex|Age|SibSp|Parch|Embarked|AgeImputed|\n",
            "+--------+------+---+---+-----+-----+--------+----------+\n",
            "|       0|     0|  0|202|    0|    0|       0|         0|\n",
            "+--------+------+---+---+-----+-----+--------+----------+\n",
            "\n"
          ]
        }
      ]
    },
    {
      "cell_type": "code",
      "source": [
        "#im droping age beacuse ageImputed add as exctra column ill covert ageImputed to age"
      ],
      "metadata": {
        "id": "zP1CuCAH4fnw"
      },
      "execution_count": null,
      "outputs": []
    },
    {
      "cell_type": "code",
      "source": [
        "df_1 = df_1.drop(\"Age\")\n",
        "df_1.show()"
      ],
      "metadata": {
        "colab": {
          "base_uri": "https://localhost:8080/"
        },
        "id": "VZ8py3Tg4WBj",
        "outputId": "c0780af2-2354-4739-c2de-196bdba8da69"
      },
      "execution_count": null,
      "outputs": [
        {
          "output_type": "stream",
          "name": "stdout",
          "text": [
            "+--------+------+------+-----+-----+--------+----------+\n",
            "|Survived|Pclass|   Sex|SibSp|Parch|Embarked|AgeImputed|\n",
            "+--------+------+------+-----+-----+--------+----------+\n",
            "|       0|     3|  male|    0|    0|       C|        30|\n",
            "|       1|     1|female|    1|    1|       C|        39|\n",
            "|       0|     3|  male|    1|    0|       Q|        29|\n",
            "|       0|     3|  male|    0|    0|       C|        29|\n",
            "|       1|     3|female|    0|    0|       Q|        29|\n",
            "|       1|     1|female|    1|    0|       C|        60|\n",
            "|       0|     3|  male|    1|    1|       S|        16|\n",
            "|       0|     3|female|    0|    0|       Q|        21|\n",
            "|       0|     3|  male|    0|    0|       S|        29|\n",
            "|       0|     1|female|    1|    2|       S|         2|\n",
            "|       0|     3|female|    0|    0|       C|        17|\n",
            "|       0|     1|  male|    0|    0|       S|        61|\n",
            "|       1|     3|  male|    0|    0|       S|        29|\n",
            "|       0|     3|  male|    0|    0|       Q|        32|\n",
            "|       1|     1|female|    0|    0|       S|        21|\n",
            "|       1|     2|  male|    2|    1|       S|         1|\n",
            "|       0|     1|  male|    0|    1|       S|        54|\n",
            "|       0|     3|female|    0|    0|       S|        30|\n",
            "|       1|     3|female|    0|    2|       S|        24|\n",
            "|       0|     2|  male|    0|    0|       S|        34|\n",
            "+--------+------+------+-----+-----+--------+----------+\n",
            "only showing top 20 rows\n",
            "\n"
          ]
        }
      ]
    },
    {
      "cell_type": "code",
      "source": [
        "df_1 = df_1.withColumnRenamed(\"AgeImputed\",\"Age\")"
      ],
      "metadata": {
        "id": "S64_WKsH5q0-"
      },
      "execution_count": null,
      "outputs": []
    },
    {
      "cell_type": "code",
      "source": [
        "df_1.show()"
      ],
      "metadata": {
        "colab": {
          "base_uri": "https://localhost:8080/"
        },
        "id": "SZeK2HoRDXga",
        "outputId": "fc804338-2291-4f07-8b7d-8205c734b224"
      },
      "execution_count": null,
      "outputs": [
        {
          "output_type": "stream",
          "name": "stdout",
          "text": [
            "+--------+------+------+-----+-----+--------+---+\n",
            "|Survived|Pclass|   Sex|SibSp|Parch|Embarked|Age|\n",
            "+--------+------+------+-----+-----+--------+---+\n",
            "|       0|     3|  male|    0|    0|       C| 30|\n",
            "|       1|     1|female|    1|    1|       C| 39|\n",
            "|       0|     3|  male|    1|    0|       Q| 29|\n",
            "|       0|     3|  male|    0|    0|       C| 29|\n",
            "|       1|     3|female|    0|    0|       Q| 29|\n",
            "|       1|     1|female|    1|    0|       C| 60|\n",
            "|       0|     3|  male|    1|    1|       S| 16|\n",
            "|       0|     3|female|    0|    0|       Q| 21|\n",
            "|       0|     3|  male|    0|    0|       S| 29|\n",
            "|       0|     1|female|    1|    2|       S|  2|\n",
            "|       0|     3|female|    0|    0|       C| 17|\n",
            "|       0|     1|  male|    0|    0|       S| 61|\n",
            "|       1|     3|  male|    0|    0|       S| 29|\n",
            "|       0|     3|  male|    0|    0|       Q| 32|\n",
            "|       1|     1|female|    0|    0|       S| 21|\n",
            "|       1|     2|  male|    2|    1|       S|  1|\n",
            "|       0|     1|  male|    0|    1|       S| 54|\n",
            "|       0|     3|female|    0|    0|       S| 30|\n",
            "|       1|     3|female|    0|    2|       S| 24|\n",
            "|       0|     2|  male|    0|    0|       S| 34|\n",
            "+--------+------+------+-----+-----+--------+---+\n",
            "only showing top 20 rows\n",
            "\n"
          ]
        }
      ]
    },
    {
      "cell_type": "code",
      "source": [
        "df_1.select([count(when(isnan(c) | col(c).isNull(), c)).alias(c) for c in df_1.columns]\n",
        "   ).show()"
      ],
      "metadata": {
        "id": "R0sCaRu8DcwI",
        "colab": {
          "base_uri": "https://localhost:8080/"
        },
        "outputId": "60dc910f-4f9f-4b33-e04e-dcc026d7c934"
      },
      "execution_count": null,
      "outputs": [
        {
          "output_type": "stream",
          "name": "stdout",
          "text": [
            "+--------+------+---+-----+-----+--------+---+\n",
            "|Survived|Pclass|Sex|SibSp|Parch|Embarked|Age|\n",
            "+--------+------+---+-----+-----+--------+---+\n",
            "|       0|     0|  0|    0|    0|       0|  0|\n",
            "+--------+------+---+-----+-----+--------+---+\n",
            "\n"
          ]
        }
      ]
    },
    {
      "cell_type": "markdown",
      "source": [
        "Lets convert  columns from string to number using StringIndexer"
      ],
      "metadata": {
        "id": "Kn9ttFoMF3PR"
      }
    },
    {
      "cell_type": "code",
      "source": [
        "from pyspark.ml import Pipeline\n",
        "from pyspark.ml.feature import StringIndexer"
      ],
      "metadata": {
        "id": "1qjrb8xfFzFa"
      },
      "execution_count": null,
      "outputs": []
    },
    {
      "cell_type": "code",
      "source": [
        "indexers = [StringIndexer(inputCol=column, outputCol=column+\"_index\").fit(df_1) for column in [\"Sex\",\"Embarked\"]]\n",
        "pipeline = Pipeline(stages=indexers)\n",
        "df_train = pipeline.fit(df_1).transform(df_1)"
      ],
      "metadata": {
        "id": "aesJlLjZF9ol"
      },
      "execution_count": null,
      "outputs": []
    },
    {
      "cell_type": "code",
      "source": [
        "df_train.show()"
      ],
      "metadata": {
        "colab": {
          "base_uri": "https://localhost:8080/"
        },
        "id": "wtTA6ItPGjCh",
        "outputId": "14818249-5985-46da-eaa5-6141ac2ba289"
      },
      "execution_count": null,
      "outputs": [
        {
          "output_type": "stream",
          "name": "stdout",
          "text": [
            "+--------+------+------+-----+-----+--------+---+---------+--------------+\n",
            "|Survived|Pclass|   Sex|SibSp|Parch|Embarked|Age|Sex_index|Embarked_index|\n",
            "+--------+------+------+-----+-----+--------+---+---------+--------------+\n",
            "|       0|     3|  male|    0|    0|       C| 30|      0.0|           1.0|\n",
            "|       1|     1|female|    1|    1|       C| 39|      1.0|           1.0|\n",
            "|       0|     3|  male|    1|    0|       Q| 29|      0.0|           2.0|\n",
            "|       0|     3|  male|    0|    0|       C| 29|      0.0|           1.0|\n",
            "|       1|     3|female|    0|    0|       Q| 29|      1.0|           2.0|\n",
            "|       1|     1|female|    1|    0|       C| 60|      1.0|           1.0|\n",
            "|       0|     3|  male|    1|    1|       S| 16|      0.0|           0.0|\n",
            "|       0|     3|female|    0|    0|       Q| 21|      1.0|           2.0|\n",
            "|       0|     3|  male|    0|    0|       S| 29|      0.0|           0.0|\n",
            "|       0|     1|female|    1|    2|       S|  2|      1.0|           0.0|\n",
            "|       0|     3|female|    0|    0|       C| 17|      1.0|           1.0|\n",
            "|       0|     1|  male|    0|    0|       S| 61|      0.0|           0.0|\n",
            "|       1|     3|  male|    0|    0|       S| 29|      0.0|           0.0|\n",
            "|       0|     3|  male|    0|    0|       Q| 32|      0.0|           2.0|\n",
            "|       1|     1|female|    0|    0|       S| 21|      1.0|           0.0|\n",
            "|       1|     2|  male|    2|    1|       S|  1|      0.0|           0.0|\n",
            "|       0|     1|  male|    0|    1|       S| 54|      0.0|           0.0|\n",
            "|       0|     3|female|    0|    0|       S| 30|      1.0|           0.0|\n",
            "|       1|     3|female|    0|    2|       S| 24|      1.0|           0.0|\n",
            "|       0|     2|  male|    0|    0|       S| 34|      0.0|           0.0|\n",
            "+--------+------+------+-----+-----+--------+---+---------+--------------+\n",
            "only showing top 20 rows\n",
            "\n"
          ]
        }
      ]
    },
    {
      "cell_type": "markdown",
      "source": [
        "Lets drop extra columns"
      ],
      "metadata": {
        "id": "gVbOvhPKG2a-"
      }
    },
    {
      "cell_type": "code",
      "source": [
        "df_train = df_train.drop(\"Sex\",\"Embarked\")"
      ],
      "metadata": {
        "id": "HL5hj5tSG0v5"
      },
      "execution_count": null,
      "outputs": []
    },
    {
      "cell_type": "code",
      "source": [],
      "metadata": {
        "id": "Dn6y1WBqHEwm"
      },
      "execution_count": null,
      "outputs": []
    },
    {
      "cell_type": "markdown",
      "source": [
        "#4.Print the schema after data preprocessing"
      ],
      "metadata": {
        "id": "FceIoPSzAe8f"
      }
    },
    {
      "cell_type": "code",
      "source": [
        "df_train.printSchema()"
      ],
      "metadata": {
        "colab": {
          "base_uri": "https://localhost:8080/"
        },
        "id": "D5PNsr6RAel-",
        "outputId": "e8f9e2a0-8356-4039-8ca8-ddc7a11226e8"
      },
      "execution_count": null,
      "outputs": [
        {
          "output_type": "stream",
          "name": "stdout",
          "text": [
            "root\n",
            " |-- Survived: string (nullable = true)\n",
            " |-- Pclass: string (nullable = true)\n",
            " |-- SibSp: string (nullable = true)\n",
            " |-- Parch: string (nullable = true)\n",
            " |-- Age: integer (nullable = true)\n",
            " |-- Sex_index: double (nullable = false)\n",
            " |-- Embarked_index: double (nullable = false)\n",
            "\n"
          ]
        }
      ]
    },
    {
      "cell_type": "markdown",
      "source": [
        "Now converted str columns to int"
      ],
      "metadata": {
        "id": "fpU6CjbxIN_c"
      }
    },
    {
      "cell_type": "code",
      "source": [
        "from pyspark.sql.types import IntegerType\n",
        "df_train = df_train.withColumn(\"Pclass\", df_train[\"Pclass\"].cast(IntegerType()))\n",
        "df_train = df_train.withColumn(\"SibSp\", df_train[\"SibSp\"].cast(IntegerType()))\n",
        "df_train = df_train.withColumn(\"Parch\", df_train[\"Parch\"].cast(IntegerType()))\n",
        "df_train = df_train.withColumn(\"Survived\", df_train[\"Survived\"].cast(IntegerType()))"
      ],
      "metadata": {
        "id": "gryIwuIEHnb3"
      },
      "execution_count": null,
      "outputs": []
    },
    {
      "cell_type": "markdown",
      "source": [
        "now we pull all dependent variables to features"
      ],
      "metadata": {
        "id": "b2UmRXIAE0S_"
      }
    },
    {
      "cell_type": "code",
      "source": [],
      "metadata": {
        "id": "LL6zoR4jFH-H"
      },
      "execution_count": null,
      "outputs": []
    },
    {
      "cell_type": "code",
      "source": [
        "from pyspark.ml.feature import VectorAssembler"
      ],
      "metadata": {
        "id": "vjZSgiQ9Ezy7"
      },
      "execution_count": null,
      "outputs": []
    },
    {
      "cell_type": "code",
      "source": [
        "feature = VectorAssembler(inputCols=df_train.columns[1:],outputCol=\"features\")\n",
        "feature_vector= feature.transform(df_train)"
      ],
      "metadata": {
        "id": "c2nFyBetAVkR"
      },
      "execution_count": null,
      "outputs": []
    },
    {
      "cell_type": "code",
      "source": [
        "feature_vector.show()"
      ],
      "metadata": {
        "colab": {
          "base_uri": "https://localhost:8080/"
        },
        "id": "wR-aMu4PIVFz",
        "outputId": "bea9796b-8640-4a1b-ba87-99f084e0d3da"
      },
      "execution_count": null,
      "outputs": [
        {
          "output_type": "stream",
          "name": "stdout",
          "text": [
            "+--------+------+-----+-----+---+---------+--------------+--------------------+\n",
            "|Survived|Pclass|SibSp|Parch|Age|Sex_index|Embarked_index|            features|\n",
            "+--------+------+-----+-----+---+---------+--------------+--------------------+\n",
            "|       0|     3|    0|    0| 30|      0.0|           1.0|[3.0,0.0,0.0,30.0...|\n",
            "|       1|     1|    1|    1| 39|      1.0|           1.0|[1.0,1.0,1.0,39.0...|\n",
            "|       0|     3|    1|    0| 29|      0.0|           2.0|[3.0,1.0,0.0,29.0...|\n",
            "|       0|     3|    0|    0| 29|      0.0|           1.0|[3.0,0.0,0.0,29.0...|\n",
            "|       1|     3|    0|    0| 29|      1.0|           2.0|[3.0,0.0,0.0,29.0...|\n",
            "|       1|     1|    1|    0| 60|      1.0|           1.0|[1.0,1.0,0.0,60.0...|\n",
            "|       0|     3|    1|    1| 16|      0.0|           0.0|[3.0,1.0,1.0,16.0...|\n",
            "|       0|     3|    0|    0| 21|      1.0|           2.0|[3.0,0.0,0.0,21.0...|\n",
            "|       0|     3|    0|    0| 29|      0.0|           0.0|(6,[0,3],[3.0,29.0])|\n",
            "|       0|     1|    1|    2|  2|      1.0|           0.0|[1.0,1.0,2.0,2.0,...|\n",
            "|       0|     3|    0|    0| 17|      1.0|           1.0|[3.0,0.0,0.0,17.0...|\n",
            "|       0|     1|    0|    0| 61|      0.0|           0.0|(6,[0,3],[1.0,61.0])|\n",
            "|       1|     3|    0|    0| 29|      0.0|           0.0|(6,[0,3],[3.0,29.0])|\n",
            "|       0|     3|    0|    0| 32|      0.0|           2.0|[3.0,0.0,0.0,32.0...|\n",
            "|       1|     1|    0|    0| 21|      1.0|           0.0|[1.0,0.0,0.0,21.0...|\n",
            "|       1|     2|    2|    1|  1|      0.0|           0.0|[2.0,2.0,1.0,1.0,...|\n",
            "|       0|     1|    0|    1| 54|      0.0|           0.0|[1.0,0.0,1.0,54.0...|\n",
            "|       0|     3|    0|    0| 30|      1.0|           0.0|[3.0,0.0,0.0,30.0...|\n",
            "|       1|     3|    0|    2| 24|      1.0|           0.0|[3.0,0.0,2.0,24.0...|\n",
            "|       0|     2|    0|    0| 34|      0.0|           0.0|(6,[0,3],[2.0,34.0])|\n",
            "+--------+------+-----+-----+---+---------+--------------+--------------------+\n",
            "only showing top 20 rows\n",
            "\n"
          ]
        }
      ]
    },
    {
      "cell_type": "markdown",
      "source": [
        "Now that the data is all set, let's split it into training and test. I'll be using 80% of it"
      ],
      "metadata": {
        "id": "Io9bZewBIgis"
      }
    },
    {
      "cell_type": "code",
      "source": [
        "(trainingData, testData) = feature_vector.randomSplit([0.8, 0.2],seed = 11)"
      ],
      "metadata": {
        "id": "64iuQCzp7fTg"
      },
      "execution_count": null,
      "outputs": []
    },
    {
      "cell_type": "code",
      "source": [
        "trainingData.count()"
      ],
      "metadata": {
        "colab": {
          "base_uri": "https://localhost:8080/"
        },
        "id": "ztLa6L1v-MVQ",
        "outputId": "a32c92bc-f103-4906-d898-04ae28b409eb"
      },
      "execution_count": null,
      "outputs": [
        {
          "output_type": "execute_result",
          "data": {
            "text/plain": [
              "724"
            ]
          },
          "metadata": {},
          "execution_count": 192
        }
      ]
    },
    {
      "cell_type": "code",
      "source": [
        "testData.count()"
      ],
      "metadata": {
        "colab": {
          "base_uri": "https://localhost:8080/"
        },
        "id": "T8uqbG6zI53D",
        "outputId": "3f468432-3f3e-4f8d-9c61-0dce8bc61f43"
      },
      "execution_count": null,
      "outputs": [
        {
          "output_type": "execute_result",
          "data": {
            "text/plain": [
              "167"
            ]
          },
          "metadata": {},
          "execution_count": 193
        }
      ]
    },
    {
      "cell_type": "markdown",
      "source": [
        "#5.Build and evaluate these models to classify (survived vs not survived)-\n",
        "    1.Logistics Regression model\n",
        "    2.Decision Tree classifier\n",
        "    3.Random forest classifier\n",
        "    4.Naive Bayes classifier"
      ],
      "metadata": {
        "id": "5VK6BbZkJCw9"
      }
    },
    {
      "cell_type": "markdown",
      "source": [
        "##1.logistic regresstion"
      ],
      "metadata": {
        "id": "J5jejYd3Jf5u"
      }
    },
    {
      "cell_type": "code",
      "source": [
        "from pyspark.ml.evaluation import MulticlassClassificationEvaluator"
      ],
      "metadata": {
        "id": "anCRUS-b-dc3"
      },
      "execution_count": null,
      "outputs": []
    },
    {
      "cell_type": "code",
      "source": [
        "from pyspark.ml.classification import LogisticRegression\n",
        "lr = LogisticRegression(labelCol=\"Survived\", featuresCol=\"features\")\n",
        "#Training algo\n",
        "lrModel = lr.fit(trainingData)\n",
        "lr_prediction = lrModel.transform(testData)\n",
        "lr_prediction.select(\"prediction\", \"Survived\", \"features\").show()\n",
        "evaluator = MulticlassClassificationEvaluator(labelCol=\"Survived\", predictionCol=\"prediction\", metricName=\"accuracy\")"
      ],
      "metadata": {
        "colab": {
          "base_uri": "https://localhost:8080/"
        },
        "id": "93_hED9yJpaO",
        "outputId": "d93406b8-b990-49e5-aad6-9665ea70215d"
      },
      "execution_count": null,
      "outputs": [
        {
          "output_type": "stream",
          "name": "stdout",
          "text": [
            "+----------+--------+--------------------+\n",
            "|prediction|Survived|            features|\n",
            "+----------+--------+--------------------+\n",
            "|       0.0|       0|[2.0,1.0,2.0,25.0...|\n",
            "|       1.0|       0|[3.0,0.0,0.0,17.0...|\n",
            "|       0.0|       0|[3.0,0.0,0.0,29.0...|\n",
            "|       0.0|       0|[3.0,0.0,0.0,30.0...|\n",
            "|       1.0|       0|[3.0,0.0,0.0,30.0...|\n",
            "|       0.0|       0|[3.0,1.0,0.0,29.0...|\n",
            "|       0.0|       0|[3.0,1.0,0.0,29.0...|\n",
            "|       1.0|       1|[1.0,0.0,1.0,22.0...|\n",
            "|       1.0|       1|[3.0,0.0,2.0,24.0...|\n",
            "|       0.0|       0|(6,[0,3],[2.0,26.0])|\n",
            "|       0.0|       0|(6,[0,3],[3.0,26.0])|\n",
            "|       0.0|       0|[3.0,4.0,1.0,7.0,...|\n",
            "|       1.0|       1|[2.0,0.0,0.0,23.0...|\n",
            "|       0.0|       1|[2.0,1.0,1.0,2.0,...|\n",
            "|       1.0|       1|[3.0,0.0,0.0,29.0...|\n",
            "|       0.0|       0|[1.0,1.0,0.0,50.0...|\n",
            "|       0.0|       0|(6,[0,3],[2.0,39.0])|\n",
            "|       0.0|       0|[3.0,0.0,0.0,29.0...|\n",
            "|       0.0|       1|[2.0,0.0,2.0,1.0,...|\n",
            "|       1.0|       1|[2.0,1.0,2.0,5.0,...|\n",
            "+----------+--------+--------------------+\n",
            "only showing top 20 rows\n",
            "\n"
          ]
        }
      ]
    },
    {
      "cell_type": "code",
      "source": [
        "lr_accuracy = evaluator.evaluate(lr_prediction)\n",
        "print(\"Accuracy of LogisticRegression is = %g\"% (lr_accuracy))"
      ],
      "metadata": {
        "colab": {
          "base_uri": "https://localhost:8080/"
        },
        "id": "a57SzF-kJsTn",
        "outputId": "efb9e038-5ff6-4450-cbde-efe52b6b0497"
      },
      "execution_count": null,
      "outputs": [
        {
          "output_type": "stream",
          "name": "stdout",
          "text": [
            "Accuracy of LogisticRegression is = 0.790419\n"
          ]
        }
      ]
    },
    {
      "cell_type": "markdown",
      "source": [
        "##2.DecisionTreeClassifier"
      ],
      "metadata": {
        "id": "PN9ScdndKh7z"
      }
    },
    {
      "cell_type": "code",
      "source": [
        "from pyspark.ml.classification import DecisionTreeClassifier\n",
        "dt = DecisionTreeClassifier(labelCol=\"Survived\", featuresCol=\"features\",maxDepth=5,\n",
        "                           minInstancesPerNode = 20, impurity = 'gini')\n",
        "dt_model = dt.fit(trainingData)\n",
        "dt_prediction = dt_model.transform(testData)\n",
        "dt_prediction.select(\"prediction\", \"Survived\", \"features\").show()"
      ],
      "metadata": {
        "colab": {
          "base_uri": "https://localhost:8080/"
        },
        "id": "yIvZ9F4YKLGp",
        "outputId": "590d9230-924a-4e1e-e0d0-47a2b3ffed96"
      },
      "execution_count": null,
      "outputs": [
        {
          "output_type": "stream",
          "name": "stdout",
          "text": [
            "+----------+--------+--------------------+\n",
            "|prediction|Survived|            features|\n",
            "+----------+--------+--------------------+\n",
            "|       0.0|       0|[2.0,1.0,2.0,25.0...|\n",
            "|       1.0|       0|[3.0,0.0,0.0,17.0...|\n",
            "|       0.0|       0|[3.0,0.0,0.0,29.0...|\n",
            "|       0.0|       0|[3.0,0.0,0.0,30.0...|\n",
            "|       0.0|       0|[3.0,0.0,0.0,30.0...|\n",
            "|       0.0|       0|[3.0,1.0,0.0,29.0...|\n",
            "|       0.0|       0|[3.0,1.0,0.0,29.0...|\n",
            "|       1.0|       1|[1.0,0.0,1.0,22.0...|\n",
            "|       0.0|       1|[3.0,0.0,2.0,24.0...|\n",
            "|       0.0|       0|(6,[0,3],[2.0,26.0])|\n",
            "|       0.0|       0|(6,[0,3],[3.0,26.0])|\n",
            "|       0.0|       0|[3.0,4.0,1.0,7.0,...|\n",
            "|       1.0|       1|[2.0,0.0,0.0,23.0...|\n",
            "|       0.0|       1|[2.0,1.0,1.0,2.0,...|\n",
            "|       1.0|       1|[3.0,0.0,0.0,29.0...|\n",
            "|       0.0|       0|[1.0,1.0,0.0,50.0...|\n",
            "|       0.0|       0|(6,[0,3],[2.0,39.0])|\n",
            "|       0.0|       0|[3.0,0.0,0.0,29.0...|\n",
            "|       0.0|       1|[2.0,0.0,2.0,1.0,...|\n",
            "|       1.0|       1|[2.0,1.0,2.0,5.0,...|\n",
            "+----------+--------+--------------------+\n",
            "only showing top 20 rows\n",
            "\n"
          ]
        }
      ]
    },
    {
      "cell_type": "code",
      "source": [
        "dt_accuracy = evaluator.evaluate(dt_prediction)\n",
        "print(\"Accuracy of DecisionTreeClassifier is = %g\"% (dt_accuracy))"
      ],
      "metadata": {
        "colab": {
          "base_uri": "https://localhost:8080/"
        },
        "id": "7KA_sc-DKu59",
        "outputId": "d3456c20-236e-4196-fc73-c85140f2e14f"
      },
      "execution_count": null,
      "outputs": [
        {
          "output_type": "stream",
          "name": "stdout",
          "text": [
            "Accuracy of DecisionTreeClassifier is = 0.772455\n"
          ]
        }
      ]
    },
    {
      "cell_type": "code",
      "source": [],
      "metadata": {
        "id": "EAA9-UjRM1Y-"
      },
      "execution_count": null,
      "outputs": []
    },
    {
      "cell_type": "markdown",
      "source": [
        "##3.RandomForestClassifier"
      ],
      "metadata": {
        "id": "8Y9z7K5TK4Ef"
      }
    },
    {
      "cell_type": "code",
      "source": [
        "from pyspark.ml.classification import RandomForestClassifier\n",
        "rf = RandomForestClassifier(labelCol=\"Survived\", featuresCol=\"features\")\n",
        "rf_model = rf.fit(trainingData)\n",
        "rf_prediction = rf_model.transform(testData)\n",
        "rf_prediction.select(\"prediction\", \"Survived\", \"features\").show()"
      ],
      "metadata": {
        "colab": {
          "base_uri": "https://localhost:8080/"
        },
        "id": "Mo8i8P5fKxN-",
        "outputId": "68b5adf0-9dc9-4964-a23c-27c8d715cd47"
      },
      "execution_count": null,
      "outputs": [
        {
          "output_type": "stream",
          "name": "stdout",
          "text": [
            "+----------+--------+--------------------+\n",
            "|prediction|Survived|            features|\n",
            "+----------+--------+--------------------+\n",
            "|       0.0|       0|[2.0,1.0,2.0,25.0...|\n",
            "|       1.0|       0|[3.0,0.0,0.0,17.0...|\n",
            "|       0.0|       0|[3.0,0.0,0.0,29.0...|\n",
            "|       0.0|       0|[3.0,0.0,0.0,30.0...|\n",
            "|       1.0|       0|[3.0,0.0,0.0,30.0...|\n",
            "|       0.0|       0|[3.0,1.0,0.0,29.0...|\n",
            "|       0.0|       0|[3.0,1.0,0.0,29.0...|\n",
            "|       1.0|       1|[1.0,0.0,1.0,22.0...|\n",
            "|       0.0|       1|[3.0,0.0,2.0,24.0...|\n",
            "|       0.0|       0|(6,[0,3],[2.0,26.0])|\n",
            "|       0.0|       0|(6,[0,3],[3.0,26.0])|\n",
            "|       0.0|       0|[3.0,4.0,1.0,7.0,...|\n",
            "|       1.0|       1|[2.0,0.0,0.0,23.0...|\n",
            "|       1.0|       1|[2.0,1.0,1.0,2.0,...|\n",
            "|       1.0|       1|[3.0,0.0,0.0,29.0...|\n",
            "|       0.0|       0|[1.0,1.0,0.0,50.0...|\n",
            "|       0.0|       0|(6,[0,3],[2.0,39.0])|\n",
            "|       0.0|       0|[3.0,0.0,0.0,29.0...|\n",
            "|       1.0|       1|[2.0,0.0,2.0,1.0,...|\n",
            "|       1.0|       1|[2.0,1.0,2.0,5.0,...|\n",
            "+----------+--------+--------------------+\n",
            "only showing top 20 rows\n",
            "\n"
          ]
        }
      ]
    },
    {
      "cell_type": "code",
      "source": [
        "rf_accuracy = evaluator.evaluate(rf_prediction)\n",
        "print(\"Accuracy of RandomForestClassifier is = %g\"% (rf_accuracy))"
      ],
      "metadata": {
        "colab": {
          "base_uri": "https://localhost:8080/"
        },
        "id": "P_J0M9NkK7Pl",
        "outputId": "5dafb9d8-638e-4d6d-8099-db5775ae7b42"
      },
      "execution_count": null,
      "outputs": [
        {
          "output_type": "stream",
          "name": "stdout",
          "text": [
            "Accuracy of RandomForestClassifier is = 0.778443\n"
          ]
        }
      ]
    },
    {
      "cell_type": "markdown",
      "source": [
        "##4.NaiveBayes"
      ],
      "metadata": {
        "id": "o7WW6lXxLIvp"
      }
    },
    {
      "cell_type": "code",
      "source": [
        "from pyspark.ml.classification import NaiveBayes\n",
        "nb = NaiveBayes(labelCol=\"Survived\", featuresCol=\"features\")\n",
        "nb_model = nb.fit(trainingData)\n",
        "nb_prediction = nb_model.transform(testData)\n",
        "nb_prediction.select(\"prediction\", \"Survived\", \"features\").show()"
      ],
      "metadata": {
        "colab": {
          "base_uri": "https://localhost:8080/"
        },
        "id": "Z2-wy31uLBuq",
        "outputId": "bcccf09a-3e09-433f-d350-ac159638ca78"
      },
      "execution_count": null,
      "outputs": [
        {
          "output_type": "stream",
          "name": "stdout",
          "text": [
            "+----------+--------+--------------------+\n",
            "|prediction|Survived|            features|\n",
            "+----------+--------+--------------------+\n",
            "|       0.0|       0|[2.0,1.0,2.0,25.0...|\n",
            "|       1.0|       0|[3.0,0.0,0.0,17.0...|\n",
            "|       0.0|       0|[3.0,0.0,0.0,29.0...|\n",
            "|       0.0|       0|[3.0,0.0,0.0,30.0...|\n",
            "|       1.0|       0|[3.0,0.0,0.0,30.0...|\n",
            "|       0.0|       0|[3.0,1.0,0.0,29.0...|\n",
            "|       0.0|       0|[3.0,1.0,0.0,29.0...|\n",
            "|       1.0|       1|[1.0,0.0,1.0,22.0...|\n",
            "|       1.0|       1|[3.0,0.0,2.0,24.0...|\n",
            "|       0.0|       0|(6,[0,3],[2.0,26.0])|\n",
            "|       0.0|       0|(6,[0,3],[3.0,26.0])|\n",
            "|       0.0|       0|[3.0,4.0,1.0,7.0,...|\n",
            "|       1.0|       1|[2.0,0.0,0.0,23.0...|\n",
            "|       0.0|       1|[2.0,1.0,1.0,2.0,...|\n",
            "|       1.0|       1|[3.0,0.0,0.0,29.0...|\n",
            "|       0.0|       0|[1.0,1.0,0.0,50.0...|\n",
            "|       0.0|       0|(6,[0,3],[2.0,39.0])|\n",
            "|       0.0|       0|[3.0,0.0,0.0,29.0...|\n",
            "|       0.0|       1|[2.0,0.0,2.0,1.0,...|\n",
            "|       1.0|       1|[2.0,1.0,2.0,5.0,...|\n",
            "+----------+--------+--------------------+\n",
            "only showing top 20 rows\n",
            "\n"
          ]
        }
      ]
    },
    {
      "cell_type": "code",
      "source": [
        "nb_accuracy = evaluator.evaluate(nb_prediction)\n",
        "print(\"Accuracy of NaiveBayes is  = %g\"% (nb_accuracy))"
      ],
      "metadata": {
        "colab": {
          "base_uri": "https://localhost:8080/"
        },
        "id": "Wlpsn_DCLNmH",
        "outputId": "03900278-59b3-4b73-8063-86aba92244bf"
      },
      "execution_count": null,
      "outputs": [
        {
          "output_type": "stream",
          "name": "stdout",
          "text": [
            "Accuracy of NaiveBayes is  = 0.778443\n"
          ]
        }
      ]
    },
    {
      "cell_type": "markdown",
      "source": [
        "# Im predicting on test data"
      ],
      "metadata": {
        "id": "oviBVoeWP4GU"
      }
    },
    {
      "cell_type": "code",
      "source": [
        "df_test_Schema = StructType([\n",
        "  StructField(\"PassengerId\", StringType(), False),\n",
        "  StructField(\"Pclass\", StringType(), False),\n",
        "  StructField(\"Name\", StringType(), False),\n",
        "  StructField(\"Sex\", StringType(), False),\n",
        "  StructField(\"Age\", IntegerType(), False),\n",
        "  StructField(\"SibSp\", StringType(), False),\n",
        "  StructField(\"Parch\", StringType(), False),\n",
        "  StructField(\"Ticket\", StringType(), False),\n",
        "  StructField(\"Fare\", IntegerType(), False),\n",
        "  StructField(\"Cabin\", IntegerType(), False),\n",
        "  StructField(\"Embarked\", StringType(), False)\n",
        "])"
      ],
      "metadata": {
        "id": "VtK-4TYmVblH"
      },
      "execution_count": null,
      "outputs": []
    },
    {
      "cell_type": "code",
      "source": [
        "df_test = spark.read.csv(\"/content/test.csv\",schema = df_test_Schema,header = True )"
      ],
      "metadata": {
        "id": "cE7F0FOeLQCW"
      },
      "execution_count": null,
      "outputs": []
    },
    {
      "cell_type": "code",
      "source": [
        "df_test = df_test.repartition(32)\n",
        "df_test.rdd.getNumPartitions()"
      ],
      "metadata": {
        "colab": {
          "base_uri": "https://localhost:8080/"
        },
        "id": "qL37id1MROFM",
        "outputId": "dea94797-8c77-4894-c015-d714fce0ee06"
      },
      "execution_count": null,
      "outputs": [
        {
          "output_type": "execute_result",
          "data": {
            "text/plain": [
              "32"
            ]
          },
          "metadata": {},
          "execution_count": 237
        }
      ]
    },
    {
      "cell_type": "code",
      "source": [
        "df_test.dtypes"
      ],
      "metadata": {
        "colab": {
          "base_uri": "https://localhost:8080/"
        },
        "id": "rPtIJvyYRU0H",
        "outputId": "21f0ab02-c143-4ecb-d3fe-b3ffb87afeff"
      },
      "execution_count": null,
      "outputs": [
        {
          "output_type": "execute_result",
          "data": {
            "text/plain": [
              "[('PassengerId', 'string'),\n",
              " ('Pclass', 'string'),\n",
              " ('Name', 'string'),\n",
              " ('Sex', 'string'),\n",
              " ('Age', 'int'),\n",
              " ('SibSp', 'string'),\n",
              " ('Parch', 'string'),\n",
              " ('Ticket', 'string'),\n",
              " ('Fare', 'int'),\n",
              " ('Cabin', 'int'),\n",
              " ('Embarked', 'string')]"
            ]
          },
          "metadata": {},
          "execution_count": 238
        }
      ]
    },
    {
      "cell_type": "code",
      "source": [
        "df_test.limit(2).show()"
      ],
      "metadata": {
        "colab": {
          "base_uri": "https://localhost:8080/"
        },
        "id": "sqJoZtqwRqK1",
        "outputId": "4941a88c-1eb8-4ec0-b571-74615b1b6851"
      },
      "execution_count": null,
      "outputs": [
        {
          "output_type": "stream",
          "name": "stdout",
          "text": [
            "+-----------+------+--------------------+------+---+-----+-----+----------+----+-----+--------+\n",
            "|PassengerId|Pclass|                Name|   Sex|Age|SibSp|Parch|    Ticket|Fare|Cabin|Embarked|\n",
            "+-----------+------+--------------------+------+---+-----+-----+----------+----+-----+--------+\n",
            "|        922|     2|Louch, Mr. Charle...|  male| 50|    1|    0|SC/AH 3085|  26| null|       S|\n",
            "|        955|     3|Bradley, Miss. Br...|female| 22|    0|    0|    334914|null| null|       Q|\n",
            "+-----------+------+--------------------+------+---+-----+-----+----------+----+-----+--------+\n",
            "\n"
          ]
        }
      ]
    },
    {
      "cell_type": "code",
      "source": [
        "df_test.count()"
      ],
      "metadata": {
        "colab": {
          "base_uri": "https://localhost:8080/"
        },
        "id": "efUg0G5hRwrB",
        "outputId": "69f684fa-c8df-40be-d721-9b02efc0724c"
      },
      "execution_count": null,
      "outputs": [
        {
          "output_type": "execute_result",
          "data": {
            "text/plain": [
              "418"
            ]
          },
          "metadata": {},
          "execution_count": 240
        }
      ]
    },
    {
      "cell_type": "code",
      "source": [
        "#Droping cloumns which are droped in train data\n",
        "df_test = df_test.drop(\"Name\",\"Ticket\",\"cabin\",\"Fare\")"
      ],
      "metadata": {
        "id": "AWSGCS18R3Zl"
      },
      "execution_count": null,
      "outputs": []
    },
    {
      "cell_type": "code",
      "source": [
        "from pyspark.sql.functions import col,isnan, when, count\n",
        "df_test.select([count(when(isnan(c) | col(c).isNull(), c)).alias(c) for c in df_test.columns]\n",
        "   ).show()"
      ],
      "metadata": {
        "colab": {
          "base_uri": "https://localhost:8080/"
        },
        "id": "Z-Vi6-X1SicT",
        "outputId": "e681e1ae-ce71-4cc2-88e1-0f45be888a92"
      },
      "execution_count": null,
      "outputs": [
        {
          "output_type": "stream",
          "name": "stdout",
          "text": [
            "+-----------+------+---+---+-----+-----+--------+\n",
            "|PassengerId|Pclass|Sex|Age|SibSp|Parch|Embarked|\n",
            "+-----------+------+---+---+-----+-----+--------+\n",
            "|          0|     0|  0|106|    0|    0|       0|\n",
            "+-----------+------+---+---+-----+-----+--------+\n",
            "\n"
          ]
        }
      ]
    },
    {
      "cell_type": "code",
      "source": [
        "# Taking passenger Id to know whom im predicting and droping passengerIDs\n",
        "df_test_ID = df_test.select(\"PassengerId\")\n",
        "df_test_ID.limit(2).show()"
      ],
      "metadata": {
        "colab": {
          "base_uri": "https://localhost:8080/"
        },
        "id": "OieogMxAX_Kd",
        "outputId": "37a249fb-0903-427a-f218-ce73125ace20"
      },
      "execution_count": null,
      "outputs": [
        {
          "output_type": "stream",
          "name": "stdout",
          "text": [
            "+-----------+\n",
            "|PassengerId|\n",
            "+-----------+\n",
            "|       1134|\n",
            "|       1167|\n",
            "+-----------+\n",
            "\n"
          ]
        }
      ]
    },
    {
      "cell_type": "code",
      "source": [
        "df_test = df_test.drop(\"PassengerId\")"
      ],
      "metadata": {
        "id": "0EYayFn4YZws"
      },
      "execution_count": null,
      "outputs": []
    },
    {
      "cell_type": "code",
      "source": [
        "df_test.describe().show()"
      ],
      "metadata": {
        "colab": {
          "base_uri": "https://localhost:8080/"
        },
        "id": "cJl3NAriY-tY",
        "outputId": "28a9c84b-8e07-40fd-fe06-151fb4ce80ee"
      },
      "execution_count": null,
      "outputs": [
        {
          "output_type": "stream",
          "name": "stdout",
          "text": [
            "+-------+------------------+------+------------------+------------------+------------------+--------+\n",
            "|summary|            Pclass|   Sex|               Age|             SibSp|             Parch|Embarked|\n",
            "+-------+------------------+------+------------------+------------------+------------------+--------+\n",
            "|  count|               418|   418|               312|               418|               418|     418|\n",
            "|   mean|2.2655502392344498|  null|30.810897435897434|0.4473684210526316|0.3923444976076555|    null|\n",
            "| stddev|0.8418375519640503|  null|13.869609024680017|0.8967595611217135|0.9814288785371693|    null|\n",
            "|    min|                 1|female|                 1|                 0|                 0|       C|\n",
            "|    max|                 3|  male|                76|                 8|                 9|       S|\n",
            "+-------+------------------+------+------------------+------------------+------------------+--------+\n",
            "\n"
          ]
        }
      ]
    },
    {
      "cell_type": "code",
      "source": [
        "from pyspark.ml.feature import Imputer\n",
        "imputer = Imputer(strategy='mean', inputCols=['Age'], outputCols=['age'])\n",
        "imputer_model = imputer.fit(df_test)\n",
        "df_test = imputer_model.transform(df_test)\n"
      ],
      "metadata": {
        "id": "1-uCRw49ZI8O"
      },
      "execution_count": null,
      "outputs": []
    },
    {
      "cell_type": "code",
      "source": [
        "df_test.limit(2).show()"
      ],
      "metadata": {
        "colab": {
          "base_uri": "https://localhost:8080/"
        },
        "id": "GhmymOk9Zd84",
        "outputId": "9dd96c52-8598-4a44-c4b1-7b4b3dea3d38"
      },
      "execution_count": null,
      "outputs": [
        {
          "output_type": "stream",
          "name": "stdout",
          "text": [
            "+------+----+---+-----+-----+--------+\n",
            "|Pclass| Sex|age|SibSp|Parch|Embarked|\n",
            "+------+----+---+-----+-----+--------+\n",
            "|     2|male| 32|    0|    0|       S|\n",
            "|     1|male| 67|    1|    0|       S|\n",
            "+------+----+---+-----+-----+--------+\n",
            "\n"
          ]
        }
      ]
    },
    {
      "cell_type": "code",
      "source": [
        "df_test.select([count(when(isnan(c) | col(c).isNull(), c)).alias(c) for c in df_test.columns]\n",
        "   ).show()"
      ],
      "metadata": {
        "colab": {
          "base_uri": "https://localhost:8080/"
        },
        "id": "cQsNmcn6ZxlF",
        "outputId": "cd4206d0-1060-44f0-c688-cf70b989d307"
      },
      "execution_count": null,
      "outputs": [
        {
          "output_type": "stream",
          "name": "stdout",
          "text": [
            "+------+---+---+-----+-----+--------+\n",
            "|Pclass|Sex|age|SibSp|Parch|Embarked|\n",
            "+------+---+---+-----+-----+--------+\n",
            "|     0|  0|  0|    0|    0|       0|\n",
            "+------+---+---+-----+-----+--------+\n",
            "\n"
          ]
        }
      ]
    },
    {
      "cell_type": "code",
      "source": [
        "df_test.printSchema()"
      ],
      "metadata": {
        "colab": {
          "base_uri": "https://localhost:8080/"
        },
        "id": "nnYieDg9Z2Uf",
        "outputId": "df93afd8-7cbd-423f-8114-ba7595986070"
      },
      "execution_count": null,
      "outputs": [
        {
          "output_type": "stream",
          "name": "stdout",
          "text": [
            "root\n",
            " |-- Pclass: string (nullable = true)\n",
            " |-- Sex: string (nullable = true)\n",
            " |-- age: integer (nullable = true)\n",
            " |-- SibSp: string (nullable = true)\n",
            " |-- Parch: string (nullable = true)\n",
            " |-- Embarked: string (nullable = true)\n",
            "\n"
          ]
        }
      ]
    },
    {
      "cell_type": "code",
      "source": [
        "indexers = [StringIndexer(inputCol=column, outputCol=column+\"_index\").fit(df_test) for column in [\"Sex\",\"Embarked\"]]\n",
        "pipeline = Pipeline(stages=indexers)\n",
        "df_test = pipeline.fit(df_test).transform(df_test)"
      ],
      "metadata": {
        "id": "IbIRCC1VaEwE"
      },
      "execution_count": null,
      "outputs": []
    },
    {
      "cell_type": "code",
      "source": [
        "df_test.limit(2).show()"
      ],
      "metadata": {
        "colab": {
          "base_uri": "https://localhost:8080/"
        },
        "id": "Oy4lrXV-aWnz",
        "outputId": "6572672a-d922-494d-e4b1-3bd5a3e6615f"
      },
      "execution_count": null,
      "outputs": [
        {
          "output_type": "stream",
          "name": "stdout",
          "text": [
            "+------+----+---+-----+-----+--------+---------+--------------+\n",
            "|Pclass| Sex|age|SibSp|Parch|Embarked|Sex_index|Embarked_index|\n",
            "+------+----+---+-----+-----+--------+---------+--------------+\n",
            "|     2|male| 32|    0|    0|       S|      0.0|           0.0|\n",
            "|     1|male| 67|    1|    0|       S|      0.0|           0.0|\n",
            "+------+----+---+-----+-----+--------+---------+--------------+\n",
            "\n"
          ]
        }
      ]
    },
    {
      "cell_type": "code",
      "source": [
        "df_test = df_test.drop(\"Sex\",\"Embarked\")"
      ],
      "metadata": {
        "id": "P85wtoFWaZcO"
      },
      "execution_count": null,
      "outputs": []
    },
    {
      "cell_type": "code",
      "source": [
        "\n",
        ""
      ],
      "metadata": {
        "id": "FsGsgN57fP77"
      },
      "execution_count": null,
      "outputs": []
    },
    {
      "cell_type": "code",
      "source": [
        "df_test.limit(2).show()"
      ],
      "metadata": {
        "colab": {
          "base_uri": "https://localhost:8080/"
        },
        "id": "Dh-1n7j7asXN",
        "outputId": "a11ab119-b3b6-48a1-c19c-dbf9d520cac1"
      },
      "execution_count": null,
      "outputs": [
        {
          "output_type": "stream",
          "name": "stdout",
          "text": [
            "+------+---+-----+-----+---------+--------------+\n",
            "|Pclass|age|SibSp|Parch|Sex_index|Embarked_index|\n",
            "+------+---+-----+-----+---------+--------------+\n",
            "|     2| 32|    0|    0|      0.0|           0.0|\n",
            "|     1| 67|    1|    0|      0.0|           0.0|\n",
            "+------+---+-----+-----+---------+--------------+\n",
            "\n"
          ]
        }
      ]
    },
    {
      "cell_type": "code",
      "source": [
        "df_test.printSchema()"
      ],
      "metadata": {
        "colab": {
          "base_uri": "https://localhost:8080/"
        },
        "id": "vAMy3y57auUC",
        "outputId": "c673b6aa-6afb-4019-885f-2c619db510a5"
      },
      "execution_count": null,
      "outputs": [
        {
          "output_type": "stream",
          "name": "stdout",
          "text": [
            "root\n",
            " |-- Pclass: string (nullable = true)\n",
            " |-- age: integer (nullable = true)\n",
            " |-- SibSp: string (nullable = true)\n",
            " |-- Parch: string (nullable = true)\n",
            " |-- Sex_index: double (nullable = false)\n",
            " |-- Embarked_index: double (nullable = false)\n",
            "\n"
          ]
        }
      ]
    },
    {
      "cell_type": "code",
      "source": [
        "# Converting Str to int\n",
        "from pyspark.sql.types import IntegerType\n",
        "df_test = df_test.withColumn(\"Pclass\", df_test[\"Pclass\"].cast(IntegerType()))\n",
        "df_test = df_test.withColumn(\"SibSp\", df_test[\"SibSp\"].cast(IntegerType()))\n",
        "df_test = df_test.withColumn(\"Parch\", df_test[\"Parch\"].cast(IntegerType()))"
      ],
      "metadata": {
        "id": "pnWj0f0Ca1Ev"
      },
      "execution_count": null,
      "outputs": []
    },
    {
      "cell_type": "code",
      "source": [],
      "metadata": {
        "id": "WlnZsNcufOLa"
      },
      "execution_count": null,
      "outputs": []
    },
    {
      "cell_type": "code",
      "source": [
        "df_test.printSchema()"
      ],
      "metadata": {
        "colab": {
          "base_uri": "https://localhost:8080/"
        },
        "id": "4cX5A4T2bROJ",
        "outputId": "d4735e9f-1b7e-46e7-d755-8f17821a95b7"
      },
      "execution_count": null,
      "outputs": [
        {
          "output_type": "stream",
          "name": "stdout",
          "text": [
            "root\n",
            " |-- Pclass: integer (nullable = true)\n",
            " |-- age: integer (nullable = true)\n",
            " |-- SibSp: integer (nullable = true)\n",
            " |-- Parch: integer (nullable = true)\n",
            " |-- Sex_index: double (nullable = false)\n",
            " |-- Embarked_index: double (nullable = false)\n",
            "\n"
          ]
        }
      ]
    },
    {
      "cell_type": "code",
      "source": [
        "df_test.columns[:-1]"
      ],
      "metadata": {
        "colab": {
          "base_uri": "https://localhost:8080/"
        },
        "id": "F8A2fKjRg2c7",
        "outputId": "1d124da4-42e8-4d88-d360-bb8bf3ee6fd4"
      },
      "execution_count": null,
      "outputs": [
        {
          "output_type": "execute_result",
          "data": {
            "text/plain": [
              "['Pclass', 'age', 'SibSp', 'Parch', 'Sex_index']"
            ]
          },
          "metadata": {},
          "execution_count": 258
        }
      ]
    },
    {
      "cell_type": "code",
      "source": [
        "feature = VectorAssembler(inputCols=df_test.columns,outputCol=\"features\")\n",
        "df_test_feature_vector= feature.transform(df_test)"
      ],
      "metadata": {
        "id": "DVqA26ALdU38"
      },
      "execution_count": null,
      "outputs": []
    },
    {
      "cell_type": "code",
      "source": [
        "df_test_feature_vector.show()"
      ],
      "metadata": {
        "colab": {
          "base_uri": "https://localhost:8080/"
        },
        "id": "OGDsxroCdwQN",
        "outputId": "7a0669cb-4cc2-4c02-e720-f19ab1629ae2"
      },
      "execution_count": null,
      "outputs": [
        {
          "output_type": "stream",
          "name": "stdout",
          "text": [
            "+------+---+-----+-----+---------+--------------+--------------------+\n",
            "|Pclass|age|SibSp|Parch|Sex_index|Embarked_index|            features|\n",
            "+------+---+-----+-----+---------+--------------+--------------------+\n",
            "|     2| 32|    0|    0|      0.0|           0.0|(6,[0,1],[2.0,32.0])|\n",
            "|     1| 67|    1|    0|      0.0|           0.0|[1.0,67.0,1.0,0.0...|\n",
            "|     3| 30|    1|    2|      0.0|           0.0|[3.0,30.0,1.0,2.0...|\n",
            "|     2| 24|    2|    0|      0.0|           0.0|[2.0,24.0,2.0,0.0...|\n",
            "|     3| 50|    1|    0|      0.0|           0.0|[3.0,50.0,1.0,0.0...|\n",
            "|     3| 21|    1|    0|      0.0|           0.0|[3.0,21.0,1.0,0.0...|\n",
            "|     1| 39|    1|    0|      0.0|           1.0|[1.0,39.0,1.0,0.0...|\n",
            "|     3| 30|    0|    0|      1.0|           2.0|[3.0,30.0,0.0,0.0...|\n",
            "|     3| 23|    0|    0|      1.0|           0.0|[3.0,23.0,0.0,0.0...|\n",
            "|     3| 32|    0|    0|      0.0|           0.0|(6,[0,1],[3.0,32.0])|\n",
            "|     1| 21|    0|    1|      0.0|           1.0|[1.0,21.0,0.0,1.0...|\n",
            "|     3| 30|    0|    0|      0.0|           0.0|(6,[0,1],[3.0,30.0])|\n",
            "|     2| 30|    0|    0|      1.0|           0.0|[2.0,30.0,0.0,0.0...|\n",
            "|     2| 32|    0|    0|      0.0|           0.0|(6,[0,1],[2.0,32.0])|\n",
            "|     3| 43|    0|    0|      0.0|           0.0|(6,[0,1],[3.0,43.0])|\n",
            "|     2| 21|    1|    0|      0.0|           0.0|[2.0,21.0,1.0,0.0...|\n",
            "|     3| 33|    1|    2|      1.0|           0.0|[3.0,33.0,1.0,2.0...|\n",
            "|     1| 36|    0|    0|      1.0|           1.0|[1.0,36.0,0.0,0.0...|\n",
            "|     1| 53|    0|    0|      1.0|           1.0|[1.0,53.0,0.0,0.0...|\n",
            "|     3| 21|    0|    0|      0.0|           0.0|(6,[0,1],[3.0,21.0])|\n",
            "+------+---+-----+-----+---------+--------------+--------------------+\n",
            "only showing top 20 rows\n",
            "\n"
          ]
        }
      ]
    },
    {
      "cell_type": "markdown",
      "source": [
        "Im using logistic because from above models it got highest accuracy from another models"
      ],
      "metadata": {
        "id": "u8fR3qLQiXy1"
      }
    },
    {
      "cell_type": "code",
      "source": [
        "\n",
        "lr_test_prediction = lrModel.transform(df_test_feature_vector)\n",
        "lr_test_prediction.select(\"prediction\").show()\n"
      ],
      "metadata": {
        "colab": {
          "base_uri": "https://localhost:8080/"
        },
        "id": "mMC8eSfgeJG2",
        "outputId": "18dd0612-45f3-4661-fcc1-50a4b48881fe"
      },
      "execution_count": null,
      "outputs": [
        {
          "output_type": "stream",
          "name": "stdout",
          "text": [
            "+----------+\n",
            "|prediction|\n",
            "+----------+\n",
            "|       0.0|\n",
            "|       0.0|\n",
            "|       0.0|\n",
            "|       0.0|\n",
            "|       0.0|\n",
            "|       0.0|\n",
            "|       0.0|\n",
            "|       0.0|\n",
            "|       0.0|\n",
            "|       0.0|\n",
            "|       0.0|\n",
            "|       0.0|\n",
            "|       0.0|\n",
            "|       0.0|\n",
            "|       0.0|\n",
            "|       0.0|\n",
            "|       0.0|\n",
            "|       0.0|\n",
            "|       0.0|\n",
            "|       0.0|\n",
            "+----------+\n",
            "only showing top 20 rows\n",
            "\n"
          ]
        }
      ]
    },
    {
      "cell_type": "code",
      "source": [
        "df_test.count()"
      ],
      "metadata": {
        "colab": {
          "base_uri": "https://localhost:8080/"
        },
        "id": "waWhYomCbS2z",
        "outputId": "2921efa2-c45d-4e74-d5c5-299adcec6b77"
      },
      "execution_count": null,
      "outputs": [
        {
          "output_type": "execute_result",
          "data": {
            "text/plain": [
              "418"
            ]
          },
          "metadata": {},
          "execution_count": 266
        }
      ]
    },
    {
      "cell_type": "code",
      "source": [
        "lr_test_prediction.count()"
      ],
      "metadata": {
        "colab": {
          "base_uri": "https://localhost:8080/"
        },
        "id": "USN29-jQdN1Y",
        "outputId": "dd97e232-2a69-450e-e0b9-613d7c3f92dd"
      },
      "execution_count": null,
      "outputs": [
        {
          "output_type": "execute_result",
          "data": {
            "text/plain": [
              "418"
            ]
          },
          "metadata": {},
          "execution_count": 267
        }
      ]
    },
    {
      "cell_type": "code",
      "source": [
        "pwd"
      ],
      "metadata": {
        "colab": {
          "base_uri": "https://localhost:8080/",
          "height": 36
        },
        "id": "PWpaQRTfoBm1",
        "outputId": "aacabd2c-ec5a-43a8-8a05-b4542890944e"
      },
      "execution_count": null,
      "outputs": [
        {
          "output_type": "execute_result",
          "data": {
            "text/plain": [
              "'/content'"
            ],
            "application/vnd.google.colaboratory.intrinsic+json": {
              "type": "string"
            }
          },
          "metadata": {},
          "execution_count": 282
        }
      ]
    },
    {
      "cell_type": "code",
      "source": [
        "final_prediction = lr_test_prediction.toPandas()"
      ],
      "metadata": {
        "id": "5P1DKM8nlbiO"
      },
      "execution_count": null,
      "outputs": []
    },
    {
      "cell_type": "code",
      "source": [
        "final_prediction.head(2)"
      ],
      "metadata": {
        "colab": {
          "base_uri": "https://localhost:8080/",
          "height": 191
        },
        "id": "zBjucIi5iSG8",
        "outputId": "33657105-1175-4660-b462-8ff2d0feea03"
      },
      "execution_count": null,
      "outputs": [
        {
          "output_type": "execute_result",
          "data": {
            "text/plain": [
              "   Pclass  age  SibSp  Parch  Sex_index  Embarked_index  \\\n",
              "0       2   32      0      0        0.0             0.0   \n",
              "1       1   67      1      0        0.0             0.0   \n",
              "\n",
              "                          features                            rawPrediction  \\\n",
              "0  (2.0, 32.0, 0.0, 0.0, 0.0, 0.0)  [8.456550090156533, -8.456550090156533]   \n",
              "1  [1.0, 67.0, 1.0, 0.0, 0.0, 0.0]  [16.35546227081244, -16.35546227081244]   \n",
              "\n",
              "                                   probability  prediction  \n",
              "0  [0.9997875412214067, 0.0002124587785933274]         0.0  \n",
              "1   [0.9999999211297981, 7.88702019249854e-08]         0.0  "
            ],
            "text/html": [
              "\n",
              "  <div id=\"df-be01b755-170d-4ca2-a163-e298db9aeb21\">\n",
              "    <div class=\"colab-df-container\">\n",
              "      <div>\n",
              "<style scoped>\n",
              "    .dataframe tbody tr th:only-of-type {\n",
              "        vertical-align: middle;\n",
              "    }\n",
              "\n",
              "    .dataframe tbody tr th {\n",
              "        vertical-align: top;\n",
              "    }\n",
              "\n",
              "    .dataframe thead th {\n",
              "        text-align: right;\n",
              "    }\n",
              "</style>\n",
              "<table border=\"1\" class=\"dataframe\">\n",
              "  <thead>\n",
              "    <tr style=\"text-align: right;\">\n",
              "      <th></th>\n",
              "      <th>Pclass</th>\n",
              "      <th>age</th>\n",
              "      <th>SibSp</th>\n",
              "      <th>Parch</th>\n",
              "      <th>Sex_index</th>\n",
              "      <th>Embarked_index</th>\n",
              "      <th>features</th>\n",
              "      <th>rawPrediction</th>\n",
              "      <th>probability</th>\n",
              "      <th>prediction</th>\n",
              "    </tr>\n",
              "  </thead>\n",
              "  <tbody>\n",
              "    <tr>\n",
              "      <th>0</th>\n",
              "      <td>2</td>\n",
              "      <td>32</td>\n",
              "      <td>0</td>\n",
              "      <td>0</td>\n",
              "      <td>0.0</td>\n",
              "      <td>0.0</td>\n",
              "      <td>(2.0, 32.0, 0.0, 0.0, 0.0, 0.0)</td>\n",
              "      <td>[8.456550090156533, -8.456550090156533]</td>\n",
              "      <td>[0.9997875412214067, 0.0002124587785933274]</td>\n",
              "      <td>0.0</td>\n",
              "    </tr>\n",
              "    <tr>\n",
              "      <th>1</th>\n",
              "      <td>1</td>\n",
              "      <td>67</td>\n",
              "      <td>1</td>\n",
              "      <td>0</td>\n",
              "      <td>0.0</td>\n",
              "      <td>0.0</td>\n",
              "      <td>[1.0, 67.0, 1.0, 0.0, 0.0, 0.0]</td>\n",
              "      <td>[16.35546227081244, -16.35546227081244]</td>\n",
              "      <td>[0.9999999211297981, 7.88702019249854e-08]</td>\n",
              "      <td>0.0</td>\n",
              "    </tr>\n",
              "  </tbody>\n",
              "</table>\n",
              "</div>\n",
              "      <button class=\"colab-df-convert\" onclick=\"convertToInteractive('df-be01b755-170d-4ca2-a163-e298db9aeb21')\"\n",
              "              title=\"Convert this dataframe to an interactive table.\"\n",
              "              style=\"display:none;\">\n",
              "        \n",
              "  <svg xmlns=\"http://www.w3.org/2000/svg\" height=\"24px\"viewBox=\"0 0 24 24\"\n",
              "       width=\"24px\">\n",
              "    <path d=\"M0 0h24v24H0V0z\" fill=\"none\"/>\n",
              "    <path d=\"M18.56 5.44l.94 2.06.94-2.06 2.06-.94-2.06-.94-.94-2.06-.94 2.06-2.06.94zm-11 1L8.5 8.5l.94-2.06 2.06-.94-2.06-.94L8.5 2.5l-.94 2.06-2.06.94zm10 10l.94 2.06.94-2.06 2.06-.94-2.06-.94-.94-2.06-.94 2.06-2.06.94z\"/><path d=\"M17.41 7.96l-1.37-1.37c-.4-.4-.92-.59-1.43-.59-.52 0-1.04.2-1.43.59L10.3 9.45l-7.72 7.72c-.78.78-.78 2.05 0 2.83L4 21.41c.39.39.9.59 1.41.59.51 0 1.02-.2 1.41-.59l7.78-7.78 2.81-2.81c.8-.78.8-2.07 0-2.86zM5.41 20L4 18.59l7.72-7.72 1.47 1.35L5.41 20z\"/>\n",
              "  </svg>\n",
              "      </button>\n",
              "      \n",
              "  <style>\n",
              "    .colab-df-container {\n",
              "      display:flex;\n",
              "      flex-wrap:wrap;\n",
              "      gap: 12px;\n",
              "    }\n",
              "\n",
              "    .colab-df-convert {\n",
              "      background-color: #E8F0FE;\n",
              "      border: none;\n",
              "      border-radius: 50%;\n",
              "      cursor: pointer;\n",
              "      display: none;\n",
              "      fill: #1967D2;\n",
              "      height: 32px;\n",
              "      padding: 0 0 0 0;\n",
              "      width: 32px;\n",
              "    }\n",
              "\n",
              "    .colab-df-convert:hover {\n",
              "      background-color: #E2EBFA;\n",
              "      box-shadow: 0px 1px 2px rgba(60, 64, 67, 0.3), 0px 1px 3px 1px rgba(60, 64, 67, 0.15);\n",
              "      fill: #174EA6;\n",
              "    }\n",
              "\n",
              "    [theme=dark] .colab-df-convert {\n",
              "      background-color: #3B4455;\n",
              "      fill: #D2E3FC;\n",
              "    }\n",
              "\n",
              "    [theme=dark] .colab-df-convert:hover {\n",
              "      background-color: #434B5C;\n",
              "      box-shadow: 0px 1px 3px 1px rgba(0, 0, 0, 0.15);\n",
              "      filter: drop-shadow(0px 1px 2px rgba(0, 0, 0, 0.3));\n",
              "      fill: #FFFFFF;\n",
              "    }\n",
              "  </style>\n",
              "\n",
              "      <script>\n",
              "        const buttonEl =\n",
              "          document.querySelector('#df-be01b755-170d-4ca2-a163-e298db9aeb21 button.colab-df-convert');\n",
              "        buttonEl.style.display =\n",
              "          google.colab.kernel.accessAllowed ? 'block' : 'none';\n",
              "\n",
              "        async function convertToInteractive(key) {\n",
              "          const element = document.querySelector('#df-be01b755-170d-4ca2-a163-e298db9aeb21');\n",
              "          const dataTable =\n",
              "            await google.colab.kernel.invokeFunction('convertToInteractive',\n",
              "                                                     [key], {});\n",
              "          if (!dataTable) return;\n",
              "\n",
              "          const docLinkHtml = 'Like what you see? Visit the ' +\n",
              "            '<a target=\"_blank\" href=https://colab.research.google.com/notebooks/data_table.ipynb>data table notebook</a>'\n",
              "            + ' to learn more about interactive tables.';\n",
              "          element.innerHTML = '';\n",
              "          dataTable['output_type'] = 'display_data';\n",
              "          await google.colab.output.renderOutput(dataTable, element);\n",
              "          const docLink = document.createElement('div');\n",
              "          docLink.innerHTML = docLinkHtml;\n",
              "          element.appendChild(docLink);\n",
              "        }\n",
              "      </script>\n",
              "    </div>\n",
              "  </div>\n",
              "  "
            ]
          },
          "metadata": {},
          "execution_count": 293
        }
      ]
    },
    {
      "cell_type": "code",
      "source": [
        "final_prediction.to_csv(\"ml_spark_final_predictions.csv\")\n",
        "\n"
      ],
      "metadata": {
        "id": "ywMk9euTmzRK"
      },
      "execution_count": null,
      "outputs": []
    },
    {
      "cell_type": "code",
      "source": [],
      "metadata": {
        "id": "4SpEJg_Cjj_j"
      },
      "execution_count": null,
      "outputs": []
    }
  ]
}