{
  "cells": [
    {
      "cell_type": "markdown",
      "source": [
        "Importing necessary libraries."
      ],
      "metadata": {
        "id": "uHK_6xnAb55n"
      }
    },
    {
      "cell_type": "code",
      "execution_count": 5,
      "metadata": {
        "id": "V66YcFno85Oz"
      },
      "outputs": [],
      "source": [
        "import pandas as pd   \n",
        "import numpy as np\n",
        "import matplotlib.pyplot as plt\n",
        "import seaborn as sns\n",
        "import warnings\n",
        "warnings.simplefilter(action='ignore', category=FutureWarning) # setting ignore as a parameter and further adding category\n"
      ]
    },
    {
      "cell_type": "code",
      "execution_count": 6,
      "metadata": {
        "id": "dz99YGGr9L4K"
      },
      "outputs": [],
      "source": [
        "df = pd.read_csv(\"/content/Smart watch prices.csv\") ## Reading and importing your Dataset framework"
      ]
    },
    {
      "cell_type": "code",
      "execution_count": 7,
      "metadata": {
        "colab": {
          "base_uri": "https://localhost:8080/",
          "height": 320
        },
        "id": "WTgQhT8i9o5o",
        "outputId": "ba9fb7dd-17e4-4864-ca0c-5e6f08cb9e02"
      },
      "outputs": [
        {
          "output_type": "stream",
          "name": "stdout",
          "text": [
            "##Displaying 1st five row in dataframe.\n"
          ]
        },
        {
          "output_type": "execute_result",
          "data": {
            "text/plain": [
              "     Brand           Model Operating System                Connectivity  \\\n",
              "0    Apple  Watch Series 7          watchOS  Bluetooth, Wi-Fi, Cellular   \n",
              "1  Samsung  Galaxy Watch 4          Wear OS  Bluetooth, Wi-Fi, Cellular   \n",
              "2   Garmin          Venu 2        Garmin OS            Bluetooth, Wi-Fi   \n",
              "3   Fitbit         Versa 3        Fitbit OS            Bluetooth, Wi-Fi   \n",
              "4   Fossil           Gen 6          Wear OS            Bluetooth, Wi-Fi   \n",
              "\n",
              "  Display Type  Display Size (inches) Resolution Water Resistance (meters)  \\\n",
              "0       Retina                   1.90  396 x 484                        50   \n",
              "1       AMOLED                   1.40  450 x 450                        50   \n",
              "2       AMOLED                   1.30  416 x 416                        50   \n",
              "3       AMOLED                   1.58  336 x 336                        50   \n",
              "4       AMOLED                   1.28  416 x 416                        30   \n",
              "\n",
              "  Battery Life (days) Heart Rate Monitor  GPS  NFC Price (USD)  \n",
              "0                  18                Yes  Yes  Yes       $399   \n",
              "1                  40                Yes  Yes  Yes       $249   \n",
              "2                  11                Yes  Yes   No       $399   \n",
              "3                   6                Yes  Yes  Yes       $229   \n",
              "4                  24                Yes  Yes  Yes       $299   "
            ],
            "text/html": [
              "\n",
              "  <div id=\"df-83929c43-f63c-4002-9a02-9d2ea674fad4\">\n",
              "    <div class=\"colab-df-container\">\n",
              "      <div>\n",
              "<style scoped>\n",
              "    .dataframe tbody tr th:only-of-type {\n",
              "        vertical-align: middle;\n",
              "    }\n",
              "\n",
              "    .dataframe tbody tr th {\n",
              "        vertical-align: top;\n",
              "    }\n",
              "\n",
              "    .dataframe thead th {\n",
              "        text-align: right;\n",
              "    }\n",
              "</style>\n",
              "<table border=\"1\" class=\"dataframe\">\n",
              "  <thead>\n",
              "    <tr style=\"text-align: right;\">\n",
              "      <th></th>\n",
              "      <th>Brand</th>\n",
              "      <th>Model</th>\n",
              "      <th>Operating System</th>\n",
              "      <th>Connectivity</th>\n",
              "      <th>Display Type</th>\n",
              "      <th>Display Size (inches)</th>\n",
              "      <th>Resolution</th>\n",
              "      <th>Water Resistance (meters)</th>\n",
              "      <th>Battery Life (days)</th>\n",
              "      <th>Heart Rate Monitor</th>\n",
              "      <th>GPS</th>\n",
              "      <th>NFC</th>\n",
              "      <th>Price (USD)</th>\n",
              "    </tr>\n",
              "  </thead>\n",
              "  <tbody>\n",
              "    <tr>\n",
              "      <th>0</th>\n",
              "      <td>Apple</td>\n",
              "      <td>Watch Series 7</td>\n",
              "      <td>watchOS</td>\n",
              "      <td>Bluetooth, Wi-Fi, Cellular</td>\n",
              "      <td>Retina</td>\n",
              "      <td>1.90</td>\n",
              "      <td>396 x 484</td>\n",
              "      <td>50</td>\n",
              "      <td>18</td>\n",
              "      <td>Yes</td>\n",
              "      <td>Yes</td>\n",
              "      <td>Yes</td>\n",
              "      <td>$399</td>\n",
              "    </tr>\n",
              "    <tr>\n",
              "      <th>1</th>\n",
              "      <td>Samsung</td>\n",
              "      <td>Galaxy Watch 4</td>\n",
              "      <td>Wear OS</td>\n",
              "      <td>Bluetooth, Wi-Fi, Cellular</td>\n",
              "      <td>AMOLED</td>\n",
              "      <td>1.40</td>\n",
              "      <td>450 x 450</td>\n",
              "      <td>50</td>\n",
              "      <td>40</td>\n",
              "      <td>Yes</td>\n",
              "      <td>Yes</td>\n",
              "      <td>Yes</td>\n",
              "      <td>$249</td>\n",
              "    </tr>\n",
              "    <tr>\n",
              "      <th>2</th>\n",
              "      <td>Garmin</td>\n",
              "      <td>Venu 2</td>\n",
              "      <td>Garmin OS</td>\n",
              "      <td>Bluetooth, Wi-Fi</td>\n",
              "      <td>AMOLED</td>\n",
              "      <td>1.30</td>\n",
              "      <td>416 x 416</td>\n",
              "      <td>50</td>\n",
              "      <td>11</td>\n",
              "      <td>Yes</td>\n",
              "      <td>Yes</td>\n",
              "      <td>No</td>\n",
              "      <td>$399</td>\n",
              "    </tr>\n",
              "    <tr>\n",
              "      <th>3</th>\n",
              "      <td>Fitbit</td>\n",
              "      <td>Versa 3</td>\n",
              "      <td>Fitbit OS</td>\n",
              "      <td>Bluetooth, Wi-Fi</td>\n",
              "      <td>AMOLED</td>\n",
              "      <td>1.58</td>\n",
              "      <td>336 x 336</td>\n",
              "      <td>50</td>\n",
              "      <td>6</td>\n",
              "      <td>Yes</td>\n",
              "      <td>Yes</td>\n",
              "      <td>Yes</td>\n",
              "      <td>$229</td>\n",
              "    </tr>\n",
              "    <tr>\n",
              "      <th>4</th>\n",
              "      <td>Fossil</td>\n",
              "      <td>Gen 6</td>\n",
              "      <td>Wear OS</td>\n",
              "      <td>Bluetooth, Wi-Fi</td>\n",
              "      <td>AMOLED</td>\n",
              "      <td>1.28</td>\n",
              "      <td>416 x 416</td>\n",
              "      <td>30</td>\n",
              "      <td>24</td>\n",
              "      <td>Yes</td>\n",
              "      <td>Yes</td>\n",
              "      <td>Yes</td>\n",
              "      <td>$299</td>\n",
              "    </tr>\n",
              "  </tbody>\n",
              "</table>\n",
              "</div>\n",
              "      <button class=\"colab-df-convert\" onclick=\"convertToInteractive('df-83929c43-f63c-4002-9a02-9d2ea674fad4')\"\n",
              "              title=\"Convert this dataframe to an interactive table.\"\n",
              "              style=\"display:none;\">\n",
              "        \n",
              "  <svg xmlns=\"http://www.w3.org/2000/svg\" height=\"24px\"viewBox=\"0 0 24 24\"\n",
              "       width=\"24px\">\n",
              "    <path d=\"M0 0h24v24H0V0z\" fill=\"none\"/>\n",
              "    <path d=\"M18.56 5.44l.94 2.06.94-2.06 2.06-.94-2.06-.94-.94-2.06-.94 2.06-2.06.94zm-11 1L8.5 8.5l.94-2.06 2.06-.94-2.06-.94L8.5 2.5l-.94 2.06-2.06.94zm10 10l.94 2.06.94-2.06 2.06-.94-2.06-.94-.94-2.06-.94 2.06-2.06.94z\"/><path d=\"M17.41 7.96l-1.37-1.37c-.4-.4-.92-.59-1.43-.59-.52 0-1.04.2-1.43.59L10.3 9.45l-7.72 7.72c-.78.78-.78 2.05 0 2.83L4 21.41c.39.39.9.59 1.41.59.51 0 1.02-.2 1.41-.59l7.78-7.78 2.81-2.81c.8-.78.8-2.07 0-2.86zM5.41 20L4 18.59l7.72-7.72 1.47 1.35L5.41 20z\"/>\n",
              "  </svg>\n",
              "      </button>\n",
              "      \n",
              "  <style>\n",
              "    .colab-df-container {\n",
              "      display:flex;\n",
              "      flex-wrap:wrap;\n",
              "      gap: 12px;\n",
              "    }\n",
              "\n",
              "    .colab-df-convert {\n",
              "      background-color: #E8F0FE;\n",
              "      border: none;\n",
              "      border-radius: 50%;\n",
              "      cursor: pointer;\n",
              "      display: none;\n",
              "      fill: #1967D2;\n",
              "      height: 32px;\n",
              "      padding: 0 0 0 0;\n",
              "      width: 32px;\n",
              "    }\n",
              "\n",
              "    .colab-df-convert:hover {\n",
              "      background-color: #E2EBFA;\n",
              "      box-shadow: 0px 1px 2px rgba(60, 64, 67, 0.3), 0px 1px 3px 1px rgba(60, 64, 67, 0.15);\n",
              "      fill: #174EA6;\n",
              "    }\n",
              "\n",
              "    [theme=dark] .colab-df-convert {\n",
              "      background-color: #3B4455;\n",
              "      fill: #D2E3FC;\n",
              "    }\n",
              "\n",
              "    [theme=dark] .colab-df-convert:hover {\n",
              "      background-color: #434B5C;\n",
              "      box-shadow: 0px 1px 3px 1px rgba(0, 0, 0, 0.15);\n",
              "      filter: drop-shadow(0px 1px 2px rgba(0, 0, 0, 0.3));\n",
              "      fill: #FFFFFF;\n",
              "    }\n",
              "  </style>\n",
              "\n",
              "      <script>\n",
              "        const buttonEl =\n",
              "          document.querySelector('#df-83929c43-f63c-4002-9a02-9d2ea674fad4 button.colab-df-convert');\n",
              "        buttonEl.style.display =\n",
              "          google.colab.kernel.accessAllowed ? 'block' : 'none';\n",
              "\n",
              "        async function convertToInteractive(key) {\n",
              "          const element = document.querySelector('#df-83929c43-f63c-4002-9a02-9d2ea674fad4');\n",
              "          const dataTable =\n",
              "            await google.colab.kernel.invokeFunction('convertToInteractive',\n",
              "                                                     [key], {});\n",
              "          if (!dataTable) return;\n",
              "\n",
              "          const docLinkHtml = 'Like what you see? Visit the ' +\n",
              "            '<a target=\"_blank\" href=https://colab.research.google.com/notebooks/data_table.ipynb>data table notebook</a>'\n",
              "            + ' to learn more about interactive tables.';\n",
              "          element.innerHTML = '';\n",
              "          dataTable['output_type'] = 'display_data';\n",
              "          await google.colab.output.renderOutput(dataTable, element);\n",
              "          const docLink = document.createElement('div');\n",
              "          docLink.innerHTML = docLinkHtml;\n",
              "          element.appendChild(docLink);\n",
              "        }\n",
              "      </script>\n",
              "    </div>\n",
              "  </div>\n",
              "  "
            ]
          },
          "metadata": {},
          "execution_count": 7
        }
      ],
      "source": [
        "print(\"##Displaying 1st five row in dataframe.\")\n",
        "df.head()"
      ]
    },
    {
      "cell_type": "code",
      "execution_count": 8,
      "metadata": {
        "colab": {
          "base_uri": "https://localhost:8080/"
        },
        "id": "Cuo7_Y8n9qs8",
        "outputId": "280a7803-b531-42d1-a467-16b797ee168c"
      },
      "outputs": [
        {
          "output_type": "stream",
          "name": "stdout",
          "text": [
            "##Displaying information about dataframe## \n",
            " --column_names-- \n",
            " --Dtypes of columns-- \n",
            " Count of Columns and Rows \n",
            " For each column_values how many are not null \n",
            "\n",
            "\n",
            "<class 'pandas.core.frame.DataFrame'>\n",
            "RangeIndex: 379 entries, 0 to 378\n",
            "Data columns (total 13 columns):\n",
            " #   Column                     Non-Null Count  Dtype  \n",
            "---  ------                     --------------  -----  \n",
            " 0   Brand                      378 non-null    object \n",
            " 1   Model                      378 non-null    object \n",
            " 2   Operating System           376 non-null    object \n",
            " 3   Connectivity               378 non-null    object \n",
            " 4   Display Type               377 non-null    object \n",
            " 5   Display Size (inches)      376 non-null    float64\n",
            " 6   Resolution                 375 non-null    object \n",
            " 7   Water Resistance (meters)  378 non-null    object \n",
            " 8   Battery Life (days)        378 non-null    object \n",
            " 9   Heart Rate Monitor         378 non-null    object \n",
            " 10  GPS                        378 non-null    object \n",
            " 11  NFC                        378 non-null    object \n",
            " 12  Price (USD)                378 non-null    object \n",
            "dtypes: float64(1), object(12)\n",
            "memory usage: 38.6+ KB\n"
          ]
        }
      ],
      "source": [
        "print(\"##Displaying information about dataframe## \\n --column_names-- \\n --Dtypes of columns-- \\n Count of Columns and Rows \\n For each column_values how many are not null \\n\\n\")\n",
        "df.info()"
      ]
    },
    {
      "cell_type": "code",
      "execution_count": 9,
      "metadata": {
        "colab": {
          "base_uri": "https://localhost:8080/"
        },
        "id": "wFDcXQZL9tfc",
        "outputId": "fc029260-ad17-4cd4-96c4-5b5e7daa3337"
      },
      "outputs": [
        {
          "output_type": "stream",
          "name": "stdout",
          "text": [
            "##Null_values count for each and every column##\n",
            "\n"
          ]
        },
        {
          "output_type": "execute_result",
          "data": {
            "text/plain": [
              "Brand                        1\n",
              "Model                        1\n",
              "Operating System             3\n",
              "Connectivity                 1\n",
              "Display Type                 2\n",
              "Display Size (inches)        3\n",
              "Resolution                   4\n",
              "Water Resistance (meters)    1\n",
              "Battery Life (days)          1\n",
              "Heart Rate Monitor           1\n",
              "GPS                          1\n",
              "NFC                          1\n",
              "Price (USD)                  1\n",
              "dtype: int64"
            ]
          },
          "metadata": {},
          "execution_count": 9
        }
      ],
      "source": [
        "print(\"##Null_values count for each and every column##\\n\")\n",
        "df.isnull().sum()"
      ]
    },
    {
      "cell_type": "code",
      "execution_count": 10,
      "metadata": {
        "colab": {
          "base_uri": "https://localhost:8080/"
        },
        "id": "iH9Eqnxj-Ai6",
        "outputId": "635c10da-6ead-4535-a5de-5ad7fa752962"
      },
      "outputs": [
        {
          "output_type": "stream",
          "name": "stdout",
          "text": [
            "## sum of duplicated values ##\n"
          ]
        },
        {
          "output_type": "execute_result",
          "data": {
            "text/plain": [
              "80"
            ]
          },
          "metadata": {},
          "execution_count": 10
        }
      ],
      "source": [
        "print(\"## sum of duplicated values ##\")\n",
        "df.duplicated().sum()"
      ]
    },
    {
      "cell_type": "code",
      "execution_count": 11,
      "metadata": {
        "colab": {
          "base_uri": "https://localhost:8080/",
          "height": 571
        },
        "id": "WVy-RuCm-9IJ",
        "outputId": "31f68af7-ca71-47f0-80ad-fee05ebb16f5"
      },
      "outputs": [
        {
          "output_type": "execute_result",
          "data": {
            "text/plain": [
              "        Brand                Model Operating System  \\\n",
              "0       Apple       Watch Series 7          watchOS   \n",
              "1     Samsung       Galaxy Watch 4          Wear OS   \n",
              "2      Garmin               Venu 2        Garmin OS   \n",
              "3      Fitbit              Versa 3        Fitbit OS   \n",
              "4      Fossil                Gen 6          Wear OS   \n",
              "..        ...                  ...              ...   \n",
              "355  TicWatch                   C2          Wear OS   \n",
              "356    Mobvoi          TicWatch S2          Wear OS   \n",
              "362      Oppo  Watch 2 ECG Edition          ColorOS   \n",
              "366   Samsung     Gear S3 Frontier         Tizen OS   \n",
              "372     Casio    G-Shock GSW-H1000          Wear OS   \n",
              "\n",
              "                   Connectivity  Display Type  Display Size (inches)  \\\n",
              "0    Bluetooth, Wi-Fi, Cellular        Retina                   1.90   \n",
              "1    Bluetooth, Wi-Fi, Cellular        AMOLED                   1.40   \n",
              "2              Bluetooth, Wi-Fi        AMOLED                   1.30   \n",
              "3              Bluetooth, Wi-Fi        AMOLED                   1.58   \n",
              "4              Bluetooth, Wi-Fi        AMOLED                   1.28   \n",
              "..                          ...           ...                    ...   \n",
              "355            Bluetooth, Wi-Fi        AMOLED                   1.30   \n",
              "356            Bluetooth, Wi-Fi        AMOLED                   1.39   \n",
              "362  Bluetooth, Wi-Fi, Cellular        AMOLED                   1.75   \n",
              "366            Bluetooth, Wi-Fi  Super AMOLED                   1.30   \n",
              "372            Bluetooth, Wi-Fi           LCD                   1.20   \n",
              "\n",
              "    Resolution Water Resistance (meters) Battery Life (days)  \\\n",
              "0    396 x 484                        50                  18   \n",
              "1    450 x 450                        50                  40   \n",
              "2    416 x 416                        50                  11   \n",
              "3    336 x 336                        50                   6   \n",
              "4    416 x 416                        30                  24   \n",
              "..         ...                       ...                 ...   \n",
              "355  360 x 360                        50                   1   \n",
              "356  400 x 400                        50                   2   \n",
              "362  372 x 430                        50                  16   \n",
              "366  360 x 360                        50                   3   \n",
              "372  360 x 360                       200                   1   \n",
              "\n",
              "    Heart Rate Monitor  GPS  NFC Price (USD)  \n",
              "0                  Yes  Yes  Yes       $399   \n",
              "1                  Yes  Yes  Yes       $249   \n",
              "2                  Yes  Yes   No       $399   \n",
              "3                  Yes  Yes  Yes       $229   \n",
              "4                  Yes  Yes  Yes       $299   \n",
              "..                 ...  ...  ...         ...  \n",
              "355                Yes  Yes  Yes       $199   \n",
              "356                Yes  Yes  Yes       $179   \n",
              "362                Yes  Yes  Yes       $299   \n",
              "366                Yes  Yes  Yes       $299   \n",
              "372                Yes  Yes   No       $699   \n",
              "\n",
              "[141 rows x 13 columns]"
            ],
            "text/html": [
              "\n",
              "  <div id=\"df-08f8e04d-a8c5-4fb1-b17f-092aa8c50d96\">\n",
              "    <div class=\"colab-df-container\">\n",
              "      <div>\n",
              "<style scoped>\n",
              "    .dataframe tbody tr th:only-of-type {\n",
              "        vertical-align: middle;\n",
              "    }\n",
              "\n",
              "    .dataframe tbody tr th {\n",
              "        vertical-align: top;\n",
              "    }\n",
              "\n",
              "    .dataframe thead th {\n",
              "        text-align: right;\n",
              "    }\n",
              "</style>\n",
              "<table border=\"1\" class=\"dataframe\">\n",
              "  <thead>\n",
              "    <tr style=\"text-align: right;\">\n",
              "      <th></th>\n",
              "      <th>Brand</th>\n",
              "      <th>Model</th>\n",
              "      <th>Operating System</th>\n",
              "      <th>Connectivity</th>\n",
              "      <th>Display Type</th>\n",
              "      <th>Display Size (inches)</th>\n",
              "      <th>Resolution</th>\n",
              "      <th>Water Resistance (meters)</th>\n",
              "      <th>Battery Life (days)</th>\n",
              "      <th>Heart Rate Monitor</th>\n",
              "      <th>GPS</th>\n",
              "      <th>NFC</th>\n",
              "      <th>Price (USD)</th>\n",
              "    </tr>\n",
              "  </thead>\n",
              "  <tbody>\n",
              "    <tr>\n",
              "      <th>0</th>\n",
              "      <td>Apple</td>\n",
              "      <td>Watch Series 7</td>\n",
              "      <td>watchOS</td>\n",
              "      <td>Bluetooth, Wi-Fi, Cellular</td>\n",
              "      <td>Retina</td>\n",
              "      <td>1.90</td>\n",
              "      <td>396 x 484</td>\n",
              "      <td>50</td>\n",
              "      <td>18</td>\n",
              "      <td>Yes</td>\n",
              "      <td>Yes</td>\n",
              "      <td>Yes</td>\n",
              "      <td>$399</td>\n",
              "    </tr>\n",
              "    <tr>\n",
              "      <th>1</th>\n",
              "      <td>Samsung</td>\n",
              "      <td>Galaxy Watch 4</td>\n",
              "      <td>Wear OS</td>\n",
              "      <td>Bluetooth, Wi-Fi, Cellular</td>\n",
              "      <td>AMOLED</td>\n",
              "      <td>1.40</td>\n",
              "      <td>450 x 450</td>\n",
              "      <td>50</td>\n",
              "      <td>40</td>\n",
              "      <td>Yes</td>\n",
              "      <td>Yes</td>\n",
              "      <td>Yes</td>\n",
              "      <td>$249</td>\n",
              "    </tr>\n",
              "    <tr>\n",
              "      <th>2</th>\n",
              "      <td>Garmin</td>\n",
              "      <td>Venu 2</td>\n",
              "      <td>Garmin OS</td>\n",
              "      <td>Bluetooth, Wi-Fi</td>\n",
              "      <td>AMOLED</td>\n",
              "      <td>1.30</td>\n",
              "      <td>416 x 416</td>\n",
              "      <td>50</td>\n",
              "      <td>11</td>\n",
              "      <td>Yes</td>\n",
              "      <td>Yes</td>\n",
              "      <td>No</td>\n",
              "      <td>$399</td>\n",
              "    </tr>\n",
              "    <tr>\n",
              "      <th>3</th>\n",
              "      <td>Fitbit</td>\n",
              "      <td>Versa 3</td>\n",
              "      <td>Fitbit OS</td>\n",
              "      <td>Bluetooth, Wi-Fi</td>\n",
              "      <td>AMOLED</td>\n",
              "      <td>1.58</td>\n",
              "      <td>336 x 336</td>\n",
              "      <td>50</td>\n",
              "      <td>6</td>\n",
              "      <td>Yes</td>\n",
              "      <td>Yes</td>\n",
              "      <td>Yes</td>\n",
              "      <td>$229</td>\n",
              "    </tr>\n",
              "    <tr>\n",
              "      <th>4</th>\n",
              "      <td>Fossil</td>\n",
              "      <td>Gen 6</td>\n",
              "      <td>Wear OS</td>\n",
              "      <td>Bluetooth, Wi-Fi</td>\n",
              "      <td>AMOLED</td>\n",
              "      <td>1.28</td>\n",
              "      <td>416 x 416</td>\n",
              "      <td>30</td>\n",
              "      <td>24</td>\n",
              "      <td>Yes</td>\n",
              "      <td>Yes</td>\n",
              "      <td>Yes</td>\n",
              "      <td>$299</td>\n",
              "    </tr>\n",
              "    <tr>\n",
              "      <th>...</th>\n",
              "      <td>...</td>\n",
              "      <td>...</td>\n",
              "      <td>...</td>\n",
              "      <td>...</td>\n",
              "      <td>...</td>\n",
              "      <td>...</td>\n",
              "      <td>...</td>\n",
              "      <td>...</td>\n",
              "      <td>...</td>\n",
              "      <td>...</td>\n",
              "      <td>...</td>\n",
              "      <td>...</td>\n",
              "      <td>...</td>\n",
              "    </tr>\n",
              "    <tr>\n",
              "      <th>355</th>\n",
              "      <td>TicWatch</td>\n",
              "      <td>C2</td>\n",
              "      <td>Wear OS</td>\n",
              "      <td>Bluetooth, Wi-Fi</td>\n",
              "      <td>AMOLED</td>\n",
              "      <td>1.30</td>\n",
              "      <td>360 x 360</td>\n",
              "      <td>50</td>\n",
              "      <td>1</td>\n",
              "      <td>Yes</td>\n",
              "      <td>Yes</td>\n",
              "      <td>Yes</td>\n",
              "      <td>$199</td>\n",
              "    </tr>\n",
              "    <tr>\n",
              "      <th>356</th>\n",
              "      <td>Mobvoi</td>\n",
              "      <td>TicWatch S2</td>\n",
              "      <td>Wear OS</td>\n",
              "      <td>Bluetooth, Wi-Fi</td>\n",
              "      <td>AMOLED</td>\n",
              "      <td>1.39</td>\n",
              "      <td>400 x 400</td>\n",
              "      <td>50</td>\n",
              "      <td>2</td>\n",
              "      <td>Yes</td>\n",
              "      <td>Yes</td>\n",
              "      <td>Yes</td>\n",
              "      <td>$179</td>\n",
              "    </tr>\n",
              "    <tr>\n",
              "      <th>362</th>\n",
              "      <td>Oppo</td>\n",
              "      <td>Watch 2 ECG Edition</td>\n",
              "      <td>ColorOS</td>\n",
              "      <td>Bluetooth, Wi-Fi, Cellular</td>\n",
              "      <td>AMOLED</td>\n",
              "      <td>1.75</td>\n",
              "      <td>372 x 430</td>\n",
              "      <td>50</td>\n",
              "      <td>16</td>\n",
              "      <td>Yes</td>\n",
              "      <td>Yes</td>\n",
              "      <td>Yes</td>\n",
              "      <td>$299</td>\n",
              "    </tr>\n",
              "    <tr>\n",
              "      <th>366</th>\n",
              "      <td>Samsung</td>\n",
              "      <td>Gear S3 Frontier</td>\n",
              "      <td>Tizen OS</td>\n",
              "      <td>Bluetooth, Wi-Fi</td>\n",
              "      <td>Super AMOLED</td>\n",
              "      <td>1.30</td>\n",
              "      <td>360 x 360</td>\n",
              "      <td>50</td>\n",
              "      <td>3</td>\n",
              "      <td>Yes</td>\n",
              "      <td>Yes</td>\n",
              "      <td>Yes</td>\n",
              "      <td>$299</td>\n",
              "    </tr>\n",
              "    <tr>\n",
              "      <th>372</th>\n",
              "      <td>Casio</td>\n",
              "      <td>G-Shock GSW-H1000</td>\n",
              "      <td>Wear OS</td>\n",
              "      <td>Bluetooth, Wi-Fi</td>\n",
              "      <td>LCD</td>\n",
              "      <td>1.20</td>\n",
              "      <td>360 x 360</td>\n",
              "      <td>200</td>\n",
              "      <td>1</td>\n",
              "      <td>Yes</td>\n",
              "      <td>Yes</td>\n",
              "      <td>No</td>\n",
              "      <td>$699</td>\n",
              "    </tr>\n",
              "  </tbody>\n",
              "</table>\n",
              "<p>141 rows × 13 columns</p>\n",
              "</div>\n",
              "      <button class=\"colab-df-convert\" onclick=\"convertToInteractive('df-08f8e04d-a8c5-4fb1-b17f-092aa8c50d96')\"\n",
              "              title=\"Convert this dataframe to an interactive table.\"\n",
              "              style=\"display:none;\">\n",
              "        \n",
              "  <svg xmlns=\"http://www.w3.org/2000/svg\" height=\"24px\"viewBox=\"0 0 24 24\"\n",
              "       width=\"24px\">\n",
              "    <path d=\"M0 0h24v24H0V0z\" fill=\"none\"/>\n",
              "    <path d=\"M18.56 5.44l.94 2.06.94-2.06 2.06-.94-2.06-.94-.94-2.06-.94 2.06-2.06.94zm-11 1L8.5 8.5l.94-2.06 2.06-.94-2.06-.94L8.5 2.5l-.94 2.06-2.06.94zm10 10l.94 2.06.94-2.06 2.06-.94-2.06-.94-.94-2.06-.94 2.06-2.06.94z\"/><path d=\"M17.41 7.96l-1.37-1.37c-.4-.4-.92-.59-1.43-.59-.52 0-1.04.2-1.43.59L10.3 9.45l-7.72 7.72c-.78.78-.78 2.05 0 2.83L4 21.41c.39.39.9.59 1.41.59.51 0 1.02-.2 1.41-.59l7.78-7.78 2.81-2.81c.8-.78.8-2.07 0-2.86zM5.41 20L4 18.59l7.72-7.72 1.47 1.35L5.41 20z\"/>\n",
              "  </svg>\n",
              "      </button>\n",
              "      \n",
              "  <style>\n",
              "    .colab-df-container {\n",
              "      display:flex;\n",
              "      flex-wrap:wrap;\n",
              "      gap: 12px;\n",
              "    }\n",
              "\n",
              "    .colab-df-convert {\n",
              "      background-color: #E8F0FE;\n",
              "      border: none;\n",
              "      border-radius: 50%;\n",
              "      cursor: pointer;\n",
              "      display: none;\n",
              "      fill: #1967D2;\n",
              "      height: 32px;\n",
              "      padding: 0 0 0 0;\n",
              "      width: 32px;\n",
              "    }\n",
              "\n",
              "    .colab-df-convert:hover {\n",
              "      background-color: #E2EBFA;\n",
              "      box-shadow: 0px 1px 2px rgba(60, 64, 67, 0.3), 0px 1px 3px 1px rgba(60, 64, 67, 0.15);\n",
              "      fill: #174EA6;\n",
              "    }\n",
              "\n",
              "    [theme=dark] .colab-df-convert {\n",
              "      background-color: #3B4455;\n",
              "      fill: #D2E3FC;\n",
              "    }\n",
              "\n",
              "    [theme=dark] .colab-df-convert:hover {\n",
              "      background-color: #434B5C;\n",
              "      box-shadow: 0px 1px 3px 1px rgba(0, 0, 0, 0.15);\n",
              "      filter: drop-shadow(0px 1px 2px rgba(0, 0, 0, 0.3));\n",
              "      fill: #FFFFFF;\n",
              "    }\n",
              "  </style>\n",
              "\n",
              "      <script>\n",
              "        const buttonEl =\n",
              "          document.querySelector('#df-08f8e04d-a8c5-4fb1-b17f-092aa8c50d96 button.colab-df-convert');\n",
              "        buttonEl.style.display =\n",
              "          google.colab.kernel.accessAllowed ? 'block' : 'none';\n",
              "\n",
              "        async function convertToInteractive(key) {\n",
              "          const element = document.querySelector('#df-08f8e04d-a8c5-4fb1-b17f-092aa8c50d96');\n",
              "          const dataTable =\n",
              "            await google.colab.kernel.invokeFunction('convertToInteractive',\n",
              "                                                     [key], {});\n",
              "          if (!dataTable) return;\n",
              "\n",
              "          const docLinkHtml = 'Like what you see? Visit the ' +\n",
              "            '<a target=\"_blank\" href=https://colab.research.google.com/notebooks/data_table.ipynb>data table notebook</a>'\n",
              "            + ' to learn more about interactive tables.';\n",
              "          element.innerHTML = '';\n",
              "          dataTable['output_type'] = 'display_data';\n",
              "          await google.colab.output.renderOutput(dataTable, element);\n",
              "          const docLink = document.createElement('div');\n",
              "          docLink.innerHTML = docLinkHtml;\n",
              "          element.appendChild(docLink);\n",
              "        }\n",
              "      </script>\n",
              "    </div>\n",
              "  </div>\n",
              "  "
            ]
          },
          "metadata": {},
          "execution_count": 11
        }
      ],
      "source": [
        "df.drop_duplicates(subset=[\"Brand\",\"Model\"]) # droping duplicated values except having in Brand and Model"
      ]
    },
    {
      "cell_type": "code",
      "execution_count": 12,
      "metadata": {
        "colab": {
          "base_uri": "https://localhost:8080/"
        },
        "id": "5DJ_mZhhC6g_",
        "outputId": "40d9432a-568e-4434-c064-df5bf511fdbb"
      },
      "outputs": [
        {
          "output_type": "execute_result",
          "data": {
            "text/plain": [
              "80"
            ]
          },
          "metadata": {},
          "execution_count": 12
        }
      ],
      "source": [
        "df.duplicated().sum() #There are no duplicated values except having in Brand and Model"
      ]
    },
    {
      "cell_type": "code",
      "execution_count": 13,
      "metadata": {
        "id": "1iFCOn7p6AX0"
      },
      "outputs": [],
      "source": [
        "## Replacing string values exactly where they present And converting string format to integer format and converting into separate column ##\n",
        "df['Price'] = df['Price (USD)'].str.replace(',', '').str.replace('$', '')"
      ]
    },
    {
      "cell_type": "code",
      "execution_count": 14,
      "metadata": {
        "id": "KP45-E_k6Kgu"
      },
      "outputs": [],
      "source": [
        "df = df.drop(\"Price (USD)\",axis=1) #droping Price(USD) because we have created Price column"
      ]
    },
    {
      "cell_type": "code",
      "execution_count": 15,
      "metadata": {
        "id": "Qz1d8JvC6dzq"
      },
      "outputs": [],
      "source": [
        "df[\"Price\"]=df[\"Price\"].astype(float) # converting Price string to float"
      ]
    },
    {
      "cell_type": "code",
      "execution_count": 16,
      "metadata": {
        "colab": {
          "base_uri": "https://localhost:8080/",
          "height": 302
        },
        "id": "NPuonj676ZHs",
        "outputId": "7931084f-0c61-4b38-a755-563bd00d63b7"
      },
      "outputs": [
        {
          "output_type": "execute_result",
          "data": {
            "text/plain": [
              "     Brand           Model Operating System                Connectivity  \\\n",
              "0    Apple  Watch Series 7          watchOS  Bluetooth, Wi-Fi, Cellular   \n",
              "1  Samsung  Galaxy Watch 4          Wear OS  Bluetooth, Wi-Fi, Cellular   \n",
              "2   Garmin          Venu 2        Garmin OS            Bluetooth, Wi-Fi   \n",
              "3   Fitbit         Versa 3        Fitbit OS            Bluetooth, Wi-Fi   \n",
              "4   Fossil           Gen 6          Wear OS            Bluetooth, Wi-Fi   \n",
              "\n",
              "  Display Type  Display Size (inches) Resolution Water Resistance (meters)  \\\n",
              "0       Retina                   1.90  396 x 484                        50   \n",
              "1       AMOLED                   1.40  450 x 450                        50   \n",
              "2       AMOLED                   1.30  416 x 416                        50   \n",
              "3       AMOLED                   1.58  336 x 336                        50   \n",
              "4       AMOLED                   1.28  416 x 416                        30   \n",
              "\n",
              "  Battery Life (days) Heart Rate Monitor  GPS  NFC  Price  \n",
              "0                  18                Yes  Yes  Yes  399.0  \n",
              "1                  40                Yes  Yes  Yes  249.0  \n",
              "2                  11                Yes  Yes   No  399.0  \n",
              "3                   6                Yes  Yes  Yes  229.0  \n",
              "4                  24                Yes  Yes  Yes  299.0  "
            ],
            "text/html": [
              "\n",
              "  <div id=\"df-467915d1-1af4-473a-82f7-4d0992a45c4b\">\n",
              "    <div class=\"colab-df-container\">\n",
              "      <div>\n",
              "<style scoped>\n",
              "    .dataframe tbody tr th:only-of-type {\n",
              "        vertical-align: middle;\n",
              "    }\n",
              "\n",
              "    .dataframe tbody tr th {\n",
              "        vertical-align: top;\n",
              "    }\n",
              "\n",
              "    .dataframe thead th {\n",
              "        text-align: right;\n",
              "    }\n",
              "</style>\n",
              "<table border=\"1\" class=\"dataframe\">\n",
              "  <thead>\n",
              "    <tr style=\"text-align: right;\">\n",
              "      <th></th>\n",
              "      <th>Brand</th>\n",
              "      <th>Model</th>\n",
              "      <th>Operating System</th>\n",
              "      <th>Connectivity</th>\n",
              "      <th>Display Type</th>\n",
              "      <th>Display Size (inches)</th>\n",
              "      <th>Resolution</th>\n",
              "      <th>Water Resistance (meters)</th>\n",
              "      <th>Battery Life (days)</th>\n",
              "      <th>Heart Rate Monitor</th>\n",
              "      <th>GPS</th>\n",
              "      <th>NFC</th>\n",
              "      <th>Price</th>\n",
              "    </tr>\n",
              "  </thead>\n",
              "  <tbody>\n",
              "    <tr>\n",
              "      <th>0</th>\n",
              "      <td>Apple</td>\n",
              "      <td>Watch Series 7</td>\n",
              "      <td>watchOS</td>\n",
              "      <td>Bluetooth, Wi-Fi, Cellular</td>\n",
              "      <td>Retina</td>\n",
              "      <td>1.90</td>\n",
              "      <td>396 x 484</td>\n",
              "      <td>50</td>\n",
              "      <td>18</td>\n",
              "      <td>Yes</td>\n",
              "      <td>Yes</td>\n",
              "      <td>Yes</td>\n",
              "      <td>399.0</td>\n",
              "    </tr>\n",
              "    <tr>\n",
              "      <th>1</th>\n",
              "      <td>Samsung</td>\n",
              "      <td>Galaxy Watch 4</td>\n",
              "      <td>Wear OS</td>\n",
              "      <td>Bluetooth, Wi-Fi, Cellular</td>\n",
              "      <td>AMOLED</td>\n",
              "      <td>1.40</td>\n",
              "      <td>450 x 450</td>\n",
              "      <td>50</td>\n",
              "      <td>40</td>\n",
              "      <td>Yes</td>\n",
              "      <td>Yes</td>\n",
              "      <td>Yes</td>\n",
              "      <td>249.0</td>\n",
              "    </tr>\n",
              "    <tr>\n",
              "      <th>2</th>\n",
              "      <td>Garmin</td>\n",
              "      <td>Venu 2</td>\n",
              "      <td>Garmin OS</td>\n",
              "      <td>Bluetooth, Wi-Fi</td>\n",
              "      <td>AMOLED</td>\n",
              "      <td>1.30</td>\n",
              "      <td>416 x 416</td>\n",
              "      <td>50</td>\n",
              "      <td>11</td>\n",
              "      <td>Yes</td>\n",
              "      <td>Yes</td>\n",
              "      <td>No</td>\n",
              "      <td>399.0</td>\n",
              "    </tr>\n",
              "    <tr>\n",
              "      <th>3</th>\n",
              "      <td>Fitbit</td>\n",
              "      <td>Versa 3</td>\n",
              "      <td>Fitbit OS</td>\n",
              "      <td>Bluetooth, Wi-Fi</td>\n",
              "      <td>AMOLED</td>\n",
              "      <td>1.58</td>\n",
              "      <td>336 x 336</td>\n",
              "      <td>50</td>\n",
              "      <td>6</td>\n",
              "      <td>Yes</td>\n",
              "      <td>Yes</td>\n",
              "      <td>Yes</td>\n",
              "      <td>229.0</td>\n",
              "    </tr>\n",
              "    <tr>\n",
              "      <th>4</th>\n",
              "      <td>Fossil</td>\n",
              "      <td>Gen 6</td>\n",
              "      <td>Wear OS</td>\n",
              "      <td>Bluetooth, Wi-Fi</td>\n",
              "      <td>AMOLED</td>\n",
              "      <td>1.28</td>\n",
              "      <td>416 x 416</td>\n",
              "      <td>30</td>\n",
              "      <td>24</td>\n",
              "      <td>Yes</td>\n",
              "      <td>Yes</td>\n",
              "      <td>Yes</td>\n",
              "      <td>299.0</td>\n",
              "    </tr>\n",
              "  </tbody>\n",
              "</table>\n",
              "</div>\n",
              "      <button class=\"colab-df-convert\" onclick=\"convertToInteractive('df-467915d1-1af4-473a-82f7-4d0992a45c4b')\"\n",
              "              title=\"Convert this dataframe to an interactive table.\"\n",
              "              style=\"display:none;\">\n",
              "        \n",
              "  <svg xmlns=\"http://www.w3.org/2000/svg\" height=\"24px\"viewBox=\"0 0 24 24\"\n",
              "       width=\"24px\">\n",
              "    <path d=\"M0 0h24v24H0V0z\" fill=\"none\"/>\n",
              "    <path d=\"M18.56 5.44l.94 2.06.94-2.06 2.06-.94-2.06-.94-.94-2.06-.94 2.06-2.06.94zm-11 1L8.5 8.5l.94-2.06 2.06-.94-2.06-.94L8.5 2.5l-.94 2.06-2.06.94zm10 10l.94 2.06.94-2.06 2.06-.94-2.06-.94-.94-2.06-.94 2.06-2.06.94z\"/><path d=\"M17.41 7.96l-1.37-1.37c-.4-.4-.92-.59-1.43-.59-.52 0-1.04.2-1.43.59L10.3 9.45l-7.72 7.72c-.78.78-.78 2.05 0 2.83L4 21.41c.39.39.9.59 1.41.59.51 0 1.02-.2 1.41-.59l7.78-7.78 2.81-2.81c.8-.78.8-2.07 0-2.86zM5.41 20L4 18.59l7.72-7.72 1.47 1.35L5.41 20z\"/>\n",
              "  </svg>\n",
              "      </button>\n",
              "      \n",
              "  <style>\n",
              "    .colab-df-container {\n",
              "      display:flex;\n",
              "      flex-wrap:wrap;\n",
              "      gap: 12px;\n",
              "    }\n",
              "\n",
              "    .colab-df-convert {\n",
              "      background-color: #E8F0FE;\n",
              "      border: none;\n",
              "      border-radius: 50%;\n",
              "      cursor: pointer;\n",
              "      display: none;\n",
              "      fill: #1967D2;\n",
              "      height: 32px;\n",
              "      padding: 0 0 0 0;\n",
              "      width: 32px;\n",
              "    }\n",
              "\n",
              "    .colab-df-convert:hover {\n",
              "      background-color: #E2EBFA;\n",
              "      box-shadow: 0px 1px 2px rgba(60, 64, 67, 0.3), 0px 1px 3px 1px rgba(60, 64, 67, 0.15);\n",
              "      fill: #174EA6;\n",
              "    }\n",
              "\n",
              "    [theme=dark] .colab-df-convert {\n",
              "      background-color: #3B4455;\n",
              "      fill: #D2E3FC;\n",
              "    }\n",
              "\n",
              "    [theme=dark] .colab-df-convert:hover {\n",
              "      background-color: #434B5C;\n",
              "      box-shadow: 0px 1px 3px 1px rgba(0, 0, 0, 0.15);\n",
              "      filter: drop-shadow(0px 1px 2px rgba(0, 0, 0, 0.3));\n",
              "      fill: #FFFFFF;\n",
              "    }\n",
              "  </style>\n",
              "\n",
              "      <script>\n",
              "        const buttonEl =\n",
              "          document.querySelector('#df-467915d1-1af4-473a-82f7-4d0992a45c4b button.colab-df-convert');\n",
              "        buttonEl.style.display =\n",
              "          google.colab.kernel.accessAllowed ? 'block' : 'none';\n",
              "\n",
              "        async function convertToInteractive(key) {\n",
              "          const element = document.querySelector('#df-467915d1-1af4-473a-82f7-4d0992a45c4b');\n",
              "          const dataTable =\n",
              "            await google.colab.kernel.invokeFunction('convertToInteractive',\n",
              "                                                     [key], {});\n",
              "          if (!dataTable) return;\n",
              "\n",
              "          const docLinkHtml = 'Like what you see? Visit the ' +\n",
              "            '<a target=\"_blank\" href=https://colab.research.google.com/notebooks/data_table.ipynb>data table notebook</a>'\n",
              "            + ' to learn more about interactive tables.';\n",
              "          element.innerHTML = '';\n",
              "          dataTable['output_type'] = 'display_data';\n",
              "          await google.colab.output.renderOutput(dataTable, element);\n",
              "          const docLink = document.createElement('div');\n",
              "          docLink.innerHTML = docLinkHtml;\n",
              "          element.appendChild(docLink);\n",
              "        }\n",
              "      </script>\n",
              "    </div>\n",
              "  </div>\n",
              "  "
            ]
          },
          "metadata": {},
          "execution_count": 16
        }
      ],
      "source": [
        "df.head()"
      ]
    },
    {
      "cell_type": "code",
      "source": [
        "df.columns"
      ],
      "metadata": {
        "colab": {
          "base_uri": "https://localhost:8080/"
        },
        "id": "gQdGon-8zlv-",
        "outputId": "3ab93cd6-e68c-492b-aeb5-0a0d38364fa3"
      },
      "execution_count": 17,
      "outputs": [
        {
          "output_type": "execute_result",
          "data": {
            "text/plain": [
              "Index(['Brand', 'Model', 'Operating System', 'Connectivity', 'Display Type',\n",
              "       'Display Size (inches)', 'Resolution', 'Water Resistance (meters)',\n",
              "       'Battery Life (days)', 'Heart Rate Monitor', 'GPS', 'NFC', 'Price'],\n",
              "      dtype='object')"
            ]
          },
          "metadata": {},
          "execution_count": 17
        }
      ]
    },
    {
      "cell_type": "code",
      "execution_count": 18,
      "metadata": {
        "colab": {
          "base_uri": "https://localhost:8080/",
          "height": 615
        },
        "id": "BiRJWHoX3XJW",
        "outputId": "01dab125-d465-4e78-8499-6e61ecfe22df"
      },
      "outputs": [
        {
          "output_type": "execute_result",
          "data": {
            "text/plain": [
              "<Axes: >"
            ]
          },
          "metadata": {},
          "execution_count": 18
        },
        {
          "output_type": "display_data",
          "data": {
            "text/plain": [
              "<Figure size 640x480 with 1 Axes>"
            ],
            "image/png": "[encoded data removed]"
          },
          "metadata": {}
        }
      ],
      "source": [
        "df[\"Model\"].value_counts().plot(kind = \"bar\") # ploting model values counts, how each value repeted"
      ]
    },
    {
      "cell_type": "code",
      "execution_count": 19,
      "metadata": {
        "colab": {
          "base_uri": "https://localhost:8080/"
        },
        "id": "KWl83gdM-G4v",
        "outputId": "ed05a8e8-4065-4de2-e731-83b9fd7b8f15"
      },
      "outputs": [
        {
          "output_type": "execute_result",
          "data": {
            "text/plain": [
              "Brand                         42\n",
              "Model                        137\n",
              "Operating System              35\n",
              "Connectivity                   5\n",
              "Display Type                  27\n",
              "Display Size (inches)         32\n",
              "Resolution                    36\n",
              "Water Resistance (meters)      7\n",
              "Battery Life (days)           30\n",
              "Heart Rate Monitor             1\n",
              "GPS                            2\n",
              "NFC                            2\n",
              "Price                         50\n",
              "dtype: int64"
            ]
          },
          "metadata": {},
          "execution_count": 19
        }
      ],
      "source": [
        "df.nunique() # No of unique values in each column "
      ]
    },
    {
      "cell_type": "markdown",
      "source": [
        "Univariate analysis and filtering labels"
      ],
      "metadata": {
        "id": "1NkolDDUov42"
      }
    },
    {
      "cell_type": "code",
      "execution_count": 20,
      "metadata": {
        "colab": {
          "base_uri": "https://localhost:8080/"
        },
        "id": "lTwGhnmQ-Vim",
        "outputId": "9091f37d-51e1-4146-9e7c-f265b8c55205"
      },
      "outputs": [
        {
          "output_type": "execute_result",
          "data": {
            "text/plain": [
              "array(['watchOS', 'Wear OS', 'Garmin OS', 'Fitbit OS', 'HarmonyOS',\n",
              "       'ColorOS', 'Amazfit OS', nan, 'Withings OS', 'Polar OS',\n",
              "       'Tizen OS', 'Hybrid OS', 'Lite OS', 'Tizen', 'Suunto OS',\n",
              "       'Proprietary OS', 'Proprietary', 'LiteOS', 'Android Wear',\n",
              "       'MIUI for Watch', 'Custom OS', 'Fossil OS', 'MIUI', 'RTOS',\n",
              "       'MyKronoz OS', 'Nubia OS', 'Mi Wear OS', 'Zepp OS', 'Realme OS',\n",
              "       'Matrix OS', 'Android OS', 'Casio OS', 'Skagen OS', 'Timex OS',\n",
              "       'MIUI For Watch', 'Android'], dtype=object)"
            ]
          },
          "metadata": {},
          "execution_count": 20
        }
      ],
      "source": [
        "df['Operating System'].unique()"
      ]
    },
    {
      "cell_type": "code",
      "execution_count": 21,
      "metadata": {
        "id": "07SbFUg1IiFx"
      },
      "outputs": [],
      "source": [
        "def segment_os(os):\n",
        "    if pd.isnull(os):\n",
        "        return 'Unknown'\n",
        "    elif 'watchOS' in os:\n",
        "        return 'watchOS'\n",
        "    elif 'Wear OS' in os or 'Android Wear' in os:\n",
        "        return 'Wear OS'\n",
        "    elif 'Garmin' in os:\n",
        "        return 'Garmin OS'\n",
        "    elif 'Fitbit' in os:\n",
        "        return 'Fitbit OS'\n",
        "    elif 'Tizen' in os:\n",
        "        return 'Tizen OS'\n",
        "    elif 'Proprietary' in os:\n",
        "        return 'Proprietary OS'\n",
        "    else:\n",
        "        return 'Other'\n",
        "\n",
        "df['Operating System'] = df['Operating System'].apply(segment_os)"
      ]
    },
    {
      "cell_type": "code",
      "execution_count": 22,
      "metadata": {
        "colab": {
          "base_uri": "https://localhost:8080/",
          "height": 550
        },
        "id": "Xk92H5Fp8vt6",
        "outputId": "4bbe52fb-d7b4-4005-8117-05f115ebf13a"
      },
      "outputs": [
        {
          "output_type": "execute_result",
          "data": {
            "text/plain": [
              "<Axes: >"
            ]
          },
          "metadata": {},
          "execution_count": 22
        },
        {
          "output_type": "display_data",
          "data": {
            "text/plain": [
              "<Figure size 1000x500 with 1 Axes>"
            ],
            "image/png": "[encoded data removed]"
          },
          "metadata": {}
        }
      ],
      "source": [
        "plt.figure(figsize=(10,5))\n",
        "df['Operating System'].value_counts().plot(kind='bar')"
      ]
    },
    {
      "cell_type": "code",
      "execution_count": 23,
      "metadata": {
        "colab": {
          "base_uri": "https://localhost:8080/"
        },
        "id": "3xDk_K5J8y0V",
        "outputId": "3495e19b-f917-4bdf-8710-821fb114132a"
      },
      "outputs": [
        {
          "output_type": "execute_result",
          "data": {
            "text/plain": [
              "array(['Retina', 'AMOLED', 'IPS LCD', nan, 'TFT LCD',\n",
              "       'Memory-in-pixel (MIP)', 'Super AMOLED', 'LCD', 'Analog',\n",
              "       'Transflective', 'OLED', 'Gorilla Glass', 'MIP', 'P-OLED',\n",
              "       'transflective', 'PMOLED', 'TFT',\n",
              "       'Sunlight-visible, transflective memory-in-pixel (MIP)', 'E-Ink',\n",
              "       'E-ink', 'Sunlight-visible', 'Color Touch', 'IPS', 'Dual Layer',\n",
              "       'TFT-LCD', 'STN LCD', 'Monochrome', 'Memory LCD'], dtype=object)"
            ]
          },
          "metadata": {},
          "execution_count": 23
        }
      ],
      "source": [
        "df['Display Type'].unique()"
      ]
    },
    {
      "cell_type": "code",
      "execution_count": 23,
      "metadata": {
        "id": "SnSYDLUk9yMw"
      },
      "outputs": [],
      "source": []
    },
    {
      "cell_type": "code",
      "execution_count": 24,
      "metadata": {
        "id": "eUbwx8hs86Jw"
      },
      "outputs": [],
      "source": [
        "def segment_display_type(display_type):\n",
        "    if pd.isnull(display_type):\n",
        "        return 'Unknown'\n",
        "    elif 'PAMOLED' in display_type:\n",
        "        return 'AMOLED'\n",
        "    elif 'IPS LCD' in display_type or 'IPS' in display_type:\n",
        "        return 'IPS LCD'\n",
        "    elif 'TFT LCD' in display_type:\n",
        "        return 'LCD'\n",
        "    elif 'OLED' in display_type:\n",
        "        return 'OLED'\n",
        "    elif 'E-Ink' in display_type or 'E-ink' in display_type:\n",
        "        return 'E-Ink'\n",
        "    elif 'STN LCD' in display_type:\n",
        "        return 'STN LCD'\n",
        "    elif 'Monochrome' in display_type:\n",
        "        return 'Monochrome'\n",
        "    elif 'Memory LCD' in display_type:\n",
        "        return 'Memory LCD'\n",
        "    else:\n",
        "        return 'Other'\n",
        "\n",
        "df['Display Type'] = df['Display Type'].apply(segment_display_type)"
      ]
    },
    {
      "cell_type": "code",
      "execution_count": 25,
      "metadata": {
        "colab": {
          "base_uri": "https://localhost:8080/",
          "height": 539
        },
        "id": "raQY7iap8-f6",
        "outputId": "2005d8d5-efb9-474a-f115-2d67c754102e"
      },
      "outputs": [
        {
          "output_type": "execute_result",
          "data": {
            "text/plain": [
              "<Axes: >"
            ]
          },
          "metadata": {},
          "execution_count": 25
        },
        {
          "output_type": "display_data",
          "data": {
            "text/plain": [
              "<Figure size 1000x500 with 1 Axes>"
            ],
            "image/png": "[encoded data removed]"
          },
          "metadata": {}
        }
      ],
      "source": [
        "plt.figure(figsize=(10,5))\n",
        "df['Display Type'].value_counts().plot(kind='bar')"
      ]
    },
    {
      "cell_type": "code",
      "execution_count": 26,
      "metadata": {
        "colab": {
          "base_uri": "https://localhost:8080/",
          "height": 561
        },
        "id": "Msa3DpcRIu9p",
        "outputId": "e6d5e32b-2452-43de-be7a-41df2f90b729"
      },
      "outputs": [
        {
          "output_type": "execute_result",
          "data": {
            "text/plain": [
              "<Axes: >"
            ]
          },
          "metadata": {},
          "execution_count": 26
        },
        {
          "output_type": "display_data",
          "data": {
            "text/plain": [
              "<Figure size 1000x500 with 1 Axes>"
            ],
            "image/png": "[encoded data removed]"
          },
          "metadata": {}
        }
      ],
      "source": [
        "plt.figure(figsize=(10,5))\n",
        "df['Brand'].value_counts().plot(kind='bar')"
      ]
    },
    {
      "cell_type": "code",
      "execution_count": 27,
      "metadata": {
        "colab": {
          "base_uri": "https://localhost:8080/"
        },
        "id": "eawv8BoWBxDp",
        "outputId": "597426d4-ccf9-44d8-f25d-2eeb44d42866"
      },
      "outputs": [
        {
          "output_type": "execute_result",
          "data": {
            "text/plain": [
              "array(['Apple', 'Samsung', 'Garmin', 'Fitbit', 'Fossil', 'Huawei',\n",
              "       'TicWatch', 'Oppo', 'Amazfit', 'Skagen', 'Withings', 'Timex',\n",
              "       'Suunto', 'Mobvoi', 'Polar', 'Ticwatch', 'Xiaomi', 'Honor', 'LG',\n",
              "       nan, 'Casio', 'OnePlus', 'Misfit', 'Moto', 'MyKronoz', 'Nubia',\n",
              "       'Sony', 'Zepp', 'Realme', 'Matrix', 'Kate Spade', 'Diesel',\n",
              "       'Michael Kors', 'Zeblaze', 'Kospet', 'Lemfo', 'TAG Heuer',\n",
              "       'Montblanc', 'Asus', 'Emporio Armani', 'Polaroid', 'Motorola',\n",
              "       'Nokia'], dtype=object)"
            ]
          },
          "metadata": {},
          "execution_count": 27
        }
      ],
      "source": [
        "df['Brand'].unique()"
      ]
    },
    {
      "cell_type": "code",
      "execution_count": 28,
      "metadata": {
        "id": "A90AxVZZBymm"
      },
      "outputs": [],
      "source": [
        "def segment_brand(brand):\n",
        "    if pd.isnull(brand):\n",
        "        return 'Unknown'\n",
        "    elif 'Garmin' in brand:\n",
        "        return 'Garmin' \n",
        "    elif 'Mobvoi' in brand:\n",
        "        return 'Mobvoi'      \n",
        "    elif 'Apple' in brand:\n",
        "        return 'Apple'\n",
        "    elif 'Samsung' in brand:\n",
        "        return 'Samsung'\n",
        "    elif 'Oppo' in brand:\n",
        "        return 'Oppo'\n",
        "    elif 'Huawei' in brand:\n",
        "        return 'Huawei'\n",
        "    elif 'Xiaomi' in brand:\n",
        "        return 'Xiaomi'\n",
        "    elif 'LG' in brand:\n",
        "        return 'LG'\n",
        "    elif 'Casio' in brand:\n",
        "        return 'Casio'\n",
        "    elif 'Moto' in brand or 'Motorola' in brand:\n",
        "        return 'Motorola'\n",
        "    elif 'Asus' in brand:\n",
        "        return 'Asus'\n",
        "    elif 'Sony' in brand:\n",
        "        return 'Sony'\n",
        "    elif 'Nokia' in brand:\n",
        "        return 'Nokia'\n",
        "    else:\n",
        "        return 'Other'\n",
        "\n",
        "df['Brand'] = df['Brand'].apply(segment_brand)"
      ]
    },
    {
      "cell_type": "code",
      "execution_count": 29,
      "metadata": {
        "colab": {
          "base_uri": "https://localhost:8080/",
          "height": 514
        },
        "id": "jJfw4ElWB_Ed",
        "outputId": "c8e49766-d75f-4df9-ef27-9e3f1ba24854"
      },
      "outputs": [
        {
          "output_type": "execute_result",
          "data": {
            "text/plain": [
              "<Axes: >"
            ]
          },
          "metadata": {},
          "execution_count": 29
        },
        {
          "output_type": "display_data",
          "data": {
            "text/plain": [
              "<Figure size 1000x500 with 1 Axes>"
            ],
            "image/png": "[encoded data removed]"
          },
          "metadata": {}
        }
      ],
      "source": [
        "plt.figure(figsize=(10,5))\n",
        "df['Brand'].value_counts().plot(kind='bar')"
      ]
    },
    {
      "cell_type": "code",
      "execution_count": 30,
      "metadata": {
        "colab": {
          "base_uri": "https://localhost:8080/"
        },
        "id": "8hamT9_HJjKf",
        "outputId": "74ffb7e9-7856-4fca-a985-729e53f0e442"
      },
      "outputs": [
        {
          "output_type": "execute_result",
          "data": {
            "text/plain": [
              "(379, 11)"
            ]
          },
          "metadata": {},
          "execution_count": 30
        }
      ],
      "source": [
        "df.drop(columns=['Heart Rate Monitor', \"Model\"],axis=1, inplace=True) # dropping heart Rate monitor because it has only one unique value and the model had a lot of labels\n",
        "df. shape"
      ]
    },
    {
      "cell_type": "code",
      "execution_count": 31,
      "metadata": {
        "colab": {
          "base_uri": "https://localhost:8080/"
        },
        "id": "WvIRjZwrbhhq",
        "outputId": "60b4b673-711f-418f-db4b-7263a1fe05f0"
      },
      "outputs": [
        {
          "output_type": "execute_result",
          "data": {
            "text/plain": [
              "Brand                        15\n",
              "Operating System              8\n",
              "Connectivity                  5\n",
              "Display Type                  9\n",
              "Display Size (inches)        32\n",
              "Resolution                   36\n",
              "Water Resistance (meters)     7\n",
              "Battery Life (days)          30\n",
              "GPS                           2\n",
              "NFC                           2\n",
              "Price                        50\n",
              "dtype: int64"
            ]
          },
          "metadata": {},
          "execution_count": 31
        }
      ],
      "source": [
        "df.nunique() #Checking canver labels unique values"
      ]
    },
    {
      "cell_type": "code",
      "execution_count": 32,
      "metadata": {
        "colab": {
          "base_uri": "https://localhost:8080/",
          "height": 250
        },
        "id": "1QONJ1j_JuqN",
        "outputId": "ab900b51-4629-46f2-c527-8239382f7a74"
      },
      "outputs": [
        {
          "output_type": "execute_result",
          "data": {
            "text/plain": [
              "     Brand Operating System                Connectivity Display Type  \\\n",
              "0    Apple          watchOS  Bluetooth, Wi-Fi, Cellular        Other   \n",
              "1  Samsung          Wear OS  Bluetooth, Wi-Fi, Cellular         OLED   \n",
              "2   Garmin        Garmin OS            Bluetooth, Wi-Fi         OLED   \n",
              "3    Other        Fitbit OS            Bluetooth, Wi-Fi         OLED   \n",
              "4    Other          Wear OS            Bluetooth, Wi-Fi         OLED   \n",
              "\n",
              "   Display Size (inches) Resolution Water Resistance (meters)  \\\n",
              "0                   1.90  396 x 484                        50   \n",
              "1                   1.40  450 x 450                        50   \n",
              "2                   1.30  416 x 416                        50   \n",
              "3                   1.58  336 x 336                        50   \n",
              "4                   1.28  416 x 416                        30   \n",
              "\n",
              "  Battery Life (days)  GPS  NFC  Price  \n",
              "0                  18  Yes  Yes  399.0  \n",
              "1                  40  Yes  Yes  249.0  \n",
              "2                  11  Yes   No  399.0  \n",
              "3                   6  Yes  Yes  229.0  \n",
              "4                  24  Yes  Yes  299.0  "
            ],
            "text/html": [
              "\n",
              "  <div id=\"df-b08e10b8-3ca8-40c6-b20b-42b163b7c554\">\n",
              "    <div class=\"colab-df-container\">\n",
              "      <div>\n",
              "<style scoped>\n",
              "    .dataframe tbody tr th:only-of-type {\n",
              "        vertical-align: middle;\n",
              "    }\n",
              "\n",
              "    .dataframe tbody tr th {\n",
              "        vertical-align: top;\n",
              "    }\n",
              "\n",
              "    .dataframe thead th {\n",
              "        text-align: right;\n",
              "    }\n",
              "</style>\n",
              "<table border=\"1\" class=\"dataframe\">\n",
              "  <thead>\n",
              "    <tr style=\"text-align: right;\">\n",
              "      <th></th>\n",
              "      <th>Brand</th>\n",
              "      <th>Operating System</th>\n",
              "      <th>Connectivity</th>\n",
              "      <th>Display Type</th>\n",
              "      <th>Display Size (inches)</th>\n",
              "      <th>Resolution</th>\n",
              "      <th>Water Resistance (meters)</th>\n",
              "      <th>Battery Life (days)</th>\n",
              "      <th>GPS</th>\n",
              "      <th>NFC</th>\n",
              "      <th>Price</th>\n",
              "    </tr>\n",
              "  </thead>\n",
              "  <tbody>\n",
              "    <tr>\n",
              "      <th>0</th>\n",
              "      <td>Apple</td>\n",
              "      <td>watchOS</td>\n",
              "      <td>Bluetooth, Wi-Fi, Cellular</td>\n",
              "      <td>Other</td>\n",
              "      <td>1.90</td>\n",
              "      <td>396 x 484</td>\n",
              "      <td>50</td>\n",
              "      <td>18</td>\n",
              "      <td>Yes</td>\n",
              "      <td>Yes</td>\n",
              "      <td>399.0</td>\n",
              "    </tr>\n",
              "    <tr>\n",
              "      <th>1</th>\n",
              "      <td>Samsung</td>\n",
              "      <td>Wear OS</td>\n",
              "      <td>Bluetooth, Wi-Fi, Cellular</td>\n",
              "      <td>OLED</td>\n",
              "      <td>1.40</td>\n",
              "      <td>450 x 450</td>\n",
              "      <td>50</td>\n",
              "      <td>40</td>\n",
              "      <td>Yes</td>\n",
              "      <td>Yes</td>\n",
              "      <td>249.0</td>\n",
              "    </tr>\n",
              "    <tr>\n",
              "      <th>2</th>\n",
              "      <td>Garmin</td>\n",
              "      <td>Garmin OS</td>\n",
              "      <td>Bluetooth, Wi-Fi</td>\n",
              "      <td>OLED</td>\n",
              "      <td>1.30</td>\n",
              "      <td>416 x 416</td>\n",
              "      <td>50</td>\n",
              "      <td>11</td>\n",
              "      <td>Yes</td>\n",
              "      <td>No</td>\n",
              "      <td>399.0</td>\n",
              "    </tr>\n",
              "    <tr>\n",
              "      <th>3</th>\n",
              "      <td>Other</td>\n",
              "      <td>Fitbit OS</td>\n",
              "      <td>Bluetooth, Wi-Fi</td>\n",
              "      <td>OLED</td>\n",
              "      <td>1.58</td>\n",
              "      <td>336 x 336</td>\n",
              "      <td>50</td>\n",
              "      <td>6</td>\n",
              "      <td>Yes</td>\n",
              "      <td>Yes</td>\n",
              "      <td>229.0</td>\n",
              "    </tr>\n",
              "    <tr>\n",
              "      <th>4</th>\n",
              "      <td>Other</td>\n",
              "      <td>Wear OS</td>\n",
              "      <td>Bluetooth, Wi-Fi</td>\n",
              "      <td>OLED</td>\n",
              "      <td>1.28</td>\n",
              "      <td>416 x 416</td>\n",
              "      <td>30</td>\n",
              "      <td>24</td>\n",
              "      <td>Yes</td>\n",
              "      <td>Yes</td>\n",
              "      <td>299.0</td>\n",
              "    </tr>\n",
              "  </tbody>\n",
              "</table>\n",
              "</div>\n",
              "      <button class=\"colab-df-convert\" onclick=\"convertToInteractive('df-b08e10b8-3ca8-40c6-b20b-42b163b7c554')\"\n",
              "              title=\"Convert this dataframe to an interactive table.\"\n",
              "              style=\"display:none;\">\n",
              "        \n",
              "  <svg xmlns=\"http://www.w3.org/2000/svg\" height=\"24px\"viewBox=\"0 0 24 24\"\n",
              "       width=\"24px\">\n",
              "    <path d=\"M0 0h24v24H0V0z\" fill=\"none\"/>\n",
              "    <path d=\"M18.56 5.44l.94 2.06.94-2.06 2.06-.94-2.06-.94-.94-2.06-.94 2.06-2.06.94zm-11 1L8.5 8.5l.94-2.06 2.06-.94-2.06-.94L8.5 2.5l-.94 2.06-2.06.94zm10 10l.94 2.06.94-2.06 2.06-.94-2.06-.94-.94-2.06-.94 2.06-2.06.94z\"/><path d=\"M17.41 7.96l-1.37-1.37c-.4-.4-.92-.59-1.43-.59-.52 0-1.04.2-1.43.59L10.3 9.45l-7.72 7.72c-.78.78-.78 2.05 0 2.83L4 21.41c.39.39.9.59 1.41.59.51 0 1.02-.2 1.41-.59l7.78-7.78 2.81-2.81c.8-.78.8-2.07 0-2.86zM5.41 20L4 18.59l7.72-7.72 1.47 1.35L5.41 20z\"/>\n",
              "  </svg>\n",
              "      </button>\n",
              "      \n",
              "  <style>\n",
              "    .colab-df-container {\n",
              "      display:flex;\n",
              "      flex-wrap:wrap;\n",
              "      gap: 12px;\n",
              "    }\n",
              "\n",
              "    .colab-df-convert {\n",
              "      background-color: #E8F0FE;\n",
              "      border: none;\n",
              "      border-radius: 50%;\n",
              "      cursor: pointer;\n",
              "      display: none;\n",
              "      fill: #1967D2;\n",
              "      height: 32px;\n",
              "      padding: 0 0 0 0;\n",
              "      width: 32px;\n",
              "    }\n",
              "\n",
              "    .colab-df-convert:hover {\n",
              "      background-color: #E2EBFA;\n",
              "      box-shadow: 0px 1px 2px rgba(60, 64, 67, 0.3), 0px 1px 3px 1px rgba(60, 64, 67, 0.15);\n",
              "      fill: #174EA6;\n",
              "    }\n",
              "\n",
              "    [theme=dark] .colab-df-convert {\n",
              "      background-color: #3B4455;\n",
              "      fill: #D2E3FC;\n",
              "    }\n",
              "\n",
              "    [theme=dark] .colab-df-convert:hover {\n",
              "      background-color: #434B5C;\n",
              "      box-shadow: 0px 1px 3px 1px rgba(0, 0, 0, 0.15);\n",
              "      filter: drop-shadow(0px 1px 2px rgba(0, 0, 0, 0.3));\n",
              "      fill: #FFFFFF;\n",
              "    }\n",
              "  </style>\n",
              "\n",
              "      <script>\n",
              "        const buttonEl =\n",
              "          document.querySelector('#df-b08e10b8-3ca8-40c6-b20b-42b163b7c554 button.colab-df-convert');\n",
              "        buttonEl.style.display =\n",
              "          google.colab.kernel.accessAllowed ? 'block' : 'none';\n",
              "\n",
              "        async function convertToInteractive(key) {\n",
              "          const element = document.querySelector('#df-b08e10b8-3ca8-40c6-b20b-42b163b7c554');\n",
              "          const dataTable =\n",
              "            await google.colab.kernel.invokeFunction('convertToInteractive',\n",
              "                                                     [key], {});\n",
              "          if (!dataTable) return;\n",
              "\n",
              "          const docLinkHtml = 'Like what you see? Visit the ' +\n",
              "            '<a target=\"_blank\" href=https://colab.research.google.com/notebooks/data_table.ipynb>data table notebook</a>'\n",
              "            + ' to learn more about interactive tables.';\n",
              "          element.innerHTML = '';\n",
              "          dataTable['output_type'] = 'display_data';\n",
              "          await google.colab.output.renderOutput(dataTable, element);\n",
              "          const docLink = document.createElement('div');\n",
              "          docLink.innerHTML = docLinkHtml;\n",
              "          element.appendChild(docLink);\n",
              "        }\n",
              "      </script>\n",
              "    </div>\n",
              "  </div>\n",
              "  "
            ]
          },
          "metadata": {},
          "execution_count": 32
        }
      ],
      "source": [
        "df.head()"
      ]
    },
    {
      "cell_type": "code",
      "execution_count": 33,
      "metadata": {
        "colab": {
          "base_uri": "https://localhost:8080/"
        },
        "id": "zfwBHduzlR5y",
        "outputId": "3f583365-0198-4a4b-e607-b9616888a20e"
      },
      "outputs": [
        {
          "output_type": "execute_result",
          "data": {
            "text/plain": [
              "Brand                        0\n",
              "Operating System             0\n",
              "Connectivity                 1\n",
              "Display Type                 0\n",
              "Display Size (inches)        3\n",
              "Resolution                   4\n",
              "Water Resistance (meters)    1\n",
              "Battery Life (days)          1\n",
              "GPS                          1\n",
              "NFC                          1\n",
              "Price                        1\n",
              "dtype: int64"
            ]
          },
          "metadata": {},
          "execution_count": 33
        }
      ],
      "source": [
        "df.isnull().sum()"
      ]
    },
    {
      "cell_type": "code",
      "execution_count": 34,
      "metadata": {
        "colab": {
          "base_uri": "https://localhost:8080/"
        },
        "id": "oNFZ2RtdzvEQ",
        "outputId": "ea91330d-12cc-4ebf-b49e-3a08b15b45f4"
      },
      "outputs": [
        {
          "output_type": "stream",
          "name": "stdout",
          "text": [
            "<class 'pandas.core.frame.DataFrame'>\n",
            "RangeIndex: 379 entries, 0 to 378\n",
            "Data columns (total 11 columns):\n",
            " #   Column                     Non-Null Count  Dtype  \n",
            "---  ------                     --------------  -----  \n",
            " 0   Brand                      379 non-null    object \n",
            " 1   Operating System           379 non-null    object \n",
            " 2   Connectivity               378 non-null    object \n",
            " 3   Display Type               379 non-null    object \n",
            " 4   Display Size (inches)      376 non-null    float64\n",
            " 5   Resolution                 375 non-null    object \n",
            " 6   Water Resistance (meters)  378 non-null    object \n",
            " 7   Battery Life (days)        378 non-null    object \n",
            " 8   GPS                        378 non-null    object \n",
            " 9   NFC                        378 non-null    object \n",
            " 10  Price                      378 non-null    float64\n",
            "dtypes: float64(2), object(9)\n",
            "memory usage: 32.7+ KB\n"
          ]
        }
      ],
      "source": [
        "df.info()"
      ]
    },
    {
      "cell_type": "code",
      "execution_count": 35,
      "metadata": {
        "id": "qW8FogdhdeQl"
      },
      "outputs": [],
      "source": [
        "num_cols = [\"Display Size (inches)\",\"Water Resistance (meters)\",\"Battery Life (days)\",\"Price\"] # Extracting only numerical columns to separate list "
      ]
    },
    {
      "cell_type": "code",
      "execution_count": 36,
      "metadata": {
        "colab": {
          "base_uri": "https://localhost:8080/"
        },
        "id": "dDw6y9uWzuiw",
        "outputId": "b30d124e-75da-4ff4-9949-307465389655"
      },
      "outputs": [
        {
          "output_type": "stream",
          "name": "stdout",
          "text": [
            "## Removing text values from the numerical columns and filling with mode of columns \n",
            "     Display Size (inches)  Water Resistance (meters)  Battery Life (days)  \\\n",
            "0                     1.90                       50.0                 18.0   \n",
            "1                     1.40                       50.0                 40.0   \n",
            "2                     1.30                       50.0                 11.0   \n",
            "3                     1.58                       50.0                  6.0   \n",
            "4                     1.28                       30.0                 24.0   \n",
            "..                     ...                        ...                  ...   \n",
            "374                   1.38                       50.0                 30.0   \n",
            "375                   1.39                       50.0                 15.0   \n",
            "376                   1.39                       50.0                 25.0   \n",
            "377                   1.64                       50.0                 14.0   \n",
            "378                   1.40                       50.0                 72.0   \n",
            "\n",
            "     Price  \n",
            "0    399.0  \n",
            "1    249.0  \n",
            "2    399.0  \n",
            "3    229.0  \n",
            "4    299.0  \n",
            "..     ...  \n",
            "374  279.0  \n",
            "375  349.0  \n",
            "376  249.0  \n",
            "377  159.0  \n",
            "378  299.0  \n",
            "\n",
            "[379 rows x 4 columns]\n",
            "Display Size (inches)        0\n",
            "Water Resistance (meters)    0\n",
            "Battery Life (days)          0\n",
            "Price                        0\n",
            "dtype: int64\n",
            "Display Size (inches)        float64\n",
            "Water Resistance (meters)    float64\n",
            "Battery Life (days)          float64\n",
            "Price                        float64\n",
            "dtype: object\n"
          ]
        }
      ],
      "source": [
        "print(\"## Removing text values from the numerical columns and filling with mode of columns \")\n",
        "df[num_cols] = df[num_cols].apply(pd.to_numeric, errors='coerce')\n",
        "df = df.apply(lambda x: x.fillna(x.value_counts().index[0]))\n",
        "# ALl Df\n",
        "print(df[num_cols])\n",
        "print(df[num_cols].isnull().sum())\n",
        "print(df[num_cols].dtypes)"
      ]
    },
    {
      "cell_type": "code",
      "source": [
        "print(\"## Converting Resolution (no of row pixels X no of column of pixels) format to total num of pixels\")\n",
        "df[\"Pixels\"] = df['Resolution'].str.split(\"x\").str.get(0).astype(int)*df['Resolution'].str.split(\"x\").str.get(1).astype(int)\n",
        "df.drop(\"Resolution\",axis=1,inplace=True)"
      ],
      "metadata": {
        "id": "LgOBM3Xic1Q_",
        "colab": {
          "base_uri": "https://localhost:8080/"
        },
        "outputId": "f45c9435-f2a3-4048-bf04-7f538f0f5faa"
      },
      "execution_count": 37,
      "outputs": [
        {
          "output_type": "stream",
          "name": "stdout",
          "text": [
            "## Converting Resolution (no of row pixels X no of column of pixels) format to total num of pixels\n"
          ]
        }
      ]
    },
    {
      "cell_type": "code",
      "execution_count": 38,
      "metadata": {
        "colab": {
          "base_uri": "https://localhost:8080/"
        },
        "id": "RGG6eTBoq2M1",
        "outputId": "f63dcc27-d8c4-40b4-a3e9-f4d12b9c71fc"
      },
      "outputs": [
        {
          "output_type": "stream",
          "name": "stdout",
          "text": [
            "<class 'pandas.core.frame.DataFrame'>\n",
            "RangeIndex: 379 entries, 0 to 378\n",
            "Data columns (total 11 columns):\n",
            " #   Column                     Non-Null Count  Dtype  \n",
            "---  ------                     --------------  -----  \n",
            " 0   Brand                      379 non-null    object \n",
            " 1   Operating System           379 non-null    object \n",
            " 2   Connectivity               379 non-null    object \n",
            " 3   Display Type               379 non-null    object \n",
            " 4   Display Size (inches)      379 non-null    float64\n",
            " 5   Water Resistance (meters)  379 non-null    float64\n",
            " 6   Battery Life (days)        379 non-null    float64\n",
            " 7   GPS                        379 non-null    object \n",
            " 8   NFC                        379 non-null    object \n",
            " 9   Price                      379 non-null    float64\n",
            " 10  Pixels                     379 non-null    int64  \n",
            "dtypes: float64(4), int64(1), object(6)\n",
            "memory usage: 32.7+ KB\n"
          ]
        }
      ],
      "source": [
        "df.info()"
      ]
    },
    {
      "cell_type": "code",
      "execution_count": 39,
      "metadata": {
        "id": "m30jDUMsljrA"
      },
      "outputs": [],
      "source": [
        "df[num_cols[1:]] = df[num_cols[1:]].astype(int) # converting all num columns to int except Display (inches) because it has float values"
      ]
    },
    {
      "cell_type": "code",
      "execution_count": 40,
      "metadata": {
        "colab": {
          "base_uri": "https://localhost:8080/",
          "height": 423
        },
        "id": "ZlIEW3U-5FzM",
        "outputId": "7b3ad81a-15ec-4ee1-a63b-4e46e8291d8a"
      },
      "outputs": [
        {
          "output_type": "execute_result",
          "data": {
            "text/plain": [
              "     Water Resistance (meters)  Battery Life (days)  Price\n",
              "0                           50                   18    399\n",
              "1                           50                   40    249\n",
              "2                           50                   11    399\n",
              "3                           50                    6    229\n",
              "4                           30                   24    299\n",
              "..                         ...                  ...    ...\n",
              "374                         50                   30    279\n",
              "375                         50                   15    349\n",
              "376                         50                   25    249\n",
              "377                         50                   14    159\n",
              "378                         50                   72    299\n",
              "\n",
              "[379 rows x 3 columns]"
            ],
            "text/html": [
              "\n",
              "  <div id=\"df-a2d46e57-d688-45aa-adaa-bf89cc500abf\">\n",
              "    <div class=\"colab-df-container\">\n",
              "      <div>\n",
              "<style scoped>\n",
              "    .dataframe tbody tr th:only-of-type {\n",
              "        vertical-align: middle;\n",
              "    }\n",
              "\n",
              "    .dataframe tbody tr th {\n",
              "        vertical-align: top;\n",
              "    }\n",
              "\n",
              "    .dataframe thead th {\n",
              "        text-align: right;\n",
              "    }\n",
              "</style>\n",
              "<table border=\"1\" class=\"dataframe\">\n",
              "  <thead>\n",
              "    <tr style=\"text-align: right;\">\n",
              "      <th></th>\n",
              "      <th>Water Resistance (meters)</th>\n",
              "      <th>Battery Life (days)</th>\n",
              "      <th>Price</th>\n",
              "    </tr>\n",
              "  </thead>\n",
              "  <tbody>\n",
              "    <tr>\n",
              "      <th>0</th>\n",
              "      <td>50</td>\n",
              "      <td>18</td>\n",
              "      <td>399</td>\n",
              "    </tr>\n",
              "    <tr>\n",
              "      <th>1</th>\n",
              "      <td>50</td>\n",
              "      <td>40</td>\n",
              "      <td>249</td>\n",
              "    </tr>\n",
              "    <tr>\n",
              "      <th>2</th>\n",
              "      <td>50</td>\n",
              "      <td>11</td>\n",
              "      <td>399</td>\n",
              "    </tr>\n",
              "    <tr>\n",
              "      <th>3</th>\n",
              "      <td>50</td>\n",
              "      <td>6</td>\n",
              "      <td>229</td>\n",
              "    </tr>\n",
              "    <tr>\n",
              "      <th>4</th>\n",
              "      <td>30</td>\n",
              "      <td>24</td>\n",
              "      <td>299</td>\n",
              "    </tr>\n",
              "    <tr>\n",
              "      <th>...</th>\n",
              "      <td>...</td>\n",
              "      <td>...</td>\n",
              "      <td>...</td>\n",
              "    </tr>\n",
              "    <tr>\n",
              "      <th>374</th>\n",
              "      <td>50</td>\n",
              "      <td>30</td>\n",
              "      <td>279</td>\n",
              "    </tr>\n",
              "    <tr>\n",
              "      <th>375</th>\n",
              "      <td>50</td>\n",
              "      <td>15</td>\n",
              "      <td>349</td>\n",
              "    </tr>\n",
              "    <tr>\n",
              "      <th>376</th>\n",
              "      <td>50</td>\n",
              "      <td>25</td>\n",
              "      <td>249</td>\n",
              "    </tr>\n",
              "    <tr>\n",
              "      <th>377</th>\n",
              "      <td>50</td>\n",
              "      <td>14</td>\n",
              "      <td>159</td>\n",
              "    </tr>\n",
              "    <tr>\n",
              "      <th>378</th>\n",
              "      <td>50</td>\n",
              "      <td>72</td>\n",
              "      <td>299</td>\n",
              "    </tr>\n",
              "  </tbody>\n",
              "</table>\n",
              "<p>379 rows × 3 columns</p>\n",
              "</div>\n",
              "      <button class=\"colab-df-convert\" onclick=\"convertToInteractive('df-a2d46e57-d688-45aa-adaa-bf89cc500abf')\"\n",
              "              title=\"Convert this dataframe to an interactive table.\"\n",
              "              style=\"display:none;\">\n",
              "        \n",
              "  <svg xmlns=\"http://www.w3.org/2000/svg\" height=\"24px\"viewBox=\"0 0 24 24\"\n",
              "       width=\"24px\">\n",
              "    <path d=\"M0 0h24v24H0V0z\" fill=\"none\"/>\n",
              "    <path d=\"M18.56 5.44l.94 2.06.94-2.06 2.06-.94-2.06-.94-.94-2.06-.94 2.06-2.06.94zm-11 1L8.5 8.5l.94-2.06 2.06-.94-2.06-.94L8.5 2.5l-.94 2.06-2.06.94zm10 10l.94 2.06.94-2.06 2.06-.94-2.06-.94-.94-2.06-.94 2.06-2.06.94z\"/><path d=\"M17.41 7.96l-1.37-1.37c-.4-.4-.92-.59-1.43-.59-.52 0-1.04.2-1.43.59L10.3 9.45l-7.72 7.72c-.78.78-.78 2.05 0 2.83L4 21.41c.39.39.9.59 1.41.59.51 0 1.02-.2 1.41-.59l7.78-7.78 2.81-2.81c.8-.78.8-2.07 0-2.86zM5.41 20L4 18.59l7.72-7.72 1.47 1.35L5.41 20z\"/>\n",
              "  </svg>\n",
              "      </button>\n",
              "      \n",
              "  <style>\n",
              "    .colab-df-container {\n",
              "      display:flex;\n",
              "      flex-wrap:wrap;\n",
              "      gap: 12px;\n",
              "    }\n",
              "\n",
              "    .colab-df-convert {\n",
              "      background-color: #E8F0FE;\n",
              "      border: none;\n",
              "      border-radius: 50%;\n",
              "      cursor: pointer;\n",
              "      display: none;\n",
              "      fill: #1967D2;\n",
              "      height: 32px;\n",
              "      padding: 0 0 0 0;\n",
              "      width: 32px;\n",
              "    }\n",
              "\n",
              "    .colab-df-convert:hover {\n",
              "      background-color: #E2EBFA;\n",
              "      box-shadow: 0px 1px 2px rgba(60, 64, 67, 0.3), 0px 1px 3px 1px rgba(60, 64, 67, 0.15);\n",
              "      fill: #174EA6;\n",
              "    }\n",
              "\n",
              "    [theme=dark] .colab-df-convert {\n",
              "      background-color: #3B4455;\n",
              "      fill: #D2E3FC;\n",
              "    }\n",
              "\n",
              "    [theme=dark] .colab-df-convert:hover {\n",
              "      background-color: #434B5C;\n",
              "      box-shadow: 0px 1px 3px 1px rgba(0, 0, 0, 0.15);\n",
              "      filter: drop-shadow(0px 1px 2px rgba(0, 0, 0, 0.3));\n",
              "      fill: #FFFFFF;\n",
              "    }\n",
              "  </style>\n",
              "\n",
              "      <script>\n",
              "        const buttonEl =\n",
              "          document.querySelector('#df-a2d46e57-d688-45aa-adaa-bf89cc500abf button.colab-df-convert');\n",
              "        buttonEl.style.display =\n",
              "          google.colab.kernel.accessAllowed ? 'block' : 'none';\n",
              "\n",
              "        async function convertToInteractive(key) {\n",
              "          const element = document.querySelector('#df-a2d46e57-d688-45aa-adaa-bf89cc500abf');\n",
              "          const dataTable =\n",
              "            await google.colab.kernel.invokeFunction('convertToInteractive',\n",
              "                                                     [key], {});\n",
              "          if (!dataTable) return;\n",
              "\n",
              "          const docLinkHtml = 'Like what you see? Visit the ' +\n",
              "            '<a target=\"_blank\" href=https://colab.research.google.com/notebooks/data_table.ipynb>data table notebook</a>'\n",
              "            + ' to learn more about interactive tables.';\n",
              "          element.innerHTML = '';\n",
              "          dataTable['output_type'] = 'display_data';\n",
              "          await google.colab.output.renderOutput(dataTable, element);\n",
              "          const docLink = document.createElement('div');\n",
              "          docLink.innerHTML = docLinkHtml;\n",
              "          element.appendChild(docLink);\n",
              "        }\n",
              "      </script>\n",
              "    </div>\n",
              "  </div>\n",
              "  "
            ]
          },
          "metadata": {},
          "execution_count": 40
        }
      ],
      "source": [
        "df[num_cols[1:]]"
      ]
    },
    {
      "cell_type": "code",
      "execution_count": 41,
      "metadata": {
        "colab": {
          "base_uri": "https://localhost:8080/",
          "height": 206
        },
        "id": "ImWzxVK228Y0",
        "outputId": "0ec1907c-7a9e-450f-e2ae-ca266af3d3a1"
      },
      "outputs": [
        {
          "output_type": "execute_result",
          "data": {
            "text/plain": [
              "     Brand Operating System                Connectivity Display Type  \\\n",
              "0    Apple          watchOS  Bluetooth, Wi-Fi, Cellular        Other   \n",
              "1  Samsung          Wear OS  Bluetooth, Wi-Fi, Cellular         OLED   \n",
              "2   Garmin        Garmin OS            Bluetooth, Wi-Fi         OLED   \n",
              "3    Other        Fitbit OS            Bluetooth, Wi-Fi         OLED   \n",
              "4    Other          Wear OS            Bluetooth, Wi-Fi         OLED   \n",
              "\n",
              "   Display Size (inches)  Water Resistance (meters)  Battery Life (days)  GPS  \\\n",
              "0                   1.90                         50                   18  Yes   \n",
              "1                   1.40                         50                   40  Yes   \n",
              "2                   1.30                         50                   11  Yes   \n",
              "3                   1.58                         50                    6  Yes   \n",
              "4                   1.28                         30                   24  Yes   \n",
              "\n",
              "   NFC  Price  Pixels  \n",
              "0  Yes    399  191664  \n",
              "1  Yes    249  202500  \n",
              "2   No    399  173056  \n",
              "3  Yes    229  112896  \n",
              "4  Yes    299  173056  "
            ],
            "text/html": [
              "\n",
              "  <div id=\"df-03cd0555-791b-4bb2-96ee-4ab60045d3c6\">\n",
              "    <div class=\"colab-df-container\">\n",
              "      <div>\n",
              "<style scoped>\n",
              "    .dataframe tbody tr th:only-of-type {\n",
              "        vertical-align: middle;\n",
              "    }\n",
              "\n",
              "    .dataframe tbody tr th {\n",
              "        vertical-align: top;\n",
              "    }\n",
              "\n",
              "    .dataframe thead th {\n",
              "        text-align: right;\n",
              "    }\n",
              "</style>\n",
              "<table border=\"1\" class=\"dataframe\">\n",
              "  <thead>\n",
              "    <tr style=\"text-align: right;\">\n",
              "      <th></th>\n",
              "      <th>Brand</th>\n",
              "      <th>Operating System</th>\n",
              "      <th>Connectivity</th>\n",
              "      <th>Display Type</th>\n",
              "      <th>Display Size (inches)</th>\n",
              "      <th>Water Resistance (meters)</th>\n",
              "      <th>Battery Life (days)</th>\n",
              "      <th>GPS</th>\n",
              "      <th>NFC</th>\n",
              "      <th>Price</th>\n",
              "      <th>Pixels</th>\n",
              "    </tr>\n",
              "  </thead>\n",
              "  <tbody>\n",
              "    <tr>\n",
              "      <th>0</th>\n",
              "      <td>Apple</td>\n",
              "      <td>watchOS</td>\n",
              "      <td>Bluetooth, Wi-Fi, Cellular</td>\n",
              "      <td>Other</td>\n",
              "      <td>1.90</td>\n",
              "      <td>50</td>\n",
              "      <td>18</td>\n",
              "      <td>Yes</td>\n",
              "      <td>Yes</td>\n",
              "      <td>399</td>\n",
              "      <td>191664</td>\n",
              "    </tr>\n",
              "    <tr>\n",
              "      <th>1</th>\n",
              "      <td>Samsung</td>\n",
              "      <td>Wear OS</td>\n",
              "      <td>Bluetooth, Wi-Fi, Cellular</td>\n",
              "      <td>OLED</td>\n",
              "      <td>1.40</td>\n",
              "      <td>50</td>\n",
              "      <td>40</td>\n",
              "      <td>Yes</td>\n",
              "      <td>Yes</td>\n",
              "      <td>249</td>\n",
              "      <td>202500</td>\n",
              "    </tr>\n",
              "    <tr>\n",
              "      <th>2</th>\n",
              "      <td>Garmin</td>\n",
              "      <td>Garmin OS</td>\n",
              "      <td>Bluetooth, Wi-Fi</td>\n",
              "      <td>OLED</td>\n",
              "      <td>1.30</td>\n",
              "      <td>50</td>\n",
              "      <td>11</td>\n",
              "      <td>Yes</td>\n",
              "      <td>No</td>\n",
              "      <td>399</td>\n",
              "      <td>173056</td>\n",
              "    </tr>\n",
              "    <tr>\n",
              "      <th>3</th>\n",
              "      <td>Other</td>\n",
              "      <td>Fitbit OS</td>\n",
              "      <td>Bluetooth, Wi-Fi</td>\n",
              "      <td>OLED</td>\n",
              "      <td>1.58</td>\n",
              "      <td>50</td>\n",
              "      <td>6</td>\n",
              "      <td>Yes</td>\n",
              "      <td>Yes</td>\n",
              "      <td>229</td>\n",
              "      <td>112896</td>\n",
              "    </tr>\n",
              "    <tr>\n",
              "      <th>4</th>\n",
              "      <td>Other</td>\n",
              "      <td>Wear OS</td>\n",
              "      <td>Bluetooth, Wi-Fi</td>\n",
              "      <td>OLED</td>\n",
              "      <td>1.28</td>\n",
              "      <td>30</td>\n",
              "      <td>24</td>\n",
              "      <td>Yes</td>\n",
              "      <td>Yes</td>\n",
              "      <td>299</td>\n",
              "      <td>173056</td>\n",
              "    </tr>\n",
              "  </tbody>\n",
              "</table>\n",
              "</div>\n",
              "      <button class=\"colab-df-convert\" onclick=\"convertToInteractive('df-03cd0555-791b-4bb2-96ee-4ab60045d3c6')\"\n",
              "              title=\"Convert this dataframe to an interactive table.\"\n",
              "              style=\"display:none;\">\n",
              "        \n",
              "  <svg xmlns=\"http://www.w3.org/2000/svg\" height=\"24px\"viewBox=\"0 0 24 24\"\n",
              "       width=\"24px\">\n",
              "    <path d=\"M0 0h24v24H0V0z\" fill=\"none\"/>\n",
              "    <path d=\"M18.56 5.44l.94 2.06.94-2.06 2.06-.94-2.06-.94-.94-2.06-.94 2.06-2.06.94zm-11 1L8.5 8.5l.94-2.06 2.06-.94-2.06-.94L8.5 2.5l-.94 2.06-2.06.94zm10 10l.94 2.06.94-2.06 2.06-.94-2.06-.94-.94-2.06-.94 2.06-2.06.94z\"/><path d=\"M17.41 7.96l-1.37-1.37c-.4-.4-.92-.59-1.43-.59-.52 0-1.04.2-1.43.59L10.3 9.45l-7.72 7.72c-.78.78-.78 2.05 0 2.83L4 21.41c.39.39.9.59 1.41.59.51 0 1.02-.2 1.41-.59l7.78-7.78 2.81-2.81c.8-.78.8-2.07 0-2.86zM5.41 20L4 18.59l7.72-7.72 1.47 1.35L5.41 20z\"/>\n",
              "  </svg>\n",
              "      </button>\n",
              "      \n",
              "  <style>\n",
              "    .colab-df-container {\n",
              "      display:flex;\n",
              "      flex-wrap:wrap;\n",
              "      gap: 12px;\n",
              "    }\n",
              "\n",
              "    .colab-df-convert {\n",
              "      background-color: #E8F0FE;\n",
              "      border: none;\n",
              "      border-radius: 50%;\n",
              "      cursor: pointer;\n",
              "      display: none;\n",
              "      fill: #1967D2;\n",
              "      height: 32px;\n",
              "      padding: 0 0 0 0;\n",
              "      width: 32px;\n",
              "    }\n",
              "\n",
              "    .colab-df-convert:hover {\n",
              "      background-color: #E2EBFA;\n",
              "      box-shadow: 0px 1px 2px rgba(60, 64, 67, 0.3), 0px 1px 3px 1px rgba(60, 64, 67, 0.15);\n",
              "      fill: #174EA6;\n",
              "    }\n",
              "\n",
              "    [theme=dark] .colab-df-convert {\n",
              "      background-color: #3B4455;\n",
              "      fill: #D2E3FC;\n",
              "    }\n",
              "\n",
              "    [theme=dark] .colab-df-convert:hover {\n",
              "      background-color: #434B5C;\n",
              "      box-shadow: 0px 1px 3px 1px rgba(0, 0, 0, 0.15);\n",
              "      filter: drop-shadow(0px 1px 2px rgba(0, 0, 0, 0.3));\n",
              "      fill: #FFFFFF;\n",
              "    }\n",
              "  </style>\n",
              "\n",
              "      <script>\n",
              "        const buttonEl =\n",
              "          document.querySelector('#df-03cd0555-791b-4bb2-96ee-4ab60045d3c6 button.colab-df-convert');\n",
              "        buttonEl.style.display =\n",
              "          google.colab.kernel.accessAllowed ? 'block' : 'none';\n",
              "\n",
              "        async function convertToInteractive(key) {\n",
              "          const element = document.querySelector('#df-03cd0555-791b-4bb2-96ee-4ab60045d3c6');\n",
              "          const dataTable =\n",
              "            await google.colab.kernel.invokeFunction('convertToInteractive',\n",
              "                                                     [key], {});\n",
              "          if (!dataTable) return;\n",
              "\n",
              "          const docLinkHtml = 'Like what you see? Visit the ' +\n",
              "            '<a target=\"_blank\" href=https://colab.research.google.com/notebooks/data_table.ipynb>data table notebook</a>'\n",
              "            + ' to learn more about interactive tables.';\n",
              "          element.innerHTML = '';\n",
              "          dataTable['output_type'] = 'display_data';\n",
              "          await google.colab.output.renderOutput(dataTable, element);\n",
              "          const docLink = document.createElement('div');\n",
              "          docLink.innerHTML = docLinkHtml;\n",
              "          element.appendChild(docLink);\n",
              "        }\n",
              "      </script>\n",
              "    </div>\n",
              "  </div>\n",
              "  "
            ]
          },
          "metadata": {},
          "execution_count": 41
        }
      ],
      "source": [
        "df.head()"
      ]
    },
    {
      "cell_type": "code",
      "execution_count": 42,
      "metadata": {
        "colab": {
          "base_uri": "https://localhost:8080/"
        },
        "id": "bs5pFilMoABZ",
        "outputId": "72583fa4-2f9b-43b8-b7f3-c3dd3370f5c3"
      },
      "outputs": [
        {
          "output_type": "execute_result",
          "data": {
            "text/plain": [
              "Brand                        0\n",
              "Operating System             0\n",
              "Connectivity                 0\n",
              "Display Type                 0\n",
              "Display Size (inches)        0\n",
              "Water Resistance (meters)    0\n",
              "Battery Life (days)          0\n",
              "GPS                          0\n",
              "NFC                          0\n",
              "Price                        0\n",
              "Pixels                       0\n",
              "dtype: int64"
            ]
          },
          "metadata": {},
          "execution_count": 42
        }
      ],
      "source": [
        "df.isnull().sum()"
      ]
    },
    {
      "cell_type": "code",
      "execution_count": 43,
      "metadata": {
        "id": "OAT52KFzDed5"
      },
      "outputs": [],
      "source": [
        "num_cols.append(\"Pixels\") # adding Pixels column name to numerical column names list variable"
      ]
    },
    {
      "cell_type": "code",
      "source": [
        "num_cols"
      ],
      "metadata": {
        "colab": {
          "base_uri": "https://localhost:8080/"
        },
        "id": "UqlVbrMji3Rb",
        "outputId": "553cfff4-3ce1-4ec8-a5db-8c146fa52a03"
      },
      "execution_count": 44,
      "outputs": [
        {
          "output_type": "execute_result",
          "data": {
            "text/plain": [
              "['Display Size (inches)',\n",
              " 'Water Resistance (meters)',\n",
              " 'Battery Life (days)',\n",
              " 'Price',\n",
              " 'Pixels']"
            ]
          },
          "metadata": {},
          "execution_count": 44
        }
      ]
    },
    {
      "cell_type": "code",
      "execution_count": 45,
      "metadata": {
        "id": "dG45RVTi4P8g"
      },
      "outputs": [],
      "source": [
        "cat_cols = df.columns.drop(num_cols)"
      ]
    },
    {
      "cell_type": "code",
      "execution_count": 46,
      "metadata": {
        "colab": {
          "base_uri": "https://localhost:8080/"
        },
        "id": "bTK8m6n84mrs",
        "outputId": "4c3f83bb-8616-4751-c438-7d41f5001cd9"
      },
      "outputs": [
        {
          "output_type": "execute_result",
          "data": {
            "text/plain": [
              "Index(['Brand', 'Operating System', 'Connectivity', 'Display Type', 'GPS',\n",
              "       'NFC'],\n",
              "      dtype='object')"
            ]
          },
          "metadata": {},
          "execution_count": 46
        }
      ],
      "source": [
        "cat_cols"
      ]
    },
    {
      "cell_type": "code",
      "execution_count": 47,
      "metadata": {
        "id": "hIwc2ZrK4uk2"
      },
      "outputs": [],
      "source": [
        "df[cat_cols] = df[cat_cols].astype(\"category\")"
      ]
    },
    {
      "cell_type": "code",
      "execution_count": 48,
      "metadata": {
        "colab": {
          "base_uri": "https://localhost:8080/"
        },
        "id": "Urfjt2yQ431L",
        "outputId": "d48bfc28-dea4-4c74-f401-83a4208afe28"
      },
      "outputs": [
        {
          "output_type": "stream",
          "name": "stdout",
          "text": [
            "<class 'pandas.core.frame.DataFrame'>\n",
            "RangeIndex: 379 entries, 0 to 378\n",
            "Data columns (total 11 columns):\n",
            " #   Column                     Non-Null Count  Dtype   \n",
            "---  ------                     --------------  -----   \n",
            " 0   Brand                      379 non-null    category\n",
            " 1   Operating System           379 non-null    category\n",
            " 2   Connectivity               379 non-null    category\n",
            " 3   Display Type               379 non-null    category\n",
            " 4   Display Size (inches)      379 non-null    float64 \n",
            " 5   Water Resistance (meters)  379 non-null    int64   \n",
            " 6   Battery Life (days)        379 non-null    int64   \n",
            " 7   GPS                        379 non-null    category\n",
            " 8   NFC                        379 non-null    category\n",
            " 9   Price                      379 non-null    int64   \n",
            " 10  Pixels                     379 non-null    int64   \n",
            "dtypes: category(6), float64(1), int64(4)\n",
            "memory usage: 19.0 KB\n"
          ]
        }
      ],
      "source": [
        "df.info()"
      ]
    },
    {
      "cell_type": "code",
      "execution_count": 49,
      "metadata": {
        "colab": {
          "base_uri": "https://localhost:8080/",
          "height": 696
        },
        "id": "mmuCfkmNJ3tz",
        "outputId": "5e01bda1-0f71-4d01-8179-2b3f0a8df1e9"
      },
      "outputs": [
        {
          "output_type": "execute_result",
          "data": {
            "text/plain": [
              "<Axes: xlabel='Brand', ylabel='Count'>"
            ]
          },
          "metadata": {},
          "execution_count": 49
        },
        {
          "output_type": "display_data",
          "data": {
            "text/plain": [
              "<Figure size 2000x1000 with 1 Axes>"
            ],
            "image/png": "[encoded data removed]"
          },
          "metadata": {}
        }
      ],
      "source": [
        "\n",
        "sns.set(rc={'figure.figsize':(20,10)})\n",
        "sns.histplot(df[\"Brand\"],stat=\"count\")"
      ]
    },
    {
      "cell_type": "markdown",
      "source": [
        "Bivariante analysis"
      ],
      "metadata": {
        "id": "_nVRzoruuAAB"
      }
    },
    {
      "cell_type": "code",
      "source": [
        "plt.figure(figsize=(15, 5))\n",
        "sns.barplot(x=df['Brand'], y=df['Price'])\n",
        "plt.xticks(rotation=\"vertical\")"
      ],
      "metadata": {
        "colab": {
          "base_uri": "https://localhost:8080/",
          "height": 821
        },
        "id": "viXZ0Ixxt-SM",
        "outputId": "0ec05b2f-902e-4006-fce4-ad08a9f5a9cd"
      },
      "execution_count": 50,
      "outputs": [
        {
          "output_type": "execute_result",
          "data": {
            "text/plain": [
              "(array([ 0,  1,  2,  3,  4,  5,  6,  7,  8,  9, 10, 11, 12, 13, 14]),\n",
              " [Text(0, 0, 'Apple'),\n",
              "  Text(1, 0, 'Asus'),\n",
              "  Text(2, 0, 'Casio'),\n",
              "  Text(3, 0, 'Garmin'),\n",
              "  Text(4, 0, 'Huawei'),\n",
              "  Text(5, 0, 'LG'),\n",
              "  Text(6, 0, 'Mobvoi'),\n",
              "  Text(7, 0, 'Motorola'),\n",
              "  Text(8, 0, 'Nokia'),\n",
              "  Text(9, 0, 'Oppo'),\n",
              "  Text(10, 0, 'Other'),\n",
              "  Text(11, 0, 'Samsung'),\n",
              "  Text(12, 0, 'Sony'),\n",
              "  Text(13, 0, 'Unknown'),\n",
              "  Text(14, 0, 'Xiaomi')])"
            ]
          },
          "metadata": {},
          "execution_count": 50
        },
        {
          "output_type": "display_data",
          "data": {
            "text/plain": [
              "<Figure size 1500x500 with 1 Axes>"
            ],
            "image/png": "[encoded data removed]"
          },
          "metadata": {}
        }
      ]
    },
    {
      "cell_type": "code",
      "execution_count": 51,
      "metadata": {
        "id": "9O2b771zXyBL",
        "colab": {
          "base_uri": "https://localhost:8080/",
          "height": 740
        },
        "outputId": "1683720d-9857-411f-8c00-2aa1692f1996"
      },
      "outputs": [
        {
          "output_type": "execute_result",
          "data": {
            "text/plain": [
              "(array([0, 1, 2, 3, 4, 5, 6, 7, 8]),\n",
              " [Text(0, 0, 'E-Ink'),\n",
              "  Text(1, 0, 'IPS LCD'),\n",
              "  Text(2, 0, 'LCD'),\n",
              "  Text(3, 0, 'Memory LCD'),\n",
              "  Text(4, 0, 'Monochrome'),\n",
              "  Text(5, 0, 'OLED'),\n",
              "  Text(6, 0, 'Other'),\n",
              "  Text(7, 0, 'STN LCD'),\n",
              "  Text(8, 0, 'Unknown')])"
            ]
          },
          "metadata": {},
          "execution_count": 51
        },
        {
          "output_type": "display_data",
          "data": {
            "text/plain": [
              "<Figure size 1500x500 with 1 Axes>"
            ],
            "image/png": "[encoded data removed]"
          },
          "metadata": {}
        }
      ],
      "source": [
        "plt.figure(figsize=(15, 5))\n",
        "sns.barplot(x=df['Display Type'], y=df['Price'])\n",
        "plt.xticks(rotation=\"vertical\")"
      ]
    },
    {
      "cell_type": "code",
      "execution_count": 52,
      "metadata": {
        "colab": {
          "base_uri": "https://localhost:8080/",
          "height": 1000
        },
        "id": "d2g8-0Xa7hSu",
        "outputId": "65ac66dc-6683-47f5-917e-6dd32178fea9"
      },
      "outputs": [
        {
          "output_type": "display_data",
          "data": {
            "text/plain": [
              "<Figure size 800x800 with 1 Axes>"
            ],
            "image/png": "[encoded data removed]"
          },
          "metadata": {}
        },
        {
          "output_type": "display_data",
          "data": {
            "text/plain": [
              "<Figure size 800x800 with 1 Axes>"
            ],
            "image/png": "[encoded data removed]"
          },
          "metadata": {}
        },
        {
          "output_type": "display_data",
          "data": {
            "text/plain": [
              "<Figure size 800x800 with 1 Axes>"
            ],
            "image/png": "[encoded data removed]"
          },
          "metadata": {}
        },
        {
          "output_type": "display_data",
          "data": {
            "text/plain": [
              "<Figure size 800x800 with 1 Axes>"
            ],
            "image/png": "[encoded data removed]"
          },
          "metadata": {}
        },
        {
          "output_type": "display_data",
          "data": {
            "text/plain": [
              "<Figure size 800x800 with 1 Axes>"
            ],
            "image/png": "[encoded data removed]"
          },
          "metadata": {}
        }
      ],
      "source": [
        "import scipy.stats as stats\n",
        "import matplotlib.pyplot as plt\n",
        "for i in num_cols:\n",
        "  data = df[i].values\n",
        "  # create a QQ plot using scipy.stats.probplot\n",
        "  fig, ax = plt.subplots(figsize=(8, 8))\n",
        "  stats.probplot(data, dist='norm', plot=plt)\n",
        "  plt.title('QQ Plot for {}'.format(i))\n",
        "  plt.show()"
      ]
    },
    {
      "cell_type": "markdown",
      "source": [
        "Multi-variate analysis"
      ],
      "metadata": {
        "id": "3i8SY_kYwpih"
      }
    },
    {
      "cell_type": "code",
      "source": [
        "sns.heatmap(df[num_cols].corr(), annot=True)"
      ],
      "metadata": {
        "colab": {
          "base_uri": "https://localhost:8080/",
          "height": 680
        },
        "id": "2DYZxjt4woJb",
        "outputId": "5b9d5472-967a-402d-f032-dbe08134bceb"
      },
      "execution_count": 53,
      "outputs": [
        {
          "output_type": "execute_result",
          "data": {
            "text/plain": [
              "<Axes: >"
            ]
          },
          "metadata": {},
          "execution_count": 53
        },
        {
          "output_type": "display_data",
          "data": {
            "text/plain": [
              "<Figure size 2000x1000 with 2 Axes>"
            ],
            "image/png": "[encoded data removed]"
          },
          "metadata": {}
        }
      ]
    },
    {
      "cell_type": "code",
      "source": [
        "df.describe()"
      ],
      "metadata": {
        "id": "mbPGTyiNPHJE",
        "outputId": "a4d0359e-07c8-4f0b-b76b-46cad43fdfec",
        "colab": {
          "base_uri": "https://localhost:8080/",
          "height": 300
        }
      },
      "execution_count": 54,
      "outputs": [
        {
          "output_type": "execute_result",
          "data": {
            "text/plain": [
              "       Display Size (inches)  Water Resistance (meters)  Battery Life (days)  \\\n",
              "count             379.000000                 379.000000           379.000000   \n",
              "mean                1.363377                  52.802111            12.195251   \n",
              "std                 0.218129                  26.944297            12.337789   \n",
              "min                 0.900000                   1.000000             1.000000   \n",
              "25%                 1.200000                  50.000000             3.000000   \n",
              "50%                 1.390000                  50.000000            11.000000   \n",
              "75%                 1.400000                  50.000000            15.000000   \n",
              "max                 4.010000                 200.000000            72.000000   \n",
              "\n",
              "             Price         Pixels  \n",
              "count   379.000000     379.000000  \n",
              "mean    312.910290  140312.928760  \n",
              "std     202.163738   54967.100998  \n",
              "min      49.000000    4536.000000  \n",
              "25%     199.000000  107584.000000  \n",
              "50%     279.000000  152100.000000  \n",
              "75%     329.000000  206116.000000  \n",
              "max    1800.000000  230400.000000  "
            ],
            "text/html": [
              "\n",
              "  <div id=\"df-132caf36-4e19-4cca-8856-743fa242b604\">\n",
              "    <div class=\"colab-df-container\">\n",
              "      <div>\n",
              "<style scoped>\n",
              "    .dataframe tbody tr th:only-of-type {\n",
              "        vertical-align: middle;\n",
              "    }\n",
              "\n",
              "    .dataframe tbody tr th {\n",
              "        vertical-align: top;\n",
              "    }\n",
              "\n",
              "    .dataframe thead th {\n",
              "        text-align: right;\n",
              "    }\n",
              "</style>\n",
              "<table border=\"1\" class=\"dataframe\">\n",
              "  <thead>\n",
              "    <tr style=\"text-align: right;\">\n",
              "      <th></th>\n",
              "      <th>Display Size (inches)</th>\n",
              "      <th>Water Resistance (meters)</th>\n",
              "      <th>Battery Life (days)</th>\n",
              "      <th>Price</th>\n",
              "      <th>Pixels</th>\n",
              "    </tr>\n",
              "  </thead>\n",
              "  <tbody>\n",
              "    <tr>\n",
              "      <th>count</th>\n",
              "      <td>379.000000</td>\n",
              "      <td>379.000000</td>\n",
              "      <td>379.000000</td>\n",
              "      <td>379.000000</td>\n",
              "      <td>379.000000</td>\n",
              "    </tr>\n",
              "    <tr>\n",
              "      <th>mean</th>\n",
              "      <td>1.363377</td>\n",
              "      <td>52.802111</td>\n",
              "      <td>12.195251</td>\n",
              "      <td>312.910290</td>\n",
              "      <td>140312.928760</td>\n",
              "    </tr>\n",
              "    <tr>\n",
              "      <th>std</th>\n",
              "      <td>0.218129</td>\n",
              "      <td>26.944297</td>\n",
              "      <td>12.337789</td>\n",
              "      <td>202.163738</td>\n",
              "      <td>54967.100998</td>\n",
              "    </tr>\n",
              "    <tr>\n",
              "      <th>min</th>\n",
              "      <td>0.900000</td>\n",
              "      <td>1.000000</td>\n",
              "      <td>1.000000</td>\n",
              "      <td>49.000000</td>\n",
              "      <td>4536.000000</td>\n",
              "    </tr>\n",
              "    <tr>\n",
              "      <th>25%</th>\n",
              "      <td>1.200000</td>\n",
              "      <td>50.000000</td>\n",
              "      <td>3.000000</td>\n",
              "      <td>199.000000</td>\n",
              "      <td>107584.000000</td>\n",
              "    </tr>\n",
              "    <tr>\n",
              "      <th>50%</th>\n",
              "      <td>1.390000</td>\n",
              "      <td>50.000000</td>\n",
              "      <td>11.000000</td>\n",
              "      <td>279.000000</td>\n",
              "      <td>152100.000000</td>\n",
              "    </tr>\n",
              "    <tr>\n",
              "      <th>75%</th>\n",
              "      <td>1.400000</td>\n",
              "      <td>50.000000</td>\n",
              "      <td>15.000000</td>\n",
              "      <td>329.000000</td>\n",
              "      <td>206116.000000</td>\n",
              "    </tr>\n",
              "    <tr>\n",
              "      <th>max</th>\n",
              "      <td>4.010000</td>\n",
              "      <td>200.000000</td>\n",
              "      <td>72.000000</td>\n",
              "      <td>1800.000000</td>\n",
              "      <td>230400.000000</td>\n",
              "    </tr>\n",
              "  </tbody>\n",
              "</table>\n",
              "</div>\n",
              "      <button class=\"colab-df-convert\" onclick=\"convertToInteractive('df-132caf36-4e19-4cca-8856-743fa242b604')\"\n",
              "              title=\"Convert this dataframe to an interactive table.\"\n",
              "              style=\"display:none;\">\n",
              "        \n",
              "  <svg xmlns=\"http://www.w3.org/2000/svg\" height=\"24px\"viewBox=\"0 0 24 24\"\n",
              "       width=\"24px\">\n",
              "    <path d=\"M0 0h24v24H0V0z\" fill=\"none\"/>\n",
              "    <path d=\"M18.56 5.44l.94 2.06.94-2.06 2.06-.94-2.06-.94-.94-2.06-.94 2.06-2.06.94zm-11 1L8.5 8.5l.94-2.06 2.06-.94-2.06-.94L8.5 2.5l-.94 2.06-2.06.94zm10 10l.94 2.06.94-2.06 2.06-.94-2.06-.94-.94-2.06-.94 2.06-2.06.94z\"/><path d=\"M17.41 7.96l-1.37-1.37c-.4-.4-.92-.59-1.43-.59-.52 0-1.04.2-1.43.59L10.3 9.45l-7.72 7.72c-.78.78-.78 2.05 0 2.83L4 21.41c.39.39.9.59 1.41.59.51 0 1.02-.2 1.41-.59l7.78-7.78 2.81-2.81c.8-.78.8-2.07 0-2.86zM5.41 20L4 18.59l7.72-7.72 1.47 1.35L5.41 20z\"/>\n",
              "  </svg>\n",
              "      </button>\n",
              "      \n",
              "  <style>\n",
              "    .colab-df-container {\n",
              "      display:flex;\n",
              "      flex-wrap:wrap;\n",
              "      gap: 12px;\n",
              "    }\n",
              "\n",
              "    .colab-df-convert {\n",
              "      background-color: #E8F0FE;\n",
              "      border: none;\n",
              "      border-radius: 50%;\n",
              "      cursor: pointer;\n",
              "      display: none;\n",
              "      fill: #1967D2;\n",
              "      height: 32px;\n",
              "      padding: 0 0 0 0;\n",
              "      width: 32px;\n",
              "    }\n",
              "\n",
              "    .colab-df-convert:hover {\n",
              "      background-color: #E2EBFA;\n",
              "      box-shadow: 0px 1px 2px rgba(60, 64, 67, 0.3), 0px 1px 3px 1px rgba(60, 64, 67, 0.15);\n",
              "      fill: #174EA6;\n",
              "    }\n",
              "\n",
              "    [theme=dark] .colab-df-convert {\n",
              "      background-color: #3B4455;\n",
              "      fill: #D2E3FC;\n",
              "    }\n",
              "\n",
              "    [theme=dark] .colab-df-convert:hover {\n",
              "      background-color: #434B5C;\n",
              "      box-shadow: 0px 1px 3px 1px rgba(0, 0, 0, 0.15);\n",
              "      filter: drop-shadow(0px 1px 2px rgba(0, 0, 0, 0.3));\n",
              "      fill: #FFFFFF;\n",
              "    }\n",
              "  </style>\n",
              "\n",
              "      <script>\n",
              "        const buttonEl =\n",
              "          document.querySelector('#df-132caf36-4e19-4cca-8856-743fa242b604 button.colab-df-convert');\n",
              "        buttonEl.style.display =\n",
              "          google.colab.kernel.accessAllowed ? 'block' : 'none';\n",
              "\n",
              "        async function convertToInteractive(key) {\n",
              "          const element = document.querySelector('#df-132caf36-4e19-4cca-8856-743fa242b604');\n",
              "          const dataTable =\n",
              "            await google.colab.kernel.invokeFunction('convertToInteractive',\n",
              "                                                     [key], {});\n",
              "          if (!dataTable) return;\n",
              "\n",
              "          const docLinkHtml = 'Like what you see? Visit the ' +\n",
              "            '<a target=\"_blank\" href=https://colab.research.google.com/notebooks/data_table.ipynb>data table notebook</a>'\n",
              "            + ' to learn more about interactive tables.';\n",
              "          element.innerHTML = '';\n",
              "          dataTable['output_type'] = 'display_data';\n",
              "          await google.colab.output.renderOutput(dataTable, element);\n",
              "          const docLink = document.createElement('div');\n",
              "          docLink.innerHTML = docLinkHtml;\n",
              "          element.appendChild(docLink);\n",
              "        }\n",
              "      </script>\n",
              "    </div>\n",
              "  </div>\n",
              "  "
            ]
          },
          "metadata": {},
          "execution_count": 54
        }
      ]
    },
    {
      "cell_type": "markdown",
      "source": [
        "Preprocessing"
      ],
      "metadata": {
        "id": "ASg5Q9fOxVVV"
      }
    },
    {
      "cell_type": "code",
      "execution_count": 55,
      "metadata": {
        "id": "3WGl7ltr8WnN"
      },
      "outputs": [],
      "source": [
        "x = df.drop([\"Price\"],axis = 1) # assigning target variable as y\n",
        "y=df[\"Price\"] # assigning independent variables to x"
      ]
    },
    {
      "cell_type": "code",
      "execution_count": 56,
      "metadata": {
        "colab": {
          "base_uri": "https://localhost:8080/"
        },
        "id": "XY11NgZ-BTga",
        "outputId": "e9574e96-b11a-4cfd-98d8-2f572ba2223d"
      },
      "outputs": [
        {
          "output_type": "stream",
          "name": "stdout",
          "text": [
            "(379, 11)\n",
            "(379, 10)\n",
            "(379,)\n"
          ]
        }
      ],
      "source": [
        "print(df.shape)\n",
        "print(x.shape)\n",
        "print(y.shape)"
      ]
    },
    {
      "cell_type": "code",
      "execution_count": 57,
      "metadata": {
        "colab": {
          "base_uri": "https://localhost:8080/"
        },
        "id": "W7L_xr5omF8J",
        "outputId": "900dc43e-74ba-4921-8524-02bbf53b63f6"
      },
      "outputs": [
        {
          "output_type": "execute_result",
          "data": {
            "text/plain": [
              "False"
            ]
          },
          "metadata": {},
          "execution_count": 57
        }
      ],
      "source": [
        "\"nan\" in y #checking nan values in y"
      ]
    },
    {
      "cell_type": "code",
      "execution_count": 58,
      "metadata": {
        "id": "f0Co-pTwBaBA",
        "colab": {
          "base_uri": "https://localhost:8080/"
        },
        "outputId": "4bdac5b1-5268-4219-bb92-05f0d45dcd8c"
      },
      "outputs": [
        {
          "output_type": "stream",
          "name": "stdout",
          "text": [
            "#Spliting data into 80:20 as train and test\n"
          ]
        }
      ],
      "source": [
        "from sklearn.model_selection import train_test_split\n",
        "print(\"#Spliting data into 80:20 as train and test\")\n",
        "x_train, x_test, y_train, y_test = train_test_split(x, y, test_size=0.2, random_state=42) "
      ]
    },
    {
      "cell_type": "code",
      "execution_count": 59,
      "metadata": {
        "colab": {
          "base_uri": "https://localhost:8080/"
        },
        "id": "rWe4C4SwnAky",
        "outputId": "c3406b27-bda6-4146-f3e4-5f7bc572babb"
      },
      "outputs": [
        {
          "output_type": "stream",
          "name": "stdout",
          "text": [
            "(303, 10)\n",
            "(76, 10)\n",
            "(303,)\n",
            "(76,)\n"
          ]
        }
      ],
      "source": [
        "print(x_train.shape)\n",
        "print(x_test.shape)\n",
        "print(y_train.shape)\n",
        "print(y_test.shape)"
      ]
    },
    {
      "cell_type": "code",
      "execution_count": 60,
      "metadata": {
        "colab": {
          "base_uri": "https://localhost:8080/"
        },
        "id": "i6e1LXo4m-QB",
        "outputId": "9ff749aa-2a4c-41c4-a998-63220074a9ae"
      },
      "outputs": [
        {
          "output_type": "execute_result",
          "data": {
            "text/plain": [
              "Brand                        0\n",
              "Operating System             0\n",
              "Connectivity                 0\n",
              "Display Type                 0\n",
              "Display Size (inches)        0\n",
              "Water Resistance (meters)    0\n",
              "Battery Life (days)          0\n",
              "GPS                          0\n",
              "NFC                          0\n",
              "Pixels                       0\n",
              "dtype: int64"
            ]
          },
          "metadata": {},
          "execution_count": 60
        }
      ],
      "source": [
        "x_train.isnull().sum()\n",
        "x_test.isnull().sum()"
      ]
    },
    {
      "cell_type": "code",
      "execution_count": 61,
      "metadata": {
        "id": "_QE_JVPU7bVv",
        "colab": {
          "base_uri": "https://localhost:8080/"
        },
        "outputId": "49d07694-63f6-4061-e518-c7efdee77885"
      },
      "outputs": [
        {
          "output_type": "stream",
          "name": "stdout",
          "text": [
            "##Converting labels to numerical##\n"
          ]
        }
      ],
      "source": [
        "from sklearn.preprocessing import StandardScaler,LabelEncoder,OneHotEncoder\n",
        "print(\"##Converting labels to numerical##\")\n",
        "le = LabelEncoder()\n",
        "for col in cat_cols:\n",
        "    x_train[col] = le.fit_transform(x_train[col])\n",
        "for col in cat_cols:\n",
        "    x_test[col] = le.fit_transform(x_test[col])"
      ]
    },
    {
      "cell_type": "code",
      "source": [
        "x_train.dtypes"
      ],
      "metadata": {
        "id": "07pMiKCVl4Ln",
        "colab": {
          "base_uri": "https://localhost:8080/"
        },
        "outputId": "7456f311-6f1e-428a-a690-a863c2070333"
      },
      "execution_count": 62,
      "outputs": [
        {
          "output_type": "execute_result",
          "data": {
            "text/plain": [
              "Brand                          int64\n",
              "Operating System               int64\n",
              "Connectivity                   int64\n",
              "Display Type                   int64\n",
              "Display Size (inches)        float64\n",
              "Water Resistance (meters)      int64\n",
              "Battery Life (days)            int64\n",
              "GPS                            int64\n",
              "NFC                            int64\n",
              "Pixels                         int64\n",
              "dtype: object"
            ]
          },
          "metadata": {},
          "execution_count": 62
        }
      ]
    },
    {
      "cell_type": "code",
      "execution_count": 63,
      "metadata": {
        "id": "WoFzHLLjqToM"
      },
      "outputs": [],
      "source": [
        "from sklearn.preprocessing import StandardScaler\n",
        "scaler = StandardScaler()\n",
        "\n",
        "x_train_std = scaler.fit_transform(x_train)\n",
        "x_test_std = scaler.transform(x_test)"
      ]
    },
    {
      "cell_type": "code",
      "execution_count": 64,
      "metadata": {
        "id": "2dZ3JRcd9wHQ"
      },
      "outputs": [],
      "source": [
        "x_train_std = pd.DataFrame(x_train_std)\n",
        "x_test_std = pd.DataFrame(x_test_std)"
      ]
    },
    {
      "cell_type": "code",
      "source": [
        "print(x_train_std)\n",
        "print(x_test_std)"
      ],
      "metadata": {
        "colab": {
          "base_uri": "https://localhost:8080/"
        },
        "id": "n1XA5FGiAuVt",
        "outputId": "9e70f9d0-796d-4846-b108-32afddd77c2d"
      },
      "execution_count": 65,
      "outputs": [
        {
          "output_type": "stream",
          "name": "stdout",
          "text": [
            "            0         1         2         3         4         5         6  \\\n",
            "0   -1.302177 -0.759371 -0.352538  0.110396  0.157828 -0.095560  0.157674   \n",
            "1   -2.491506  1.532356  1.521478  0.837569  0.951917 -0.095560  0.479391   \n",
            "2    0.481815 -0.759371 -0.352538  0.837569  0.201944  1.782176  0.157674   \n",
            "3   -1.599510 -1.217717 -0.352538  0.837569 -0.239217 -0.095560 -0.485762   \n",
            "4   -1.599510 -1.217717 -0.352538  0.837569  0.201944  1.782176  4.661723   \n",
            "..        ...       ...       ...       ...       ...       ...       ...   \n",
            "298  0.481815  1.074011  1.521478  0.110396  0.201944 -0.095560  2.650986   \n",
            "299  0.481815 -0.759371 -0.352538  0.110396  0.157828 -0.095560  0.157674   \n",
            "300 -0.707513  1.074011 -0.352538 -2.798296 -0.239217 -0.095560 -0.727050   \n",
            "301 -0.707513  1.074011 -0.352538  0.110396  0.201944 -0.095560 -0.727050   \n",
            "302  0.779148  0.157320 -0.352538  0.110396  0.201944 -0.095560 -0.727050   \n",
            "\n",
            "           7         8         9  \n",
            "0    0.31909  0.433861  1.228032  \n",
            "1    0.31909  0.433861 -0.176337  \n",
            "2    0.31909  0.433861 -0.742953  \n",
            "3    0.31909  0.433861 -1.430282  \n",
            "4    0.31909  0.433861 -1.057979  \n",
            "..       ...       ...       ...  \n",
            "298  0.31909  0.433861  1.228032  \n",
            "299  0.31909 -2.304886  1.228032  \n",
            "300  0.31909  0.433861 -0.141541  \n",
            "301  0.31909  0.433861  1.228032  \n",
            "302  0.31909  0.433861 -0.141541  \n",
            "\n",
            "[303 rows x 10 columns]\n",
            "           0         1         2         3         4         5         6  \\\n",
            "0  -0.707513 -0.301026 -0.352538 -2.071123  0.157828 -0.095560  0.157674   \n",
            "1  -0.707513  1.074011 -0.352538 -2.071123 -0.239217 -0.846655 -0.887909   \n",
            "2  -0.707513 -0.301026 -0.352538 -2.071123  0.157828 -0.095560  0.238103   \n",
            "3  -0.707513 -1.676062 -0.352538 -2.071123  0.996033 -0.095560 -0.485762   \n",
            "4  -0.112849 -0.301026 -0.352538 -2.071123  0.157828 -0.095560  0.157674   \n",
            "..       ...       ...       ...       ...       ...       ...       ...   \n",
            "71 -0.707513 -0.759371 -0.352538 -2.071123  0.157828 -0.095560  0.157674   \n",
            "72 -0.707513  1.074011 -0.352538 -2.071123 -0.724493 -0.095560 -0.807480   \n",
            "73 -1.302177  1.074011 -0.352538 -2.071123 -0.239217 -0.095560 -0.887909   \n",
            "74 -0.707513 -0.759371 -0.352538 -1.343950 -0.680377  1.782176 -0.566191   \n",
            "75 -2.194174  1.074011 -0.352538 -1.343950 -0.150985 -0.095560 -0.887909   \n",
            "\n",
            "          7         8         9  \n",
            "0   0.31909 -2.304886  1.228032  \n",
            "1   0.31909  0.433861  0.636286  \n",
            "2   0.31909  0.433861  1.228032  \n",
            "3   0.31909  0.433861 -0.440529  \n",
            "4   0.31909 -2.304886  1.228032  \n",
            "..      ...       ...       ...  \n",
            "71  0.31909  0.433861  1.228032  \n",
            "72  0.31909  0.433861 -0.535609  \n",
            "73  0.31909  0.433861 -0.141541  \n",
            "74  0.31909 -2.304886 -1.430282  \n",
            "75  0.31909  0.433861 -0.742953  \n",
            "\n",
            "[76 rows x 10 columns]\n"
          ]
        }
      ]
    },
    {
      "cell_type": "code",
      "execution_count": 66,
      "metadata": {
        "id": "mw6lF6piE2T-",
        "colab": {
          "base_uri": "https://localhost:8080/",
          "height": 74
        },
        "outputId": "323482a1-600b-43ed-a787-f4e45ab5a350"
      },
      "outputs": [
        {
          "output_type": "execute_result",
          "data": {
            "text/plain": [
              "DecisionTreeRegressor(random_state=0)"
            ],
            "text/html": [
              "<style>#sk-container-id-1 {color: black;background-color: white;}#sk-container-id-1 pre{padding: 0;}#sk-container-id-1 div.sk-toggleable {background-color: white;}#sk-container-id-1 label.sk-toggleable__label {cursor: pointer;display: block;width: 100%;margin-bottom: 0;padding: 0.3em;box-sizing: border-box;text-align: center;}#sk-container-id-1 label.sk-toggleable__label-arrow:before {content: \"▸\";float: left;margin-right: 0.25em;color: #696969;}#sk-container-id-1 label.sk-toggleable__label-arrow:hover:before {color: black;}#sk-container-id-1 div.sk-estimator:hover label.sk-toggleable__label-arrow:before {color: black;}#sk-container-id-1 div.sk-toggleable__content {max-height: 0;max-width: 0;overflow: hidden;text-align: left;background-color: #f0f8ff;}#sk-container-id-1 div.sk-toggleable__content pre {margin: 0.2em;color: black;border-radius: 0.25em;background-color: #f0f8ff;}#sk-container-id-1 input.sk-toggleable__control:checked~div.sk-toggleable__content {max-height: 200px;max-width: 100%;overflow: auto;}#sk-container-id-1 input.sk-toggleable__control:checked~label.sk-toggleable__label-arrow:before {content: \"▾\";}#sk-container-id-1 div.sk-estimator input.sk-toggleable__control:checked~label.sk-toggleable__label {background-color: #d4ebff;}#sk-container-id-1 div.sk-label input.sk-toggleable__control:checked~label.sk-toggleable__label {background-color: #d4ebff;}#sk-container-id-1 input.sk-hidden--visually {border: 0;clip: rect(1px 1px 1px 1px);clip: rect(1px, 1px, 1px, 1px);height: 1px;margin: -1px;overflow: hidden;padding: 0;position: absolute;width: 1px;}#sk-container-id-1 div.sk-estimator {font-family: monospace;background-color: #f0f8ff;border: 1px dotted black;border-radius: 0.25em;box-sizing: border-box;margin-bottom: 0.5em;}#sk-container-id-1 div.sk-estimator:hover {background-color: #d4ebff;}#sk-container-id-1 div.sk-parallel-item::after {content: \"\";width: 100%;border-bottom: 1px solid gray;flex-grow: 1;}#sk-container-id-1 div.sk-label:hover label.sk-toggleable__label {background-color: #d4ebff;}#sk-container-id-1 div.sk-serial::before {content: \"\";position: absolute;border-left: 1px solid gray;box-sizing: border-box;top: 0;bottom: 0;left: 50%;z-index: 0;}#sk-container-id-1 div.sk-serial {display: flex;flex-direction: column;align-items: center;background-color: white;padding-right: 0.2em;padding-left: 0.2em;position: relative;}#sk-container-id-1 div.sk-item {position: relative;z-index: 1;}#sk-container-id-1 div.sk-parallel {display: flex;align-items: stretch;justify-content: center;background-color: white;position: relative;}#sk-container-id-1 div.sk-item::before, #sk-container-id-1 div.sk-parallel-item::before {content: \"\";position: absolute;border-left: 1px solid gray;box-sizing: border-box;top: 0;bottom: 0;left: 50%;z-index: -1;}#sk-container-id-1 div.sk-parallel-item {display: flex;flex-direction: column;z-index: 1;position: relative;background-color: white;}#sk-container-id-1 div.sk-parallel-item:first-child::after {align-self: flex-end;width: 50%;}#sk-container-id-1 div.sk-parallel-item:last-child::after {align-self: flex-start;width: 50%;}#sk-container-id-1 div.sk-parallel-item:only-child::after {width: 0;}#sk-container-id-1 div.sk-dashed-wrapped {border: 1px dashed gray;margin: 0 0.4em 0.5em 0.4em;box-sizing: border-box;padding-bottom: 0.4em;background-color: white;}#sk-container-id-1 div.sk-label label {font-family: monospace;font-weight: bold;display: inline-block;line-height: 1.2em;}#sk-container-id-1 div.sk-label-container {text-align: center;}#sk-container-id-1 div.sk-container {/* jupyter's `normalize.less` sets `[hidden] { display: none; }` but bootstrap.min.css set `[hidden] { display: none !important; }` so we also need the `!important` here to be able to override the default hidden behavior on the sphinx rendered scikit-learn.org. See: https://github.com/scikit-learn/scikit-learn/issues/21755 */display: inline-block !important;position: relative;}#sk-container-id-1 div.sk-text-repr-fallback {display: none;}</style><div id=\"sk-container-id-1\" class=\"sk-top-container\"><div class=\"sk-text-repr-fallback\"><pre>DecisionTreeRegressor(random_state=0)</pre><b>In a Jupyter environment, please rerun this cell to show the HTML representation or trust the notebook. <br />On GitHub, the HTML representation is unable to render, please try loading this page with nbviewer.org.</b></div><div class=\"sk-container\" hidden><div class=\"sk-item\"><div class=\"sk-estimator sk-toggleable\"><input class=\"sk-toggleable__control sk-hidden--visually\" id=\"sk-estimator-id-1\" type=\"checkbox\" checked><label for=\"sk-estimator-id-1\" class=\"sk-toggleable__label sk-toggleable__label-arrow\">DecisionTreeRegressor</label><div class=\"sk-toggleable__content\"><pre>DecisionTreeRegressor(random_state=0)</pre></div></div></div></div></div>"
            ]
          },
          "metadata": {},
          "execution_count": 66
        }
      ],
      "source": [
        "from sklearn.tree import DecisionTreeRegressor \n",
        "  \n",
        "# create a regressor object\n",
        "DT_reg = DecisionTreeRegressor(random_state = 0) \n",
        "  \n",
        "# fit the regressor with X and Y data\n",
        "DT_reg.fit(x_train_std, y_train)"
      ]
    },
    {
      "cell_type": "code",
      "execution_count": 67,
      "metadata": {
        "id": "h-E6dlG0E9ON"
      },
      "outputs": [],
      "source": [
        "y_train_pred = DT_reg.predict(x_train_std)\n",
        "y_test_pred=DT_reg.predict(x_test_std) "
      ]
    },
    {
      "cell_type": "code",
      "execution_count": 68,
      "metadata": {
        "id": "QVLo0nwjFA33"
      },
      "outputs": [],
      "source": [
        "from sklearn.metrics import mean_squared_error, mean_absolute_error, r2_score\n",
        "scores = pd.DataFrame(columns=[\"model\", \"train_mse\",\"train_rmse\",\"train_mae\",\"train_r2\",\"test_mse\",\"test_rmse\",\"test_mae\",\"test_r2\"])\n",
        "def Metrics(y_train , y_train_pred , y_test , y_test_pred,model,dataframe):\n",
        "  # calculate the mean squared error (MSE)\n",
        "  train_mse = mean_squared_error(y_train,y_train_pred)\n",
        "\n",
        "  # calculate the root mean squared error (RMSE)\n",
        "  train_rmse = np.sqrt(train_mse)\n",
        "\n",
        "  # calculate the mean absolute error (MAE)\n",
        "  train_mae = mean_absolute_error(y_train,y_train_pred)\n",
        "\n",
        "  # calculate the coefficient of determination (R-squared)\n",
        "  train_r2 = r2_score(y_train,y_train_pred)\n",
        "\n",
        "   # calculate the mean squared error (MSE)\n",
        "  test_mse = mean_squared_error(y_test,y_test_pred)\n",
        "\n",
        "  # calculate the root mean squared error (RMSE)\n",
        "  test_rmse = np.sqrt(test_mse)\n",
        "\n",
        "  # calculate the mean absolute error (MAE)\n",
        "  test_mae = mean_absolute_error(y_test,y_test_pred)\n",
        "\n",
        "  # calculate the coefficient of determination (R-squared)\n",
        "  test_r2 = r2_score(y_test,y_test_pred)\n",
        "  dataframe = dataframe.append(pd.Series([model, train_mse,train_rmse,train_mae,train_r2,test_mse,test_rmse,test_mae,test_r2],index=scores.columns ), ignore_index=True)\n",
        "# print the evaluation metrics\n",
        "  return(dataframe)"
      ]
    },
    {
      "cell_type": "code",
      "source": [
        "scores = Metrics(y_train , y_train_pred ,y_test , y_test_pred , \"DT\",scores)\n",
        "scores"
      ],
      "metadata": {
        "colab": {
          "base_uri": "https://localhost:8080/",
          "height": 81
        },
        "id": "5FjHr46qy7tw",
        "outputId": "dc8008d7-9751-45e6-ffc5-0ced727898df"
      },
      "execution_count": 69,
      "outputs": [
        {
          "output_type": "execute_result",
          "data": {
            "text/plain": [
              "  model   train_mse  train_rmse  train_mae  train_r2      test_mse  \\\n",
              "0    DT  462.945335   21.516165   9.400964  0.988455  10894.899773   \n",
              "\n",
              "    test_rmse   test_mae   test_r2  \n",
              "0  104.378637  64.761696  0.743689  "
            ],
            "text/html": [
              "\n",
              "  <div id=\"df-0794e243-8521-4c71-ad1d-0901ab90b97a\">\n",
              "    <div class=\"colab-df-container\">\n",
              "      <div>\n",
              "<style scoped>\n",
              "    .dataframe tbody tr th:only-of-type {\n",
              "        vertical-align: middle;\n",
              "    }\n",
              "\n",
              "    .dataframe tbody tr th {\n",
              "        vertical-align: top;\n",
              "    }\n",
              "\n",
              "    .dataframe thead th {\n",
              "        text-align: right;\n",
              "    }\n",
              "</style>\n",
              "<table border=\"1\" class=\"dataframe\">\n",
              "  <thead>\n",
              "    <tr style=\"text-align: right;\">\n",
              "      <th></th>\n",
              "      <th>model</th>\n",
              "      <th>train_mse</th>\n",
              "      <th>train_rmse</th>\n",
              "      <th>train_mae</th>\n",
              "      <th>train_r2</th>\n",
              "      <th>test_mse</th>\n",
              "      <th>test_rmse</th>\n",
              "      <th>test_mae</th>\n",
              "      <th>test_r2</th>\n",
              "    </tr>\n",
              "  </thead>\n",
              "  <tbody>\n",
              "    <tr>\n",
              "      <th>0</th>\n",
              "      <td>DT</td>\n",
              "      <td>462.945335</td>\n",
              "      <td>21.516165</td>\n",
              "      <td>9.400964</td>\n",
              "      <td>0.988455</td>\n",
              "      <td>10894.899773</td>\n",
              "      <td>104.378637</td>\n",
              "      <td>64.761696</td>\n",
              "      <td>0.743689</td>\n",
              "    </tr>\n",
              "  </tbody>\n",
              "</table>\n",
              "</div>\n",
              "      <button class=\"colab-df-convert\" onclick=\"convertToInteractive('df-0794e243-8521-4c71-ad1d-0901ab90b97a')\"\n",
              "              title=\"Convert this dataframe to an interactive table.\"\n",
              "              style=\"display:none;\">\n",
              "        \n",
              "  <svg xmlns=\"http://www.w3.org/2000/svg\" height=\"24px\"viewBox=\"0 0 24 24\"\n",
              "       width=\"24px\">\n",
              "    <path d=\"M0 0h24v24H0V0z\" fill=\"none\"/>\n",
              "    <path d=\"M18.56 5.44l.94 2.06.94-2.06 2.06-.94-2.06-.94-.94-2.06-.94 2.06-2.06.94zm-11 1L8.5 8.5l.94-2.06 2.06-.94-2.06-.94L8.5 2.5l-.94 2.06-2.06.94zm10 10l.94 2.06.94-2.06 2.06-.94-2.06-.94-.94-2.06-.94 2.06-2.06.94z\"/><path d=\"M17.41 7.96l-1.37-1.37c-.4-.4-.92-.59-1.43-.59-.52 0-1.04.2-1.43.59L10.3 9.45l-7.72 7.72c-.78.78-.78 2.05 0 2.83L4 21.41c.39.39.9.59 1.41.59.51 0 1.02-.2 1.41-.59l7.78-7.78 2.81-2.81c.8-.78.8-2.07 0-2.86zM5.41 20L4 18.59l7.72-7.72 1.47 1.35L5.41 20z\"/>\n",
              "  </svg>\n",
              "      </button>\n",
              "      \n",
              "  <style>\n",
              "    .colab-df-container {\n",
              "      display:flex;\n",
              "      flex-wrap:wrap;\n",
              "      gap: 12px;\n",
              "    }\n",
              "\n",
              "    .colab-df-convert {\n",
              "      background-color: #E8F0FE;\n",
              "      border: none;\n",
              "      border-radius: 50%;\n",
              "      cursor: pointer;\n",
              "      display: none;\n",
              "      fill: #1967D2;\n",
              "      height: 32px;\n",
              "      padding: 0 0 0 0;\n",
              "      width: 32px;\n",
              "    }\n",
              "\n",
              "    .colab-df-convert:hover {\n",
              "      background-color: #E2EBFA;\n",
              "      box-shadow: 0px 1px 2px rgba(60, 64, 67, 0.3), 0px 1px 3px 1px rgba(60, 64, 67, 0.15);\n",
              "      fill: #174EA6;\n",
              "    }\n",
              "\n",
              "    [theme=dark] .colab-df-convert {\n",
              "      background-color: #3B4455;\n",
              "      fill: #D2E3FC;\n",
              "    }\n",
              "\n",
              "    [theme=dark] .colab-df-convert:hover {\n",
              "      background-color: #434B5C;\n",
              "      box-shadow: 0px 1px 3px 1px rgba(0, 0, 0, 0.15);\n",
              "      filter: drop-shadow(0px 1px 2px rgba(0, 0, 0, 0.3));\n",
              "      fill: #FFFFFF;\n",
              "    }\n",
              "  </style>\n",
              "\n",
              "      <script>\n",
              "        const buttonEl =\n",
              "          document.querySelector('#df-0794e243-8521-4c71-ad1d-0901ab90b97a button.colab-df-convert');\n",
              "        buttonEl.style.display =\n",
              "          google.colab.kernel.accessAllowed ? 'block' : 'none';\n",
              "\n",
              "        async function convertToInteractive(key) {\n",
              "          const element = document.querySelector('#df-0794e243-8521-4c71-ad1d-0901ab90b97a');\n",
              "          const dataTable =\n",
              "            await google.colab.kernel.invokeFunction('convertToInteractive',\n",
              "                                                     [key], {});\n",
              "          if (!dataTable) return;\n",
              "\n",
              "          const docLinkHtml = 'Like what you see? Visit the ' +\n",
              "            '<a target=\"_blank\" href=https://colab.research.google.com/notebooks/data_table.ipynb>data table notebook</a>'\n",
              "            + ' to learn more about interactive tables.';\n",
              "          element.innerHTML = '';\n",
              "          dataTable['output_type'] = 'display_data';\n",
              "          await google.colab.output.renderOutput(dataTable, element);\n",
              "          const docLink = document.createElement('div');\n",
              "          docLink.innerHTML = docLinkHtml;\n",
              "          element.appendChild(docLink);\n",
              "        }\n",
              "      </script>\n",
              "    </div>\n",
              "  </div>\n",
              "  "
            ]
          },
          "metadata": {},
          "execution_count": 69
        }
      ]
    },
    {
      "cell_type": "code",
      "execution_count": 93,
      "metadata": {
        "id": "BGBWdXbbFECa"
      },
      "outputs": [],
      "source": [
        "from sklearn.tree import DecisionTreeRegressor  # DT tuning\n",
        "from sklearn.model_selection import GridSearchCV\n",
        "\n",
        "param_grid = {'max_depth': [2, 4, 6, 8, 10],\n",
        "              'min_samples_split': [2, 4, 6, 8, 10],\n",
        "              'min_samples_leaf': [1, 2, 4, 8],\n",
        "              'max_features': ['auto', 'sqrt', 'log2', None]}\n",
        "\n",
        "dt1 = DecisionTreeRegressor()\n",
        "dt_grid = GridSearchCV(dt1, param_grid, cv=5)\n",
        "dt_grid.fit(x_train_std, y_train)"
      ]
    },
    {
      "cell_type": "code",
      "execution_count": 71,
      "metadata": {
        "id": "lwt6TSDsFNiQ"
      },
      "outputs": [],
      "source": [
        "y_train_pred = dt_grid.predict(x_train_std)\n",
        "y_test_pred=dt_grid.predict(x_test_std) "
      ]
    },
    {
      "cell_type": "code",
      "execution_count": 72,
      "metadata": {
        "id": "VD_el5vZQVgC",
        "colab": {
          "base_uri": "https://localhost:8080/",
          "height": 112
        },
        "outputId": "adfb7152-c171-4871-eada-f126ed476aa3"
      },
      "outputs": [
        {
          "output_type": "execute_result",
          "data": {
            "text/plain": [
              "       model     train_mse  train_rmse  train_mae  train_r2      test_mse  \\\n",
              "0         DT    462.945335   21.516165   9.400964  0.988455  10894.899773   \n",
              "1  DT_tuning  27849.553710  166.881856  85.164706  0.305462  51984.835569   \n",
              "\n",
              "    test_rmse    test_mae   test_r2  \n",
              "0  104.378637   64.761696  0.743689  \n",
              "1  228.001832  123.548805 -0.222983  "
            ],
            "text/html": [
              "\n",
              "  <div id=\"df-38f386f9-7e54-4d05-94c6-6a6df3962026\">\n",
              "    <div class=\"colab-df-container\">\n",
              "      <div>\n",
              "<style scoped>\n",
              "    .dataframe tbody tr th:only-of-type {\n",
              "        vertical-align: middle;\n",
              "    }\n",
              "\n",
              "    .dataframe tbody tr th {\n",
              "        vertical-align: top;\n",
              "    }\n",
              "\n",
              "    .dataframe thead th {\n",
              "        text-align: right;\n",
              "    }\n",
              "</style>\n",
              "<table border=\"1\" class=\"dataframe\">\n",
              "  <thead>\n",
              "    <tr style=\"text-align: right;\">\n",
              "      <th></th>\n",
              "      <th>model</th>\n",
              "      <th>train_mse</th>\n",
              "      <th>train_rmse</th>\n",
              "      <th>train_mae</th>\n",
              "      <th>train_r2</th>\n",
              "      <th>test_mse</th>\n",
              "      <th>test_rmse</th>\n",
              "      <th>test_mae</th>\n",
              "      <th>test_r2</th>\n",
              "    </tr>\n",
              "  </thead>\n",
              "  <tbody>\n",
              "    <tr>\n",
              "      <th>0</th>\n",
              "      <td>DT</td>\n",
              "      <td>462.945335</td>\n",
              "      <td>21.516165</td>\n",
              "      <td>9.400964</td>\n",
              "      <td>0.988455</td>\n",
              "      <td>10894.899773</td>\n",
              "      <td>104.378637</td>\n",
              "      <td>64.761696</td>\n",
              "      <td>0.743689</td>\n",
              "    </tr>\n",
              "    <tr>\n",
              "      <th>1</th>\n",
              "      <td>DT_tuning</td>\n",
              "      <td>27849.553710</td>\n",
              "      <td>166.881856</td>\n",
              "      <td>85.164706</td>\n",
              "      <td>0.305462</td>\n",
              "      <td>51984.835569</td>\n",
              "      <td>228.001832</td>\n",
              "      <td>123.548805</td>\n",
              "      <td>-0.222983</td>\n",
              "    </tr>\n",
              "  </tbody>\n",
              "</table>\n",
              "</div>\n",
              "      <button class=\"colab-df-convert\" onclick=\"convertToInteractive('df-38f386f9-7e54-4d05-94c6-6a6df3962026')\"\n",
              "              title=\"Convert this dataframe to an interactive table.\"\n",
              "              style=\"display:none;\">\n",
              "        \n",
              "  <svg xmlns=\"http://www.w3.org/2000/svg\" height=\"24px\"viewBox=\"0 0 24 24\"\n",
              "       width=\"24px\">\n",
              "    <path d=\"M0 0h24v24H0V0z\" fill=\"none\"/>\n",
              "    <path d=\"M18.56 5.44l.94 2.06.94-2.06 2.06-.94-2.06-.94-.94-2.06-.94 2.06-2.06.94zm-11 1L8.5 8.5l.94-2.06 2.06-.94-2.06-.94L8.5 2.5l-.94 2.06-2.06.94zm10 10l.94 2.06.94-2.06 2.06-.94-2.06-.94-.94-2.06-.94 2.06-2.06.94z\"/><path d=\"M17.41 7.96l-1.37-1.37c-.4-.4-.92-.59-1.43-.59-.52 0-1.04.2-1.43.59L10.3 9.45l-7.72 7.72c-.78.78-.78 2.05 0 2.83L4 21.41c.39.39.9.59 1.41.59.51 0 1.02-.2 1.41-.59l7.78-7.78 2.81-2.81c.8-.78.8-2.07 0-2.86zM5.41 20L4 18.59l7.72-7.72 1.47 1.35L5.41 20z\"/>\n",
              "  </svg>\n",
              "      </button>\n",
              "      \n",
              "  <style>\n",
              "    .colab-df-container {\n",
              "      display:flex;\n",
              "      flex-wrap:wrap;\n",
              "      gap: 12px;\n",
              "    }\n",
              "\n",
              "    .colab-df-convert {\n",
              "      background-color: #E8F0FE;\n",
              "      border: none;\n",
              "      border-radius: 50%;\n",
              "      cursor: pointer;\n",
              "      display: none;\n",
              "      fill: #1967D2;\n",
              "      height: 32px;\n",
              "      padding: 0 0 0 0;\n",
              "      width: 32px;\n",
              "    }\n",
              "\n",
              "    .colab-df-convert:hover {\n",
              "      background-color: #E2EBFA;\n",
              "      box-shadow: 0px 1px 2px rgba(60, 64, 67, 0.3), 0px 1px 3px 1px rgba(60, 64, 67, 0.15);\n",
              "      fill: #174EA6;\n",
              "    }\n",
              "\n",
              "    [theme=dark] .colab-df-convert {\n",
              "      background-color: #3B4455;\n",
              "      fill: #D2E3FC;\n",
              "    }\n",
              "\n",
              "    [theme=dark] .colab-df-convert:hover {\n",
              "      background-color: #434B5C;\n",
              "      box-shadow: 0px 1px 3px 1px rgba(0, 0, 0, 0.15);\n",
              "      filter: drop-shadow(0px 1px 2px rgba(0, 0, 0, 0.3));\n",
              "      fill: #FFFFFF;\n",
              "    }\n",
              "  </style>\n",
              "\n",
              "      <script>\n",
              "        const buttonEl =\n",
              "          document.querySelector('#df-38f386f9-7e54-4d05-94c6-6a6df3962026 button.colab-df-convert');\n",
              "        buttonEl.style.display =\n",
              "          google.colab.kernel.accessAllowed ? 'block' : 'none';\n",
              "\n",
              "        async function convertToInteractive(key) {\n",
              "          const element = document.querySelector('#df-38f386f9-7e54-4d05-94c6-6a6df3962026');\n",
              "          const dataTable =\n",
              "            await google.colab.kernel.invokeFunction('convertToInteractive',\n",
              "                                                     [key], {});\n",
              "          if (!dataTable) return;\n",
              "\n",
              "          const docLinkHtml = 'Like what you see? Visit the ' +\n",
              "            '<a target=\"_blank\" href=https://colab.research.google.com/notebooks/data_table.ipynb>data table notebook</a>'\n",
              "            + ' to learn more about interactive tables.';\n",
              "          element.innerHTML = '';\n",
              "          dataTable['output_type'] = 'display_data';\n",
              "          await google.colab.output.renderOutput(dataTable, element);\n",
              "          const docLink = document.createElement('div');\n",
              "          docLink.innerHTML = docLinkHtml;\n",
              "          element.appendChild(docLink);\n",
              "        }\n",
              "      </script>\n",
              "    </div>\n",
              "  </div>\n",
              "  "
            ]
          },
          "metadata": {},
          "execution_count": 72
        }
      ],
      "source": [
        "scores = Metrics(y_train , y_train_pred ,y_test , y_test_pred , \"DT_tuning\",scores)\n",
        "scores"
      ]
    },
    {
      "cell_type": "code",
      "execution_count": 73,
      "metadata": {
        "id": "PG283RUYRsL4"
      },
      "outputs": [],
      "source": [
        "from sklearn.ensemble import RandomForestRegressor"
      ]
    },
    {
      "cell_type": "code",
      "execution_count": 74,
      "metadata": {
        "id": "N9IYPThtRE39",
        "colab": {
          "base_uri": "https://localhost:8080/",
          "height": 74
        },
        "outputId": "25659381-959d-4193-8e8a-2e595f25f887"
      },
      "outputs": [
        {
          "output_type": "execute_result",
          "data": {
            "text/plain": [
              "RandomForestRegressor(random_state=42)"
            ],
            "text/html": [
              "<style>#sk-container-id-3 {color: black;background-color: white;}#sk-container-id-3 pre{padding: 0;}#sk-container-id-3 div.sk-toggleable {background-color: white;}#sk-container-id-3 label.sk-toggleable__label {cursor: pointer;display: block;width: 100%;margin-bottom: 0;padding: 0.3em;box-sizing: border-box;text-align: center;}#sk-container-id-3 label.sk-toggleable__label-arrow:before {content: \"▸\";float: left;margin-right: 0.25em;color: #696969;}#sk-container-id-3 label.sk-toggleable__label-arrow:hover:before {color: black;}#sk-container-id-3 div.sk-estimator:hover label.sk-toggleable__label-arrow:before {color: black;}#sk-container-id-3 div.sk-toggleable__content {max-height: 0;max-width: 0;overflow: hidden;text-align: left;background-color: #f0f8ff;}#sk-container-id-3 div.sk-toggleable__content pre {margin: 0.2em;color: black;border-radius: 0.25em;background-color: #f0f8ff;}#sk-container-id-3 input.sk-toggleable__control:checked~div.sk-toggleable__content {max-height: 200px;max-width: 100%;overflow: auto;}#sk-container-id-3 input.sk-toggleable__control:checked~label.sk-toggleable__label-arrow:before {content: \"▾\";}#sk-container-id-3 div.sk-estimator input.sk-toggleable__control:checked~label.sk-toggleable__label {background-color: #d4ebff;}#sk-container-id-3 div.sk-label input.sk-toggleable__control:checked~label.sk-toggleable__label {background-color: #d4ebff;}#sk-container-id-3 input.sk-hidden--visually {border: 0;clip: rect(1px 1px 1px 1px);clip: rect(1px, 1px, 1px, 1px);height: 1px;margin: -1px;overflow: hidden;padding: 0;position: absolute;width: 1px;}#sk-container-id-3 div.sk-estimator {font-family: monospace;background-color: #f0f8ff;border: 1px dotted black;border-radius: 0.25em;box-sizing: border-box;margin-bottom: 0.5em;}#sk-container-id-3 div.sk-estimator:hover {background-color: #d4ebff;}#sk-container-id-3 div.sk-parallel-item::after {content: \"\";width: 100%;border-bottom: 1px solid gray;flex-grow: 1;}#sk-container-id-3 div.sk-label:hover label.sk-toggleable__label {background-color: #d4ebff;}#sk-container-id-3 div.sk-serial::before {content: \"\";position: absolute;border-left: 1px solid gray;box-sizing: border-box;top: 0;bottom: 0;left: 50%;z-index: 0;}#sk-container-id-3 div.sk-serial {display: flex;flex-direction: column;align-items: center;background-color: white;padding-right: 0.2em;padding-left: 0.2em;position: relative;}#sk-container-id-3 div.sk-item {position: relative;z-index: 1;}#sk-container-id-3 div.sk-parallel {display: flex;align-items: stretch;justify-content: center;background-color: white;position: relative;}#sk-container-id-3 div.sk-item::before, #sk-container-id-3 div.sk-parallel-item::before {content: \"\";position: absolute;border-left: 1px solid gray;box-sizing: border-box;top: 0;bottom: 0;left: 50%;z-index: -1;}#sk-container-id-3 div.sk-parallel-item {display: flex;flex-direction: column;z-index: 1;position: relative;background-color: white;}#sk-container-id-3 div.sk-parallel-item:first-child::after {align-self: flex-end;width: 50%;}#sk-container-id-3 div.sk-parallel-item:last-child::after {align-self: flex-start;width: 50%;}#sk-container-id-3 div.sk-parallel-item:only-child::after {width: 0;}#sk-container-id-3 div.sk-dashed-wrapped {border: 1px dashed gray;margin: 0 0.4em 0.5em 0.4em;box-sizing: border-box;padding-bottom: 0.4em;background-color: white;}#sk-container-id-3 div.sk-label label {font-family: monospace;font-weight: bold;display: inline-block;line-height: 1.2em;}#sk-container-id-3 div.sk-label-container {text-align: center;}#sk-container-id-3 div.sk-container {/* jupyter's `normalize.less` sets `[hidden] { display: none; }` but bootstrap.min.css set `[hidden] { display: none !important; }` so we also need the `!important` here to be able to override the default hidden behavior on the sphinx rendered scikit-learn.org. See: https://github.com/scikit-learn/scikit-learn/issues/21755 */display: inline-block !important;position: relative;}#sk-container-id-3 div.sk-text-repr-fallback {display: none;}</style><div id=\"sk-container-id-3\" class=\"sk-top-container\"><div class=\"sk-text-repr-fallback\"><pre>RandomForestRegressor(random_state=42)</pre><b>In a Jupyter environment, please rerun this cell to show the HTML representation or trust the notebook. <br />On GitHub, the HTML representation is unable to render, please try loading this page with nbviewer.org.</b></div><div class=\"sk-container\" hidden><div class=\"sk-item\"><div class=\"sk-estimator sk-toggleable\"><input class=\"sk-toggleable__control sk-hidden--visually\" id=\"sk-estimator-id-5\" type=\"checkbox\" checked><label for=\"sk-estimator-id-5\" class=\"sk-toggleable__label sk-toggleable__label-arrow\">RandomForestRegressor</label><div class=\"sk-toggleable__content\"><pre>RandomForestRegressor(random_state=42)</pre></div></div></div></div></div>"
            ]
          },
          "metadata": {},
          "execution_count": 74
        }
      ],
      "source": [
        "rf_reg = RandomForestRegressor(n_estimators=100, random_state=42)\n",
        "rf_reg.fit(x_train_std, y_train)"
      ]
    },
    {
      "cell_type": "code",
      "execution_count": 75,
      "metadata": {
        "id": "QsNSUF5BR6A1"
      },
      "outputs": [],
      "source": [
        "y_train_pred = rf_reg.predict(x_train_std)\n",
        "y_test_pred = rf_reg.predict(x_test_std)"
      ]
    },
    {
      "cell_type": "code",
      "execution_count": 76,
      "metadata": {
        "id": "zSRnooVuSoXp",
        "colab": {
          "base_uri": "https://localhost:8080/",
          "height": 143
        },
        "outputId": "e274184c-741e-46be-a692-816d6903492a"
      },
      "outputs": [
        {
          "output_type": "execute_result",
          "data": {
            "text/plain": [
              "             model     train_mse  train_rmse  train_mae  train_r2  \\\n",
              "0               DT    462.945335   21.516165   9.400964  0.988455   \n",
              "1        DT_tuning  27849.553710  166.881856  85.164706  0.305462   \n",
              "2  RandomForestReg   3597.093855   59.975777  29.899259  0.910292   \n",
              "\n",
              "       test_mse   test_rmse    test_mae   test_r2  \n",
              "0  10894.899773  104.378637   64.761696  0.743689  \n",
              "1  51984.835569  228.001832  123.548805 -0.222983  \n",
              "2   5358.262045   73.200151   52.299220  0.873943  "
            ],
            "text/html": [
              "\n",
              "  <div id=\"df-6ed3ca54-e567-4ce2-9c42-3cb0f30cd9a0\">\n",
              "    <div class=\"colab-df-container\">\n",
              "      <div>\n",
              "<style scoped>\n",
              "    .dataframe tbody tr th:only-of-type {\n",
              "        vertical-align: middle;\n",
              "    }\n",
              "\n",
              "    .dataframe tbody tr th {\n",
              "        vertical-align: top;\n",
              "    }\n",
              "\n",
              "    .dataframe thead th {\n",
              "        text-align: right;\n",
              "    }\n",
              "</style>\n",
              "<table border=\"1\" class=\"dataframe\">\n",
              "  <thead>\n",
              "    <tr style=\"text-align: right;\">\n",
              "      <th></th>\n",
              "      <th>model</th>\n",
              "      <th>train_mse</th>\n",
              "      <th>train_rmse</th>\n",
              "      <th>train_mae</th>\n",
              "      <th>train_r2</th>\n",
              "      <th>test_mse</th>\n",
              "      <th>test_rmse</th>\n",
              "      <th>test_mae</th>\n",
              "      <th>test_r2</th>\n",
              "    </tr>\n",
              "  </thead>\n",
              "  <tbody>\n",
              "    <tr>\n",
              "      <th>0</th>\n",
              "      <td>DT</td>\n",
              "      <td>462.945335</td>\n",
              "      <td>21.516165</td>\n",
              "      <td>9.400964</td>\n",
              "      <td>0.988455</td>\n",
              "      <td>10894.899773</td>\n",
              "      <td>104.378637</td>\n",
              "      <td>64.761696</td>\n",
              "      <td>0.743689</td>\n",
              "    </tr>\n",
              "    <tr>\n",
              "      <th>1</th>\n",
              "      <td>DT_tuning</td>\n",
              "      <td>27849.553710</td>\n",
              "      <td>166.881856</td>\n",
              "      <td>85.164706</td>\n",
              "      <td>0.305462</td>\n",
              "      <td>51984.835569</td>\n",
              "      <td>228.001832</td>\n",
              "      <td>123.548805</td>\n",
              "      <td>-0.222983</td>\n",
              "    </tr>\n",
              "    <tr>\n",
              "      <th>2</th>\n",
              "      <td>RandomForestReg</td>\n",
              "      <td>3597.093855</td>\n",
              "      <td>59.975777</td>\n",
              "      <td>29.899259</td>\n",
              "      <td>0.910292</td>\n",
              "      <td>5358.262045</td>\n",
              "      <td>73.200151</td>\n",
              "      <td>52.299220</td>\n",
              "      <td>0.873943</td>\n",
              "    </tr>\n",
              "  </tbody>\n",
              "</table>\n",
              "</div>\n",
              "      <button class=\"colab-df-convert\" onclick=\"convertToInteractive('df-6ed3ca54-e567-4ce2-9c42-3cb0f30cd9a0')\"\n",
              "              title=\"Convert this dataframe to an interactive table.\"\n",
              "              style=\"display:none;\">\n",
              "        \n",
              "  <svg xmlns=\"http://www.w3.org/2000/svg\" height=\"24px\"viewBox=\"0 0 24 24\"\n",
              "       width=\"24px\">\n",
              "    <path d=\"M0 0h24v24H0V0z\" fill=\"none\"/>\n",
              "    <path d=\"M18.56 5.44l.94 2.06.94-2.06 2.06-.94-2.06-.94-.94-2.06-.94 2.06-2.06.94zm-11 1L8.5 8.5l.94-2.06 2.06-.94-2.06-.94L8.5 2.5l-.94 2.06-2.06.94zm10 10l.94 2.06.94-2.06 2.06-.94-2.06-.94-.94-2.06-.94 2.06-2.06.94z\"/><path d=\"M17.41 7.96l-1.37-1.37c-.4-.4-.92-.59-1.43-.59-.52 0-1.04.2-1.43.59L10.3 9.45l-7.72 7.72c-.78.78-.78 2.05 0 2.83L4 21.41c.39.39.9.59 1.41.59.51 0 1.02-.2 1.41-.59l7.78-7.78 2.81-2.81c.8-.78.8-2.07 0-2.86zM5.41 20L4 18.59l7.72-7.72 1.47 1.35L5.41 20z\"/>\n",
              "  </svg>\n",
              "      </button>\n",
              "      \n",
              "  <style>\n",
              "    .colab-df-container {\n",
              "      display:flex;\n",
              "      flex-wrap:wrap;\n",
              "      gap: 12px;\n",
              "    }\n",
              "\n",
              "    .colab-df-convert {\n",
              "      background-color: #E8F0FE;\n",
              "      border: none;\n",
              "      border-radius: 50%;\n",
              "      cursor: pointer;\n",
              "      display: none;\n",
              "      fill: #1967D2;\n",
              "      height: 32px;\n",
              "      padding: 0 0 0 0;\n",
              "      width: 32px;\n",
              "    }\n",
              "\n",
              "    .colab-df-convert:hover {\n",
              "      background-color: #E2EBFA;\n",
              "      box-shadow: 0px 1px 2px rgba(60, 64, 67, 0.3), 0px 1px 3px 1px rgba(60, 64, 67, 0.15);\n",
              "      fill: #174EA6;\n",
              "    }\n",
              "\n",
              "    [theme=dark] .colab-df-convert {\n",
              "      background-color: #3B4455;\n",
              "      fill: #D2E3FC;\n",
              "    }\n",
              "\n",
              "    [theme=dark] .colab-df-convert:hover {\n",
              "      background-color: #434B5C;\n",
              "      box-shadow: 0px 1px 3px 1px rgba(0, 0, 0, 0.15);\n",
              "      filter: drop-shadow(0px 1px 2px rgba(0, 0, 0, 0.3));\n",
              "      fill: #FFFFFF;\n",
              "    }\n",
              "  </style>\n",
              "\n",
              "      <script>\n",
              "        const buttonEl =\n",
              "          document.querySelector('#df-6ed3ca54-e567-4ce2-9c42-3cb0f30cd9a0 button.colab-df-convert');\n",
              "        buttonEl.style.display =\n",
              "          google.colab.kernel.accessAllowed ? 'block' : 'none';\n",
              "\n",
              "        async function convertToInteractive(key) {\n",
              "          const element = document.querySelector('#df-6ed3ca54-e567-4ce2-9c42-3cb0f30cd9a0');\n",
              "          const dataTable =\n",
              "            await google.colab.kernel.invokeFunction('convertToInteractive',\n",
              "                                                     [key], {});\n",
              "          if (!dataTable) return;\n",
              "\n",
              "          const docLinkHtml = 'Like what you see? Visit the ' +\n",
              "            '<a target=\"_blank\" href=https://colab.research.google.com/notebooks/data_table.ipynb>data table notebook</a>'\n",
              "            + ' to learn more about interactive tables.';\n",
              "          element.innerHTML = '';\n",
              "          dataTable['output_type'] = 'display_data';\n",
              "          await google.colab.output.renderOutput(dataTable, element);\n",
              "          const docLink = document.createElement('div');\n",
              "          docLink.innerHTML = docLinkHtml;\n",
              "          element.appendChild(docLink);\n",
              "        }\n",
              "      </script>\n",
              "    </div>\n",
              "  </div>\n",
              "  "
            ]
          },
          "metadata": {},
          "execution_count": 76
        }
      ],
      "source": [
        "scores = Metrics(y_train , y_train_pred ,y_test , y_test_pred , \"RandomForestReg\",scores)\n",
        "scores"
      ]
    },
    {
      "cell_type": "code",
      "execution_count": 77,
      "metadata": {
        "id": "rcgNOvzISyqt",
        "colab": {
          "base_uri": "https://localhost:8080/"
        },
        "outputId": "f8312af5-c9df-4dda-92e4-d1f624e86fb3"
      },
      "outputs": [
        {
          "output_type": "stream",
          "name": "stdout",
          "text": [
            "Best hyperparameters: {'max_depth': None, 'min_samples_leaf': 4, 'min_samples_split': 10, 'n_estimators': 100}\n",
            "Best score: 0.37820287599248714\n"
          ]
        }
      ],
      "source": [
        "from sklearn.model_selection import GridSearchCV\n",
        "\n",
        "# define the hyperparameters to tune\n",
        "param_grid = {\n",
        "    'n_estimators': [50, 100, 200],\n",
        "    'max_depth': [None, 5, 10, 20],\n",
        "    'min_samples_split': [2, 5, 10],\n",
        "    'min_samples_leaf': [1, 2, 4]\n",
        "}\n",
        "\n",
        "# perform grid search cross-validation to find the best hyperparameters\n",
        "grid_search = GridSearchCV(rf_reg, param_grid=param_grid, cv=5, n_jobs=-1)\n",
        "grid_search.fit(x_train_std, y_train)\n",
        "\n",
        "# print the best hyperparameters and their performance\n",
        "print('Best hyperparameters:', grid_search.best_params_)\n",
        "print('Best score:', grid_search.best_score_)\n",
        "\n",
        "# predict on the test data using the best model\n",
        "best_model = grid_search.best_estimator_\n"
      ]
    },
    {
      "cell_type": "code",
      "execution_count": 78,
      "metadata": {
        "id": "xADhDFNqVqIW"
      },
      "outputs": [],
      "source": [
        "y_train_pred = best_model.predict(x_train_std)\n",
        "y_test_pred = best_model.predict(x_test_std)"
      ]
    },
    {
      "cell_type": "code",
      "execution_count": 79,
      "metadata": {
        "id": "wC3TJRBwUZYG",
        "colab": {
          "base_uri": "https://localhost:8080/",
          "height": 175
        },
        "outputId": "bb26b76b-a188-4255-a0bd-ede61a987b01"
      },
      "outputs": [
        {
          "output_type": "execute_result",
          "data": {
            "text/plain": [
              "                 model     train_mse  train_rmse  train_mae  train_r2  \\\n",
              "0                   DT    462.945335   21.516165   9.400964  0.988455   \n",
              "1            DT_tuning  27849.553710  166.881856  85.164706  0.305462   \n",
              "2      RandomForestReg   3597.093855   59.975777  29.899259  0.910292   \n",
              "3  RandomForest_tuning  18836.865167  137.247460  63.272750  0.530229   \n",
              "\n",
              "       test_mse   test_rmse    test_mae   test_r2  \n",
              "0  10894.899773  104.378637   64.761696  0.743689  \n",
              "1  51984.835569  228.001832  123.548805 -0.222983  \n",
              "2   5358.262045   73.200151   52.299220  0.873943  \n",
              "3  25999.910029  161.244876   76.091565  0.388332  "
            ],
            "text/html": [
              "\n",
              "  <div id=\"df-c80e90dd-3b13-462a-8129-4c4bc310f0ef\">\n",
              "    <div class=\"colab-df-container\">\n",
              "      <div>\n",
              "<style scoped>\n",
              "    .dataframe tbody tr th:only-of-type {\n",
              "        vertical-align: middle;\n",
              "    }\n",
              "\n",
              "    .dataframe tbody tr th {\n",
              "        vertical-align: top;\n",
              "    }\n",
              "\n",
              "    .dataframe thead th {\n",
              "        text-align: right;\n",
              "    }\n",
              "</style>\n",
              "<table border=\"1\" class=\"dataframe\">\n",
              "  <thead>\n",
              "    <tr style=\"text-align: right;\">\n",
              "      <th></th>\n",
              "      <th>model</th>\n",
              "      <th>train_mse</th>\n",
              "      <th>train_rmse</th>\n",
              "      <th>train_mae</th>\n",
              "      <th>train_r2</th>\n",
              "      <th>test_mse</th>\n",
              "      <th>test_rmse</th>\n",
              "      <th>test_mae</th>\n",
              "      <th>test_r2</th>\n",
              "    </tr>\n",
              "  </thead>\n",
              "  <tbody>\n",
              "    <tr>\n",
              "      <th>0</th>\n",
              "      <td>DT</td>\n",
              "      <td>462.945335</td>\n",
              "      <td>21.516165</td>\n",
              "      <td>9.400964</td>\n",
              "      <td>0.988455</td>\n",
              "      <td>10894.899773</td>\n",
              "      <td>104.378637</td>\n",
              "      <td>64.761696</td>\n",
              "      <td>0.743689</td>\n",
              "    </tr>\n",
              "    <tr>\n",
              "      <th>1</th>\n",
              "      <td>DT_tuning</td>\n",
              "      <td>27849.553710</td>\n",
              "      <td>166.881856</td>\n",
              "      <td>85.164706</td>\n",
              "      <td>0.305462</td>\n",
              "      <td>51984.835569</td>\n",
              "      <td>228.001832</td>\n",
              "      <td>123.548805</td>\n",
              "      <td>-0.222983</td>\n",
              "    </tr>\n",
              "    <tr>\n",
              "      <th>2</th>\n",
              "      <td>RandomForestReg</td>\n",
              "      <td>3597.093855</td>\n",
              "      <td>59.975777</td>\n",
              "      <td>29.899259</td>\n",
              "      <td>0.910292</td>\n",
              "      <td>5358.262045</td>\n",
              "      <td>73.200151</td>\n",
              "      <td>52.299220</td>\n",
              "      <td>0.873943</td>\n",
              "    </tr>\n",
              "    <tr>\n",
              "      <th>3</th>\n",
              "      <td>RandomForest_tuning</td>\n",
              "      <td>18836.865167</td>\n",
              "      <td>137.247460</td>\n",
              "      <td>63.272750</td>\n",
              "      <td>0.530229</td>\n",
              "      <td>25999.910029</td>\n",
              "      <td>161.244876</td>\n",
              "      <td>76.091565</td>\n",
              "      <td>0.388332</td>\n",
              "    </tr>\n",
              "  </tbody>\n",
              "</table>\n",
              "</div>\n",
              "      <button class=\"colab-df-convert\" onclick=\"convertToInteractive('df-c80e90dd-3b13-462a-8129-4c4bc310f0ef')\"\n",
              "              title=\"Convert this dataframe to an interactive table.\"\n",
              "              style=\"display:none;\">\n",
              "        \n",
              "  <svg xmlns=\"http://www.w3.org/2000/svg\" height=\"24px\"viewBox=\"0 0 24 24\"\n",
              "       width=\"24px\">\n",
              "    <path d=\"M0 0h24v24H0V0z\" fill=\"none\"/>\n",
              "    <path d=\"M18.56 5.44l.94 2.06.94-2.06 2.06-.94-2.06-.94-.94-2.06-.94 2.06-2.06.94zm-11 1L8.5 8.5l.94-2.06 2.06-.94-2.06-.94L8.5 2.5l-.94 2.06-2.06.94zm10 10l.94 2.06.94-2.06 2.06-.94-2.06-.94-.94-2.06-.94 2.06-2.06.94z\"/><path d=\"M17.41 7.96l-1.37-1.37c-.4-.4-.92-.59-1.43-.59-.52 0-1.04.2-1.43.59L10.3 9.45l-7.72 7.72c-.78.78-.78 2.05 0 2.83L4 21.41c.39.39.9.59 1.41.59.51 0 1.02-.2 1.41-.59l7.78-7.78 2.81-2.81c.8-.78.8-2.07 0-2.86zM5.41 20L4 18.59l7.72-7.72 1.47 1.35L5.41 20z\"/>\n",
              "  </svg>\n",
              "      </button>\n",
              "      \n",
              "  <style>\n",
              "    .colab-df-container {\n",
              "      display:flex;\n",
              "      flex-wrap:wrap;\n",
              "      gap: 12px;\n",
              "    }\n",
              "\n",
              "    .colab-df-convert {\n",
              "      background-color: #E8F0FE;\n",
              "      border: none;\n",
              "      border-radius: 50%;\n",
              "      cursor: pointer;\n",
              "      display: none;\n",
              "      fill: #1967D2;\n",
              "      height: 32px;\n",
              "      padding: 0 0 0 0;\n",
              "      width: 32px;\n",
              "    }\n",
              "\n",
              "    .colab-df-convert:hover {\n",
              "      background-color: #E2EBFA;\n",
              "      box-shadow: 0px 1px 2px rgba(60, 64, 67, 0.3), 0px 1px 3px 1px rgba(60, 64, 67, 0.15);\n",
              "      fill: #174EA6;\n",
              "    }\n",
              "\n",
              "    [theme=dark] .colab-df-convert {\n",
              "      background-color: #3B4455;\n",
              "      fill: #D2E3FC;\n",
              "    }\n",
              "\n",
              "    [theme=dark] .colab-df-convert:hover {\n",
              "      background-color: #434B5C;\n",
              "      box-shadow: 0px 1px 3px 1px rgba(0, 0, 0, 0.15);\n",
              "      filter: drop-shadow(0px 1px 2px rgba(0, 0, 0, 0.3));\n",
              "      fill: #FFFFFF;\n",
              "    }\n",
              "  </style>\n",
              "\n",
              "      <script>\n",
              "        const buttonEl =\n",
              "          document.querySelector('#df-c80e90dd-3b13-462a-8129-4c4bc310f0ef button.colab-df-convert');\n",
              "        buttonEl.style.display =\n",
              "          google.colab.kernel.accessAllowed ? 'block' : 'none';\n",
              "\n",
              "        async function convertToInteractive(key) {\n",
              "          const element = document.querySelector('#df-c80e90dd-3b13-462a-8129-4c4bc310f0ef');\n",
              "          const dataTable =\n",
              "            await google.colab.kernel.invokeFunction('convertToInteractive',\n",
              "                                                     [key], {});\n",
              "          if (!dataTable) return;\n",
              "\n",
              "          const docLinkHtml = 'Like what you see? Visit the ' +\n",
              "            '<a target=\"_blank\" href=https://colab.research.google.com/notebooks/data_table.ipynb>data table notebook</a>'\n",
              "            + ' to learn more about interactive tables.';\n",
              "          element.innerHTML = '';\n",
              "          dataTable['output_type'] = 'display_data';\n",
              "          await google.colab.output.renderOutput(dataTable, element);\n",
              "          const docLink = document.createElement('div');\n",
              "          docLink.innerHTML = docLinkHtml;\n",
              "          element.appendChild(docLink);\n",
              "        }\n",
              "      </script>\n",
              "    </div>\n",
              "  </div>\n",
              "  "
            ]
          },
          "metadata": {},
          "execution_count": 79
        }
      ],
      "source": [
        "scores = Metrics(y_train , y_train_pred ,y_test , y_test_pred , \"RandomForest_tuning\",scores)\n",
        "scores"
      ]
    },
    {
      "cell_type": "code",
      "execution_count": 80,
      "metadata": {
        "id": "kWW-uMF0Vhpn"
      },
      "outputs": [],
      "source": [
        "import xgboost as xgb\n",
        "xgb_reg = xgb.XGBRegressor(objective='reg:squarederror', random_state=42)\n",
        "xgb_reg.fit(x_train_std, y_train)\n",
        "y_pred_train = xgb_reg.predict(x_train_std)\n",
        "y_test_pred = xgb_reg.predict(x_test_std)"
      ]
    },
    {
      "cell_type": "code",
      "execution_count": 81,
      "metadata": {
        "id": "jzc2pzuBWls_",
        "colab": {
          "base_uri": "https://localhost:8080/",
          "height": 206
        },
        "outputId": "a53fdd54-3c71-448c-9d07-43e14294e323"
      },
      "outputs": [
        {
          "output_type": "execute_result",
          "data": {
            "text/plain": [
              "                 model     train_mse  train_rmse  train_mae  train_r2  \\\n",
              "0                   DT    462.945335   21.516165   9.400964  0.988455   \n",
              "1            DT_tuning  27849.553710  166.881856  85.164706  0.305462   \n",
              "2      RandomForestReg   3597.093855   59.975777  29.899259  0.910292   \n",
              "3  RandomForest_tuning  18836.865167  137.247460  63.272750  0.530229   \n",
              "4                  XGB  18836.865167  137.247460  63.272750  0.530229   \n",
              "\n",
              "       test_mse   test_rmse    test_mae   test_r2  \n",
              "0  10894.899773  104.378637   64.761696  0.743689  \n",
              "1  51984.835569  228.001832  123.548805 -0.222983  \n",
              "2   5358.262045   73.200151   52.299220  0.873943  \n",
              "3  25999.910029  161.244876   76.091565  0.388332  \n",
              "4  12910.031380  113.622319   71.375374  0.696282  "
            ],
            "text/html": [
              "\n",
              "  <div id=\"df-683d4b8f-e0b7-4bd6-a5b9-6dcc0c1507a9\">\n",
              "    <div class=\"colab-df-container\">\n",
              "      <div>\n",
              "<style scoped>\n",
              "    .dataframe tbody tr th:only-of-type {\n",
              "        vertical-align: middle;\n",
              "    }\n",
              "\n",
              "    .dataframe tbody tr th {\n",
              "        vertical-align: top;\n",
              "    }\n",
              "\n",
              "    .dataframe thead th {\n",
              "        text-align: right;\n",
              "    }\n",
              "</style>\n",
              "<table border=\"1\" class=\"dataframe\">\n",
              "  <thead>\n",
              "    <tr style=\"text-align: right;\">\n",
              "      <th></th>\n",
              "      <th>model</th>\n",
              "      <th>train_mse</th>\n",
              "      <th>train_rmse</th>\n",
              "      <th>train_mae</th>\n",
              "      <th>train_r2</th>\n",
              "      <th>test_mse</th>\n",
              "      <th>test_rmse</th>\n",
              "      <th>test_mae</th>\n",
              "      <th>test_r2</th>\n",
              "    </tr>\n",
              "  </thead>\n",
              "  <tbody>\n",
              "    <tr>\n",
              "      <th>0</th>\n",
              "      <td>DT</td>\n",
              "      <td>462.945335</td>\n",
              "      <td>21.516165</td>\n",
              "      <td>9.400964</td>\n",
              "      <td>0.988455</td>\n",
              "      <td>10894.899773</td>\n",
              "      <td>104.378637</td>\n",
              "      <td>64.761696</td>\n",
              "      <td>0.743689</td>\n",
              "    </tr>\n",
              "    <tr>\n",
              "      <th>1</th>\n",
              "      <td>DT_tuning</td>\n",
              "      <td>27849.553710</td>\n",
              "      <td>166.881856</td>\n",
              "      <td>85.164706</td>\n",
              "      <td>0.305462</td>\n",
              "      <td>51984.835569</td>\n",
              "      <td>228.001832</td>\n",
              "      <td>123.548805</td>\n",
              "      <td>-0.222983</td>\n",
              "    </tr>\n",
              "    <tr>\n",
              "      <th>2</th>\n",
              "      <td>RandomForestReg</td>\n",
              "      <td>3597.093855</td>\n",
              "      <td>59.975777</td>\n",
              "      <td>29.899259</td>\n",
              "      <td>0.910292</td>\n",
              "      <td>5358.262045</td>\n",
              "      <td>73.200151</td>\n",
              "      <td>52.299220</td>\n",
              "      <td>0.873943</td>\n",
              "    </tr>\n",
              "    <tr>\n",
              "      <th>3</th>\n",
              "      <td>RandomForest_tuning</td>\n",
              "      <td>18836.865167</td>\n",
              "      <td>137.247460</td>\n",
              "      <td>63.272750</td>\n",
              "      <td>0.530229</td>\n",
              "      <td>25999.910029</td>\n",
              "      <td>161.244876</td>\n",
              "      <td>76.091565</td>\n",
              "      <td>0.388332</td>\n",
              "    </tr>\n",
              "    <tr>\n",
              "      <th>4</th>\n",
              "      <td>XGB</td>\n",
              "      <td>18836.865167</td>\n",
              "      <td>137.247460</td>\n",
              "      <td>63.272750</td>\n",
              "      <td>0.530229</td>\n",
              "      <td>12910.031380</td>\n",
              "      <td>113.622319</td>\n",
              "      <td>71.375374</td>\n",
              "      <td>0.696282</td>\n",
              "    </tr>\n",
              "  </tbody>\n",
              "</table>\n",
              "</div>\n",
              "      <button class=\"colab-df-convert\" onclick=\"convertToInteractive('df-683d4b8f-e0b7-4bd6-a5b9-6dcc0c1507a9')\"\n",
              "              title=\"Convert this dataframe to an interactive table.\"\n",
              "              style=\"display:none;\">\n",
              "        \n",
              "  <svg xmlns=\"http://www.w3.org/2000/svg\" height=\"24px\"viewBox=\"0 0 24 24\"\n",
              "       width=\"24px\">\n",
              "    <path d=\"M0 0h24v24H0V0z\" fill=\"none\"/>\n",
              "    <path d=\"M18.56 5.44l.94 2.06.94-2.06 2.06-.94-2.06-.94-.94-2.06-.94 2.06-2.06.94zm-11 1L8.5 8.5l.94-2.06 2.06-.94-2.06-.94L8.5 2.5l-.94 2.06-2.06.94zm10 10l.94 2.06.94-2.06 2.06-.94-2.06-.94-.94-2.06-.94 2.06-2.06.94z\"/><path d=\"M17.41 7.96l-1.37-1.37c-.4-.4-.92-.59-1.43-.59-.52 0-1.04.2-1.43.59L10.3 9.45l-7.72 7.72c-.78.78-.78 2.05 0 2.83L4 21.41c.39.39.9.59 1.41.59.51 0 1.02-.2 1.41-.59l7.78-7.78 2.81-2.81c.8-.78.8-2.07 0-2.86zM5.41 20L4 18.59l7.72-7.72 1.47 1.35L5.41 20z\"/>\n",
              "  </svg>\n",
              "      </button>\n",
              "      \n",
              "  <style>\n",
              "    .colab-df-container {\n",
              "      display:flex;\n",
              "      flex-wrap:wrap;\n",
              "      gap: 12px;\n",
              "    }\n",
              "\n",
              "    .colab-df-convert {\n",
              "      background-color: #E8F0FE;\n",
              "      border: none;\n",
              "      border-radius: 50%;\n",
              "      cursor: pointer;\n",
              "      display: none;\n",
              "      fill: #1967D2;\n",
              "      height: 32px;\n",
              "      padding: 0 0 0 0;\n",
              "      width: 32px;\n",
              "    }\n",
              "\n",
              "    .colab-df-convert:hover {\n",
              "      background-color: #E2EBFA;\n",
              "      box-shadow: 0px 1px 2px rgba(60, 64, 67, 0.3), 0px 1px 3px 1px rgba(60, 64, 67, 0.15);\n",
              "      fill: #174EA6;\n",
              "    }\n",
              "\n",
              "    [theme=dark] .colab-df-convert {\n",
              "      background-color: #3B4455;\n",
              "      fill: #D2E3FC;\n",
              "    }\n",
              "\n",
              "    [theme=dark] .colab-df-convert:hover {\n",
              "      background-color: #434B5C;\n",
              "      box-shadow: 0px 1px 3px 1px rgba(0, 0, 0, 0.15);\n",
              "      filter: drop-shadow(0px 1px 2px rgba(0, 0, 0, 0.3));\n",
              "      fill: #FFFFFF;\n",
              "    }\n",
              "  </style>\n",
              "\n",
              "      <script>\n",
              "        const buttonEl =\n",
              "          document.querySelector('#df-683d4b8f-e0b7-4bd6-a5b9-6dcc0c1507a9 button.colab-df-convert');\n",
              "        buttonEl.style.display =\n",
              "          google.colab.kernel.accessAllowed ? 'block' : 'none';\n",
              "\n",
              "        async function convertToInteractive(key) {\n",
              "          const element = document.querySelector('#df-683d4b8f-e0b7-4bd6-a5b9-6dcc0c1507a9');\n",
              "          const dataTable =\n",
              "            await google.colab.kernel.invokeFunction('convertToInteractive',\n",
              "                                                     [key], {});\n",
              "          if (!dataTable) return;\n",
              "\n",
              "          const docLinkHtml = 'Like what you see? Visit the ' +\n",
              "            '<a target=\"_blank\" href=https://colab.research.google.com/notebooks/data_table.ipynb>data table notebook</a>'\n",
              "            + ' to learn more about interactive tables.';\n",
              "          element.innerHTML = '';\n",
              "          dataTable['output_type'] = 'display_data';\n",
              "          await google.colab.output.renderOutput(dataTable, element);\n",
              "          const docLink = document.createElement('div');\n",
              "          docLink.innerHTML = docLinkHtml;\n",
              "          element.appendChild(docLink);\n",
              "        }\n",
              "      </script>\n",
              "    </div>\n",
              "  </div>\n",
              "  "
            ]
          },
          "metadata": {},
          "execution_count": 81
        }
      ],
      "source": [
        "scores = Metrics(y_train , y_train_pred ,y_test , y_test_pred , \"XGB\",scores)\n",
        "scores"
      ]
    },
    {
      "cell_type": "code",
      "execution_count": 82,
      "metadata": {
        "id": "zH1cZOj6Wphw",
        "colab": {
          "base_uri": "https://localhost:8080/"
        },
        "outputId": "547c1057-cbe6-409c-819a-131087906d68"
      },
      "outputs": [
        {
          "output_type": "stream",
          "name": "stdout",
          "text": [
            "Best hyperparameters: {'subsample': 1.0, 'n_estimators': 300, 'max_depth': 7, 'learning_rate': 0.3130612244897959, 'colsample_bytree': 0.8421052631578947}\n",
            "Best score: -0.3765252230265138\n"
          ]
        }
      ],
      "source": [
        "from sklearn.model_selection import train_test_split, RandomizedSearchCV\n",
        "# define the hyperparameters and their distributions for the random search\n",
        "hyperparameters = {\n",
        "    'learning_rate': np.linspace(0.01, 1, 50),\n",
        "    'max_depth': [3, 5, 7],\n",
        "    'n_estimators': [100, 200, 300],\n",
        "    'subsample': np.linspace(0.5, 1, 20),\n",
        "    'colsample_bytree': np.linspace(0.5, 1, 20)\n",
        "}\n",
        "random_search = RandomizedSearchCV(xgb_reg, hyperparameters, n_iter=50, cv=5, random_state=42)\n",
        "random_search.fit(x_train_std, y_train) \n",
        "print('Best hyperparameters:', random_search.best_params_)\n",
        "print('Best score:', -random_search.best_score_)   "
      ]
    },
    {
      "cell_type": "code",
      "execution_count": 83,
      "metadata": {
        "id": "XC0ImxMtYajh"
      },
      "outputs": [],
      "source": [
        "# predict on the test data using the best model\n",
        "y_train_pred = random_search.predict(x_train_std)\n",
        "y_test_pred  = random_search.predict(x_test_std)"
      ]
    },
    {
      "cell_type": "code",
      "execution_count": 84,
      "metadata": {
        "id": "qfWmJAPdZfEN",
        "colab": {
          "base_uri": "https://localhost:8080/",
          "height": 237
        },
        "outputId": "8f5aa51f-f023-4951-a4d2-e8e24cb6d826"
      },
      "outputs": [
        {
          "output_type": "execute_result",
          "data": {
            "text/plain": [
              "                 model     train_mse  train_rmse  train_mae  train_r2  \\\n",
              "0                   DT    462.945335   21.516165   9.400964  0.988455   \n",
              "1            DT_tuning  27849.553710  166.881856  85.164706  0.305462   \n",
              "2      RandomForestReg   3597.093855   59.975777  29.899259  0.910292   \n",
              "3  RandomForest_tuning  18836.865167  137.247460  63.272750  0.530229   \n",
              "4                  XGB  18836.865167  137.247460  63.272750  0.530229   \n",
              "5           XGB_tuning    462.945350   21.516165   9.402344  0.988455   \n",
              "\n",
              "       test_mse   test_rmse    test_mae   test_r2  \n",
              "0  10894.899773  104.378637   64.761696  0.743689  \n",
              "1  51984.835569  228.001832  123.548805 -0.222983  \n",
              "2   5358.262045   73.200151   52.299220  0.873943  \n",
              "3  25999.910029  161.244876   76.091565  0.388332  \n",
              "4  12910.031380  113.622319   71.375374  0.696282  \n",
              "5  14895.940817  122.048928   81.135732  0.649562  "
            ],
            "text/html": [
              "\n",
              "  <div id=\"df-9b467010-72fa-466a-8b09-6b79a7c62f98\">\n",
              "    <div class=\"colab-df-container\">\n",
              "      <div>\n",
              "<style scoped>\n",
              "    .dataframe tbody tr th:only-of-type {\n",
              "        vertical-align: middle;\n",
              "    }\n",
              "\n",
              "    .dataframe tbody tr th {\n",
              "        vertical-align: top;\n",
              "    }\n",
              "\n",
              "    .dataframe thead th {\n",
              "        text-align: right;\n",
              "    }\n",
              "</style>\n",
              "<table border=\"1\" class=\"dataframe\">\n",
              "  <thead>\n",
              "    <tr style=\"text-align: right;\">\n",
              "      <th></th>\n",
              "      <th>model</th>\n",
              "      <th>train_mse</th>\n",
              "      <th>train_rmse</th>\n",
              "      <th>train_mae</th>\n",
              "      <th>train_r2</th>\n",
              "      <th>test_mse</th>\n",
              "      <th>test_rmse</th>\n",
              "      <th>test_mae</th>\n",
              "      <th>test_r2</th>\n",
              "    </tr>\n",
              "  </thead>\n",
              "  <tbody>\n",
              "    <tr>\n",
              "      <th>0</th>\n",
              "      <td>DT</td>\n",
              "      <td>462.945335</td>\n",
              "      <td>21.516165</td>\n",
              "      <td>9.400964</td>\n",
              "      <td>0.988455</td>\n",
              "      <td>10894.899773</td>\n",
              "      <td>104.378637</td>\n",
              "      <td>64.761696</td>\n",
              "      <td>0.743689</td>\n",
              "    </tr>\n",
              "    <tr>\n",
              "      <th>1</th>\n",
              "      <td>DT_tuning</td>\n",
              "      <td>27849.553710</td>\n",
              "      <td>166.881856</td>\n",
              "      <td>85.164706</td>\n",
              "      <td>0.305462</td>\n",
              "      <td>51984.835569</td>\n",
              "      <td>228.001832</td>\n",
              "      <td>123.548805</td>\n",
              "      <td>-0.222983</td>\n",
              "    </tr>\n",
              "    <tr>\n",
              "      <th>2</th>\n",
              "      <td>RandomForestReg</td>\n",
              "      <td>3597.093855</td>\n",
              "      <td>59.975777</td>\n",
              "      <td>29.899259</td>\n",
              "      <td>0.910292</td>\n",
              "      <td>5358.262045</td>\n",
              "      <td>73.200151</td>\n",
              "      <td>52.299220</td>\n",
              "      <td>0.873943</td>\n",
              "    </tr>\n",
              "    <tr>\n",
              "      <th>3</th>\n",
              "      <td>RandomForest_tuning</td>\n",
              "      <td>18836.865167</td>\n",
              "      <td>137.247460</td>\n",
              "      <td>63.272750</td>\n",
              "      <td>0.530229</td>\n",
              "      <td>25999.910029</td>\n",
              "      <td>161.244876</td>\n",
              "      <td>76.091565</td>\n",
              "      <td>0.388332</td>\n",
              "    </tr>\n",
              "    <tr>\n",
              "      <th>4</th>\n",
              "      <td>XGB</td>\n",
              "      <td>18836.865167</td>\n",
              "      <td>137.247460</td>\n",
              "      <td>63.272750</td>\n",
              "      <td>0.530229</td>\n",
              "      <td>12910.031380</td>\n",
              "      <td>113.622319</td>\n",
              "      <td>71.375374</td>\n",
              "      <td>0.696282</td>\n",
              "    </tr>\n",
              "    <tr>\n",
              "      <th>5</th>\n",
              "      <td>XGB_tuning</td>\n",
              "      <td>462.945350</td>\n",
              "      <td>21.516165</td>\n",
              "      <td>9.402344</td>\n",
              "      <td>0.988455</td>\n",
              "      <td>14895.940817</td>\n",
              "      <td>122.048928</td>\n",
              "      <td>81.135732</td>\n",
              "      <td>0.649562</td>\n",
              "    </tr>\n",
              "  </tbody>\n",
              "</table>\n",
              "</div>\n",
              "      <button class=\"colab-df-convert\" onclick=\"convertToInteractive('df-9b467010-72fa-466a-8b09-6b79a7c62f98')\"\n",
              "              title=\"Convert this dataframe to an interactive table.\"\n",
              "              style=\"display:none;\">\n",
              "        \n",
              "  <svg xmlns=\"http://www.w3.org/2000/svg\" height=\"24px\"viewBox=\"0 0 24 24\"\n",
              "       width=\"24px\">\n",
              "    <path d=\"M0 0h24v24H0V0z\" fill=\"none\"/>\n",
              "    <path d=\"M18.56 5.44l.94 2.06.94-2.06 2.06-.94-2.06-.94-.94-2.06-.94 2.06-2.06.94zm-11 1L8.5 8.5l.94-2.06 2.06-.94-2.06-.94L8.5 2.5l-.94 2.06-2.06.94zm10 10l.94 2.06.94-2.06 2.06-.94-2.06-.94-.94-2.06-.94 2.06-2.06.94z\"/><path d=\"M17.41 7.96l-1.37-1.37c-.4-.4-.92-.59-1.43-.59-.52 0-1.04.2-1.43.59L10.3 9.45l-7.72 7.72c-.78.78-.78 2.05 0 2.83L4 21.41c.39.39.9.59 1.41.59.51 0 1.02-.2 1.41-.59l7.78-7.78 2.81-2.81c.8-.78.8-2.07 0-2.86zM5.41 20L4 18.59l7.72-7.72 1.47 1.35L5.41 20z\"/>\n",
              "  </svg>\n",
              "      </button>\n",
              "      \n",
              "  <style>\n",
              "    .colab-df-container {\n",
              "      display:flex;\n",
              "      flex-wrap:wrap;\n",
              "      gap: 12px;\n",
              "    }\n",
              "\n",
              "    .colab-df-convert {\n",
              "      background-color: #E8F0FE;\n",
              "      border: none;\n",
              "      border-radius: 50%;\n",
              "      cursor: pointer;\n",
              "      display: none;\n",
              "      fill: #1967D2;\n",
              "      height: 32px;\n",
              "      padding: 0 0 0 0;\n",
              "      width: 32px;\n",
              "    }\n",
              "\n",
              "    .colab-df-convert:hover {\n",
              "      background-color: #E2EBFA;\n",
              "      box-shadow: 0px 1px 2px rgba(60, 64, 67, 0.3), 0px 1px 3px 1px rgba(60, 64, 67, 0.15);\n",
              "      fill: #174EA6;\n",
              "    }\n",
              "\n",
              "    [theme=dark] .colab-df-convert {\n",
              "      background-color: #3B4455;\n",
              "      fill: #D2E3FC;\n",
              "    }\n",
              "\n",
              "    [theme=dark] .colab-df-convert:hover {\n",
              "      background-color: #434B5C;\n",
              "      box-shadow: 0px 1px 3px 1px rgba(0, 0, 0, 0.15);\n",
              "      filter: drop-shadow(0px 1px 2px rgba(0, 0, 0, 0.3));\n",
              "      fill: #FFFFFF;\n",
              "    }\n",
              "  </style>\n",
              "\n",
              "      <script>\n",
              "        const buttonEl =\n",
              "          document.querySelector('#df-9b467010-72fa-466a-8b09-6b79a7c62f98 button.colab-df-convert');\n",
              "        buttonEl.style.display =\n",
              "          google.colab.kernel.accessAllowed ? 'block' : 'none';\n",
              "\n",
              "        async function convertToInteractive(key) {\n",
              "          const element = document.querySelector('#df-9b467010-72fa-466a-8b09-6b79a7c62f98');\n",
              "          const dataTable =\n",
              "            await google.colab.kernel.invokeFunction('convertToInteractive',\n",
              "                                                     [key], {});\n",
              "          if (!dataTable) return;\n",
              "\n",
              "          const docLinkHtml = 'Like what you see? Visit the ' +\n",
              "            '<a target=\"_blank\" href=https://colab.research.google.com/notebooks/data_table.ipynb>data table notebook</a>'\n",
              "            + ' to learn more about interactive tables.';\n",
              "          element.innerHTML = '';\n",
              "          dataTable['output_type'] = 'display_data';\n",
              "          await google.colab.output.renderOutput(dataTable, element);\n",
              "          const docLink = document.createElement('div');\n",
              "          docLink.innerHTML = docLinkHtml;\n",
              "          element.appendChild(docLink);\n",
              "        }\n",
              "      </script>\n",
              "    </div>\n",
              "  </div>\n",
              "  "
            ]
          },
          "metadata": {},
          "execution_count": 84
        }
      ],
      "source": [
        "scores = Metrics(y_train , y_train_pred ,y_test , y_test_pred , \"XGB_tuning\",scores)\n",
        "scores"
      ]
    },
    {
      "cell_type": "code",
      "execution_count": 85,
      "metadata": {
        "id": "XhRQn_6WkRzs"
      },
      "outputs": [],
      "source": [
        "import pickle\n",
        "pickle.dump(rf_reg, open('model.pkl','wb'))\n",
        "\n"
      ]
    },
    {
      "cell_type": "code",
      "execution_count": 86,
      "metadata": {
        "id": "vC-5Vi5HkjwE"
      },
      "outputs": [],
      "source": [
        "model = pickle.load(open('model.pkl','rb'))"
      ]
    },
    {
      "cell_type": "code",
      "source": [
        "pickle.dump(scaler,open(\"scaler.pkl\",\"wb\"))\n",
        "scaler = pickle.load(open(\"scaler.pkl\",\"rb\"))"
      ],
      "metadata": {
        "id": "U7Id9pUNnEwZ"
      },
      "execution_count": 87,
      "outputs": []
    }
  ],
  "metadata": {
    "colab": {
      "provenance": []
    },
    "kernelspec": {
      "display_name": "Python 3",
      "name": "python3"
    },
    "language_info": {
      "name": "python"
    }
  },
  "nbformat": 4,
  "nbformat_minor": 0
}