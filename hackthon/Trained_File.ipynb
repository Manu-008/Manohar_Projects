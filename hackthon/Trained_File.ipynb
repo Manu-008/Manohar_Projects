{
  "cells": [
    {
      "cell_type": "code",
      "execution_count": null,
      "metadata": {
        "id": "mLcg-7H92OEZ"
      },
      "outputs": [],
      "source": [
        "import pandas as pd\n",
        "import numpy as np\n",
        "import matplotlib.pyplot as plt\n",
        "import seaborn as sns"
      ]
    },
    {
      "cell_type": "code",
      "execution_count": null,
      "metadata": {
        "id": "SXIrTVMZ2vC_"
      },
      "outputs": [],
      "source": [
        "insurance_claim = pd.read_csv(\"Insurance_Claim_Info_data.csv\")\n",
        "insurance_Date = pd.read_csv(\"Insurance_Date_data.csv\")\n",
        "insurance_Result = pd.read_csv(\"Insurance_Result_data.csv\")"
      ]
    },
    {
      "cell_type": "code",
      "execution_count": null,
      "metadata": {
        "colab": {
          "base_uri": "https://localhost:8080/",
          "height": 206
        },
        "id": "cH5_9Dz17J7L",
        "outputId": "9f73096c-d128-47e9-df49-6661bb8e2647"
      },
      "outputs": [
        {
          "output_type": "execute_result",
          "data": {
            "text/plain": [
              "  Claim Number City Code     City         Enterprise Type     Claim Type  \\\n",
              "0   DQW1NZO0PL       NSK   Nashik  Public Limited Company  Property Loss   \n",
              "1   JS5GAPRN5B       BOM   Mumbai      One Person Company  Property Loss   \n",
              "2   ZTSVAQSEAQ       LKO  Lucknow  Public Limited Company  Property Loss   \n",
              "3   EW7NWHI7LI       DEL    Delhi     Sole Proprietorship  Property Loss   \n",
              "4   UJOFDC41EL       DEL    Delhi      One Person Company  Property Loss   \n",
              "\n",
              "   Claim Site                             Product Insured  \n",
              "0  In Transit                    Inventory - Raw Material  \n",
              "1  In Transit  Cameras and other Misc. Security Equipment  \n",
              "2  In Transit                                    Fixtures  \n",
              "3  In Transit                            Pumps and Motors  \n",
              "4  In Transit                     Misc. Engineering Tools  "
            ],
            "text/html": [
              "\n",
              "  <div id=\"df-dd58f801-0031-4f4e-b2d9-335f1826e6d7\">\n",
              "    <div class=\"colab-df-container\">\n",
              "      <div>\n",
              "<style scoped>\n",
              "    .dataframe tbody tr th:only-of-type {\n",
              "        vertical-align: middle;\n",
              "    }\n",
              "\n",
              "    .dataframe tbody tr th {\n",
              "        vertical-align: top;\n",
              "    }\n",
              "\n",
              "    .dataframe thead th {\n",
              "        text-align: right;\n",
              "    }\n",
              "</style>\n",
              "<table border=\"1\" class=\"dataframe\">\n",
              "  <thead>\n",
              "    <tr style=\"text-align: right;\">\n",
              "      <th></th>\n",
              "      <th>Claim Number</th>\n",
              "      <th>City Code</th>\n",
              "      <th>City</th>\n",
              "      <th>Enterprise Type</th>\n",
              "      <th>Claim Type</th>\n",
              "      <th>Claim Site</th>\n",
              "      <th>Product Insured</th>\n",
              "    </tr>\n",
              "  </thead>\n",
              "  <tbody>\n",
              "    <tr>\n",
              "      <th>0</th>\n",
              "      <td>DQW1NZO0PL</td>\n",
              "      <td>NSK</td>\n",
              "      <td>Nashik</td>\n",
              "      <td>Public Limited Company</td>\n",
              "      <td>Property Loss</td>\n",
              "      <td>In Transit</td>\n",
              "      <td>Inventory - Raw Material</td>\n",
              "    </tr>\n",
              "    <tr>\n",
              "      <th>1</th>\n",
              "      <td>JS5GAPRN5B</td>\n",
              "      <td>BOM</td>\n",
              "      <td>Mumbai</td>\n",
              "      <td>One Person Company</td>\n",
              "      <td>Property Loss</td>\n",
              "      <td>In Transit</td>\n",
              "      <td>Cameras and other Misc. Security Equipment</td>\n",
              "    </tr>\n",
              "    <tr>\n",
              "      <th>2</th>\n",
              "      <td>ZTSVAQSEAQ</td>\n",
              "      <td>LKO</td>\n",
              "      <td>Lucknow</td>\n",
              "      <td>Public Limited Company</td>\n",
              "      <td>Property Loss</td>\n",
              "      <td>In Transit</td>\n",
              "      <td>Fixtures</td>\n",
              "    </tr>\n",
              "    <tr>\n",
              "      <th>3</th>\n",
              "      <td>EW7NWHI7LI</td>\n",
              "      <td>DEL</td>\n",
              "      <td>Delhi</td>\n",
              "      <td>Sole Proprietorship</td>\n",
              "      <td>Property Loss</td>\n",
              "      <td>In Transit</td>\n",
              "      <td>Pumps and Motors</td>\n",
              "    </tr>\n",
              "    <tr>\n",
              "      <th>4</th>\n",
              "      <td>UJOFDC41EL</td>\n",
              "      <td>DEL</td>\n",
              "      <td>Delhi</td>\n",
              "      <td>One Person Company</td>\n",
              "      <td>Property Loss</td>\n",
              "      <td>In Transit</td>\n",
              "      <td>Misc. Engineering Tools</td>\n",
              "    </tr>\n",
              "  </tbody>\n",
              "</table>\n",
              "</div>\n",
              "      <button class=\"colab-df-convert\" onclick=\"convertToInteractive('df-dd58f801-0031-4f4e-b2d9-335f1826e6d7')\"\n",
              "              title=\"Convert this dataframe to an interactive table.\"\n",
              "              style=\"display:none;\">\n",
              "        \n",
              "  <svg xmlns=\"http://www.w3.org/2000/svg\" height=\"24px\"viewBox=\"0 0 24 24\"\n",
              "       width=\"24px\">\n",
              "    <path d=\"M0 0h24v24H0V0z\" fill=\"none\"/>\n",
              "    <path d=\"M18.56 5.44l.94 2.06.94-2.06 2.06-.94-2.06-.94-.94-2.06-.94 2.06-2.06.94zm-11 1L8.5 8.5l.94-2.06 2.06-.94-2.06-.94L8.5 2.5l-.94 2.06-2.06.94zm10 10l.94 2.06.94-2.06 2.06-.94-2.06-.94-.94-2.06-.94 2.06-2.06.94z\"/><path d=\"M17.41 7.96l-1.37-1.37c-.4-.4-.92-.59-1.43-.59-.52 0-1.04.2-1.43.59L10.3 9.45l-7.72 7.72c-.78.78-.78 2.05 0 2.83L4 21.41c.39.39.9.59 1.41.59.51 0 1.02-.2 1.41-.59l7.78-7.78 2.81-2.81c.8-.78.8-2.07 0-2.86zM5.41 20L4 18.59l7.72-7.72 1.47 1.35L5.41 20z\"/>\n",
              "  </svg>\n",
              "      </button>\n",
              "      \n",
              "  <style>\n",
              "    .colab-df-container {\n",
              "      display:flex;\n",
              "      flex-wrap:wrap;\n",
              "      gap: 12px;\n",
              "    }\n",
              "\n",
              "    .colab-df-convert {\n",
              "      background-color: #E8F0FE;\n",
              "      border: none;\n",
              "      border-radius: 50%;\n",
              "      cursor: pointer;\n",
              "      display: none;\n",
              "      fill: #1967D2;\n",
              "      height: 32px;\n",
              "      padding: 0 0 0 0;\n",
              "      width: 32px;\n",
              "    }\n",
              "\n",
              "    .colab-df-convert:hover {\n",
              "      background-color: #E2EBFA;\n",
              "      box-shadow: 0px 1px 2px rgba(60, 64, 67, 0.3), 0px 1px 3px 1px rgba(60, 64, 67, 0.15);\n",
              "      fill: #174EA6;\n",
              "    }\n",
              "\n",
              "    [theme=dark] .colab-df-convert {\n",
              "      background-color: #3B4455;\n",
              "      fill: #D2E3FC;\n",
              "    }\n",
              "\n",
              "    [theme=dark] .colab-df-convert:hover {\n",
              "      background-color: #434B5C;\n",
              "      box-shadow: 0px 1px 3px 1px rgba(0, 0, 0, 0.15);\n",
              "      filter: drop-shadow(0px 1px 2px rgba(0, 0, 0, 0.3));\n",
              "      fill: #FFFFFF;\n",
              "    }\n",
              "  </style>\n",
              "\n",
              "      <script>\n",
              "        const buttonEl =\n",
              "          document.querySelector('#df-dd58f801-0031-4f4e-b2d9-335f1826e6d7 button.colab-df-convert');\n",
              "        buttonEl.style.display =\n",
              "          google.colab.kernel.accessAllowed ? 'block' : 'none';\n",
              "\n",
              "        async function convertToInteractive(key) {\n",
              "          const element = document.querySelector('#df-dd58f801-0031-4f4e-b2d9-335f1826e6d7');\n",
              "          const dataTable =\n",
              "            await google.colab.kernel.invokeFunction('convertToInteractive',\n",
              "                                                     [key], {});\n",
              "          if (!dataTable) return;\n",
              "\n",
              "          const docLinkHtml = 'Like what you see? Visit the ' +\n",
              "            '<a target=\"_blank\" href=https://colab.research.google.com/notebooks/data_table.ipynb>data table notebook</a>'\n",
              "            + ' to learn more about interactive tables.';\n",
              "          element.innerHTML = '';\n",
              "          dataTable['output_type'] = 'display_data';\n",
              "          await google.colab.output.renderOutput(dataTable, element);\n",
              "          const docLink = document.createElement('div');\n",
              "          docLink.innerHTML = docLinkHtml;\n",
              "          element.appendChild(docLink);\n",
              "        }\n",
              "      </script>\n",
              "    </div>\n",
              "  </div>\n",
              "  "
            ]
          },
          "metadata": {},
          "execution_count": 139
        }
      ],
      "source": [
        "insurance_claim.head()"
      ]
    },
    {
      "cell_type": "code",
      "execution_count": null,
      "metadata": {
        "id": "xlZimshz94o0"
      },
      "outputs": [],
      "source": [
        "insurance_claim.sort_values(\"Claim Number\",ascending=True,inplace = True)"
      ]
    },
    {
      "cell_type": "code",
      "execution_count": null,
      "metadata": {
        "id": "05wTcckOAc7M"
      },
      "outputs": [],
      "source": []
    },
    {
      "cell_type": "code",
      "execution_count": null,
      "metadata": {
        "colab": {
          "base_uri": "https://localhost:8080/",
          "height": 206
        },
        "id": "pnmDHwJQ_vdB",
        "outputId": "6c5828e5-eb1d-4f0e-a7ce-da3fb44aa755"
      },
      "outputs": [
        {
          "output_type": "execute_result",
          "data": {
            "text/plain": [
              "      Claim Number City Code        City  \\\n",
              "1685    000TQE7Z0O       KNU      Kanpur   \n",
              "5541    000ZZJ33Q4       CCU     Kolkata   \n",
              "10876   0015BJJOZB       CJB  Coimbatore   \n",
              "25869   002WLESYK3       DEL       Delhi   \n",
              "10610   003BPVIC9T       DEL       Delhi   \n",
              "\n",
              "                            Enterprise Type       Claim Type  Claim Site  \\\n",
              "1685   Limited Liability Parterneship (LLP)    Property Loss  In Transit   \n",
              "5541             Private Ltd. MSME - Medium    Property Loss  In Transit   \n",
              "10876                 Joint-Venture Company  Property Damage  In Transit   \n",
              "25869                     Foreign Subsidary  Property Damage  In Transit   \n",
              "10610                    One Person Company    Property Loss  In Transit   \n",
              "\n",
              "                  Product Insured  \n",
              "1685                Misc. Sensors  \n",
              "5541   Inventory - Finished Goods  \n",
              "10876     Misc. Engineering Tools  \n",
              "25869      Misc. Electronic Items  \n",
              "10610     Misc. Engineering Tools  "
            ],
            "text/html": [
              "\n",
              "  <div id=\"df-a083b2ac-0b34-4890-82a0-ceeb68adf86f\">\n",
              "    <div class=\"colab-df-container\">\n",
              "      <div>\n",
              "<style scoped>\n",
              "    .dataframe tbody tr th:only-of-type {\n",
              "        vertical-align: middle;\n",
              "    }\n",
              "\n",
              "    .dataframe tbody tr th {\n",
              "        vertical-align: top;\n",
              "    }\n",
              "\n",
              "    .dataframe thead th {\n",
              "        text-align: right;\n",
              "    }\n",
              "</style>\n",
              "<table border=\"1\" class=\"dataframe\">\n",
              "  <thead>\n",
              "    <tr style=\"text-align: right;\">\n",
              "      <th></th>\n",
              "      <th>Claim Number</th>\n",
              "      <th>City Code</th>\n",
              "      <th>City</th>\n",
              "      <th>Enterprise Type</th>\n",
              "      <th>Claim Type</th>\n",
              "      <th>Claim Site</th>\n",
              "      <th>Product Insured</th>\n",
              "    </tr>\n",
              "  </thead>\n",
              "  <tbody>\n",
              "    <tr>\n",
              "      <th>1685</th>\n",
              "      <td>000TQE7Z0O</td>\n",
              "      <td>KNU</td>\n",
              "      <td>Kanpur</td>\n",
              "      <td>Limited Liability Parterneship (LLP)</td>\n",
              "      <td>Property Loss</td>\n",
              "      <td>In Transit</td>\n",
              "      <td>Misc. Sensors</td>\n",
              "    </tr>\n",
              "    <tr>\n",
              "      <th>5541</th>\n",
              "      <td>000ZZJ33Q4</td>\n",
              "      <td>CCU</td>\n",
              "      <td>Kolkata</td>\n",
              "      <td>Private Ltd. MSME - Medium</td>\n",
              "      <td>Property Loss</td>\n",
              "      <td>In Transit</td>\n",
              "      <td>Inventory - Finished Goods</td>\n",
              "    </tr>\n",
              "    <tr>\n",
              "      <th>10876</th>\n",
              "      <td>0015BJJOZB</td>\n",
              "      <td>CJB</td>\n",
              "      <td>Coimbatore</td>\n",
              "      <td>Joint-Venture Company</td>\n",
              "      <td>Property Damage</td>\n",
              "      <td>In Transit</td>\n",
              "      <td>Misc. Engineering Tools</td>\n",
              "    </tr>\n",
              "    <tr>\n",
              "      <th>25869</th>\n",
              "      <td>002WLESYK3</td>\n",
              "      <td>DEL</td>\n",
              "      <td>Delhi</td>\n",
              "      <td>Foreign Subsidary</td>\n",
              "      <td>Property Damage</td>\n",
              "      <td>In Transit</td>\n",
              "      <td>Misc. Electronic Items</td>\n",
              "    </tr>\n",
              "    <tr>\n",
              "      <th>10610</th>\n",
              "      <td>003BPVIC9T</td>\n",
              "      <td>DEL</td>\n",
              "      <td>Delhi</td>\n",
              "      <td>One Person Company</td>\n",
              "      <td>Property Loss</td>\n",
              "      <td>In Transit</td>\n",
              "      <td>Misc. Engineering Tools</td>\n",
              "    </tr>\n",
              "  </tbody>\n",
              "</table>\n",
              "</div>\n",
              "      <button class=\"colab-df-convert\" onclick=\"convertToInteractive('df-a083b2ac-0b34-4890-82a0-ceeb68adf86f')\"\n",
              "              title=\"Convert this dataframe to an interactive table.\"\n",
              "              style=\"display:none;\">\n",
              "        \n",
              "  <svg xmlns=\"http://www.w3.org/2000/svg\" height=\"24px\"viewBox=\"0 0 24 24\"\n",
              "       width=\"24px\">\n",
              "    <path d=\"M0 0h24v24H0V0z\" fill=\"none\"/>\n",
              "    <path d=\"M18.56 5.44l.94 2.06.94-2.06 2.06-.94-2.06-.94-.94-2.06-.94 2.06-2.06.94zm-11 1L8.5 8.5l.94-2.06 2.06-.94-2.06-.94L8.5 2.5l-.94 2.06-2.06.94zm10 10l.94 2.06.94-2.06 2.06-.94-2.06-.94-.94-2.06-.94 2.06-2.06.94z\"/><path d=\"M17.41 7.96l-1.37-1.37c-.4-.4-.92-.59-1.43-.59-.52 0-1.04.2-1.43.59L10.3 9.45l-7.72 7.72c-.78.78-.78 2.05 0 2.83L4 21.41c.39.39.9.59 1.41.59.51 0 1.02-.2 1.41-.59l7.78-7.78 2.81-2.81c.8-.78.8-2.07 0-2.86zM5.41 20L4 18.59l7.72-7.72 1.47 1.35L5.41 20z\"/>\n",
              "  </svg>\n",
              "      </button>\n",
              "      \n",
              "  <style>\n",
              "    .colab-df-container {\n",
              "      display:flex;\n",
              "      flex-wrap:wrap;\n",
              "      gap: 12px;\n",
              "    }\n",
              "\n",
              "    .colab-df-convert {\n",
              "      background-color: #E8F0FE;\n",
              "      border: none;\n",
              "      border-radius: 50%;\n",
              "      cursor: pointer;\n",
              "      display: none;\n",
              "      fill: #1967D2;\n",
              "      height: 32px;\n",
              "      padding: 0 0 0 0;\n",
              "      width: 32px;\n",
              "    }\n",
              "\n",
              "    .colab-df-convert:hover {\n",
              "      background-color: #E2EBFA;\n",
              "      box-shadow: 0px 1px 2px rgba(60, 64, 67, 0.3), 0px 1px 3px 1px rgba(60, 64, 67, 0.15);\n",
              "      fill: #174EA6;\n",
              "    }\n",
              "\n",
              "    [theme=dark] .colab-df-convert {\n",
              "      background-color: #3B4455;\n",
              "      fill: #D2E3FC;\n",
              "    }\n",
              "\n",
              "    [theme=dark] .colab-df-convert:hover {\n",
              "      background-color: #434B5C;\n",
              "      box-shadow: 0px 1px 3px 1px rgba(0, 0, 0, 0.15);\n",
              "      filter: drop-shadow(0px 1px 2px rgba(0, 0, 0, 0.3));\n",
              "      fill: #FFFFFF;\n",
              "    }\n",
              "  </style>\n",
              "\n",
              "      <script>\n",
              "        const buttonEl =\n",
              "          document.querySelector('#df-a083b2ac-0b34-4890-82a0-ceeb68adf86f button.colab-df-convert');\n",
              "        buttonEl.style.display =\n",
              "          google.colab.kernel.accessAllowed ? 'block' : 'none';\n",
              "\n",
              "        async function convertToInteractive(key) {\n",
              "          const element = document.querySelector('#df-a083b2ac-0b34-4890-82a0-ceeb68adf86f');\n",
              "          const dataTable =\n",
              "            await google.colab.kernel.invokeFunction('convertToInteractive',\n",
              "                                                     [key], {});\n",
              "          if (!dataTable) return;\n",
              "\n",
              "          const docLinkHtml = 'Like what you see? Visit the ' +\n",
              "            '<a target=\"_blank\" href=https://colab.research.google.com/notebooks/data_table.ipynb>data table notebook</a>'\n",
              "            + ' to learn more about interactive tables.';\n",
              "          element.innerHTML = '';\n",
              "          dataTable['output_type'] = 'display_data';\n",
              "          await google.colab.output.renderOutput(dataTable, element);\n",
              "          const docLink = document.createElement('div');\n",
              "          docLink.innerHTML = docLinkHtml;\n",
              "          element.appendChild(docLink);\n",
              "        }\n",
              "      </script>\n",
              "    </div>\n",
              "  </div>\n",
              "  "
            ]
          },
          "metadata": {},
          "execution_count": 141
        }
      ],
      "source": [
        "\n",
        "insurance_claim.head()"
      ]
    },
    {
      "cell_type": "code",
      "execution_count": null,
      "metadata": {
        "colab": {
          "base_uri": "https://localhost:8080/",
          "height": 206
        },
        "id": "hksTMATe7NX5",
        "outputId": "dead8e90-f334-481a-ea8f-813937fa1b52"
      },
      "outputs": [
        {
          "output_type": "execute_result",
          "data": {
            "text/plain": [
              "  Claim Number Incident Date Date Received\n",
              "0   BCHKRDM32K    21-10-2007    31-10-2007\n",
              "1   B3GPD5IZQW    26-05-2006    14-06-2006\n",
              "2   EB757CV6XW    18-01-2004    10-02-2004\n",
              "3   SP0Z0Q95OV    28-04-2004    06-05-2004\n",
              "4   VKZUK7J3KK    04-11-2007    14-11-2007"
            ],
            "text/html": [
              "\n",
              "  <div id=\"df-b1d83dac-08ca-4223-95d5-adc663e97efa\">\n",
              "    <div class=\"colab-df-container\">\n",
              "      <div>\n",
              "<style scoped>\n",
              "    .dataframe tbody tr th:only-of-type {\n",
              "        vertical-align: middle;\n",
              "    }\n",
              "\n",
              "    .dataframe tbody tr th {\n",
              "        vertical-align: top;\n",
              "    }\n",
              "\n",
              "    .dataframe thead th {\n",
              "        text-align: right;\n",
              "    }\n",
              "</style>\n",
              "<table border=\"1\" class=\"dataframe\">\n",
              "  <thead>\n",
              "    <tr style=\"text-align: right;\">\n",
              "      <th></th>\n",
              "      <th>Claim Number</th>\n",
              "      <th>Incident Date</th>\n",
              "      <th>Date Received</th>\n",
              "    </tr>\n",
              "  </thead>\n",
              "  <tbody>\n",
              "    <tr>\n",
              "      <th>0</th>\n",
              "      <td>BCHKRDM32K</td>\n",
              "      <td>21-10-2007</td>\n",
              "      <td>31-10-2007</td>\n",
              "    </tr>\n",
              "    <tr>\n",
              "      <th>1</th>\n",
              "      <td>B3GPD5IZQW</td>\n",
              "      <td>26-05-2006</td>\n",
              "      <td>14-06-2006</td>\n",
              "    </tr>\n",
              "    <tr>\n",
              "      <th>2</th>\n",
              "      <td>EB757CV6XW</td>\n",
              "      <td>18-01-2004</td>\n",
              "      <td>10-02-2004</td>\n",
              "    </tr>\n",
              "    <tr>\n",
              "      <th>3</th>\n",
              "      <td>SP0Z0Q95OV</td>\n",
              "      <td>28-04-2004</td>\n",
              "      <td>06-05-2004</td>\n",
              "    </tr>\n",
              "    <tr>\n",
              "      <th>4</th>\n",
              "      <td>VKZUK7J3KK</td>\n",
              "      <td>04-11-2007</td>\n",
              "      <td>14-11-2007</td>\n",
              "    </tr>\n",
              "  </tbody>\n",
              "</table>\n",
              "</div>\n",
              "      <button class=\"colab-df-convert\" onclick=\"convertToInteractive('df-b1d83dac-08ca-4223-95d5-adc663e97efa')\"\n",
              "              title=\"Convert this dataframe to an interactive table.\"\n",
              "              style=\"display:none;\">\n",
              "        \n",
              "  <svg xmlns=\"http://www.w3.org/2000/svg\" height=\"24px\"viewBox=\"0 0 24 24\"\n",
              "       width=\"24px\">\n",
              "    <path d=\"M0 0h24v24H0V0z\" fill=\"none\"/>\n",
              "    <path d=\"M18.56 5.44l.94 2.06.94-2.06 2.06-.94-2.06-.94-.94-2.06-.94 2.06-2.06.94zm-11 1L8.5 8.5l.94-2.06 2.06-.94-2.06-.94L8.5 2.5l-.94 2.06-2.06.94zm10 10l.94 2.06.94-2.06 2.06-.94-2.06-.94-.94-2.06-.94 2.06-2.06.94z\"/><path d=\"M17.41 7.96l-1.37-1.37c-.4-.4-.92-.59-1.43-.59-.52 0-1.04.2-1.43.59L10.3 9.45l-7.72 7.72c-.78.78-.78 2.05 0 2.83L4 21.41c.39.39.9.59 1.41.59.51 0 1.02-.2 1.41-.59l7.78-7.78 2.81-2.81c.8-.78.8-2.07 0-2.86zM5.41 20L4 18.59l7.72-7.72 1.47 1.35L5.41 20z\"/>\n",
              "  </svg>\n",
              "      </button>\n",
              "      \n",
              "  <style>\n",
              "    .colab-df-container {\n",
              "      display:flex;\n",
              "      flex-wrap:wrap;\n",
              "      gap: 12px;\n",
              "    }\n",
              "\n",
              "    .colab-df-convert {\n",
              "      background-color: #E8F0FE;\n",
              "      border: none;\n",
              "      border-radius: 50%;\n",
              "      cursor: pointer;\n",
              "      display: none;\n",
              "      fill: #1967D2;\n",
              "      height: 32px;\n",
              "      padding: 0 0 0 0;\n",
              "      width: 32px;\n",
              "    }\n",
              "\n",
              "    .colab-df-convert:hover {\n",
              "      background-color: #E2EBFA;\n",
              "      box-shadow: 0px 1px 2px rgba(60, 64, 67, 0.3), 0px 1px 3px 1px rgba(60, 64, 67, 0.15);\n",
              "      fill: #174EA6;\n",
              "    }\n",
              "\n",
              "    [theme=dark] .colab-df-convert {\n",
              "      background-color: #3B4455;\n",
              "      fill: #D2E3FC;\n",
              "    }\n",
              "\n",
              "    [theme=dark] .colab-df-convert:hover {\n",
              "      background-color: #434B5C;\n",
              "      box-shadow: 0px 1px 3px 1px rgba(0, 0, 0, 0.15);\n",
              "      filter: drop-shadow(0px 1px 2px rgba(0, 0, 0, 0.3));\n",
              "      fill: #FFFFFF;\n",
              "    }\n",
              "  </style>\n",
              "\n",
              "      <script>\n",
              "        const buttonEl =\n",
              "          document.querySelector('#df-b1d83dac-08ca-4223-95d5-adc663e97efa button.colab-df-convert');\n",
              "        buttonEl.style.display =\n",
              "          google.colab.kernel.accessAllowed ? 'block' : 'none';\n",
              "\n",
              "        async function convertToInteractive(key) {\n",
              "          const element = document.querySelector('#df-b1d83dac-08ca-4223-95d5-adc663e97efa');\n",
              "          const dataTable =\n",
              "            await google.colab.kernel.invokeFunction('convertToInteractive',\n",
              "                                                     [key], {});\n",
              "          if (!dataTable) return;\n",
              "\n",
              "          const docLinkHtml = 'Like what you see? Visit the ' +\n",
              "            '<a target=\"_blank\" href=https://colab.research.google.com/notebooks/data_table.ipynb>data table notebook</a>'\n",
              "            + ' to learn more about interactive tables.';\n",
              "          element.innerHTML = '';\n",
              "          dataTable['output_type'] = 'display_data';\n",
              "          await google.colab.output.renderOutput(dataTable, element);\n",
              "          const docLink = document.createElement('div');\n",
              "          docLink.innerHTML = docLinkHtml;\n",
              "          element.appendChild(docLink);\n",
              "        }\n",
              "      </script>\n",
              "    </div>\n",
              "  </div>\n",
              "  "
            ]
          },
          "metadata": {},
          "execution_count": 142
        }
      ],
      "source": [
        "insurance_Date.head()"
      ]
    },
    {
      "cell_type": "code",
      "execution_count": null,
      "metadata": {
        "id": "iNOVPHw5-Nck"
      },
      "outputs": [],
      "source": [
        "insurance_Date.sort_values(\"Claim Number\",ascending=True, inplace = True)"
      ]
    },
    {
      "cell_type": "code",
      "execution_count": null,
      "metadata": {
        "colab": {
          "base_uri": "https://localhost:8080/",
          "height": 206
        },
        "id": "9L1yfGmFAjBE",
        "outputId": "2fd57829-f9e7-4621-cdff-0588d2fc75e0"
      },
      "outputs": [
        {
          "output_type": "execute_result",
          "data": {
            "text/plain": [
              "      Incident Date Date Received\n",
              "12271    27-03-2004    23-04-2004\n",
              "16905    07-04-2007    30-04-2007\n",
              "16629    13-05-2004    18-03-2005\n",
              "29943    28-08-2007    06-09-2007\n",
              "14646    04-01-2004    29-01-2004"
            ],
            "text/html": [
              "\n",
              "  <div id=\"df-b32dc9ed-389e-4a55-b813-07675a378212\">\n",
              "    <div class=\"colab-df-container\">\n",
              "      <div>\n",
              "<style scoped>\n",
              "    .dataframe tbody tr th:only-of-type {\n",
              "        vertical-align: middle;\n",
              "    }\n",
              "\n",
              "    .dataframe tbody tr th {\n",
              "        vertical-align: top;\n",
              "    }\n",
              "\n",
              "    .dataframe thead th {\n",
              "        text-align: right;\n",
              "    }\n",
              "</style>\n",
              "<table border=\"1\" class=\"dataframe\">\n",
              "  <thead>\n",
              "    <tr style=\"text-align: right;\">\n",
              "      <th></th>\n",
              "      <th>Incident Date</th>\n",
              "      <th>Date Received</th>\n",
              "    </tr>\n",
              "  </thead>\n",
              "  <tbody>\n",
              "    <tr>\n",
              "      <th>12271</th>\n",
              "      <td>27-03-2004</td>\n",
              "      <td>23-04-2004</td>\n",
              "    </tr>\n",
              "    <tr>\n",
              "      <th>16905</th>\n",
              "      <td>07-04-2007</td>\n",
              "      <td>30-04-2007</td>\n",
              "    </tr>\n",
              "    <tr>\n",
              "      <th>16629</th>\n",
              "      <td>13-05-2004</td>\n",
              "      <td>18-03-2005</td>\n",
              "    </tr>\n",
              "    <tr>\n",
              "      <th>29943</th>\n",
              "      <td>28-08-2007</td>\n",
              "      <td>06-09-2007</td>\n",
              "    </tr>\n",
              "    <tr>\n",
              "      <th>14646</th>\n",
              "      <td>04-01-2004</td>\n",
              "      <td>29-01-2004</td>\n",
              "    </tr>\n",
              "  </tbody>\n",
              "</table>\n",
              "</div>\n",
              "      <button class=\"colab-df-convert\" onclick=\"convertToInteractive('df-b32dc9ed-389e-4a55-b813-07675a378212')\"\n",
              "              title=\"Convert this dataframe to an interactive table.\"\n",
              "              style=\"display:none;\">\n",
              "        \n",
              "  <svg xmlns=\"http://www.w3.org/2000/svg\" height=\"24px\"viewBox=\"0 0 24 24\"\n",
              "       width=\"24px\">\n",
              "    <path d=\"M0 0h24v24H0V0z\" fill=\"none\"/>\n",
              "    <path d=\"M18.56 5.44l.94 2.06.94-2.06 2.06-.94-2.06-.94-.94-2.06-.94 2.06-2.06.94zm-11 1L8.5 8.5l.94-2.06 2.06-.94-2.06-.94L8.5 2.5l-.94 2.06-2.06.94zm10 10l.94 2.06.94-2.06 2.06-.94-2.06-.94-.94-2.06-.94 2.06-2.06.94z\"/><path d=\"M17.41 7.96l-1.37-1.37c-.4-.4-.92-.59-1.43-.59-.52 0-1.04.2-1.43.59L10.3 9.45l-7.72 7.72c-.78.78-.78 2.05 0 2.83L4 21.41c.39.39.9.59 1.41.59.51 0 1.02-.2 1.41-.59l7.78-7.78 2.81-2.81c.8-.78.8-2.07 0-2.86zM5.41 20L4 18.59l7.72-7.72 1.47 1.35L5.41 20z\"/>\n",
              "  </svg>\n",
              "      </button>\n",
              "      \n",
              "  <style>\n",
              "    .colab-df-container {\n",
              "      display:flex;\n",
              "      flex-wrap:wrap;\n",
              "      gap: 12px;\n",
              "    }\n",
              "\n",
              "    .colab-df-convert {\n",
              "      background-color: #E8F0FE;\n",
              "      border: none;\n",
              "      border-radius: 50%;\n",
              "      cursor: pointer;\n",
              "      display: none;\n",
              "      fill: #1967D2;\n",
              "      height: 32px;\n",
              "      padding: 0 0 0 0;\n",
              "      width: 32px;\n",
              "    }\n",
              "\n",
              "    .colab-df-convert:hover {\n",
              "      background-color: #E2EBFA;\n",
              "      box-shadow: 0px 1px 2px rgba(60, 64, 67, 0.3), 0px 1px 3px 1px rgba(60, 64, 67, 0.15);\n",
              "      fill: #174EA6;\n",
              "    }\n",
              "\n",
              "    [theme=dark] .colab-df-convert {\n",
              "      background-color: #3B4455;\n",
              "      fill: #D2E3FC;\n",
              "    }\n",
              "\n",
              "    [theme=dark] .colab-df-convert:hover {\n",
              "      background-color: #434B5C;\n",
              "      box-shadow: 0px 1px 3px 1px rgba(0, 0, 0, 0.15);\n",
              "      filter: drop-shadow(0px 1px 2px rgba(0, 0, 0, 0.3));\n",
              "      fill: #FFFFFF;\n",
              "    }\n",
              "  </style>\n",
              "\n",
              "      <script>\n",
              "        const buttonEl =\n",
              "          document.querySelector('#df-b32dc9ed-389e-4a55-b813-07675a378212 button.colab-df-convert');\n",
              "        buttonEl.style.display =\n",
              "          google.colab.kernel.accessAllowed ? 'block' : 'none';\n",
              "\n",
              "        async function convertToInteractive(key) {\n",
              "          const element = document.querySelector('#df-b32dc9ed-389e-4a55-b813-07675a378212');\n",
              "          const dataTable =\n",
              "            await google.colab.kernel.invokeFunction('convertToInteractive',\n",
              "                                                     [key], {});\n",
              "          if (!dataTable) return;\n",
              "\n",
              "          const docLinkHtml = 'Like what you see? Visit the ' +\n",
              "            '<a target=\"_blank\" href=https://colab.research.google.com/notebooks/data_table.ipynb>data table notebook</a>'\n",
              "            + ' to learn more about interactive tables.';\n",
              "          element.innerHTML = '';\n",
              "          dataTable['output_type'] = 'display_data';\n",
              "          await google.colab.output.renderOutput(dataTable, element);\n",
              "          const docLink = document.createElement('div');\n",
              "          docLink.innerHTML = docLinkHtml;\n",
              "          element.appendChild(docLink);\n",
              "        }\n",
              "      </script>\n",
              "    </div>\n",
              "  </div>\n",
              "  "
            ]
          },
          "metadata": {},
          "execution_count": 144
        }
      ],
      "source": [
        "insurance_Date.drop(\"Claim Number\",axis = 1 ,inplace = True)\n",
        "insurance_Date.head()"
      ]
    },
    {
      "cell_type": "code",
      "execution_count": null,
      "metadata": {
        "colab": {
          "base_uri": "https://localhost:8080/",
          "height": 81
        },
        "id": "vTKdKmnxBADq",
        "outputId": "a3de17cd-9426-439b-8681-739fd87040ab"
      },
      "outputs": [
        {
          "output_type": "execute_result",
          "data": {
            "text/plain": [
              "      Incident Date Date Received\n",
              "12271    27-03-2004    23-04-2004"
            ],
            "text/html": [
              "\n",
              "  <div id=\"df-15db8b45-b9ff-4a70-b9cd-c0a0a0956522\">\n",
              "    <div class=\"colab-df-container\">\n",
              "      <div>\n",
              "<style scoped>\n",
              "    .dataframe tbody tr th:only-of-type {\n",
              "        vertical-align: middle;\n",
              "    }\n",
              "\n",
              "    .dataframe tbody tr th {\n",
              "        vertical-align: top;\n",
              "    }\n",
              "\n",
              "    .dataframe thead th {\n",
              "        text-align: right;\n",
              "    }\n",
              "</style>\n",
              "<table border=\"1\" class=\"dataframe\">\n",
              "  <thead>\n",
              "    <tr style=\"text-align: right;\">\n",
              "      <th></th>\n",
              "      <th>Incident Date</th>\n",
              "      <th>Date Received</th>\n",
              "    </tr>\n",
              "  </thead>\n",
              "  <tbody>\n",
              "    <tr>\n",
              "      <th>12271</th>\n",
              "      <td>27-03-2004</td>\n",
              "      <td>23-04-2004</td>\n",
              "    </tr>\n",
              "  </tbody>\n",
              "</table>\n",
              "</div>\n",
              "      <button class=\"colab-df-convert\" onclick=\"convertToInteractive('df-15db8b45-b9ff-4a70-b9cd-c0a0a0956522')\"\n",
              "              title=\"Convert this dataframe to an interactive table.\"\n",
              "              style=\"display:none;\">\n",
              "        \n",
              "  <svg xmlns=\"http://www.w3.org/2000/svg\" height=\"24px\"viewBox=\"0 0 24 24\"\n",
              "       width=\"24px\">\n",
              "    <path d=\"M0 0h24v24H0V0z\" fill=\"none\"/>\n",
              "    <path d=\"M18.56 5.44l.94 2.06.94-2.06 2.06-.94-2.06-.94-.94-2.06-.94 2.06-2.06.94zm-11 1L8.5 8.5l.94-2.06 2.06-.94-2.06-.94L8.5 2.5l-.94 2.06-2.06.94zm10 10l.94 2.06.94-2.06 2.06-.94-2.06-.94-.94-2.06-.94 2.06-2.06.94z\"/><path d=\"M17.41 7.96l-1.37-1.37c-.4-.4-.92-.59-1.43-.59-.52 0-1.04.2-1.43.59L10.3 9.45l-7.72 7.72c-.78.78-.78 2.05 0 2.83L4 21.41c.39.39.9.59 1.41.59.51 0 1.02-.2 1.41-.59l7.78-7.78 2.81-2.81c.8-.78.8-2.07 0-2.86zM5.41 20L4 18.59l7.72-7.72 1.47 1.35L5.41 20z\"/>\n",
              "  </svg>\n",
              "      </button>\n",
              "      \n",
              "  <style>\n",
              "    .colab-df-container {\n",
              "      display:flex;\n",
              "      flex-wrap:wrap;\n",
              "      gap: 12px;\n",
              "    }\n",
              "\n",
              "    .colab-df-convert {\n",
              "      background-color: #E8F0FE;\n",
              "      border: none;\n",
              "      border-radius: 50%;\n",
              "      cursor: pointer;\n",
              "      display: none;\n",
              "      fill: #1967D2;\n",
              "      height: 32px;\n",
              "      padding: 0 0 0 0;\n",
              "      width: 32px;\n",
              "    }\n",
              "\n",
              "    .colab-df-convert:hover {\n",
              "      background-color: #E2EBFA;\n",
              "      box-shadow: 0px 1px 2px rgba(60, 64, 67, 0.3), 0px 1px 3px 1px rgba(60, 64, 67, 0.15);\n",
              "      fill: #174EA6;\n",
              "    }\n",
              "\n",
              "    [theme=dark] .colab-df-convert {\n",
              "      background-color: #3B4455;\n",
              "      fill: #D2E3FC;\n",
              "    }\n",
              "\n",
              "    [theme=dark] .colab-df-convert:hover {\n",
              "      background-color: #434B5C;\n",
              "      box-shadow: 0px 1px 3px 1px rgba(0, 0, 0, 0.15);\n",
              "      filter: drop-shadow(0px 1px 2px rgba(0, 0, 0, 0.3));\n",
              "      fill: #FFFFFF;\n",
              "    }\n",
              "  </style>\n",
              "\n",
              "      <script>\n",
              "        const buttonEl =\n",
              "          document.querySelector('#df-15db8b45-b9ff-4a70-b9cd-c0a0a0956522 button.colab-df-convert');\n",
              "        buttonEl.style.display =\n",
              "          google.colab.kernel.accessAllowed ? 'block' : 'none';\n",
              "\n",
              "        async function convertToInteractive(key) {\n",
              "          const element = document.querySelector('#df-15db8b45-b9ff-4a70-b9cd-c0a0a0956522');\n",
              "          const dataTable =\n",
              "            await google.colab.kernel.invokeFunction('convertToInteractive',\n",
              "                                                     [key], {});\n",
              "          if (!dataTable) return;\n",
              "\n",
              "          const docLinkHtml = 'Like what you see? Visit the ' +\n",
              "            '<a target=\"_blank\" href=https://colab.research.google.com/notebooks/data_table.ipynb>data table notebook</a>'\n",
              "            + ' to learn more about interactive tables.';\n",
              "          element.innerHTML = '';\n",
              "          dataTable['output_type'] = 'display_data';\n",
              "          await google.colab.output.renderOutput(dataTable, element);\n",
              "          const docLink = document.createElement('div');\n",
              "          docLink.innerHTML = docLinkHtml;\n",
              "          element.appendChild(docLink);\n",
              "        }\n",
              "      </script>\n",
              "    </div>\n",
              "  </div>\n",
              "  "
            ]
          },
          "metadata": {},
          "execution_count": 145
        }
      ],
      "source": [
        "insurance_Date.head(1)"
      ]
    },
    {
      "cell_type": "code",
      "execution_count": null,
      "metadata": {
        "colab": {
          "base_uri": "https://localhost:8080/",
          "height": 206
        },
        "id": "JwY9VhuG7SRa",
        "outputId": "b6533700-fb2f-4cab-ca77-1f8dce12b904"
      },
      "outputs": [
        {
          "output_type": "execute_result",
          "data": {
            "text/plain": [
              "  Claim Number  Claim Amount  Close Amount      Disposition\n",
              "0   Y5VA9KOE89        100.00          0.00             Deny\n",
              "1   P51DOJLR8W        199.99          0.00             Deny\n",
              "2   OUUZFP7EFL        410.00         59.85           Settle\n",
              "3   CGP3L1CCP2        240.00          0.00             Deny\n",
              "4   JDFLPD7J9Z         11.36         11.36  Approve in Full"
            ],
            "text/html": [
              "\n",
              "  <div id=\"df-7a4d961a-fa1c-4d5d-a570-22fffed5b6ce\">\n",
              "    <div class=\"colab-df-container\">\n",
              "      <div>\n",
              "<style scoped>\n",
              "    .dataframe tbody tr th:only-of-type {\n",
              "        vertical-align: middle;\n",
              "    }\n",
              "\n",
              "    .dataframe tbody tr th {\n",
              "        vertical-align: top;\n",
              "    }\n",
              "\n",
              "    .dataframe thead th {\n",
              "        text-align: right;\n",
              "    }\n",
              "</style>\n",
              "<table border=\"1\" class=\"dataframe\">\n",
              "  <thead>\n",
              "    <tr style=\"text-align: right;\">\n",
              "      <th></th>\n",
              "      <th>Claim Number</th>\n",
              "      <th>Claim Amount</th>\n",
              "      <th>Close Amount</th>\n",
              "      <th>Disposition</th>\n",
              "    </tr>\n",
              "  </thead>\n",
              "  <tbody>\n",
              "    <tr>\n",
              "      <th>0</th>\n",
              "      <td>Y5VA9KOE89</td>\n",
              "      <td>100.00</td>\n",
              "      <td>0.00</td>\n",
              "      <td>Deny</td>\n",
              "    </tr>\n",
              "    <tr>\n",
              "      <th>1</th>\n",
              "      <td>P51DOJLR8W</td>\n",
              "      <td>199.99</td>\n",
              "      <td>0.00</td>\n",
              "      <td>Deny</td>\n",
              "    </tr>\n",
              "    <tr>\n",
              "      <th>2</th>\n",
              "      <td>OUUZFP7EFL</td>\n",
              "      <td>410.00</td>\n",
              "      <td>59.85</td>\n",
              "      <td>Settle</td>\n",
              "    </tr>\n",
              "    <tr>\n",
              "      <th>3</th>\n",
              "      <td>CGP3L1CCP2</td>\n",
              "      <td>240.00</td>\n",
              "      <td>0.00</td>\n",
              "      <td>Deny</td>\n",
              "    </tr>\n",
              "    <tr>\n",
              "      <th>4</th>\n",
              "      <td>JDFLPD7J9Z</td>\n",
              "      <td>11.36</td>\n",
              "      <td>11.36</td>\n",
              "      <td>Approve in Full</td>\n",
              "    </tr>\n",
              "  </tbody>\n",
              "</table>\n",
              "</div>\n",
              "      <button class=\"colab-df-convert\" onclick=\"convertToInteractive('df-7a4d961a-fa1c-4d5d-a570-22fffed5b6ce')\"\n",
              "              title=\"Convert this dataframe to an interactive table.\"\n",
              "              style=\"display:none;\">\n",
              "        \n",
              "  <svg xmlns=\"http://www.w3.org/2000/svg\" height=\"24px\"viewBox=\"0 0 24 24\"\n",
              "       width=\"24px\">\n",
              "    <path d=\"M0 0h24v24H0V0z\" fill=\"none\"/>\n",
              "    <path d=\"M18.56 5.44l.94 2.06.94-2.06 2.06-.94-2.06-.94-.94-2.06-.94 2.06-2.06.94zm-11 1L8.5 8.5l.94-2.06 2.06-.94-2.06-.94L8.5 2.5l-.94 2.06-2.06.94zm10 10l.94 2.06.94-2.06 2.06-.94-2.06-.94-.94-2.06-.94 2.06-2.06.94z\"/><path d=\"M17.41 7.96l-1.37-1.37c-.4-.4-.92-.59-1.43-.59-.52 0-1.04.2-1.43.59L10.3 9.45l-7.72 7.72c-.78.78-.78 2.05 0 2.83L4 21.41c.39.39.9.59 1.41.59.51 0 1.02-.2 1.41-.59l7.78-7.78 2.81-2.81c.8-.78.8-2.07 0-2.86zM5.41 20L4 18.59l7.72-7.72 1.47 1.35L5.41 20z\"/>\n",
              "  </svg>\n",
              "      </button>\n",
              "      \n",
              "  <style>\n",
              "    .colab-df-container {\n",
              "      display:flex;\n",
              "      flex-wrap:wrap;\n",
              "      gap: 12px;\n",
              "    }\n",
              "\n",
              "    .colab-df-convert {\n",
              "      background-color: #E8F0FE;\n",
              "      border: none;\n",
              "      border-radius: 50%;\n",
              "      cursor: pointer;\n",
              "      display: none;\n",
              "      fill: #1967D2;\n",
              "      height: 32px;\n",
              "      padding: 0 0 0 0;\n",
              "      width: 32px;\n",
              "    }\n",
              "\n",
              "    .colab-df-convert:hover {\n",
              "      background-color: #E2EBFA;\n",
              "      box-shadow: 0px 1px 2px rgba(60, 64, 67, 0.3), 0px 1px 3px 1px rgba(60, 64, 67, 0.15);\n",
              "      fill: #174EA6;\n",
              "    }\n",
              "\n",
              "    [theme=dark] .colab-df-convert {\n",
              "      background-color: #3B4455;\n",
              "      fill: #D2E3FC;\n",
              "    }\n",
              "\n",
              "    [theme=dark] .colab-df-convert:hover {\n",
              "      background-color: #434B5C;\n",
              "      box-shadow: 0px 1px 3px 1px rgba(0, 0, 0, 0.15);\n",
              "      filter: drop-shadow(0px 1px 2px rgba(0, 0, 0, 0.3));\n",
              "      fill: #FFFFFF;\n",
              "    }\n",
              "  </style>\n",
              "\n",
              "      <script>\n",
              "        const buttonEl =\n",
              "          document.querySelector('#df-7a4d961a-fa1c-4d5d-a570-22fffed5b6ce button.colab-df-convert');\n",
              "        buttonEl.style.display =\n",
              "          google.colab.kernel.accessAllowed ? 'block' : 'none';\n",
              "\n",
              "        async function convertToInteractive(key) {\n",
              "          const element = document.querySelector('#df-7a4d961a-fa1c-4d5d-a570-22fffed5b6ce');\n",
              "          const dataTable =\n",
              "            await google.colab.kernel.invokeFunction('convertToInteractive',\n",
              "                                                     [key], {});\n",
              "          if (!dataTable) return;\n",
              "\n",
              "          const docLinkHtml = 'Like what you see? Visit the ' +\n",
              "            '<a target=\"_blank\" href=https://colab.research.google.com/notebooks/data_table.ipynb>data table notebook</a>'\n",
              "            + ' to learn more about interactive tables.';\n",
              "          element.innerHTML = '';\n",
              "          dataTable['output_type'] = 'display_data';\n",
              "          await google.colab.output.renderOutput(dataTable, element);\n",
              "          const docLink = document.createElement('div');\n",
              "          docLink.innerHTML = docLinkHtml;\n",
              "          element.appendChild(docLink);\n",
              "        }\n",
              "      </script>\n",
              "    </div>\n",
              "  </div>\n",
              "  "
            ]
          },
          "metadata": {},
          "execution_count": 146
        }
      ],
      "source": [
        "insurance_Result.head()"
      ]
    },
    {
      "cell_type": "code",
      "execution_count": null,
      "metadata": {
        "id": "HLGThHdC-S9Y"
      },
      "outputs": [],
      "source": [
        "insurance_Result.sort_values(\"Claim Number\",ascending=True,inplace =True)"
      ]
    },
    {
      "cell_type": "code",
      "execution_count": null,
      "metadata": {
        "id": "muY-Xx6mBn2c"
      },
      "outputs": [],
      "source": [
        "insurance_Result.drop(\"Claim Number\",axis = 1 ,inplace =True)"
      ]
    },
    {
      "cell_type": "code",
      "execution_count": null,
      "metadata": {
        "colab": {
          "base_uri": "https://localhost:8080/"
        },
        "id": "NFsHRjeV6xah",
        "outputId": "a8347e0d-ed36-4fd7-d67b-da838f6497f2"
      },
      "outputs": [
        {
          "output_type": "stream",
          "name": "stdout",
          "text": [
            "(34110, 7)\n",
            "(34110, 2)\n",
            "(34110, 3)\n"
          ]
        }
      ],
      "source": [
        "print(insurance_claim.shape)\n",
        "print(insurance_Date.shape)\n",
        "print(insurance_Result.shape)"
      ]
    },
    {
      "cell_type": "code",
      "execution_count": null,
      "metadata": {
        "id": "35eSLU-E6xXM"
      },
      "outputs": [],
      "source": []
    },
    {
      "cell_type": "code",
      "execution_count": null,
      "metadata": {
        "id": "5ZLxlo_z4sXu"
      },
      "outputs": [],
      "source": [
        "df = pd.concat([insurance_claim,insurance_Date,insurance_Result],axis = 1)"
      ]
    },
    {
      "cell_type": "code",
      "execution_count": null,
      "metadata": {
        "colab": {
          "base_uri": "https://localhost:8080/",
          "height": 371
        },
        "id": "41XSPt7H7vN8",
        "outputId": "0b62f41c-e500-4ec3-c455-15f5519edc99"
      },
      "outputs": [
        {
          "output_type": "execute_result",
          "data": {
            "text/plain": [
              "  Claim Number City Code     City         Enterprise Type     Claim Type  \\\n",
              "0   DQW1NZO0PL       NSK   Nashik  Public Limited Company  Property Loss   \n",
              "1   JS5GAPRN5B       BOM   Mumbai      One Person Company  Property Loss   \n",
              "2   ZTSVAQSEAQ       LKO  Lucknow  Public Limited Company  Property Loss   \n",
              "3   EW7NWHI7LI       DEL    Delhi     Sole Proprietorship  Property Loss   \n",
              "4   UJOFDC41EL       DEL    Delhi      One Person Company  Property Loss   \n",
              "\n",
              "   Claim Site                             Product Insured Incident Date  \\\n",
              "0  In Transit                    Inventory - Raw Material    21-10-2007   \n",
              "1  In Transit  Cameras and other Misc. Security Equipment    26-05-2006   \n",
              "2  In Transit                                    Fixtures    18-01-2004   \n",
              "3  In Transit                            Pumps and Motors    28-04-2004   \n",
              "4  In Transit                     Misc. Engineering Tools    04-11-2007   \n",
              "\n",
              "  Date Received  Claim Amount  Close Amount      Disposition  \n",
              "0    31-10-2007        100.00          0.00             Deny  \n",
              "1    14-06-2006        199.99          0.00             Deny  \n",
              "2    10-02-2004        410.00         59.85           Settle  \n",
              "3    06-05-2004        240.00          0.00             Deny  \n",
              "4    14-11-2007         11.36         11.36  Approve in Full  "
            ],
            "text/html": [
              "\n",
              "  <div id=\"df-94445ca6-6aa5-482c-8559-8078d374ee1c\">\n",
              "    <div class=\"colab-df-container\">\n",
              "      <div>\n",
              "<style scoped>\n",
              "    .dataframe tbody tr th:only-of-type {\n",
              "        vertical-align: middle;\n",
              "    }\n",
              "\n",
              "    .dataframe tbody tr th {\n",
              "        vertical-align: top;\n",
              "    }\n",
              "\n",
              "    .dataframe thead th {\n",
              "        text-align: right;\n",
              "    }\n",
              "</style>\n",
              "<table border=\"1\" class=\"dataframe\">\n",
              "  <thead>\n",
              "    <tr style=\"text-align: right;\">\n",
              "      <th></th>\n",
              "      <th>Claim Number</th>\n",
              "      <th>City Code</th>\n",
              "      <th>City</th>\n",
              "      <th>Enterprise Type</th>\n",
              "      <th>Claim Type</th>\n",
              "      <th>Claim Site</th>\n",
              "      <th>Product Insured</th>\n",
              "      <th>Incident Date</th>\n",
              "      <th>Date Received</th>\n",
              "      <th>Claim Amount</th>\n",
              "      <th>Close Amount</th>\n",
              "      <th>Disposition</th>\n",
              "    </tr>\n",
              "  </thead>\n",
              "  <tbody>\n",
              "    <tr>\n",
              "      <th>0</th>\n",
              "      <td>DQW1NZO0PL</td>\n",
              "      <td>NSK</td>\n",
              "      <td>Nashik</td>\n",
              "      <td>Public Limited Company</td>\n",
              "      <td>Property Loss</td>\n",
              "      <td>In Transit</td>\n",
              "      <td>Inventory - Raw Material</td>\n",
              "      <td>21-10-2007</td>\n",
              "      <td>31-10-2007</td>\n",
              "      <td>100.00</td>\n",
              "      <td>0.00</td>\n",
              "      <td>Deny</td>\n",
              "    </tr>\n",
              "    <tr>\n",
              "      <th>1</th>\n",
              "      <td>JS5GAPRN5B</td>\n",
              "      <td>BOM</td>\n",
              "      <td>Mumbai</td>\n",
              "      <td>One Person Company</td>\n",
              "      <td>Property Loss</td>\n",
              "      <td>In Transit</td>\n",
              "      <td>Cameras and other Misc. Security Equipment</td>\n",
              "      <td>26-05-2006</td>\n",
              "      <td>14-06-2006</td>\n",
              "      <td>199.99</td>\n",
              "      <td>0.00</td>\n",
              "      <td>Deny</td>\n",
              "    </tr>\n",
              "    <tr>\n",
              "      <th>2</th>\n",
              "      <td>ZTSVAQSEAQ</td>\n",
              "      <td>LKO</td>\n",
              "      <td>Lucknow</td>\n",
              "      <td>Public Limited Company</td>\n",
              "      <td>Property Loss</td>\n",
              "      <td>In Transit</td>\n",
              "      <td>Fixtures</td>\n",
              "      <td>18-01-2004</td>\n",
              "      <td>10-02-2004</td>\n",
              "      <td>410.00</td>\n",
              "      <td>59.85</td>\n",
              "      <td>Settle</td>\n",
              "    </tr>\n",
              "    <tr>\n",
              "      <th>3</th>\n",
              "      <td>EW7NWHI7LI</td>\n",
              "      <td>DEL</td>\n",
              "      <td>Delhi</td>\n",
              "      <td>Sole Proprietorship</td>\n",
              "      <td>Property Loss</td>\n",
              "      <td>In Transit</td>\n",
              "      <td>Pumps and Motors</td>\n",
              "      <td>28-04-2004</td>\n",
              "      <td>06-05-2004</td>\n",
              "      <td>240.00</td>\n",
              "      <td>0.00</td>\n",
              "      <td>Deny</td>\n",
              "    </tr>\n",
              "    <tr>\n",
              "      <th>4</th>\n",
              "      <td>UJOFDC41EL</td>\n",
              "      <td>DEL</td>\n",
              "      <td>Delhi</td>\n",
              "      <td>One Person Company</td>\n",
              "      <td>Property Loss</td>\n",
              "      <td>In Transit</td>\n",
              "      <td>Misc. Engineering Tools</td>\n",
              "      <td>04-11-2007</td>\n",
              "      <td>14-11-2007</td>\n",
              "      <td>11.36</td>\n",
              "      <td>11.36</td>\n",
              "      <td>Approve in Full</td>\n",
              "    </tr>\n",
              "  </tbody>\n",
              "</table>\n",
              "</div>\n",
              "      <button class=\"colab-df-convert\" onclick=\"convertToInteractive('df-94445ca6-6aa5-482c-8559-8078d374ee1c')\"\n",
              "              title=\"Convert this dataframe to an interactive table.\"\n",
              "              style=\"display:none;\">\n",
              "        \n",
              "  <svg xmlns=\"http://www.w3.org/2000/svg\" height=\"24px\"viewBox=\"0 0 24 24\"\n",
              "       width=\"24px\">\n",
              "    <path d=\"M0 0h24v24H0V0z\" fill=\"none\"/>\n",
              "    <path d=\"M18.56 5.44l.94 2.06.94-2.06 2.06-.94-2.06-.94-.94-2.06-.94 2.06-2.06.94zm-11 1L8.5 8.5l.94-2.06 2.06-.94-2.06-.94L8.5 2.5l-.94 2.06-2.06.94zm10 10l.94 2.06.94-2.06 2.06-.94-2.06-.94-.94-2.06-.94 2.06-2.06.94z\"/><path d=\"M17.41 7.96l-1.37-1.37c-.4-.4-.92-.59-1.43-.59-.52 0-1.04.2-1.43.59L10.3 9.45l-7.72 7.72c-.78.78-.78 2.05 0 2.83L4 21.41c.39.39.9.59 1.41.59.51 0 1.02-.2 1.41-.59l7.78-7.78 2.81-2.81c.8-.78.8-2.07 0-2.86zM5.41 20L4 18.59l7.72-7.72 1.47 1.35L5.41 20z\"/>\n",
              "  </svg>\n",
              "      </button>\n",
              "      \n",
              "  <style>\n",
              "    .colab-df-container {\n",
              "      display:flex;\n",
              "      flex-wrap:wrap;\n",
              "      gap: 12px;\n",
              "    }\n",
              "\n",
              "    .colab-df-convert {\n",
              "      background-color: #E8F0FE;\n",
              "      border: none;\n",
              "      border-radius: 50%;\n",
              "      cursor: pointer;\n",
              "      display: none;\n",
              "      fill: #1967D2;\n",
              "      height: 32px;\n",
              "      padding: 0 0 0 0;\n",
              "      width: 32px;\n",
              "    }\n",
              "\n",
              "    .colab-df-convert:hover {\n",
              "      background-color: #E2EBFA;\n",
              "      box-shadow: 0px 1px 2px rgba(60, 64, 67, 0.3), 0px 1px 3px 1px rgba(60, 64, 67, 0.15);\n",
              "      fill: #174EA6;\n",
              "    }\n",
              "\n",
              "    [theme=dark] .colab-df-convert {\n",
              "      background-color: #3B4455;\n",
              "      fill: #D2E3FC;\n",
              "    }\n",
              "\n",
              "    [theme=dark] .colab-df-convert:hover {\n",
              "      background-color: #434B5C;\n",
              "      box-shadow: 0px 1px 3px 1px rgba(0, 0, 0, 0.15);\n",
              "      filter: drop-shadow(0px 1px 2px rgba(0, 0, 0, 0.3));\n",
              "      fill: #FFFFFF;\n",
              "    }\n",
              "  </style>\n",
              "\n",
              "      <script>\n",
              "        const buttonEl =\n",
              "          document.querySelector('#df-94445ca6-6aa5-482c-8559-8078d374ee1c button.colab-df-convert');\n",
              "        buttonEl.style.display =\n",
              "          google.colab.kernel.accessAllowed ? 'block' : 'none';\n",
              "\n",
              "        async function convertToInteractive(key) {\n",
              "          const element = document.querySelector('#df-94445ca6-6aa5-482c-8559-8078d374ee1c');\n",
              "          const dataTable =\n",
              "            await google.colab.kernel.invokeFunction('convertToInteractive',\n",
              "                                                     [key], {});\n",
              "          if (!dataTable) return;\n",
              "\n",
              "          const docLinkHtml = 'Like what you see? Visit the ' +\n",
              "            '<a target=\"_blank\" href=https://colab.research.google.com/notebooks/data_table.ipynb>data table notebook</a>'\n",
              "            + ' to learn more about interactive tables.';\n",
              "          element.innerHTML = '';\n",
              "          dataTable['output_type'] = 'display_data';\n",
              "          await google.colab.output.renderOutput(dataTable, element);\n",
              "          const docLink = document.createElement('div');\n",
              "          docLink.innerHTML = docLinkHtml;\n",
              "          element.appendChild(docLink);\n",
              "        }\n",
              "      </script>\n",
              "    </div>\n",
              "  </div>\n",
              "  "
            ]
          },
          "metadata": {},
          "execution_count": 151
        }
      ],
      "source": [
        "df.head()"
      ]
    },
    {
      "cell_type": "code",
      "execution_count": null,
      "metadata": {
        "colab": {
          "base_uri": "https://localhost:8080/"
        },
        "id": "FwB8sK2P88q4",
        "outputId": "fe494e11-ea84-4e2e-f365-a84a9711a723"
      },
      "outputs": [
        {
          "output_type": "stream",
          "name": "stdout",
          "text": [
            "<class 'pandas.core.frame.DataFrame'>\n",
            "Int64Index: 34110 entries, 0 to 34109\n",
            "Data columns (total 12 columns):\n",
            " #   Column           Non-Null Count  Dtype  \n",
            "---  ------           --------------  -----  \n",
            " 0   Claim Number     34110 non-null  object \n",
            " 1   City Code        34110 non-null  object \n",
            " 2   City             34110 non-null  object \n",
            " 3   Enterprise Type  34110 non-null  object \n",
            " 4   Claim Type       34110 non-null  object \n",
            " 5   Claim Site       34110 non-null  object \n",
            " 6   Product Insured  34110 non-null  object \n",
            " 7   Incident Date    34110 non-null  object \n",
            " 8   Date Received    34110 non-null  object \n",
            " 9   Claim Amount     34110 non-null  float64\n",
            " 10  Close Amount     34110 non-null  float64\n",
            " 11  Disposition      34110 non-null  object \n",
            "dtypes: float64(2), object(10)\n",
            "memory usage: 3.4+ MB\n"
          ]
        }
      ],
      "source": [
        "df.info()"
      ]
    },
    {
      "cell_type": "code",
      "execution_count": null,
      "metadata": {
        "colab": {
          "base_uri": "https://localhost:8080/"
        },
        "id": "DRiP8Ugg_MRI",
        "outputId": "6032d39e-efc8-4b07-c974-4b5fa5936f2c"
      },
      "outputs": [
        {
          "output_type": "execute_result",
          "data": {
            "text/plain": [
              "Claim Number       34110\n",
              "City Code             23\n",
              "City                  23\n",
              "Enterprise Type       13\n",
              "Claim Type             2\n",
              "Claim Site             3\n",
              "Product Insured       13\n",
              "Incident Date       2685\n",
              "Date Received       1832\n",
              "Claim Amount       11944\n",
              "Close Amount        6509\n",
              "Disposition            3\n",
              "dtype: int64"
            ]
          },
          "metadata": {},
          "execution_count": 153
        }
      ],
      "source": [
        "df.nunique()"
      ]
    },
    {
      "cell_type": "code",
      "execution_count": null,
      "metadata": {
        "colab": {
          "base_uri": "https://localhost:8080/"
        },
        "id": "zufoCBa_9cAN",
        "outputId": "970b8f01-0511-4dc6-d10a-2809906bcf27"
      },
      "outputs": [
        {
          "output_type": "execute_result",
          "data": {
            "text/plain": [
              "Claim Number       0\n",
              "City Code          0\n",
              "City               0\n",
              "Enterprise Type    0\n",
              "Claim Type         0\n",
              "Claim Site         0\n",
              "Product Insured    0\n",
              "Incident Date      0\n",
              "Date Received      0\n",
              "Claim Amount       0\n",
              "Close Amount       0\n",
              "Disposition        0\n",
              "dtype: int64"
            ]
          },
          "metadata": {},
          "execution_count": 154
        }
      ],
      "source": [
        "df.isnull().sum()"
      ]
    },
    {
      "cell_type": "code",
      "execution_count": null,
      "metadata": {
        "colab": {
          "base_uri": "https://localhost:8080/"
        },
        "id": "v4AlbySb9ypx",
        "outputId": "c151f2c6-df95-4f25-8ad6-087dcfbd84d9"
      },
      "outputs": [
        {
          "output_type": "execute_result",
          "data": {
            "text/plain": [
              "Disposition    \n",
              "Deny               17848\n",
              "Approve in Full     9052\n",
              "Settle              7210\n",
              "dtype: int64"
            ]
          },
          "metadata": {},
          "execution_count": 155
        }
      ],
      "source": [
        "df.value_counts([\"Disposition\"])\n"
      ]
    },
    {
      "cell_type": "code",
      "execution_count": null,
      "metadata": {
        "colab": {
          "base_uri": "https://localhost:8080/"
        },
        "id": "orQmlMtYE-X3",
        "outputId": "52aea2dd-5872-4c35-bd44-5e20a6072cd8"
      },
      "outputs": [
        {
          "output_type": "execute_result",
          "data": {
            "text/plain": [
              "0"
            ]
          },
          "metadata": {},
          "execution_count": 156
        }
      ],
      "source": [
        "df.duplicated().sum()"
      ]
    },
    {
      "cell_type": "code",
      "execution_count": null,
      "metadata": {
        "colab": {
          "base_uri": "https://localhost:8080/",
          "height": 371
        },
        "id": "yE8I5E3sJPnF",
        "outputId": "2d66e8e1-3b00-4cc7-c2cb-ce4a0d942bdf"
      },
      "outputs": [
        {
          "output_type": "execute_result",
          "data": {
            "text/plain": [
              "  Claim Number City Code     City         Enterprise Type     Claim Type  \\\n",
              "0   DQW1NZO0PL       NSK   Nashik  Public Limited Company  Property Loss   \n",
              "1   JS5GAPRN5B       BOM   Mumbai      One Person Company  Property Loss   \n",
              "2   ZTSVAQSEAQ       LKO  Lucknow  Public Limited Company  Property Loss   \n",
              "3   EW7NWHI7LI       DEL    Delhi     Sole Proprietorship  Property Loss   \n",
              "4   UJOFDC41EL       DEL    Delhi      One Person Company  Property Loss   \n",
              "\n",
              "   Claim Site                             Product Insured Incident Date  \\\n",
              "0  In Transit                    Inventory - Raw Material    21-10-2007   \n",
              "1  In Transit  Cameras and other Misc. Security Equipment    26-05-2006   \n",
              "2  In Transit                                    Fixtures    18-01-2004   \n",
              "3  In Transit                            Pumps and Motors    28-04-2004   \n",
              "4  In Transit                     Misc. Engineering Tools    04-11-2007   \n",
              "\n",
              "  Date Received  Claim Amount  Close Amount      Disposition  \n",
              "0    31-10-2007        100.00          0.00             Deny  \n",
              "1    14-06-2006        199.99          0.00             Deny  \n",
              "2    10-02-2004        410.00         59.85           Settle  \n",
              "3    06-05-2004        240.00          0.00             Deny  \n",
              "4    14-11-2007         11.36         11.36  Approve in Full  "
            ],
            "text/html": [
              "\n",
              "  <div id=\"df-171b3185-5b2e-4a1a-b0c2-05c534b14c10\">\n",
              "    <div class=\"colab-df-container\">\n",
              "      <div>\n",
              "<style scoped>\n",
              "    .dataframe tbody tr th:only-of-type {\n",
              "        vertical-align: middle;\n",
              "    }\n",
              "\n",
              "    .dataframe tbody tr th {\n",
              "        vertical-align: top;\n",
              "    }\n",
              "\n",
              "    .dataframe thead th {\n",
              "        text-align: right;\n",
              "    }\n",
              "</style>\n",
              "<table border=\"1\" class=\"dataframe\">\n",
              "  <thead>\n",
              "    <tr style=\"text-align: right;\">\n",
              "      <th></th>\n",
              "      <th>Claim Number</th>\n",
              "      <th>City Code</th>\n",
              "      <th>City</th>\n",
              "      <th>Enterprise Type</th>\n",
              "      <th>Claim Type</th>\n",
              "      <th>Claim Site</th>\n",
              "      <th>Product Insured</th>\n",
              "      <th>Incident Date</th>\n",
              "      <th>Date Received</th>\n",
              "      <th>Claim Amount</th>\n",
              "      <th>Close Amount</th>\n",
              "      <th>Disposition</th>\n",
              "    </tr>\n",
              "  </thead>\n",
              "  <tbody>\n",
              "    <tr>\n",
              "      <th>0</th>\n",
              "      <td>DQW1NZO0PL</td>\n",
              "      <td>NSK</td>\n",
              "      <td>Nashik</td>\n",
              "      <td>Public Limited Company</td>\n",
              "      <td>Property Loss</td>\n",
              "      <td>In Transit</td>\n",
              "      <td>Inventory - Raw Material</td>\n",
              "      <td>21-10-2007</td>\n",
              "      <td>31-10-2007</td>\n",
              "      <td>100.00</td>\n",
              "      <td>0.00</td>\n",
              "      <td>Deny</td>\n",
              "    </tr>\n",
              "    <tr>\n",
              "      <th>1</th>\n",
              "      <td>JS5GAPRN5B</td>\n",
              "      <td>BOM</td>\n",
              "      <td>Mumbai</td>\n",
              "      <td>One Person Company</td>\n",
              "      <td>Property Loss</td>\n",
              "      <td>In Transit</td>\n",
              "      <td>Cameras and other Misc. Security Equipment</td>\n",
              "      <td>26-05-2006</td>\n",
              "      <td>14-06-2006</td>\n",
              "      <td>199.99</td>\n",
              "      <td>0.00</td>\n",
              "      <td>Deny</td>\n",
              "    </tr>\n",
              "    <tr>\n",
              "      <th>2</th>\n",
              "      <td>ZTSVAQSEAQ</td>\n",
              "      <td>LKO</td>\n",
              "      <td>Lucknow</td>\n",
              "      <td>Public Limited Company</td>\n",
              "      <td>Property Loss</td>\n",
              "      <td>In Transit</td>\n",
              "      <td>Fixtures</td>\n",
              "      <td>18-01-2004</td>\n",
              "      <td>10-02-2004</td>\n",
              "      <td>410.00</td>\n",
              "      <td>59.85</td>\n",
              "      <td>Settle</td>\n",
              "    </tr>\n",
              "    <tr>\n",
              "      <th>3</th>\n",
              "      <td>EW7NWHI7LI</td>\n",
              "      <td>DEL</td>\n",
              "      <td>Delhi</td>\n",
              "      <td>Sole Proprietorship</td>\n",
              "      <td>Property Loss</td>\n",
              "      <td>In Transit</td>\n",
              "      <td>Pumps and Motors</td>\n",
              "      <td>28-04-2004</td>\n",
              "      <td>06-05-2004</td>\n",
              "      <td>240.00</td>\n",
              "      <td>0.00</td>\n",
              "      <td>Deny</td>\n",
              "    </tr>\n",
              "    <tr>\n",
              "      <th>4</th>\n",
              "      <td>UJOFDC41EL</td>\n",
              "      <td>DEL</td>\n",
              "      <td>Delhi</td>\n",
              "      <td>One Person Company</td>\n",
              "      <td>Property Loss</td>\n",
              "      <td>In Transit</td>\n",
              "      <td>Misc. Engineering Tools</td>\n",
              "      <td>04-11-2007</td>\n",
              "      <td>14-11-2007</td>\n",
              "      <td>11.36</td>\n",
              "      <td>11.36</td>\n",
              "      <td>Approve in Full</td>\n",
              "    </tr>\n",
              "  </tbody>\n",
              "</table>\n",
              "</div>\n",
              "      <button class=\"colab-df-convert\" onclick=\"convertToInteractive('df-171b3185-5b2e-4a1a-b0c2-05c534b14c10')\"\n",
              "              title=\"Convert this dataframe to an interactive table.\"\n",
              "              style=\"display:none;\">\n",
              "        \n",
              "  <svg xmlns=\"http://www.w3.org/2000/svg\" height=\"24px\"viewBox=\"0 0 24 24\"\n",
              "       width=\"24px\">\n",
              "    <path d=\"M0 0h24v24H0V0z\" fill=\"none\"/>\n",
              "    <path d=\"M18.56 5.44l.94 2.06.94-2.06 2.06-.94-2.06-.94-.94-2.06-.94 2.06-2.06.94zm-11 1L8.5 8.5l.94-2.06 2.06-.94-2.06-.94L8.5 2.5l-.94 2.06-2.06.94zm10 10l.94 2.06.94-2.06 2.06-.94-2.06-.94-.94-2.06-.94 2.06-2.06.94z\"/><path d=\"M17.41 7.96l-1.37-1.37c-.4-.4-.92-.59-1.43-.59-.52 0-1.04.2-1.43.59L10.3 9.45l-7.72 7.72c-.78.78-.78 2.05 0 2.83L4 21.41c.39.39.9.59 1.41.59.51 0 1.02-.2 1.41-.59l7.78-7.78 2.81-2.81c.8-.78.8-2.07 0-2.86zM5.41 20L4 18.59l7.72-7.72 1.47 1.35L5.41 20z\"/>\n",
              "  </svg>\n",
              "      </button>\n",
              "      \n",
              "  <style>\n",
              "    .colab-df-container {\n",
              "      display:flex;\n",
              "      flex-wrap:wrap;\n",
              "      gap: 12px;\n",
              "    }\n",
              "\n",
              "    .colab-df-convert {\n",
              "      background-color: #E8F0FE;\n",
              "      border: none;\n",
              "      border-radius: 50%;\n",
              "      cursor: pointer;\n",
              "      display: none;\n",
              "      fill: #1967D2;\n",
              "      height: 32px;\n",
              "      padding: 0 0 0 0;\n",
              "      width: 32px;\n",
              "    }\n",
              "\n",
              "    .colab-df-convert:hover {\n",
              "      background-color: #E2EBFA;\n",
              "      box-shadow: 0px 1px 2px rgba(60, 64, 67, 0.3), 0px 1px 3px 1px rgba(60, 64, 67, 0.15);\n",
              "      fill: #174EA6;\n",
              "    }\n",
              "\n",
              "    [theme=dark] .colab-df-convert {\n",
              "      background-color: #3B4455;\n",
              "      fill: #D2E3FC;\n",
              "    }\n",
              "\n",
              "    [theme=dark] .colab-df-convert:hover {\n",
              "      background-color: #434B5C;\n",
              "      box-shadow: 0px 1px 3px 1px rgba(0, 0, 0, 0.15);\n",
              "      filter: drop-shadow(0px 1px 2px rgba(0, 0, 0, 0.3));\n",
              "      fill: #FFFFFF;\n",
              "    }\n",
              "  </style>\n",
              "\n",
              "      <script>\n",
              "        const buttonEl =\n",
              "          document.querySelector('#df-171b3185-5b2e-4a1a-b0c2-05c534b14c10 button.colab-df-convert');\n",
              "        buttonEl.style.display =\n",
              "          google.colab.kernel.accessAllowed ? 'block' : 'none';\n",
              "\n",
              "        async function convertToInteractive(key) {\n",
              "          const element = document.querySelector('#df-171b3185-5b2e-4a1a-b0c2-05c534b14c10');\n",
              "          const dataTable =\n",
              "            await google.colab.kernel.invokeFunction('convertToInteractive',\n",
              "                                                     [key], {});\n",
              "          if (!dataTable) return;\n",
              "\n",
              "          const docLinkHtml = 'Like what you see? Visit the ' +\n",
              "            '<a target=\"_blank\" href=https://colab.research.google.com/notebooks/data_table.ipynb>data table notebook</a>'\n",
              "            + ' to learn more about interactive tables.';\n",
              "          element.innerHTML = '';\n",
              "          dataTable['output_type'] = 'display_data';\n",
              "          await google.colab.output.renderOutput(dataTable, element);\n",
              "          const docLink = document.createElement('div');\n",
              "          docLink.innerHTML = docLinkHtml;\n",
              "          element.appendChild(docLink);\n",
              "        }\n",
              "      </script>\n",
              "    </div>\n",
              "  </div>\n",
              "  "
            ]
          },
          "metadata": {},
          "execution_count": 157
        }
      ],
      "source": [
        "df.head(5)"
      ]
    },
    {
      "cell_type": "code",
      "execution_count": null,
      "metadata": {
        "colab": {
          "base_uri": "https://localhost:8080/",
          "height": 814
        },
        "id": "3HoTv6CchA_F",
        "outputId": "1f449be8-4a02-4aae-f419-d0a653e8dfe3"
      },
      "outputs": [
        {
          "output_type": "execute_result",
          "data": {
            "text/plain": [
              "      Claim Number City Code       City             Enterprise Type  \\\n",
              "0       DQW1NZO0PL       NSK     Nashik      Public Limited Company   \n",
              "1       JS5GAPRN5B       BOM     Mumbai          One Person Company   \n",
              "2       ZTSVAQSEAQ       LKO    Lucknow      Public Limited Company   \n",
              "3       EW7NWHI7LI       DEL      Delhi         Sole Proprietorship   \n",
              "4       UJOFDC41EL       DEL      Delhi          One Person Company   \n",
              "...            ...       ...        ...                         ...   \n",
              "34105   5CFGWQ6IR5       AGR       Agra      Public Limited Company   \n",
              "34106   QQ6EAWA4Q5       LKO    Lucknow            Partnership Firm   \n",
              "34107   X1J58PT1J5       HYD  Hyderabad          One Person Company   \n",
              "34108   AGOXXE8KII       MAA    Chennai         Sole Proprietorship   \n",
              "34109   WT5RH23GPC       LKO    Lucknow  Private Ltd. MSME - Medium   \n",
              "\n",
              "            Claim Type  Claim Site  \\\n",
              "0        Property Loss  In Transit   \n",
              "1        Property Loss  In Transit   \n",
              "2        Property Loss  In Transit   \n",
              "3        Property Loss  In Transit   \n",
              "4        Property Loss  In Transit   \n",
              "...                ...         ...   \n",
              "34105    Property Loss  In Transit   \n",
              "34106  Property Damage  In Transit   \n",
              "34107  Property Damage  In Transit   \n",
              "34108  Property Damage   Warehouse   \n",
              "34109    Property Loss  In Transit   \n",
              "\n",
              "                                  Product Insured Incident Date Date Received  \\\n",
              "0                        Inventory - Raw Material    21-10-2007    31-10-2007   \n",
              "1      Cameras and other Misc. Security Equipment    26-05-2006    14-06-2006   \n",
              "2                                        Fixtures    18-01-2004    10-02-2004   \n",
              "3                                Pumps and Motors    28-04-2004    06-05-2004   \n",
              "4                         Misc. Engineering Tools    04-11-2007    14-11-2007   \n",
              "...                                           ...           ...           ...   \n",
              "34105                     Misc. Engineering Tools    04-11-2004    18-11-2004   \n",
              "34106                      Misc. Electronic Items    23-12-2005    23-02-2006   \n",
              "34107                      Misc. Electronic Items    07-09-2007    11-09-2007   \n",
              "34108                            Pumps and Motors    05-12-2004    28-12-2004   \n",
              "34109                    Inventory - Raw Material    12-05-2007    24-09-2007   \n",
              "\n",
              "       Claim Amount  Close Amount      Disposition  \\\n",
              "0            100.00          0.00             Deny   \n",
              "1            199.99          0.00             Deny   \n",
              "2            410.00         59.85           Settle   \n",
              "3            240.00          0.00             Deny   \n",
              "4             11.36         11.36  Approve in Full   \n",
              "...             ...           ...              ...   \n",
              "34105        400.00          0.00             Deny   \n",
              "34106        380.80        142.00           Settle   \n",
              "34107         28.95         28.95  Approve in Full   \n",
              "34108         75.15         75.15  Approve in Full   \n",
              "34109        299.00        149.50           Settle   \n",
              "\n",
              "       Percentage  of claim Recived  \n",
              "0                        200.000000  \n",
              "1                        200.000000  \n",
              "2                        149.047568  \n",
              "3                        200.000000  \n",
              "4                          0.000000  \n",
              "...                             ...  \n",
              "34105                    200.000000  \n",
              "34106                     91.354246  \n",
              "34107                      0.000000  \n",
              "34108                      0.000000  \n",
              "34109                     66.666667  \n",
              "\n",
              "[34110 rows x 13 columns]"
            ],
            "text/html": [
              "\n",
              "  <div id=\"df-6460908a-c7d4-485a-9f59-7685d79901bb\">\n",
              "    <div class=\"colab-df-container\">\n",
              "      <div>\n",
              "<style scoped>\n",
              "    .dataframe tbody tr th:only-of-type {\n",
              "        vertical-align: middle;\n",
              "    }\n",
              "\n",
              "    .dataframe tbody tr th {\n",
              "        vertical-align: top;\n",
              "    }\n",
              "\n",
              "    .dataframe thead th {\n",
              "        text-align: right;\n",
              "    }\n",
              "</style>\n",
              "<table border=\"1\" class=\"dataframe\">\n",
              "  <thead>\n",
              "    <tr style=\"text-align: right;\">\n",
              "      <th></th>\n",
              "      <th>Claim Number</th>\n",
              "      <th>City Code</th>\n",
              "      <th>City</th>\n",
              "      <th>Enterprise Type</th>\n",
              "      <th>Claim Type</th>\n",
              "      <th>Claim Site</th>\n",
              "      <th>Product Insured</th>\n",
              "      <th>Incident Date</th>\n",
              "      <th>Date Received</th>\n",
              "      <th>Claim Amount</th>\n",
              "      <th>Close Amount</th>\n",
              "      <th>Disposition</th>\n",
              "      <th>Percentage  of claim Recived</th>\n",
              "    </tr>\n",
              "  </thead>\n",
              "  <tbody>\n",
              "    <tr>\n",
              "      <th>0</th>\n",
              "      <td>DQW1NZO0PL</td>\n",
              "      <td>NSK</td>\n",
              "      <td>Nashik</td>\n",
              "      <td>Public Limited Company</td>\n",
              "      <td>Property Loss</td>\n",
              "      <td>In Transit</td>\n",
              "      <td>Inventory - Raw Material</td>\n",
              "      <td>21-10-2007</td>\n",
              "      <td>31-10-2007</td>\n",
              "      <td>100.00</td>\n",
              "      <td>0.00</td>\n",
              "      <td>Deny</td>\n",
              "      <td>200.000000</td>\n",
              "    </tr>\n",
              "    <tr>\n",
              "      <th>1</th>\n",
              "      <td>JS5GAPRN5B</td>\n",
              "      <td>BOM</td>\n",
              "      <td>Mumbai</td>\n",
              "      <td>One Person Company</td>\n",
              "      <td>Property Loss</td>\n",
              "      <td>In Transit</td>\n",
              "      <td>Cameras and other Misc. Security Equipment</td>\n",
              "      <td>26-05-2006</td>\n",
              "      <td>14-06-2006</td>\n",
              "      <td>199.99</td>\n",
              "      <td>0.00</td>\n",
              "      <td>Deny</td>\n",
              "      <td>200.000000</td>\n",
              "    </tr>\n",
              "    <tr>\n",
              "      <th>2</th>\n",
              "      <td>ZTSVAQSEAQ</td>\n",
              "      <td>LKO</td>\n",
              "      <td>Lucknow</td>\n",
              "      <td>Public Limited Company</td>\n",
              "      <td>Property Loss</td>\n",
              "      <td>In Transit</td>\n",
              "      <td>Fixtures</td>\n",
              "      <td>18-01-2004</td>\n",
              "      <td>10-02-2004</td>\n",
              "      <td>410.00</td>\n",
              "      <td>59.85</td>\n",
              "      <td>Settle</td>\n",
              "      <td>149.047568</td>\n",
              "    </tr>\n",
              "    <tr>\n",
              "      <th>3</th>\n",
              "      <td>EW7NWHI7LI</td>\n",
              "      <td>DEL</td>\n",
              "      <td>Delhi</td>\n",
              "      <td>Sole Proprietorship</td>\n",
              "      <td>Property Loss</td>\n",
              "      <td>In Transit</td>\n",
              "      <td>Pumps and Motors</td>\n",
              "      <td>28-04-2004</td>\n",
              "      <td>06-05-2004</td>\n",
              "      <td>240.00</td>\n",
              "      <td>0.00</td>\n",
              "      <td>Deny</td>\n",
              "      <td>200.000000</td>\n",
              "    </tr>\n",
              "    <tr>\n",
              "      <th>4</th>\n",
              "      <td>UJOFDC41EL</td>\n",
              "      <td>DEL</td>\n",
              "      <td>Delhi</td>\n",
              "      <td>One Person Company</td>\n",
              "      <td>Property Loss</td>\n",
              "      <td>In Transit</td>\n",
              "      <td>Misc. Engineering Tools</td>\n",
              "      <td>04-11-2007</td>\n",
              "      <td>14-11-2007</td>\n",
              "      <td>11.36</td>\n",
              "      <td>11.36</td>\n",
              "      <td>Approve in Full</td>\n",
              "      <td>0.000000</td>\n",
              "    </tr>\n",
              "    <tr>\n",
              "      <th>...</th>\n",
              "      <td>...</td>\n",
              "      <td>...</td>\n",
              "      <td>...</td>\n",
              "      <td>...</td>\n",
              "      <td>...</td>\n",
              "      <td>...</td>\n",
              "      <td>...</td>\n",
              "      <td>...</td>\n",
              "      <td>...</td>\n",
              "      <td>...</td>\n",
              "      <td>...</td>\n",
              "      <td>...</td>\n",
              "      <td>...</td>\n",
              "    </tr>\n",
              "    <tr>\n",
              "      <th>34105</th>\n",
              "      <td>5CFGWQ6IR5</td>\n",
              "      <td>AGR</td>\n",
              "      <td>Agra</td>\n",
              "      <td>Public Limited Company</td>\n",
              "      <td>Property Loss</td>\n",
              "      <td>In Transit</td>\n",
              "      <td>Misc. Engineering Tools</td>\n",
              "      <td>04-11-2004</td>\n",
              "      <td>18-11-2004</td>\n",
              "      <td>400.00</td>\n",
              "      <td>0.00</td>\n",
              "      <td>Deny</td>\n",
              "      <td>200.000000</td>\n",
              "    </tr>\n",
              "    <tr>\n",
              "      <th>34106</th>\n",
              "      <td>QQ6EAWA4Q5</td>\n",
              "      <td>LKO</td>\n",
              "      <td>Lucknow</td>\n",
              "      <td>Partnership Firm</td>\n",
              "      <td>Property Damage</td>\n",
              "      <td>In Transit</td>\n",
              "      <td>Misc. Electronic Items</td>\n",
              "      <td>23-12-2005</td>\n",
              "      <td>23-02-2006</td>\n",
              "      <td>380.80</td>\n",
              "      <td>142.00</td>\n",
              "      <td>Settle</td>\n",
              "      <td>91.354246</td>\n",
              "    </tr>\n",
              "    <tr>\n",
              "      <th>34107</th>\n",
              "      <td>X1J58PT1J5</td>\n",
              "      <td>HYD</td>\n",
              "      <td>Hyderabad</td>\n",
              "      <td>One Person Company</td>\n",
              "      <td>Property Damage</td>\n",
              "      <td>In Transit</td>\n",
              "      <td>Misc. Electronic Items</td>\n",
              "      <td>07-09-2007</td>\n",
              "      <td>11-09-2007</td>\n",
              "      <td>28.95</td>\n",
              "      <td>28.95</td>\n",
              "      <td>Approve in Full</td>\n",
              "      <td>0.000000</td>\n",
              "    </tr>\n",
              "    <tr>\n",
              "      <th>34108</th>\n",
              "      <td>AGOXXE8KII</td>\n",
              "      <td>MAA</td>\n",
              "      <td>Chennai</td>\n",
              "      <td>Sole Proprietorship</td>\n",
              "      <td>Property Damage</td>\n",
              "      <td>Warehouse</td>\n",
              "      <td>Pumps and Motors</td>\n",
              "      <td>05-12-2004</td>\n",
              "      <td>28-12-2004</td>\n",
              "      <td>75.15</td>\n",
              "      <td>75.15</td>\n",
              "      <td>Approve in Full</td>\n",
              "      <td>0.000000</td>\n",
              "    </tr>\n",
              "    <tr>\n",
              "      <th>34109</th>\n",
              "      <td>WT5RH23GPC</td>\n",
              "      <td>LKO</td>\n",
              "      <td>Lucknow</td>\n",
              "      <td>Private Ltd. MSME - Medium</td>\n",
              "      <td>Property Loss</td>\n",
              "      <td>In Transit</td>\n",
              "      <td>Inventory - Raw Material</td>\n",
              "      <td>12-05-2007</td>\n",
              "      <td>24-09-2007</td>\n",
              "      <td>299.00</td>\n",
              "      <td>149.50</td>\n",
              "      <td>Settle</td>\n",
              "      <td>66.666667</td>\n",
              "    </tr>\n",
              "  </tbody>\n",
              "</table>\n",
              "<p>34110 rows × 13 columns</p>\n",
              "</div>\n",
              "      <button class=\"colab-df-convert\" onclick=\"convertToInteractive('df-6460908a-c7d4-485a-9f59-7685d79901bb')\"\n",
              "              title=\"Convert this dataframe to an interactive table.\"\n",
              "              style=\"display:none;\">\n",
              "        \n",
              "  <svg xmlns=\"http://www.w3.org/2000/svg\" height=\"24px\"viewBox=\"0 0 24 24\"\n",
              "       width=\"24px\">\n",
              "    <path d=\"M0 0h24v24H0V0z\" fill=\"none\"/>\n",
              "    <path d=\"M18.56 5.44l.94 2.06.94-2.06 2.06-.94-2.06-.94-.94-2.06-.94 2.06-2.06.94zm-11 1L8.5 8.5l.94-2.06 2.06-.94-2.06-.94L8.5 2.5l-.94 2.06-2.06.94zm10 10l.94 2.06.94-2.06 2.06-.94-2.06-.94-.94-2.06-.94 2.06-2.06.94z\"/><path d=\"M17.41 7.96l-1.37-1.37c-.4-.4-.92-.59-1.43-.59-.52 0-1.04.2-1.43.59L10.3 9.45l-7.72 7.72c-.78.78-.78 2.05 0 2.83L4 21.41c.39.39.9.59 1.41.59.51 0 1.02-.2 1.41-.59l7.78-7.78 2.81-2.81c.8-.78.8-2.07 0-2.86zM5.41 20L4 18.59l7.72-7.72 1.47 1.35L5.41 20z\"/>\n",
              "  </svg>\n",
              "      </button>\n",
              "      \n",
              "  <style>\n",
              "    .colab-df-container {\n",
              "      display:flex;\n",
              "      flex-wrap:wrap;\n",
              "      gap: 12px;\n",
              "    }\n",
              "\n",
              "    .colab-df-convert {\n",
              "      background-color: #E8F0FE;\n",
              "      border: none;\n",
              "      border-radius: 50%;\n",
              "      cursor: pointer;\n",
              "      display: none;\n",
              "      fill: #1967D2;\n",
              "      height: 32px;\n",
              "      padding: 0 0 0 0;\n",
              "      width: 32px;\n",
              "    }\n",
              "\n",
              "    .colab-df-convert:hover {\n",
              "      background-color: #E2EBFA;\n",
              "      box-shadow: 0px 1px 2px rgba(60, 64, 67, 0.3), 0px 1px 3px 1px rgba(60, 64, 67, 0.15);\n",
              "      fill: #174EA6;\n",
              "    }\n",
              "\n",
              "    [theme=dark] .colab-df-convert {\n",
              "      background-color: #3B4455;\n",
              "      fill: #D2E3FC;\n",
              "    }\n",
              "\n",
              "    [theme=dark] .colab-df-convert:hover {\n",
              "      background-color: #434B5C;\n",
              "      box-shadow: 0px 1px 3px 1px rgba(0, 0, 0, 0.15);\n",
              "      filter: drop-shadow(0px 1px 2px rgba(0, 0, 0, 0.3));\n",
              "      fill: #FFFFFF;\n",
              "    }\n",
              "  </style>\n",
              "\n",
              "      <script>\n",
              "        const buttonEl =\n",
              "          document.querySelector('#df-6460908a-c7d4-485a-9f59-7685d79901bb button.colab-df-convert');\n",
              "        buttonEl.style.display =\n",
              "          google.colab.kernel.accessAllowed ? 'block' : 'none';\n",
              "\n",
              "        async function convertToInteractive(key) {\n",
              "          const element = document.querySelector('#df-6460908a-c7d4-485a-9f59-7685d79901bb');\n",
              "          const dataTable =\n",
              "            await google.colab.kernel.invokeFunction('convertToInteractive',\n",
              "                                                     [key], {});\n",
              "          if (!dataTable) return;\n",
              "\n",
              "          const docLinkHtml = 'Like what you see? Visit the ' +\n",
              "            '<a target=\"_blank\" href=https://colab.research.google.com/notebooks/data_table.ipynb>data table notebook</a>'\n",
              "            + ' to learn more about interactive tables.';\n",
              "          element.innerHTML = '';\n",
              "          dataTable['output_type'] = 'display_data';\n",
              "          await google.colab.output.renderOutput(dataTable, element);\n",
              "          const docLink = document.createElement('div');\n",
              "          docLink.innerHTML = docLinkHtml;\n",
              "          element.appendChild(docLink);\n",
              "        }\n",
              "      </script>\n",
              "    </div>\n",
              "  </div>\n",
              "  "
            ]
          },
          "metadata": {},
          "execution_count": 158
        }
      ],
      "source": [
        "df[\"Percentage  of claim Recived\"] = 100*(df[\"Claim Amount\"]-df[\"Close Amount\"])/((df[\"Claim Amount\"]+df[\"Close Amount\"])/2)\n",
        "df"
      ]
    },
    {
      "cell_type": "code",
      "execution_count": null,
      "metadata": {
        "colab": {
          "base_uri": "https://localhost:8080/",
          "height": 143
        },
        "id": "_pUfqygBKZCQ",
        "outputId": "35a47448-90e2-48f5-a854-0a0170f965bd"
      },
      "outputs": [
        {
          "output_type": "execute_result",
          "data": {
            "text/plain": [
              "                                count        mean          std    min   25%  \\\n",
              "Claim Amount                  34110.0  717.844178  8290.881802    0.0  60.0   \n",
              "Close Amount                  34110.0  104.883016  1393.564677    0.0   0.0   \n",
              "Percentage  of claim Recived  34098.0  118.098450    89.329462 -200.0   0.0   \n",
              "\n",
              "                                50%    75%       max  \n",
              "Claim Amount                  175.0  460.0  900000.0  \n",
              "Close Amount                    0.0   75.0  250000.0  \n",
              "Percentage  of claim Recived  200.0  200.0     200.0  "
            ],
            "text/html": [
              "\n",
              "  <div id=\"df-180f3504-c55a-47ef-a353-36010abc048f\">\n",
              "    <div class=\"colab-df-container\">\n",
              "      <div>\n",
              "<style scoped>\n",
              "    .dataframe tbody tr th:only-of-type {\n",
              "        vertical-align: middle;\n",
              "    }\n",
              "\n",
              "    .dataframe tbody tr th {\n",
              "        vertical-align: top;\n",
              "    }\n",
              "\n",
              "    .dataframe thead th {\n",
              "        text-align: right;\n",
              "    }\n",
              "</style>\n",
              "<table border=\"1\" class=\"dataframe\">\n",
              "  <thead>\n",
              "    <tr style=\"text-align: right;\">\n",
              "      <th></th>\n",
              "      <th>count</th>\n",
              "      <th>mean</th>\n",
              "      <th>std</th>\n",
              "      <th>min</th>\n",
              "      <th>25%</th>\n",
              "      <th>50%</th>\n",
              "      <th>75%</th>\n",
              "      <th>max</th>\n",
              "    </tr>\n",
              "  </thead>\n",
              "  <tbody>\n",
              "    <tr>\n",
              "      <th>Claim Amount</th>\n",
              "      <td>34110.0</td>\n",
              "      <td>717.844178</td>\n",
              "      <td>8290.881802</td>\n",
              "      <td>0.0</td>\n",
              "      <td>60.0</td>\n",
              "      <td>175.0</td>\n",
              "      <td>460.0</td>\n",
              "      <td>900000.0</td>\n",
              "    </tr>\n",
              "    <tr>\n",
              "      <th>Close Amount</th>\n",
              "      <td>34110.0</td>\n",
              "      <td>104.883016</td>\n",
              "      <td>1393.564677</td>\n",
              "      <td>0.0</td>\n",
              "      <td>0.0</td>\n",
              "      <td>0.0</td>\n",
              "      <td>75.0</td>\n",
              "      <td>250000.0</td>\n",
              "    </tr>\n",
              "    <tr>\n",
              "      <th>Percentage  of claim Recived</th>\n",
              "      <td>34098.0</td>\n",
              "      <td>118.098450</td>\n",
              "      <td>89.329462</td>\n",
              "      <td>-200.0</td>\n",
              "      <td>0.0</td>\n",
              "      <td>200.0</td>\n",
              "      <td>200.0</td>\n",
              "      <td>200.0</td>\n",
              "    </tr>\n",
              "  </tbody>\n",
              "</table>\n",
              "</div>\n",
              "      <button class=\"colab-df-convert\" onclick=\"convertToInteractive('df-180f3504-c55a-47ef-a353-36010abc048f')\"\n",
              "              title=\"Convert this dataframe to an interactive table.\"\n",
              "              style=\"display:none;\">\n",
              "        \n",
              "  <svg xmlns=\"http://www.w3.org/2000/svg\" height=\"24px\"viewBox=\"0 0 24 24\"\n",
              "       width=\"24px\">\n",
              "    <path d=\"M0 0h24v24H0V0z\" fill=\"none\"/>\n",
              "    <path d=\"M18.56 5.44l.94 2.06.94-2.06 2.06-.94-2.06-.94-.94-2.06-.94 2.06-2.06.94zm-11 1L8.5 8.5l.94-2.06 2.06-.94-2.06-.94L8.5 2.5l-.94 2.06-2.06.94zm10 10l.94 2.06.94-2.06 2.06-.94-2.06-.94-.94-2.06-.94 2.06-2.06.94z\"/><path d=\"M17.41 7.96l-1.37-1.37c-.4-.4-.92-.59-1.43-.59-.52 0-1.04.2-1.43.59L10.3 9.45l-7.72 7.72c-.78.78-.78 2.05 0 2.83L4 21.41c.39.39.9.59 1.41.59.51 0 1.02-.2 1.41-.59l7.78-7.78 2.81-2.81c.8-.78.8-2.07 0-2.86zM5.41 20L4 18.59l7.72-7.72 1.47 1.35L5.41 20z\"/>\n",
              "  </svg>\n",
              "      </button>\n",
              "      \n",
              "  <style>\n",
              "    .colab-df-container {\n",
              "      display:flex;\n",
              "      flex-wrap:wrap;\n",
              "      gap: 12px;\n",
              "    }\n",
              "\n",
              "    .colab-df-convert {\n",
              "      background-color: #E8F0FE;\n",
              "      border: none;\n",
              "      border-radius: 50%;\n",
              "      cursor: pointer;\n",
              "      display: none;\n",
              "      fill: #1967D2;\n",
              "      height: 32px;\n",
              "      padding: 0 0 0 0;\n",
              "      width: 32px;\n",
              "    }\n",
              "\n",
              "    .colab-df-convert:hover {\n",
              "      background-color: #E2EBFA;\n",
              "      box-shadow: 0px 1px 2px rgba(60, 64, 67, 0.3), 0px 1px 3px 1px rgba(60, 64, 67, 0.15);\n",
              "      fill: #174EA6;\n",
              "    }\n",
              "\n",
              "    [theme=dark] .colab-df-convert {\n",
              "      background-color: #3B4455;\n",
              "      fill: #D2E3FC;\n",
              "    }\n",
              "\n",
              "    [theme=dark] .colab-df-convert:hover {\n",
              "      background-color: #434B5C;\n",
              "      box-shadow: 0px 1px 3px 1px rgba(0, 0, 0, 0.15);\n",
              "      filter: drop-shadow(0px 1px 2px rgba(0, 0, 0, 0.3));\n",
              "      fill: #FFFFFF;\n",
              "    }\n",
              "  </style>\n",
              "\n",
              "      <script>\n",
              "        const buttonEl =\n",
              "          document.querySelector('#df-180f3504-c55a-47ef-a353-36010abc048f button.colab-df-convert');\n",
              "        buttonEl.style.display =\n",
              "          google.colab.kernel.accessAllowed ? 'block' : 'none';\n",
              "\n",
              "        async function convertToInteractive(key) {\n",
              "          const element = document.querySelector('#df-180f3504-c55a-47ef-a353-36010abc048f');\n",
              "          const dataTable =\n",
              "            await google.colab.kernel.invokeFunction('convertToInteractive',\n",
              "                                                     [key], {});\n",
              "          if (!dataTable) return;\n",
              "\n",
              "          const docLinkHtml = 'Like what you see? Visit the ' +\n",
              "            '<a target=\"_blank\" href=https://colab.research.google.com/notebooks/data_table.ipynb>data table notebook</a>'\n",
              "            + ' to learn more about interactive tables.';\n",
              "          element.innerHTML = '';\n",
              "          dataTable['output_type'] = 'display_data';\n",
              "          await google.colab.output.renderOutput(dataTable, element);\n",
              "          const docLink = document.createElement('div');\n",
              "          docLink.innerHTML = docLinkHtml;\n",
              "          element.appendChild(docLink);\n",
              "        }\n",
              "      </script>\n",
              "    </div>\n",
              "  </div>\n",
              "  "
            ]
          },
          "metadata": {},
          "execution_count": 159
        }
      ],
      "source": [
        "df.describe().T"
      ]
    },
    {
      "cell_type": "code",
      "execution_count": null,
      "metadata": {
        "colab": {
          "base_uri": "https://localhost:8080/"
        },
        "id": "7ycUMmEifBku",
        "outputId": "8d36675d-ee0c-4c97-ea30-3cc8ba696651"
      },
      "outputs": [
        {
          "output_type": "execute_result",
          "data": {
            "text/plain": [
              "Claim Number                     0\n",
              "City Code                        0\n",
              "City                             0\n",
              "Enterprise Type                  0\n",
              "Claim Type                       0\n",
              "Claim Site                       0\n",
              "Product Insured                  0\n",
              "Incident Date                    0\n",
              "Date Received                    0\n",
              "Claim Amount                     0\n",
              "Close Amount                     0\n",
              "Disposition                      0\n",
              "Percentage  of claim Recived    12\n",
              "dtype: int64"
            ]
          },
          "metadata": {},
          "execution_count": 160
        }
      ],
      "source": [
        "df.isnull().sum()"
      ]
    },
    {
      "cell_type": "code",
      "execution_count": null,
      "metadata": {
        "id": "m-dGsyRn6amb"
      },
      "outputs": [],
      "source": []
    },
    {
      "cell_type": "code",
      "execution_count": null,
      "metadata": {
        "colab": {
          "base_uri": "https://localhost:8080/",
          "height": 281
        },
        "id": "jTTllHmEKzcn",
        "outputId": "d9aab64d-a0ea-4f09-b633-ef5ce076da48"
      },
      "outputs": [
        {
          "output_type": "execute_result",
          "data": {
            "text/plain": [
              "Claim Amount                       AxesSubplot(0.125,0.657941;0.227941x0.222059)\n",
              "Close Amount                    AxesSubplot(0.398529,0.657941;0.227941x0.222059)\n",
              "Percentage  of claim Recived    AxesSubplot(0.672059,0.657941;0.227941x0.222059)\n",
              "dtype: object"
            ]
          },
          "metadata": {},
          "execution_count": 161
        },
        {
          "output_type": "display_data",
          "data": {
            "text/plain": [
              "<Figure size 720x720 with 9 Axes>"
            ],
            "image/png": "[encoded data removed]"
          },
          "metadata": {
            "needs_background": "light"
          }
        }
      ],
      "source": [
        "df.plot(kind = \"box\",subplots = True,sharex= False,sharey=False,layout=(3,3),figsize=(10,10))"
      ]
    },
    {
      "cell_type": "code",
      "execution_count": null,
      "metadata": {
        "id": "6bQpfUJAfGZb"
      },
      "outputs": [],
      "source": []
    },
    {
      "cell_type": "code",
      "execution_count": null,
      "metadata": {
        "colab": {
          "base_uri": "https://localhost:8080/",
          "height": 524
        },
        "id": "Z14YKJfA85l8",
        "outputId": "69f7f142-7201-4f6c-a6d3-d8ae59b1ce0b"
      },
      "outputs": [
        {
          "output_type": "display_data",
          "data": {
            "text/plain": [
              "<Figure size 720x576 with 1 Axes>"
            ],
            "image/png": "[encoded data removed]"
          },
          "metadata": {
            "needs_background": "light"
          }
        }
      ],
      "source": [
        "plt.figure(figsize=(10, 8)) #Which City has reported the highest number of incidents\n",
        "plt.bar(df[\"City Code\"],df[\"Claim Amount\"])\n",
        "plt.title(\"which city high incident\")\n",
        "plt.xlabel(\"City Code\")\n",
        "plt.ylabel(\"amoount of claim\")\n",
        "plt.xticks(rotation=\"35\")\n",
        "plt.show()"
      ]
    },
    {
      "cell_type": "code",
      "execution_count": null,
      "metadata": {
        "colab": {
          "base_uri": "https://localhost:8080/",
          "height": 561
        },
        "id": "54TgdOKULAAR",
        "outputId": "bbdf149f-49a9-4c34-b739-baae273bb6c6"
      },
      "outputs": [
        {
          "output_type": "display_data",
          "data": {
            "text/plain": [
              "<Figure size 720x576 with 1 Axes>"
            ],
            "image/png": "[encoded data removed]"
          },
          "metadata": {
            "needs_background": "light"
          }
        }
      ],
      "source": [
        "plt.figure(figsize=(10, 8))   #Which Type of Claims have the highest number of incidents\n",
        "plt.bar(df[\"Claim Type\"],df[\"Claim Amount\"])\n",
        "plt.title(\"amount claimed with type\")\n",
        "plt.xlabel(\"type of claim\")\n",
        "plt.ylabel(\"amoount of claim\")\n",
        "plt.xticks(rotation=\"35\")\n",
        "plt.show()"
      ]
    },
    {
      "cell_type": "code",
      "execution_count": null,
      "metadata": {
        "id": "819FS2zeMo6M"
      },
      "outputs": [],
      "source": []
    },
    {
      "cell_type": "code",
      "execution_count": null,
      "metadata": {
        "colab": {
          "base_uri": "https://localhost:8080/"
        },
        "id": "Y_5-HJ8oOy5r",
        "outputId": "0976ed20-5691-4468-c3cd-4b0e21a8d06c"
      },
      "outputs": [
        {
          "output_type": "execute_result",
          "data": {
            "text/plain": [
              "Index(['Claim Number', 'City Code', 'City', 'Enterprise Type', 'Claim Type',\n",
              "       'Claim Site', 'Product Insured', 'Incident Date', 'Date Received',\n",
              "       'Claim Amount', 'Close Amount', 'Disposition',\n",
              "       'Percentage  of claim Recived'],\n",
              "      dtype='object')"
            ]
          },
          "metadata": {},
          "execution_count": 164
        }
      ],
      "source": [
        "df.columns"
      ]
    },
    {
      "cell_type": "code",
      "execution_count": null,
      "metadata": {
        "id": "2FWGaVEGRTh6"
      },
      "outputs": [],
      "source": [
        "df_1 = df.drop([\"Claim Number\",'Incident Date','Date Received','City','Percentage  of claim Recived',\"Claim Amount\",\"Close Amount\"],axis =1)"
      ]
    },
    {
      "cell_type": "code",
      "execution_count": null,
      "metadata": {
        "colab": {
          "base_uri": "https://localhost:8080/",
          "height": 206
        },
        "id": "fYVhpDeNR2YW",
        "outputId": "a5691bd5-86f8-4993-b762-e63a615029ab"
      },
      "outputs": [
        {
          "output_type": "execute_result",
          "data": {
            "text/plain": [
              "  City Code         Enterprise Type     Claim Type  Claim Site  \\\n",
              "0       NSK  Public Limited Company  Property Loss  In Transit   \n",
              "1       BOM      One Person Company  Property Loss  In Transit   \n",
              "2       LKO  Public Limited Company  Property Loss  In Transit   \n",
              "3       DEL     Sole Proprietorship  Property Loss  In Transit   \n",
              "4       DEL      One Person Company  Property Loss  In Transit   \n",
              "\n",
              "                              Product Insured      Disposition  \n",
              "0                    Inventory - Raw Material             Deny  \n",
              "1  Cameras and other Misc. Security Equipment             Deny  \n",
              "2                                    Fixtures           Settle  \n",
              "3                            Pumps and Motors             Deny  \n",
              "4                     Misc. Engineering Tools  Approve in Full  "
            ],
            "text/html": [
              "\n",
              "  <div id=\"df-eda58076-ecdf-4107-b14f-482866ec7682\">\n",
              "    <div class=\"colab-df-container\">\n",
              "      <div>\n",
              "<style scoped>\n",
              "    .dataframe tbody tr th:only-of-type {\n",
              "        vertical-align: middle;\n",
              "    }\n",
              "\n",
              "    .dataframe tbody tr th {\n",
              "        vertical-align: top;\n",
              "    }\n",
              "\n",
              "    .dataframe thead th {\n",
              "        text-align: right;\n",
              "    }\n",
              "</style>\n",
              "<table border=\"1\" class=\"dataframe\">\n",
              "  <thead>\n",
              "    <tr style=\"text-align: right;\">\n",
              "      <th></th>\n",
              "      <th>City Code</th>\n",
              "      <th>Enterprise Type</th>\n",
              "      <th>Claim Type</th>\n",
              "      <th>Claim Site</th>\n",
              "      <th>Product Insured</th>\n",
              "      <th>Disposition</th>\n",
              "    </tr>\n",
              "  </thead>\n",
              "  <tbody>\n",
              "    <tr>\n",
              "      <th>0</th>\n",
              "      <td>NSK</td>\n",
              "      <td>Public Limited Company</td>\n",
              "      <td>Property Loss</td>\n",
              "      <td>In Transit</td>\n",
              "      <td>Inventory - Raw Material</td>\n",
              "      <td>Deny</td>\n",
              "    </tr>\n",
              "    <tr>\n",
              "      <th>1</th>\n",
              "      <td>BOM</td>\n",
              "      <td>One Person Company</td>\n",
              "      <td>Property Loss</td>\n",
              "      <td>In Transit</td>\n",
              "      <td>Cameras and other Misc. Security Equipment</td>\n",
              "      <td>Deny</td>\n",
              "    </tr>\n",
              "    <tr>\n",
              "      <th>2</th>\n",
              "      <td>LKO</td>\n",
              "      <td>Public Limited Company</td>\n",
              "      <td>Property Loss</td>\n",
              "      <td>In Transit</td>\n",
              "      <td>Fixtures</td>\n",
              "      <td>Settle</td>\n",
              "    </tr>\n",
              "    <tr>\n",
              "      <th>3</th>\n",
              "      <td>DEL</td>\n",
              "      <td>Sole Proprietorship</td>\n",
              "      <td>Property Loss</td>\n",
              "      <td>In Transit</td>\n",
              "      <td>Pumps and Motors</td>\n",
              "      <td>Deny</td>\n",
              "    </tr>\n",
              "    <tr>\n",
              "      <th>4</th>\n",
              "      <td>DEL</td>\n",
              "      <td>One Person Company</td>\n",
              "      <td>Property Loss</td>\n",
              "      <td>In Transit</td>\n",
              "      <td>Misc. Engineering Tools</td>\n",
              "      <td>Approve in Full</td>\n",
              "    </tr>\n",
              "  </tbody>\n",
              "</table>\n",
              "</div>\n",
              "      <button class=\"colab-df-convert\" onclick=\"convertToInteractive('df-eda58076-ecdf-4107-b14f-482866ec7682')\"\n",
              "              title=\"Convert this dataframe to an interactive table.\"\n",
              "              style=\"display:none;\">\n",
              "        \n",
              "  <svg xmlns=\"http://www.w3.org/2000/svg\" height=\"24px\"viewBox=\"0 0 24 24\"\n",
              "       width=\"24px\">\n",
              "    <path d=\"M0 0h24v24H0V0z\" fill=\"none\"/>\n",
              "    <path d=\"M18.56 5.44l.94 2.06.94-2.06 2.06-.94-2.06-.94-.94-2.06-.94 2.06-2.06.94zm-11 1L8.5 8.5l.94-2.06 2.06-.94-2.06-.94L8.5 2.5l-.94 2.06-2.06.94zm10 10l.94 2.06.94-2.06 2.06-.94-2.06-.94-.94-2.06-.94 2.06-2.06.94z\"/><path d=\"M17.41 7.96l-1.37-1.37c-.4-.4-.92-.59-1.43-.59-.52 0-1.04.2-1.43.59L10.3 9.45l-7.72 7.72c-.78.78-.78 2.05 0 2.83L4 21.41c.39.39.9.59 1.41.59.51 0 1.02-.2 1.41-.59l7.78-7.78 2.81-2.81c.8-.78.8-2.07 0-2.86zM5.41 20L4 18.59l7.72-7.72 1.47 1.35L5.41 20z\"/>\n",
              "  </svg>\n",
              "      </button>\n",
              "      \n",
              "  <style>\n",
              "    .colab-df-container {\n",
              "      display:flex;\n",
              "      flex-wrap:wrap;\n",
              "      gap: 12px;\n",
              "    }\n",
              "\n",
              "    .colab-df-convert {\n",
              "      background-color: #E8F0FE;\n",
              "      border: none;\n",
              "      border-radius: 50%;\n",
              "      cursor: pointer;\n",
              "      display: none;\n",
              "      fill: #1967D2;\n",
              "      height: 32px;\n",
              "      padding: 0 0 0 0;\n",
              "      width: 32px;\n",
              "    }\n",
              "\n",
              "    .colab-df-convert:hover {\n",
              "      background-color: #E2EBFA;\n",
              "      box-shadow: 0px 1px 2px rgba(60, 64, 67, 0.3), 0px 1px 3px 1px rgba(60, 64, 67, 0.15);\n",
              "      fill: #174EA6;\n",
              "    }\n",
              "\n",
              "    [theme=dark] .colab-df-convert {\n",
              "      background-color: #3B4455;\n",
              "      fill: #D2E3FC;\n",
              "    }\n",
              "\n",
              "    [theme=dark] .colab-df-convert:hover {\n",
              "      background-color: #434B5C;\n",
              "      box-shadow: 0px 1px 3px 1px rgba(0, 0, 0, 0.15);\n",
              "      filter: drop-shadow(0px 1px 2px rgba(0, 0, 0, 0.3));\n",
              "      fill: #FFFFFF;\n",
              "    }\n",
              "  </style>\n",
              "\n",
              "      <script>\n",
              "        const buttonEl =\n",
              "          document.querySelector('#df-eda58076-ecdf-4107-b14f-482866ec7682 button.colab-df-convert');\n",
              "        buttonEl.style.display =\n",
              "          google.colab.kernel.accessAllowed ? 'block' : 'none';\n",
              "\n",
              "        async function convertToInteractive(key) {\n",
              "          const element = document.querySelector('#df-eda58076-ecdf-4107-b14f-482866ec7682');\n",
              "          const dataTable =\n",
              "            await google.colab.kernel.invokeFunction('convertToInteractive',\n",
              "                                                     [key], {});\n",
              "          if (!dataTable) return;\n",
              "\n",
              "          const docLinkHtml = 'Like what you see? Visit the ' +\n",
              "            '<a target=\"_blank\" href=https://colab.research.google.com/notebooks/data_table.ipynb>data table notebook</a>'\n",
              "            + ' to learn more about interactive tables.';\n",
              "          element.innerHTML = '';\n",
              "          dataTable['output_type'] = 'display_data';\n",
              "          await google.colab.output.renderOutput(dataTable, element);\n",
              "          const docLink = document.createElement('div');\n",
              "          docLink.innerHTML = docLinkHtml;\n",
              "          element.appendChild(docLink);\n",
              "        }\n",
              "      </script>\n",
              "    </div>\n",
              "  </div>\n",
              "  "
            ]
          },
          "metadata": {},
          "execution_count": 166
        }
      ],
      "source": [
        "df_1.head()"
      ]
    },
    {
      "cell_type": "code",
      "execution_count": null,
      "metadata": {
        "colab": {
          "base_uri": "https://localhost:8080/"
        },
        "id": "eT_ZpHAknwkr",
        "outputId": "2deae01c-231f-47c1-e7c6-17f0d63bf522"
      },
      "outputs": [
        {
          "output_type": "execute_result",
          "data": {
            "text/plain": [
              "City Code          0\n",
              "Enterprise Type    0\n",
              "Claim Type         0\n",
              "Claim Site         0\n",
              "Product Insured    0\n",
              "Disposition        0\n",
              "dtype: int64"
            ]
          },
          "metadata": {},
          "execution_count": 167
        }
      ],
      "source": [
        "df_1.isnull().sum()"
      ]
    },
    {
      "cell_type": "code",
      "execution_count": null,
      "metadata": {
        "colab": {
          "base_uri": "https://localhost:8080/"
        },
        "id": "pqg1rOnvR4Ah",
        "outputId": "10a71efc-c7db-4481-a674-a2432aba031f"
      },
      "outputs": [
        {
          "output_type": "execute_result",
          "data": {
            "text/plain": [
              "City Code          23\n",
              "Enterprise Type    13\n",
              "Claim Type          2\n",
              "Claim Site          3\n",
              "Product Insured    13\n",
              "Disposition         3\n",
              "dtype: int64"
            ]
          },
          "metadata": {},
          "execution_count": 168
        }
      ],
      "source": [
        "df_1.nunique()"
      ]
    },
    {
      "cell_type": "code",
      "execution_count": null,
      "metadata": {
        "colab": {
          "base_uri": "https://localhost:8080/"
        },
        "id": "XAGysyJRS3XF",
        "outputId": "d807caec-3822-45eb-c3cc-b56b2020c1d1"
      },
      "outputs": [
        {
          "output_type": "stream",
          "name": "stdout",
          "text": [
            "<class 'pandas.core.frame.DataFrame'>\n",
            "Int64Index: 34110 entries, 0 to 34109\n",
            "Data columns (total 6 columns):\n",
            " #   Column           Non-Null Count  Dtype \n",
            "---  ------           --------------  ----- \n",
            " 0   City Code        34110 non-null  object\n",
            " 1   Enterprise Type  34110 non-null  object\n",
            " 2   Claim Type       34110 non-null  object\n",
            " 3   Claim Site       34110 non-null  object\n",
            " 4   Product Insured  34110 non-null  object\n",
            " 5   Disposition      34110 non-null  object\n",
            "dtypes: object(6)\n",
            "memory usage: 1.8+ MB\n"
          ]
        }
      ],
      "source": [
        "df_1.info()"
      ]
    },
    {
      "cell_type": "code",
      "execution_count": null,
      "metadata": {
        "id": "CEMGfzRxS6VA"
      },
      "outputs": [],
      "source": [
        "cat_cols=df_1.select_dtypes(\"object\").columns\n",
        "#num_cols = df_1.select_dtypes(\"float64\").columns\n",
        "df[cat_cols] = df[cat_cols].astype(\"category\")\n"
      ]
    },
    {
      "cell_type": "code",
      "execution_count": null,
      "metadata": {
        "id": "bgVrXQljARwO"
      },
      "outputs": [],
      "source": [
        "cat_cols = cat_cols.drop(\"Disposition\")"
      ]
    },
    {
      "cell_type": "code",
      "execution_count": null,
      "metadata": {
        "colab": {
          "base_uri": "https://localhost:8080/"
        },
        "id": "QA6wagd4mvpx",
        "outputId": "fa27541f-a72a-4e14-ea67-ead84fb99f9f"
      },
      "outputs": [
        {
          "output_type": "execute_result",
          "data": {
            "text/plain": [
              "Index(['City Code', 'Enterprise Type', 'Claim Type', 'Claim Site',\n",
              "       'Product Insured'],\n",
              "      dtype='object')"
            ]
          },
          "metadata": {},
          "execution_count": 172
        }
      ],
      "source": [
        "cat_cols"
      ]
    },
    {
      "cell_type": "code",
      "execution_count": null,
      "metadata": {
        "id": "xa3LrNkIm61g"
      },
      "outputs": [],
      "source": [
        "#num_cols"
      ]
    },
    {
      "cell_type": "code",
      "execution_count": null,
      "metadata": {
        "colab": {
          "base_uri": "https://localhost:8080/"
        },
        "id": "SW1qqc4pT2Du",
        "outputId": "2c64ba4b-456d-47cf-86be-940fe2e739e4"
      },
      "outputs": [
        {
          "output_type": "stream",
          "name": "stdout",
          "text": [
            "Index(['City Code', 'Enterprise Type', 'Claim Type', 'Claim Site',\n",
            "       'Product Insured'],\n",
            "      dtype='object')\n"
          ]
        }
      ],
      "source": [
        "print(cat_cols)\n",
        "#print(num_cols)"
      ]
    },
    {
      "cell_type": "code",
      "execution_count": null,
      "metadata": {
        "id": "JVnDwzazR8fW"
      },
      "outputs": [],
      "source": [
        "x = df_1.drop(\"Disposition\",axis = 1)"
      ]
    },
    {
      "cell_type": "code",
      "execution_count": null,
      "metadata": {
        "id": "g6Qq_MSESdKn"
      },
      "outputs": [],
      "source": [
        "y = df_1['Disposition']"
      ]
    },
    {
      "cell_type": "code",
      "execution_count": null,
      "metadata": {
        "id": "N_UUyw3QSgyG"
      },
      "outputs": [],
      "source": [
        "from sklearn.model_selection import train_test_split\n",
        "x_train,x_test,y_train,y_test = train_test_split(x,y,stratify = y,test_size = 0.2,random_state=123)"
      ]
    },
    {
      "cell_type": "code",
      "execution_count": null,
      "metadata": {
        "colab": {
          "base_uri": "https://localhost:8080/"
        },
        "id": "kqNpUHOKUtfY",
        "outputId": "83795861-2bc3-4d71-f9ad-d413b084637c"
      },
      "outputs": [
        {
          "output_type": "stream",
          "name": "stdout",
          "text": [
            "(27288, 5)\n",
            "(6822, 5)\n",
            "(27288,)\n",
            "(6822,)\n"
          ]
        }
      ],
      "source": [
        "print(x_train.shape)\n",
        "print(x_test.shape)\n",
        "print(y_train.shape)\n",
        "print(y_test.shape)"
      ]
    },
    {
      "cell_type": "code",
      "execution_count": null,
      "metadata": {
        "id": "kaBtWLC_SwY5"
      },
      "outputs": [],
      "source": [
        "from sklearn.preprocessing import StandardScaler,LabelEncoder,OneHotEncoder"
      ]
    },
    {
      "cell_type": "code",
      "execution_count": null,
      "metadata": {
        "colab": {
          "base_uri": "https://localhost:8080/"
        },
        "id": "MayBlWkroBHo",
        "outputId": "b8904a1c-e213-42f0-e135-f9f53d38485a"
      },
      "outputs": [
        {
          "output_type": "execute_result",
          "data": {
            "text/plain": [
              "City Code          0\n",
              "Enterprise Type    0\n",
              "Claim Type         0\n",
              "Claim Site         0\n",
              "Product Insured    0\n",
              "dtype: int64"
            ]
          },
          "metadata": {},
          "execution_count": 180
        }
      ],
      "source": [
        "x_train.isnull().sum()"
      ]
    },
    {
      "cell_type": "code",
      "execution_count": null,
      "metadata": {
        "colab": {
          "base_uri": "https://localhost:8080/"
        },
        "id": "L50m7rKJoNzu",
        "outputId": "fdca1e1f-ce7e-4797-a7d5-3de2b5734404"
      },
      "outputs": [
        {
          "output_type": "execute_result",
          "data": {
            "text/plain": [
              "City Code          0\n",
              "Enterprise Type    0\n",
              "Claim Type         0\n",
              "Claim Site         0\n",
              "Product Insured    0\n",
              "dtype: int64"
            ]
          },
          "metadata": {},
          "execution_count": 181
        }
      ],
      "source": [
        "x_test.isnull().sum()"
      ]
    },
    {
      "cell_type": "code",
      "execution_count": null,
      "metadata": {
        "id": "rrx4CFJZodgw"
      },
      "outputs": [],
      "source": [
        "#from sklearn.impute import SimpleImputer\n",
        "#imputer=SimpleImputer(missing_values = np.nan , strategy=\"mean\")\n",
        "#x_train[num_cols]=imputer.fit_transform(x_train[num_cols])\n",
        "#x_test[num_cols]=imputer.transform(x_test[num_cols])"
      ]
    },
    {
      "cell_type": "code",
      "execution_count": null,
      "metadata": {
        "colab": {
          "base_uri": "https://localhost:8080/"
        },
        "id": "Q-f0h8b6odZB",
        "outputId": "1d648fd9-3907-446a-e581-ef77bbeef7e6"
      },
      "outputs": [
        {
          "output_type": "execute_result",
          "data": {
            "text/plain": [
              "City Code          0\n",
              "Enterprise Type    0\n",
              "Claim Type         0\n",
              "Claim Site         0\n",
              "Product Insured    0\n",
              "dtype: int64"
            ]
          },
          "metadata": {},
          "execution_count": 183
        }
      ],
      "source": [
        "x_train.isnull().sum()"
      ]
    },
    {
      "cell_type": "code",
      "execution_count": null,
      "metadata": {
        "id": "UPBZqtUdUQp7"
      },
      "outputs": [],
      "source": [
        "le = LabelEncoder()\n",
        "ohe = OneHotEncoder()\n",
        "y_train_le = le.fit_transform(y_train)\n",
        "y_test_le = le.transform(y_test)\n",
        "x_train_ohe = ohe.fit_transform(x_train[cat_cols]).toarray()\n",
        "x_test_ohe = ohe.transform(x_test[cat_cols]).toarray()\n",
        "#scaler = StandardScaler()\n",
        "#x_train_std = scaler.fit_transform(x_train[num_cols])\n",
        "#x_test_std = scaler.transform(x_test[num_cols])"
      ]
    },
    {
      "cell_type": "code",
      "execution_count": null,
      "metadata": {
        "id": "BMjjnU09UqVC"
      },
      "outputs": [],
      "source": [
        "#x_train_c =np.concatenate((x_train_std,x_train_ohe),axis=1)\n",
        "#x_test_c = np.concatenate((x_test_std,x_test_ohe),axis = 1)"
      ]
    },
    {
      "cell_type": "code",
      "execution_count": null,
      "metadata": {
        "id": "sJSOPUDlVMt1"
      },
      "outputs": [],
      "source": [
        "#x_train_c"
      ]
    },
    {
      "cell_type": "code",
      "execution_count": null,
      "metadata": {
        "id": "EJRM75h-VQR0"
      },
      "outputs": [],
      "source": [
        "#x_test_c"
      ]
    },
    {
      "cell_type": "code",
      "execution_count": null,
      "metadata": {
        "colab": {
          "base_uri": "https://localhost:8080/"
        },
        "id": "nMrA3agBVTtJ",
        "outputId": "3f15e2e8-5c1b-4429-f028-48b601c8ad1d"
      },
      "outputs": [
        {
          "output_type": "execute_result",
          "data": {
            "text/plain": [
              "array([2, 1, 1, ..., 2, 2, 0])"
            ]
          },
          "metadata": {},
          "execution_count": 188
        }
      ],
      "source": [
        "y_train_le"
      ]
    },
    {
      "cell_type": "code",
      "execution_count": null,
      "metadata": {
        "colab": {
          "base_uri": "https://localhost:8080/"
        },
        "id": "Ce9Ig25_VYRb",
        "outputId": "895dffd5-ea92-4d92-b696-7492b8463f70"
      },
      "outputs": [
        {
          "output_type": "execute_result",
          "data": {
            "text/plain": [
              "array([2, 1, 1, ..., 1, 1, 1])"
            ]
          },
          "metadata": {},
          "execution_count": 189
        }
      ],
      "source": [
        "y_test_le"
      ]
    },
    {
      "cell_type": "markdown",
      "metadata": {
        "id": "HDt3B4vcaatV"
      },
      "source": [
        "*Naive Bayees"
      ]
    },
    {
      "cell_type": "code",
      "execution_count": null,
      "metadata": {
        "id": "rgQp3dQWaR-i"
      },
      "outputs": [],
      "source": [
        "from sklearn.naive_bayes import GaussianNB\n",
        "nb = GaussianNB()\n",
        "model_nb = nb.fit(x_train_ohe,y_train_le)"
      ]
    },
    {
      "cell_type": "code",
      "execution_count": null,
      "metadata": {
        "id": "ZNe2H26HamM7"
      },
      "outputs": [],
      "source": [
        "y_pred_train_nb = model_nb.predict(x_train_ohe)\n",
        "y_pred_test_nb = model_nb.predict(x_test_ohe)"
      ]
    },
    {
      "cell_type": "code",
      "execution_count": null,
      "metadata": {
        "id": "bLc3u_v1amJO"
      },
      "outputs": [],
      "source": []
    },
    {
      "cell_type": "code",
      "execution_count": null,
      "metadata": {
        "id": "5wR5bQweB33I"
      },
      "outputs": [],
      "source": []
    },
    {
      "cell_type": "code",
      "execution_count": null,
      "metadata": {
        "id": "-ynE7B2MamHB"
      },
      "outputs": [],
      "source": [
        "from sklearn.metrics import accuracy_score,recall_score,precision_score,f1_score,classification_report"
      ]
    },
    {
      "cell_type": "code",
      "execution_count": null,
      "metadata": {
        "id": "FTwZkhnJalqh"
      },
      "outputs": [],
      "source": [
        "def error_metrics(test_data,pred_data):\n",
        "    from sklearn.metrics import accuracy_score,recall_score,precision_score,f1_score\n",
        "    List=[accuracy_score(test_data, pred_data),recall_score(test_data, pred_data,average = \"weighted\"),\n",
        "         precision_score(test_data, pred_data,average = \"weighted\"),f1_score(test_data,pred_data,average = \"weighted\")]\n",
        "    print('Accuracy score:\\n',accuracy_score(test_data, pred_data))\n",
        "    print('Recall score:\\n',recall_score(test_data, pred_data,average = \"weighted\"))\n",
        "    print('Precision score:\\n',precision_score(test_data, pred_data,average =\"weighted\"))\n",
        "    print('F1 Score:\\n',f1_score(test_data,pred_data,average = \"weighted\"))\n",
        "    print(List)"
      ]
    },
    {
      "cell_type": "code",
      "execution_count": null,
      "metadata": {
        "id": "r1A7Jv5va77I"
      },
      "outputs": [],
      "source": [
        "from sklearn import metrics\n",
        "import numpy as np\n",
        "scores = pd.DataFrame(columns=['Model','Train_Accuracy','Train_Recall','Train_Precision','Train_F1_Score','Test_Accuracy','Test_Recall','Test_Precision','Test_F1_Score'])\n",
        "\n",
        "def get_metrics(train_actual,train_predicted,test_actual,test_predicted,model_description,dataframe):\n",
        "    train_accuracy = metrics.accuracy_score(train_actual,train_predicted)\n",
        "    train_recall   = metrics.recall_score(train_actual,train_predicted,average=\"weighted\")\n",
        "    train_precision= metrics.precision_score(train_actual,train_predicted,average=\"weighted\")\n",
        "    train_f1score  = metrics.f1_score(train_actual,train_predicted,average=\"weighted\")\n",
        "    test_accuracy = metrics.accuracy_score(test_actual,test_predicted)\n",
        "    test_recall   = metrics.recall_score(test_actual,test_predicted,average=\"weighted\")\n",
        "    test_precision= metrics.precision_score(test_actual,test_predicted,average=\"weighted\")\n",
        "    test_f1score  = metrics.f1_score(test_actual,test_predicted,average=\"weighted\")\n",
        "    dataframe = dataframe.append(pd.Series([model_description, train_accuracy,train_recall,train_precision,train_f1score,\n",
        "                                            test_accuracy,test_recall,test_precision,test_f1score],\n",
        "                                           index=scores.columns ), ignore_index=True)\n",
        "    return(dataframe)"
      ]
    },
    {
      "cell_type": "code",
      "execution_count": null,
      "metadata": {
        "colab": {
          "base_uri": "https://localhost:8080/"
        },
        "id": "ucvwUxwadV75",
        "outputId": "70bf8e96-6d5a-4fc3-cd25-b4743b8408d2"
      },
      "outputs": [
        {
          "output_type": "execute_result",
          "data": {
            "text/plain": [
              "array([[1785, 4094, 1363],\n",
              "       [3209, 8358, 2711],\n",
              "       [1251, 3252, 1265]])"
            ]
          },
          "metadata": {},
          "execution_count": 195
        }
      ],
      "source": [
        "from sklearn.metrics import confusion_matrix\n",
        "confusion_matrix(y_train_le,y_pred_train_nb)"
      ]
    },
    {
      "cell_type": "code",
      "execution_count": null,
      "metadata": {
        "colab": {
          "base_uri": "https://localhost:8080/"
        },
        "id": "f4dKJVl0bA3U",
        "outputId": "62d417ea-41e3-41e8-9d2a-288e403aea0e"
      },
      "outputs": [
        {
          "output_type": "stream",
          "name": "stdout",
          "text": [
            "Accuracy score:\n",
            " 0.4180592201700381\n",
            "Recall score:\n",
            " 0.4180592201700381\n",
            "Precision score:\n",
            " 0.4044147369386784\n",
            "F1 Score:\n",
            " 0.4101176427687599\n",
            "[0.4180592201700381, 0.4180592201700381, 0.4044147369386784, 0.4101176427687599]\n"
          ]
        }
      ],
      "source": [
        "error_train_nb = error_metrics(y_train_le,y_pred_train_nb)"
      ]
    },
    {
      "cell_type": "code",
      "execution_count": null,
      "metadata": {
        "colab": {
          "base_uri": "https://localhost:8080/"
        },
        "id": "7nXnem3FbotL",
        "outputId": "5c41ea8e-08bf-4a2c-8766-f12f5b552d59"
      },
      "outputs": [
        {
          "output_type": "stream",
          "name": "stdout",
          "text": [
            "Accuracy score:\n",
            " 0.39020815010260923\n",
            "Recall score:\n",
            " 0.39020815010260923\n",
            "Precision score:\n",
            " 0.38106244392520905\n",
            "F1 Score:\n",
            " 0.38520097090211325\n",
            "[0.39020815010260923, 0.39020815010260923, 0.38106244392520905, 0.38520097090211325]\n"
          ]
        }
      ],
      "source": [
        "error_test_nb = error_metrics(y_test_le,y_pred_test_nb)"
      ]
    },
    {
      "cell_type": "code",
      "execution_count": null,
      "metadata": {
        "colab": {
          "base_uri": "https://localhost:8080/",
          "height": 81
        },
        "id": "g8PU-Hi5cHnc",
        "outputId": "829b4528-a967-4837-f748-b16abfe5ba02"
      },
      "outputs": [
        {
          "output_type": "execute_result",
          "data": {
            "text/plain": [
              "         Model  Train_Accuracy  Train_Recall  Train_Precision  Train_F1_Score  \\\n",
              "0  Navie Bayes        0.418059      0.418059         0.404415        0.410118   \n",
              "\n",
              "   Test_Accuracy  Test_Recall  Test_Precision  Test_F1_Score  \n",
              "0       0.390208     0.390208        0.381062       0.385201  "
            ],
            "text/html": [
              "\n",
              "  <div id=\"df-81f52d16-1398-426b-9d65-6f0dadfe3b56\">\n",
              "    <div class=\"colab-df-container\">\n",
              "      <div>\n",
              "<style scoped>\n",
              "    .dataframe tbody tr th:only-of-type {\n",
              "        vertical-align: middle;\n",
              "    }\n",
              "\n",
              "    .dataframe tbody tr th {\n",
              "        vertical-align: top;\n",
              "    }\n",
              "\n",
              "    .dataframe thead th {\n",
              "        text-align: right;\n",
              "    }\n",
              "</style>\n",
              "<table border=\"1\" class=\"dataframe\">\n",
              "  <thead>\n",
              "    <tr style=\"text-align: right;\">\n",
              "      <th></th>\n",
              "      <th>Model</th>\n",
              "      <th>Train_Accuracy</th>\n",
              "      <th>Train_Recall</th>\n",
              "      <th>Train_Precision</th>\n",
              "      <th>Train_F1_Score</th>\n",
              "      <th>Test_Accuracy</th>\n",
              "      <th>Test_Recall</th>\n",
              "      <th>Test_Precision</th>\n",
              "      <th>Test_F1_Score</th>\n",
              "    </tr>\n",
              "  </thead>\n",
              "  <tbody>\n",
              "    <tr>\n",
              "      <th>0</th>\n",
              "      <td>Navie Bayes</td>\n",
              "      <td>0.418059</td>\n",
              "      <td>0.418059</td>\n",
              "      <td>0.404415</td>\n",
              "      <td>0.410118</td>\n",
              "      <td>0.390208</td>\n",
              "      <td>0.390208</td>\n",
              "      <td>0.381062</td>\n",
              "      <td>0.385201</td>\n",
              "    </tr>\n",
              "  </tbody>\n",
              "</table>\n",
              "</div>\n",
              "      <button class=\"colab-df-convert\" onclick=\"convertToInteractive('df-81f52d16-1398-426b-9d65-6f0dadfe3b56')\"\n",
              "              title=\"Convert this dataframe to an interactive table.\"\n",
              "              style=\"display:none;\">\n",
              "        \n",
              "  <svg xmlns=\"http://www.w3.org/2000/svg\" height=\"24px\"viewBox=\"0 0 24 24\"\n",
              "       width=\"24px\">\n",
              "    <path d=\"M0 0h24v24H0V0z\" fill=\"none\"/>\n",
              "    <path d=\"M18.56 5.44l.94 2.06.94-2.06 2.06-.94-2.06-.94-.94-2.06-.94 2.06-2.06.94zm-11 1L8.5 8.5l.94-2.06 2.06-.94-2.06-.94L8.5 2.5l-.94 2.06-2.06.94zm10 10l.94 2.06.94-2.06 2.06-.94-2.06-.94-.94-2.06-.94 2.06-2.06.94z\"/><path d=\"M17.41 7.96l-1.37-1.37c-.4-.4-.92-.59-1.43-.59-.52 0-1.04.2-1.43.59L10.3 9.45l-7.72 7.72c-.78.78-.78 2.05 0 2.83L4 21.41c.39.39.9.59 1.41.59.51 0 1.02-.2 1.41-.59l7.78-7.78 2.81-2.81c.8-.78.8-2.07 0-2.86zM5.41 20L4 18.59l7.72-7.72 1.47 1.35L5.41 20z\"/>\n",
              "  </svg>\n",
              "      </button>\n",
              "      \n",
              "  <style>\n",
              "    .colab-df-container {\n",
              "      display:flex;\n",
              "      flex-wrap:wrap;\n",
              "      gap: 12px;\n",
              "    }\n",
              "\n",
              "    .colab-df-convert {\n",
              "      background-color: #E8F0FE;\n",
              "      border: none;\n",
              "      border-radius: 50%;\n",
              "      cursor: pointer;\n",
              "      display: none;\n",
              "      fill: #1967D2;\n",
              "      height: 32px;\n",
              "      padding: 0 0 0 0;\n",
              "      width: 32px;\n",
              "    }\n",
              "\n",
              "    .colab-df-convert:hover {\n",
              "      background-color: #E2EBFA;\n",
              "      box-shadow: 0px 1px 2px rgba(60, 64, 67, 0.3), 0px 1px 3px 1px rgba(60, 64, 67, 0.15);\n",
              "      fill: #174EA6;\n",
              "    }\n",
              "\n",
              "    [theme=dark] .colab-df-convert {\n",
              "      background-color: #3B4455;\n",
              "      fill: #D2E3FC;\n",
              "    }\n",
              "\n",
              "    [theme=dark] .colab-df-convert:hover {\n",
              "      background-color: #434B5C;\n",
              "      box-shadow: 0px 1px 3px 1px rgba(0, 0, 0, 0.15);\n",
              "      filter: drop-shadow(0px 1px 2px rgba(0, 0, 0, 0.3));\n",
              "      fill: #FFFFFF;\n",
              "    }\n",
              "  </style>\n",
              "\n",
              "      <script>\n",
              "        const buttonEl =\n",
              "          document.querySelector('#df-81f52d16-1398-426b-9d65-6f0dadfe3b56 button.colab-df-convert');\n",
              "        buttonEl.style.display =\n",
              "          google.colab.kernel.accessAllowed ? 'block' : 'none';\n",
              "\n",
              "        async function convertToInteractive(key) {\n",
              "          const element = document.querySelector('#df-81f52d16-1398-426b-9d65-6f0dadfe3b56');\n",
              "          const dataTable =\n",
              "            await google.colab.kernel.invokeFunction('convertToInteractive',\n",
              "                                                     [key], {});\n",
              "          if (!dataTable) return;\n",
              "\n",
              "          const docLinkHtml = 'Like what you see? Visit the ' +\n",
              "            '<a target=\"_blank\" href=https://colab.research.google.com/notebooks/data_table.ipynb>data table notebook</a>'\n",
              "            + ' to learn more about interactive tables.';\n",
              "          element.innerHTML = '';\n",
              "          dataTable['output_type'] = 'display_data';\n",
              "          await google.colab.output.renderOutput(dataTable, element);\n",
              "          const docLink = document.createElement('div');\n",
              "          docLink.innerHTML = docLinkHtml;\n",
              "          element.appendChild(docLink);\n",
              "        }\n",
              "      </script>\n",
              "    </div>\n",
              "  </div>\n",
              "  "
            ]
          },
          "metadata": {},
          "execution_count": 198
        }
      ],
      "source": [
        "scores=get_metrics(y_train_le,y_pred_train_nb,y_test_le,y_pred_test_nb,\"Navie Bayes\",scores)\n",
        "scores\n"
      ]
    },
    {
      "cell_type": "code",
      "execution_count": null,
      "metadata": {
        "id": "4jjpz7x9JQvQ"
      },
      "outputs": [],
      "source": [
        "\n",
        "#Model\tTrain_Accuracy\tTrain_Recall\tTrain_Precision\tTrain_F1_Score\tTest_Accuracy\tTest_Recall\tTest_Precision\tTest_F1_Score\n",
        "#0\tLogistic Regresstion\t0.811932\t0.811932\t0.844777\t0.767994\t0.815010\t0.815010\t0.847087\t0.772056\n",
        "#1\tDT\t0.843631\t0.843631\t0.879846\t0.840568\t0.841102\t0.841102\t0.876485\t0.837265\n",
        "#2\tLogistic Regresstion\t0.313654\t0.313654\t0.500884\t0.235247\t0.303870\t0.303870\t0.474861\t0.230816\n",
        "#3\tNavie Bayes\t0.313654\t0.313654\t0.500884\t0.235247\t0.303870\t0.303870\t0.474861\t0.230816"
      ]
    },
    {
      "cell_type": "markdown",
      "metadata": {
        "id": "ogWR-EcUaSrL"
      },
      "source": [
        "#DecisionTree\n"
      ]
    },
    {
      "cell_type": "code",
      "execution_count": null,
      "metadata": {
        "id": "3psczPMNVDxI"
      },
      "outputs": [],
      "source": [
        "from sklearn import tree"
      ]
    },
    {
      "cell_type": "code",
      "execution_count": null,
      "metadata": {
        "id": "zS6MZl1gVehC"
      },
      "outputs": [],
      "source": [
        "dt = tree.DecisionTreeClassifier(criterion = \"entropy\" ,max_depth = 3)\n",
        "model_dt = dt.fit(x_train_ohe,y_train_le)"
      ]
    },
    {
      "cell_type": "code",
      "execution_count": null,
      "metadata": {
        "id": "JzvTHwtxVyh2"
      },
      "outputs": [],
      "source": [
        "y_pred_train_dt = model_dt.predict(x_train_ohe)\n",
        "y_pred_test_dt = model_dt.predict(x_test_ohe)"
      ]
    },
    {
      "cell_type": "code",
      "execution_count": null,
      "metadata": {
        "id": "XuvZ3vZHWEcE"
      },
      "outputs": [],
      "source": []
    },
    {
      "cell_type": "code",
      "execution_count": null,
      "metadata": {
        "colab": {
          "base_uri": "https://localhost:8080/"
        },
        "id": "puIFiqJ2WIV3",
        "outputId": "d7d4b455-e419-4ae7-89f9-7e5cf99e0aa0"
      },
      "outputs": [
        {
          "output_type": "execute_result",
          "data": {
            "text/plain": [
              "(6822, 5)"
            ]
          },
          "metadata": {},
          "execution_count": 203
        }
      ],
      "source": [
        "x_test.shape"
      ]
    },
    {
      "cell_type": "code",
      "execution_count": null,
      "metadata": {
        "colab": {
          "base_uri": "https://localhost:8080/"
        },
        "id": "lOPnlR81Y2bb",
        "outputId": "a8d206ad-e64e-4c74-8125-1b3d196be5e1"
      },
      "outputs": [
        {
          "output_type": "stream",
          "name": "stdout",
          "text": [
            "Accuracy score:\n",
            " 0.523306948109059\n",
            "Recall score:\n",
            " 0.523306948109059\n",
            "Precision score:\n",
            " 0.27385016193921735\n",
            "F1 Score:\n",
            " 0.3595469216222749\n",
            "[0.523306948109059, 0.523306948109059, 0.27385016193921735, 0.3595469216222749]\n"
          ]
        },
        {
          "output_type": "stream",
          "name": "stderr",
          "text": [
            "/usr/local/lib/python3.7/dist-packages/sklearn/metrics/_classification.py:1318: UndefinedMetricWarning: Precision is ill-defined and being set to 0.0 in labels with no predicted samples. Use `zero_division` parameter to control this behavior.\n",
            "  _warn_prf(average, modifier, msg_start, len(result))\n",
            "/usr/local/lib/python3.7/dist-packages/sklearn/metrics/_classification.py:1318: UndefinedMetricWarning: Precision is ill-defined and being set to 0.0 in labels with no predicted samples. Use `zero_division` parameter to control this behavior.\n",
            "  _warn_prf(average, modifier, msg_start, len(result))\n"
          ]
        }
      ],
      "source": [
        "error_metrics(y_test_le,y_pred_test_dt)"
      ]
    },
    {
      "cell_type": "code",
      "execution_count": null,
      "metadata": {
        "colab": {
          "base_uri": "https://localhost:8080/"
        },
        "id": "nMnsfAz3ZGU2",
        "outputId": "b0618cba-7f89-40bf-aba9-75c2f7711674"
      },
      "outputs": [
        {
          "output_type": "stream",
          "name": "stdout",
          "text": [
            "Accuracy score:\n",
            " 0.5232336558194078\n",
            "Recall score:\n",
            " 0.5232336558194078\n",
            "Precision score:\n",
            " 0.4064700400481147\n",
            "F1 Score:\n",
            " 0.35952890212525357\n",
            "[0.5232336558194078, 0.5232336558194078, 0.4064700400481147, 0.35952890212525357]\n"
          ]
        },
        {
          "output_type": "stream",
          "name": "stderr",
          "text": [
            "/usr/local/lib/python3.7/dist-packages/sklearn/metrics/_classification.py:1318: UndefinedMetricWarning: Precision is ill-defined and being set to 0.0 in labels with no predicted samples. Use `zero_division` parameter to control this behavior.\n",
            "  _warn_prf(average, modifier, msg_start, len(result))\n",
            "/usr/local/lib/python3.7/dist-packages/sklearn/metrics/_classification.py:1318: UndefinedMetricWarning: Precision is ill-defined and being set to 0.0 in labels with no predicted samples. Use `zero_division` parameter to control this behavior.\n",
            "  _warn_prf(average, modifier, msg_start, len(result))\n"
          ]
        }
      ],
      "source": [
        "error_metrics(y_train_le,y_pred_train_dt)"
      ]
    },
    {
      "cell_type": "code",
      "execution_count": null,
      "metadata": {
        "id": "gTjwhnv_WOsr"
      },
      "outputs": [],
      "source": []
    },
    {
      "cell_type": "code",
      "execution_count": null,
      "metadata": {
        "colab": {
          "base_uri": "https://localhost:8080/",
          "height": 205
        },
        "id": "0KTRDWGrZssR",
        "outputId": "a0d8bbbd-0fe8-4027-892a-64143c6eae15"
      },
      "outputs": [
        {
          "output_type": "stream",
          "name": "stderr",
          "text": [
            "/usr/local/lib/python3.7/dist-packages/sklearn/metrics/_classification.py:1318: UndefinedMetricWarning: Precision is ill-defined and being set to 0.0 in labels with no predicted samples. Use `zero_division` parameter to control this behavior.\n",
            "  _warn_prf(average, modifier, msg_start, len(result))\n",
            "/usr/local/lib/python3.7/dist-packages/sklearn/metrics/_classification.py:1318: UndefinedMetricWarning: Precision is ill-defined and being set to 0.0 in labels with no predicted samples. Use `zero_division` parameter to control this behavior.\n",
            "  _warn_prf(average, modifier, msg_start, len(result))\n"
          ]
        },
        {
          "output_type": "execute_result",
          "data": {
            "text/plain": [
              "         Model  Train_Accuracy  Train_Recall  Train_Precision  Train_F1_Score  \\\n",
              "0  Navie Bayes        0.418059      0.418059         0.404415        0.410118   \n",
              "1           DT        0.523234      0.523234         0.406470        0.359529   \n",
              "\n",
              "   Test_Accuracy  Test_Recall  Test_Precision  Test_F1_Score  \n",
              "0       0.390208     0.390208        0.381062       0.385201  \n",
              "1       0.523307     0.523307        0.273850       0.359547  "
            ],
            "text/html": [
              "\n",
              "  <div id=\"df-cea1bdcd-3fc9-4860-aedf-d98eb8c88bf6\">\n",
              "    <div class=\"colab-df-container\">\n",
              "      <div>\n",
              "<style scoped>\n",
              "    .dataframe tbody tr th:only-of-type {\n",
              "        vertical-align: middle;\n",
              "    }\n",
              "\n",
              "    .dataframe tbody tr th {\n",
              "        vertical-align: top;\n",
              "    }\n",
              "\n",
              "    .dataframe thead th {\n",
              "        text-align: right;\n",
              "    }\n",
              "</style>\n",
              "<table border=\"1\" class=\"dataframe\">\n",
              "  <thead>\n",
              "    <tr style=\"text-align: right;\">\n",
              "      <th></th>\n",
              "      <th>Model</th>\n",
              "      <th>Train_Accuracy</th>\n",
              "      <th>Train_Recall</th>\n",
              "      <th>Train_Precision</th>\n",
              "      <th>Train_F1_Score</th>\n",
              "      <th>Test_Accuracy</th>\n",
              "      <th>Test_Recall</th>\n",
              "      <th>Test_Precision</th>\n",
              "      <th>Test_F1_Score</th>\n",
              "    </tr>\n",
              "  </thead>\n",
              "  <tbody>\n",
              "    <tr>\n",
              "      <th>0</th>\n",
              "      <td>Navie Bayes</td>\n",
              "      <td>0.418059</td>\n",
              "      <td>0.418059</td>\n",
              "      <td>0.404415</td>\n",
              "      <td>0.410118</td>\n",
              "      <td>0.390208</td>\n",
              "      <td>0.390208</td>\n",
              "      <td>0.381062</td>\n",
              "      <td>0.385201</td>\n",
              "    </tr>\n",
              "    <tr>\n",
              "      <th>1</th>\n",
              "      <td>DT</td>\n",
              "      <td>0.523234</td>\n",
              "      <td>0.523234</td>\n",
              "      <td>0.406470</td>\n",
              "      <td>0.359529</td>\n",
              "      <td>0.523307</td>\n",
              "      <td>0.523307</td>\n",
              "      <td>0.273850</td>\n",
              "      <td>0.359547</td>\n",
              "    </tr>\n",
              "  </tbody>\n",
              "</table>\n",
              "</div>\n",
              "      <button class=\"colab-df-convert\" onclick=\"convertToInteractive('df-cea1bdcd-3fc9-4860-aedf-d98eb8c88bf6')\"\n",
              "              title=\"Convert this dataframe to an interactive table.\"\n",
              "              style=\"display:none;\">\n",
              "        \n",
              "  <svg xmlns=\"http://www.w3.org/2000/svg\" height=\"24px\"viewBox=\"0 0 24 24\"\n",
              "       width=\"24px\">\n",
              "    <path d=\"M0 0h24v24H0V0z\" fill=\"none\"/>\n",
              "    <path d=\"M18.56 5.44l.94 2.06.94-2.06 2.06-.94-2.06-.94-.94-2.06-.94 2.06-2.06.94zm-11 1L8.5 8.5l.94-2.06 2.06-.94-2.06-.94L8.5 2.5l-.94 2.06-2.06.94zm10 10l.94 2.06.94-2.06 2.06-.94-2.06-.94-.94-2.06-.94 2.06-2.06.94z\"/><path d=\"M17.41 7.96l-1.37-1.37c-.4-.4-.92-.59-1.43-.59-.52 0-1.04.2-1.43.59L10.3 9.45l-7.72 7.72c-.78.78-.78 2.05 0 2.83L4 21.41c.39.39.9.59 1.41.59.51 0 1.02-.2 1.41-.59l7.78-7.78 2.81-2.81c.8-.78.8-2.07 0-2.86zM5.41 20L4 18.59l7.72-7.72 1.47 1.35L5.41 20z\"/>\n",
              "  </svg>\n",
              "      </button>\n",
              "      \n",
              "  <style>\n",
              "    .colab-df-container {\n",
              "      display:flex;\n",
              "      flex-wrap:wrap;\n",
              "      gap: 12px;\n",
              "    }\n",
              "\n",
              "    .colab-df-convert {\n",
              "      background-color: #E8F0FE;\n",
              "      border: none;\n",
              "      border-radius: 50%;\n",
              "      cursor: pointer;\n",
              "      display: none;\n",
              "      fill: #1967D2;\n",
              "      height: 32px;\n",
              "      padding: 0 0 0 0;\n",
              "      width: 32px;\n",
              "    }\n",
              "\n",
              "    .colab-df-convert:hover {\n",
              "      background-color: #E2EBFA;\n",
              "      box-shadow: 0px 1px 2px rgba(60, 64, 67, 0.3), 0px 1px 3px 1px rgba(60, 64, 67, 0.15);\n",
              "      fill: #174EA6;\n",
              "    }\n",
              "\n",
              "    [theme=dark] .colab-df-convert {\n",
              "      background-color: #3B4455;\n",
              "      fill: #D2E3FC;\n",
              "    }\n",
              "\n",
              "    [theme=dark] .colab-df-convert:hover {\n",
              "      background-color: #434B5C;\n",
              "      box-shadow: 0px 1px 3px 1px rgba(0, 0, 0, 0.15);\n",
              "      filter: drop-shadow(0px 1px 2px rgba(0, 0, 0, 0.3));\n",
              "      fill: #FFFFFF;\n",
              "    }\n",
              "  </style>\n",
              "\n",
              "      <script>\n",
              "        const buttonEl =\n",
              "          document.querySelector('#df-cea1bdcd-3fc9-4860-aedf-d98eb8c88bf6 button.colab-df-convert');\n",
              "        buttonEl.style.display =\n",
              "          google.colab.kernel.accessAllowed ? 'block' : 'none';\n",
              "\n",
              "        async function convertToInteractive(key) {\n",
              "          const element = document.querySelector('#df-cea1bdcd-3fc9-4860-aedf-d98eb8c88bf6');\n",
              "          const dataTable =\n",
              "            await google.colab.kernel.invokeFunction('convertToInteractive',\n",
              "                                                     [key], {});\n",
              "          if (!dataTable) return;\n",
              "\n",
              "          const docLinkHtml = 'Like what you see? Visit the ' +\n",
              "            '<a target=\"_blank\" href=https://colab.research.google.com/notebooks/data_table.ipynb>data table notebook</a>'\n",
              "            + ' to learn more about interactive tables.';\n",
              "          element.innerHTML = '';\n",
              "          dataTable['output_type'] = 'display_data';\n",
              "          await google.colab.output.renderOutput(dataTable, element);\n",
              "          const docLink = document.createElement('div');\n",
              "          docLink.innerHTML = docLinkHtml;\n",
              "          element.appendChild(docLink);\n",
              "        }\n",
              "      </script>\n",
              "    </div>\n",
              "  </div>\n",
              "  "
            ]
          },
          "metadata": {},
          "execution_count": 206
        }
      ],
      "source": [
        "scores=get_metrics(y_train_le,y_pred_train_dt,y_test_le,y_pred_test_dt,\"DT\",scores)\n",
        "scores"
      ]
    },
    {
      "cell_type": "markdown",
      "metadata": {
        "id": "VygRQIsWtrhd"
      },
      "source": [
        "#Grid search cv"
      ]
    },
    {
      "cell_type": "code",
      "execution_count": null,
      "metadata": {
        "id": "Jgv6rsoStvGl"
      },
      "outputs": [],
      "source": [
        "from sklearn.model_selection import GridSearchCV\n",
        "from sklearn.tree import DecisionTreeClassifier"
      ]
    },
    {
      "cell_type": "code",
      "execution_count": null,
      "metadata": {
        "id": "0KY-Ihz0tvDL"
      },
      "outputs": [],
      "source": [
        "dt1 = DecisionTreeClassifier()"
      ]
    },
    {
      "cell_type": "code",
      "execution_count": null,
      "metadata": {
        "id": "GwRuo7uJtvAl"
      },
      "outputs": [],
      "source": [
        "param_grid_dt = {'max_depth':np.arange(1,10,2),\n",
        "             'min_samples_leaf':np.arange(1,10,1),\n",
        "             'criterion':[\"gini\", \"entropy\"],\n",
        "                'class_weight':['balanced']}"
      ]
    },
    {
      "cell_type": "code",
      "execution_count": null,
      "metadata": {
        "id": "q-chtBjXt9Yo"
      },
      "outputs": [],
      "source": [
        "dt_cv_grid=GridSearchCV(estimator=dt1, param_grid=param_grid_dt , cv=5)"
      ]
    },
    {
      "cell_type": "code",
      "execution_count": null,
      "metadata": {
        "colab": {
          "base_uri": "https://localhost:8080/"
        },
        "id": "k5JN3VESt-qs",
        "outputId": "af1e055b-8adf-4d18-aabf-b92bead16981"
      },
      "outputs": [
        {
          "output_type": "execute_result",
          "data": {
            "text/plain": [
              "GridSearchCV(cv=5, estimator=DecisionTreeClassifier(),\n",
              "             param_grid={'class_weight': ['balanced'],\n",
              "                         'criterion': ['gini', 'entropy'],\n",
              "                         'max_depth': array([1, 3, 5, 7, 9]),\n",
              "                         'min_samples_leaf': array([1, 2, 3, 4, 5, 6, 7, 8, 9])})"
            ]
          },
          "metadata": {},
          "execution_count": 211
        }
      ],
      "source": [
        "dt_cv_grid.fit(x_train_ohe,y_train_le)"
      ]
    },
    {
      "cell_type": "code",
      "execution_count": null,
      "metadata": {
        "id": "W-eopUd5uDuy"
      },
      "outputs": [],
      "source": [
        "y_pred_train_dt_grid = dt_cv_grid.predict(x_train_ohe)\n",
        "y_pred_test_dt_grid = dt_cv_grid.predict(x_test_ohe)"
      ]
    },
    {
      "cell_type": "code",
      "execution_count": null,
      "metadata": {
        "colab": {
          "base_uri": "https://localhost:8080/"
        },
        "id": "HKc_XW9wuK7g",
        "outputId": "42dee322-76c5-4fd4-c261-0b687808c05c"
      },
      "outputs": [
        {
          "output_type": "stream",
          "name": "stdout",
          "text": [
            "Accuracy score:\n",
            " 0.2652814423922603\n",
            "Recall score:\n",
            " 0.2652814423922603\n",
            "Precision score:\n",
            " 0.42663258176292107\n",
            "F1 Score:\n",
            " 0.2169401793858282\n",
            "[0.2652814423922603, 0.2652814423922603, 0.42663258176292107, 0.2169401793858282]\n",
            "Accuracy score:\n",
            " 0.23907944884198182\n",
            "Recall score:\n",
            " 0.23907944884198182\n",
            "Precision score:\n",
            " 0.38617326219478454\n",
            "F1 Score:\n",
            " 0.19283014738948645\n",
            "[0.23907944884198182, 0.23907944884198182, 0.38617326219478454, 0.19283014738948645]\n"
          ]
        }
      ],
      "source": [
        "error_train_knn = error_metrics(y_train_le,y_pred_train_dt_grid)\n",
        "error_test_knn = error_metrics(y_test_le,y_pred_test_dt_grid)"
      ]
    },
    {
      "cell_type": "code",
      "execution_count": null,
      "metadata": {
        "colab": {
          "base_uri": "https://localhost:8080/",
          "height": 143
        },
        "id": "tNkNcYuhuK1t",
        "outputId": "72319f27-4406-4cea-cd9c-ecd1710aefdc"
      },
      "outputs": [
        {
          "output_type": "execute_result",
          "data": {
            "text/plain": [
              "         Model  Train_Accuracy  Train_Recall  Train_Precision  Train_F1_Score  \\\n",
              "0  Navie Bayes        0.418059      0.418059         0.404415        0.410118   \n",
              "1           DT        0.523234      0.523234         0.406470        0.359529   \n",
              "2      DT_Grid        0.265281      0.265281         0.426633        0.216940   \n",
              "\n",
              "   Test_Accuracy  Test_Recall  Test_Precision  Test_F1_Score  \n",
              "0       0.390208     0.390208        0.381062       0.385201  \n",
              "1       0.523307     0.523307        0.273850       0.359547  \n",
              "2       0.239079     0.239079        0.386173       0.192830  "
            ],
            "text/html": [
              "\n",
              "  <div id=\"df-2fbcd9ec-9323-4900-9d06-436ec5a6dc66\">\n",
              "    <div class=\"colab-df-container\">\n",
              "      <div>\n",
              "<style scoped>\n",
              "    .dataframe tbody tr th:only-of-type {\n",
              "        vertical-align: middle;\n",
              "    }\n",
              "\n",
              "    .dataframe tbody tr th {\n",
              "        vertical-align: top;\n",
              "    }\n",
              "\n",
              "    .dataframe thead th {\n",
              "        text-align: right;\n",
              "    }\n",
              "</style>\n",
              "<table border=\"1\" class=\"dataframe\">\n",
              "  <thead>\n",
              "    <tr style=\"text-align: right;\">\n",
              "      <th></th>\n",
              "      <th>Model</th>\n",
              "      <th>Train_Accuracy</th>\n",
              "      <th>Train_Recall</th>\n",
              "      <th>Train_Precision</th>\n",
              "      <th>Train_F1_Score</th>\n",
              "      <th>Test_Accuracy</th>\n",
              "      <th>Test_Recall</th>\n",
              "      <th>Test_Precision</th>\n",
              "      <th>Test_F1_Score</th>\n",
              "    </tr>\n",
              "  </thead>\n",
              "  <tbody>\n",
              "    <tr>\n",
              "      <th>0</th>\n",
              "      <td>Navie Bayes</td>\n",
              "      <td>0.418059</td>\n",
              "      <td>0.418059</td>\n",
              "      <td>0.404415</td>\n",
              "      <td>0.410118</td>\n",
              "      <td>0.390208</td>\n",
              "      <td>0.390208</td>\n",
              "      <td>0.381062</td>\n",
              "      <td>0.385201</td>\n",
              "    </tr>\n",
              "    <tr>\n",
              "      <th>1</th>\n",
              "      <td>DT</td>\n",
              "      <td>0.523234</td>\n",
              "      <td>0.523234</td>\n",
              "      <td>0.406470</td>\n",
              "      <td>0.359529</td>\n",
              "      <td>0.523307</td>\n",
              "      <td>0.523307</td>\n",
              "      <td>0.273850</td>\n",
              "      <td>0.359547</td>\n",
              "    </tr>\n",
              "    <tr>\n",
              "      <th>2</th>\n",
              "      <td>DT_Grid</td>\n",
              "      <td>0.265281</td>\n",
              "      <td>0.265281</td>\n",
              "      <td>0.426633</td>\n",
              "      <td>0.216940</td>\n",
              "      <td>0.239079</td>\n",
              "      <td>0.239079</td>\n",
              "      <td>0.386173</td>\n",
              "      <td>0.192830</td>\n",
              "    </tr>\n",
              "  </tbody>\n",
              "</table>\n",
              "</div>\n",
              "      <button class=\"colab-df-convert\" onclick=\"convertToInteractive('df-2fbcd9ec-9323-4900-9d06-436ec5a6dc66')\"\n",
              "              title=\"Convert this dataframe to an interactive table.\"\n",
              "              style=\"display:none;\">\n",
              "        \n",
              "  <svg xmlns=\"http://www.w3.org/2000/svg\" height=\"24px\"viewBox=\"0 0 24 24\"\n",
              "       width=\"24px\">\n",
              "    <path d=\"M0 0h24v24H0V0z\" fill=\"none\"/>\n",
              "    <path d=\"M18.56 5.44l.94 2.06.94-2.06 2.06-.94-2.06-.94-.94-2.06-.94 2.06-2.06.94zm-11 1L8.5 8.5l.94-2.06 2.06-.94-2.06-.94L8.5 2.5l-.94 2.06-2.06.94zm10 10l.94 2.06.94-2.06 2.06-.94-2.06-.94-.94-2.06-.94 2.06-2.06.94z\"/><path d=\"M17.41 7.96l-1.37-1.37c-.4-.4-.92-.59-1.43-.59-.52 0-1.04.2-1.43.59L10.3 9.45l-7.72 7.72c-.78.78-.78 2.05 0 2.83L4 21.41c.39.39.9.59 1.41.59.51 0 1.02-.2 1.41-.59l7.78-7.78 2.81-2.81c.8-.78.8-2.07 0-2.86zM5.41 20L4 18.59l7.72-7.72 1.47 1.35L5.41 20z\"/>\n",
              "  </svg>\n",
              "      </button>\n",
              "      \n",
              "  <style>\n",
              "    .colab-df-container {\n",
              "      display:flex;\n",
              "      flex-wrap:wrap;\n",
              "      gap: 12px;\n",
              "    }\n",
              "\n",
              "    .colab-df-convert {\n",
              "      background-color: #E8F0FE;\n",
              "      border: none;\n",
              "      border-radius: 50%;\n",
              "      cursor: pointer;\n",
              "      display: none;\n",
              "      fill: #1967D2;\n",
              "      height: 32px;\n",
              "      padding: 0 0 0 0;\n",
              "      width: 32px;\n",
              "    }\n",
              "\n",
              "    .colab-df-convert:hover {\n",
              "      background-color: #E2EBFA;\n",
              "      box-shadow: 0px 1px 2px rgba(60, 64, 67, 0.3), 0px 1px 3px 1px rgba(60, 64, 67, 0.15);\n",
              "      fill: #174EA6;\n",
              "    }\n",
              "\n",
              "    [theme=dark] .colab-df-convert {\n",
              "      background-color: #3B4455;\n",
              "      fill: #D2E3FC;\n",
              "    }\n",
              "\n",
              "    [theme=dark] .colab-df-convert:hover {\n",
              "      background-color: #434B5C;\n",
              "      box-shadow: 0px 1px 3px 1px rgba(0, 0, 0, 0.15);\n",
              "      filter: drop-shadow(0px 1px 2px rgba(0, 0, 0, 0.3));\n",
              "      fill: #FFFFFF;\n",
              "    }\n",
              "  </style>\n",
              "\n",
              "      <script>\n",
              "        const buttonEl =\n",
              "          document.querySelector('#df-2fbcd9ec-9323-4900-9d06-436ec5a6dc66 button.colab-df-convert');\n",
              "        buttonEl.style.display =\n",
              "          google.colab.kernel.accessAllowed ? 'block' : 'none';\n",
              "\n",
              "        async function convertToInteractive(key) {\n",
              "          const element = document.querySelector('#df-2fbcd9ec-9323-4900-9d06-436ec5a6dc66');\n",
              "          const dataTable =\n",
              "            await google.colab.kernel.invokeFunction('convertToInteractive',\n",
              "                                                     [key], {});\n",
              "          if (!dataTable) return;\n",
              "\n",
              "          const docLinkHtml = 'Like what you see? Visit the ' +\n",
              "            '<a target=\"_blank\" href=https://colab.research.google.com/notebooks/data_table.ipynb>data table notebook</a>'\n",
              "            + ' to learn more about interactive tables.';\n",
              "          element.innerHTML = '';\n",
              "          dataTable['output_type'] = 'display_data';\n",
              "          await google.colab.output.renderOutput(dataTable, element);\n",
              "          const docLink = document.createElement('div');\n",
              "          docLink.innerHTML = docLinkHtml;\n",
              "          element.appendChild(docLink);\n",
              "        }\n",
              "      </script>\n",
              "    </div>\n",
              "  </div>\n",
              "  "
            ]
          },
          "metadata": {},
          "execution_count": 214
        }
      ],
      "source": [
        "scores=get_metrics(y_train_le,y_pred_train_dt_grid,y_test_le,y_pred_test_dt_grid,\"DT_Grid\",scores)\n",
        "scores"
      ]
    },
    {
      "cell_type": "code",
      "execution_count": null,
      "metadata": {
        "id": "jFBLznlpuKyG"
      },
      "outputs": [],
      "source": []
    },
    {
      "cell_type": "markdown",
      "metadata": {
        "id": "xeVd3G6NM6UP"
      },
      "source": [
        "#KNN\n"
      ]
    },
    {
      "cell_type": "code",
      "execution_count": null,
      "metadata": {
        "id": "xWpvkuU8M5Wl"
      },
      "outputs": [],
      "source": [
        "from sklearn.neighbors import KNeighborsClassifier"
      ]
    },
    {
      "cell_type": "code",
      "execution_count": null,
      "metadata": {
        "id": "ns-KJdQgM5TH"
      },
      "outputs": [],
      "source": [
        "knn = KNeighborsClassifier(n_neighbors=3)"
      ]
    },
    {
      "cell_type": "code",
      "execution_count": null,
      "metadata": {
        "id": "HlICiqnmM5Qk"
      },
      "outputs": [],
      "source": [
        "model_knn = knn.fit(x_train_ohe,y_train_le)"
      ]
    },
    {
      "cell_type": "code",
      "execution_count": null,
      "metadata": {
        "id": "K9VhxYGxM5OM"
      },
      "outputs": [],
      "source": [
        "y_pred_train_knn = model_knn.predict(x_train_ohe)\n",
        "y_pred_test_knn = model_knn.predict(x_test_ohe)"
      ]
    },
    {
      "cell_type": "code",
      "execution_count": null,
      "metadata": {
        "colab": {
          "base_uri": "https://localhost:8080/"
        },
        "id": "VDCkU_8-M5Ll",
        "outputId": "b9c94382-d618-4c96-e1a0-f2318a41f6ad"
      },
      "outputs": [
        {
          "output_type": "stream",
          "name": "stdout",
          "text": [
            "Accuracy score:\n",
            " 0.4980577543242451\n",
            "Recall score:\n",
            " 0.4980577543242451\n",
            "Precision score:\n",
            " 0.4992099858715163\n",
            "F1 Score:\n",
            " 0.4895106099203801\n",
            "[0.4980577543242451, 0.4980577543242451, 0.4992099858715163, 0.4895106099203801]\n",
            "Accuracy score:\n",
            " 0.3973907944884198\n",
            "Recall score:\n",
            " 0.3973907944884198\n",
            "Precision score:\n",
            " 0.3885612640818278\n",
            "F1 Score:\n",
            " 0.38659877558169986\n",
            "[0.3973907944884198, 0.3973907944884198, 0.3885612640818278, 0.38659877558169986]\n"
          ]
        }
      ],
      "source": [
        "error_train_knn = error_metrics(y_train_le,y_pred_train_knn)\n",
        "error_test_knn = error_metrics(y_test_le,y_pred_test_knn)"
      ]
    },
    {
      "cell_type": "code",
      "execution_count": null,
      "metadata": {
        "colab": {
          "base_uri": "https://localhost:8080/",
          "height": 175
        },
        "id": "j7q1BJ_3M5JL",
        "outputId": "2015c8e8-87df-4c83-bfa1-cbf5e720f3d9"
      },
      "outputs": [
        {
          "output_type": "execute_result",
          "data": {
            "text/plain": [
              "         Model  Train_Accuracy  Train_Recall  Train_Precision  Train_F1_Score  \\\n",
              "0  Navie Bayes        0.418059      0.418059         0.404415        0.410118   \n",
              "1           DT        0.523234      0.523234         0.406470        0.359529   \n",
              "2      DT_Grid        0.265281      0.265281         0.426633        0.216940   \n",
              "3          KNN        0.498058      0.498058         0.499210        0.489511   \n",
              "\n",
              "   Test_Accuracy  Test_Recall  Test_Precision  Test_F1_Score  \n",
              "0       0.390208     0.390208        0.381062       0.385201  \n",
              "1       0.523307     0.523307        0.273850       0.359547  \n",
              "2       0.239079     0.239079        0.386173       0.192830  \n",
              "3       0.397391     0.397391        0.388561       0.386599  "
            ],
            "text/html": [
              "\n",
              "  <div id=\"df-f274ee3f-12f1-4d55-a1e5-c00419385030\">\n",
              "    <div class=\"colab-df-container\">\n",
              "      <div>\n",
              "<style scoped>\n",
              "    .dataframe tbody tr th:only-of-type {\n",
              "        vertical-align: middle;\n",
              "    }\n",
              "\n",
              "    .dataframe tbody tr th {\n",
              "        vertical-align: top;\n",
              "    }\n",
              "\n",
              "    .dataframe thead th {\n",
              "        text-align: right;\n",
              "    }\n",
              "</style>\n",
              "<table border=\"1\" class=\"dataframe\">\n",
              "  <thead>\n",
              "    <tr style=\"text-align: right;\">\n",
              "      <th></th>\n",
              "      <th>Model</th>\n",
              "      <th>Train_Accuracy</th>\n",
              "      <th>Train_Recall</th>\n",
              "      <th>Train_Precision</th>\n",
              "      <th>Train_F1_Score</th>\n",
              "      <th>Test_Accuracy</th>\n",
              "      <th>Test_Recall</th>\n",
              "      <th>Test_Precision</th>\n",
              "      <th>Test_F1_Score</th>\n",
              "    </tr>\n",
              "  </thead>\n",
              "  <tbody>\n",
              "    <tr>\n",
              "      <th>0</th>\n",
              "      <td>Navie Bayes</td>\n",
              "      <td>0.418059</td>\n",
              "      <td>0.418059</td>\n",
              "      <td>0.404415</td>\n",
              "      <td>0.410118</td>\n",
              "      <td>0.390208</td>\n",
              "      <td>0.390208</td>\n",
              "      <td>0.381062</td>\n",
              "      <td>0.385201</td>\n",
              "    </tr>\n",
              "    <tr>\n",
              "      <th>1</th>\n",
              "      <td>DT</td>\n",
              "      <td>0.523234</td>\n",
              "      <td>0.523234</td>\n",
              "      <td>0.406470</td>\n",
              "      <td>0.359529</td>\n",
              "      <td>0.523307</td>\n",
              "      <td>0.523307</td>\n",
              "      <td>0.273850</td>\n",
              "      <td>0.359547</td>\n",
              "    </tr>\n",
              "    <tr>\n",
              "      <th>2</th>\n",
              "      <td>DT_Grid</td>\n",
              "      <td>0.265281</td>\n",
              "      <td>0.265281</td>\n",
              "      <td>0.426633</td>\n",
              "      <td>0.216940</td>\n",
              "      <td>0.239079</td>\n",
              "      <td>0.239079</td>\n",
              "      <td>0.386173</td>\n",
              "      <td>0.192830</td>\n",
              "    </tr>\n",
              "    <tr>\n",
              "      <th>3</th>\n",
              "      <td>KNN</td>\n",
              "      <td>0.498058</td>\n",
              "      <td>0.498058</td>\n",
              "      <td>0.499210</td>\n",
              "      <td>0.489511</td>\n",
              "      <td>0.397391</td>\n",
              "      <td>0.397391</td>\n",
              "      <td>0.388561</td>\n",
              "      <td>0.386599</td>\n",
              "    </tr>\n",
              "  </tbody>\n",
              "</table>\n",
              "</div>\n",
              "      <button class=\"colab-df-convert\" onclick=\"convertToInteractive('df-f274ee3f-12f1-4d55-a1e5-c00419385030')\"\n",
              "              title=\"Convert this dataframe to an interactive table.\"\n",
              "              style=\"display:none;\">\n",
              "        \n",
              "  <svg xmlns=\"http://www.w3.org/2000/svg\" height=\"24px\"viewBox=\"0 0 24 24\"\n",
              "       width=\"24px\">\n",
              "    <path d=\"M0 0h24v24H0V0z\" fill=\"none\"/>\n",
              "    <path d=\"M18.56 5.44l.94 2.06.94-2.06 2.06-.94-2.06-.94-.94-2.06-.94 2.06-2.06.94zm-11 1L8.5 8.5l.94-2.06 2.06-.94-2.06-.94L8.5 2.5l-.94 2.06-2.06.94zm10 10l.94 2.06.94-2.06 2.06-.94-2.06-.94-.94-2.06-.94 2.06-2.06.94z\"/><path d=\"M17.41 7.96l-1.37-1.37c-.4-.4-.92-.59-1.43-.59-.52 0-1.04.2-1.43.59L10.3 9.45l-7.72 7.72c-.78.78-.78 2.05 0 2.83L4 21.41c.39.39.9.59 1.41.59.51 0 1.02-.2 1.41-.59l7.78-7.78 2.81-2.81c.8-.78.8-2.07 0-2.86zM5.41 20L4 18.59l7.72-7.72 1.47 1.35L5.41 20z\"/>\n",
              "  </svg>\n",
              "      </button>\n",
              "      \n",
              "  <style>\n",
              "    .colab-df-container {\n",
              "      display:flex;\n",
              "      flex-wrap:wrap;\n",
              "      gap: 12px;\n",
              "    }\n",
              "\n",
              "    .colab-df-convert {\n",
              "      background-color: #E8F0FE;\n",
              "      border: none;\n",
              "      border-radius: 50%;\n",
              "      cursor: pointer;\n",
              "      display: none;\n",
              "      fill: #1967D2;\n",
              "      height: 32px;\n",
              "      padding: 0 0 0 0;\n",
              "      width: 32px;\n",
              "    }\n",
              "\n",
              "    .colab-df-convert:hover {\n",
              "      background-color: #E2EBFA;\n",
              "      box-shadow: 0px 1px 2px rgba(60, 64, 67, 0.3), 0px 1px 3px 1px rgba(60, 64, 67, 0.15);\n",
              "      fill: #174EA6;\n",
              "    }\n",
              "\n",
              "    [theme=dark] .colab-df-convert {\n",
              "      background-color: #3B4455;\n",
              "      fill: #D2E3FC;\n",
              "    }\n",
              "\n",
              "    [theme=dark] .colab-df-convert:hover {\n",
              "      background-color: #434B5C;\n",
              "      box-shadow: 0px 1px 3px 1px rgba(0, 0, 0, 0.15);\n",
              "      filter: drop-shadow(0px 1px 2px rgba(0, 0, 0, 0.3));\n",
              "      fill: #FFFFFF;\n",
              "    }\n",
              "  </style>\n",
              "\n",
              "      <script>\n",
              "        const buttonEl =\n",
              "          document.querySelector('#df-f274ee3f-12f1-4d55-a1e5-c00419385030 button.colab-df-convert');\n",
              "        buttonEl.style.display =\n",
              "          google.colab.kernel.accessAllowed ? 'block' : 'none';\n",
              "\n",
              "        async function convertToInteractive(key) {\n",
              "          const element = document.querySelector('#df-f274ee3f-12f1-4d55-a1e5-c00419385030');\n",
              "          const dataTable =\n",
              "            await google.colab.kernel.invokeFunction('convertToInteractive',\n",
              "                                                     [key], {});\n",
              "          if (!dataTable) return;\n",
              "\n",
              "          const docLinkHtml = 'Like what you see? Visit the ' +\n",
              "            '<a target=\"_blank\" href=https://colab.research.google.com/notebooks/data_table.ipynb>data table notebook</a>'\n",
              "            + ' to learn more about interactive tables.';\n",
              "          element.innerHTML = '';\n",
              "          dataTable['output_type'] = 'display_data';\n",
              "          await google.colab.output.renderOutput(dataTable, element);\n",
              "          const docLink = document.createElement('div');\n",
              "          docLink.innerHTML = docLinkHtml;\n",
              "          element.appendChild(docLink);\n",
              "        }\n",
              "      </script>\n",
              "    </div>\n",
              "  </div>\n",
              "  "
            ]
          },
          "metadata": {},
          "execution_count": 220
        }
      ],
      "source": [
        "scores=get_metrics(y_train_le,y_pred_train_knn,y_test_le,y_pred_test_knn,\"KNN\",scores)\n",
        "scores"
      ]
    },
    {
      "cell_type": "markdown",
      "metadata": {
        "id": "p6OqWBudOahs"
      },
      "source": [
        "#Random Forest"
      ]
    },
    {
      "cell_type": "code",
      "execution_count": null,
      "metadata": {
        "colab": {
          "base_uri": "https://localhost:8080/"
        },
        "id": "hzlmPVkdM5Gi",
        "outputId": "d55dbc7d-e7c9-482c-95c1-9e85a8de4359"
      },
      "outputs": [
        {
          "output_type": "execute_result",
          "data": {
            "text/plain": [
              "RandomForestClassifier(criterion='entropy', n_estimators=5, random_state=0)"
            ]
          },
          "metadata": {},
          "execution_count": 221
        }
      ],
      "source": [
        "from sklearn.ensemble import RandomForestClassifier\n",
        "classifier = RandomForestClassifier(n_estimators = 5, criterion = 'entropy', random_state = 0)\n",
        "classifier.fit(x_train_ohe,y_train_le)"
      ]
    },
    {
      "cell_type": "code",
      "execution_count": null,
      "metadata": {
        "id": "N-MWsV6eM491"
      },
      "outputs": [],
      "source": [
        "y_train_predrf = classifier.predict(x_train_ohe)\n",
        "y_test_predrf = classifier.predict(x_test_ohe)"
      ]
    },
    {
      "cell_type": "code",
      "execution_count": null,
      "metadata": {
        "colab": {
          "base_uri": "https://localhost:8080/"
        },
        "id": "AodldRYOOnW6",
        "outputId": "52aef019-29c7-4989-bd0b-d326c947f502"
      },
      "outputs": [
        {
          "output_type": "stream",
          "name": "stdout",
          "text": [
            "              precision    recall  f1-score   support\n",
            "\n",
            "           0       0.57      0.28      0.37      7242\n",
            "           1       0.59      0.89      0.71     14278\n",
            "           2       0.57      0.23      0.32      5768\n",
            "\n",
            "    accuracy                           0.59     27288\n",
            "   macro avg       0.58      0.46      0.47     27288\n",
            "weighted avg       0.58      0.59      0.54     27288\n",
            "\n",
            "              precision    recall  f1-score   support\n",
            "\n",
            "           0       0.27      0.13      0.18      1810\n",
            "           1       0.52      0.78      0.63      3570\n",
            "           2       0.21      0.09      0.13      1442\n",
            "\n",
            "    accuracy                           0.46      6822\n",
            "   macro avg       0.34      0.34      0.31      6822\n",
            "weighted avg       0.39      0.46      0.40      6822\n",
            "\n"
          ]
        }
      ],
      "source": [
        "print(classification_report(y_train_le, y_train_predrf))\n",
        "print(classification_report(y_test_le, y_test_predrf))"
      ]
    },
    {
      "cell_type": "code",
      "execution_count": null,
      "metadata": {
        "colab": {
          "base_uri": "https://localhost:8080/",
          "height": 206
        },
        "id": "ehXJu5R2OnUL",
        "outputId": "ba7047b5-a45f-4b91-b7e6-d0bb1e7b3438"
      },
      "outputs": [
        {
          "output_type": "execute_result",
          "data": {
            "text/plain": [
              "           Model  Train_Accuracy  Train_Recall  Train_Precision  \\\n",
              "0    Navie Bayes        0.418059      0.418059         0.404415   \n",
              "1             DT        0.523234      0.523234         0.406470   \n",
              "2        DT_Grid        0.265281      0.265281         0.426633   \n",
              "3            KNN        0.498058      0.498058         0.499210   \n",
              "4  Random Forest        0.586082      0.586082         0.581217   \n",
              "\n",
              "   Train_F1_Score  Test_Accuracy  Test_Recall  Test_Precision  Test_F1_Score  \n",
              "0        0.410118       0.390208     0.390208        0.381062       0.385201  \n",
              "1        0.359529       0.523307     0.523307        0.273850       0.359547  \n",
              "2        0.216940       0.239079     0.239079        0.386173       0.192830  \n",
              "3        0.489511       0.397391     0.397391        0.388561       0.386599  \n",
              "4        0.538329       0.463647     0.463647        0.391528       0.402709  "
            ],
            "text/html": [
              "\n",
              "  <div id=\"df-90efd8e3-5196-422a-8ba9-3ad4fa12497f\">\n",
              "    <div class=\"colab-df-container\">\n",
              "      <div>\n",
              "<style scoped>\n",
              "    .dataframe tbody tr th:only-of-type {\n",
              "        vertical-align: middle;\n",
              "    }\n",
              "\n",
              "    .dataframe tbody tr th {\n",
              "        vertical-align: top;\n",
              "    }\n",
              "\n",
              "    .dataframe thead th {\n",
              "        text-align: right;\n",
              "    }\n",
              "</style>\n",
              "<table border=\"1\" class=\"dataframe\">\n",
              "  <thead>\n",
              "    <tr style=\"text-align: right;\">\n",
              "      <th></th>\n",
              "      <th>Model</th>\n",
              "      <th>Train_Accuracy</th>\n",
              "      <th>Train_Recall</th>\n",
              "      <th>Train_Precision</th>\n",
              "      <th>Train_F1_Score</th>\n",
              "      <th>Test_Accuracy</th>\n",
              "      <th>Test_Recall</th>\n",
              "      <th>Test_Precision</th>\n",
              "      <th>Test_F1_Score</th>\n",
              "    </tr>\n",
              "  </thead>\n",
              "  <tbody>\n",
              "    <tr>\n",
              "      <th>0</th>\n",
              "      <td>Navie Bayes</td>\n",
              "      <td>0.418059</td>\n",
              "      <td>0.418059</td>\n",
              "      <td>0.404415</td>\n",
              "      <td>0.410118</td>\n",
              "      <td>0.390208</td>\n",
              "      <td>0.390208</td>\n",
              "      <td>0.381062</td>\n",
              "      <td>0.385201</td>\n",
              "    </tr>\n",
              "    <tr>\n",
              "      <th>1</th>\n",
              "      <td>DT</td>\n",
              "      <td>0.523234</td>\n",
              "      <td>0.523234</td>\n",
              "      <td>0.406470</td>\n",
              "      <td>0.359529</td>\n",
              "      <td>0.523307</td>\n",
              "      <td>0.523307</td>\n",
              "      <td>0.273850</td>\n",
              "      <td>0.359547</td>\n",
              "    </tr>\n",
              "    <tr>\n",
              "      <th>2</th>\n",
              "      <td>DT_Grid</td>\n",
              "      <td>0.265281</td>\n",
              "      <td>0.265281</td>\n",
              "      <td>0.426633</td>\n",
              "      <td>0.216940</td>\n",
              "      <td>0.239079</td>\n",
              "      <td>0.239079</td>\n",
              "      <td>0.386173</td>\n",
              "      <td>0.192830</td>\n",
              "    </tr>\n",
              "    <tr>\n",
              "      <th>3</th>\n",
              "      <td>KNN</td>\n",
              "      <td>0.498058</td>\n",
              "      <td>0.498058</td>\n",
              "      <td>0.499210</td>\n",
              "      <td>0.489511</td>\n",
              "      <td>0.397391</td>\n",
              "      <td>0.397391</td>\n",
              "      <td>0.388561</td>\n",
              "      <td>0.386599</td>\n",
              "    </tr>\n",
              "    <tr>\n",
              "      <th>4</th>\n",
              "      <td>Random Forest</td>\n",
              "      <td>0.586082</td>\n",
              "      <td>0.586082</td>\n",
              "      <td>0.581217</td>\n",
              "      <td>0.538329</td>\n",
              "      <td>0.463647</td>\n",
              "      <td>0.463647</td>\n",
              "      <td>0.391528</td>\n",
              "      <td>0.402709</td>\n",
              "    </tr>\n",
              "  </tbody>\n",
              "</table>\n",
              "</div>\n",
              "      <button class=\"colab-df-convert\" onclick=\"convertToInteractive('df-90efd8e3-5196-422a-8ba9-3ad4fa12497f')\"\n",
              "              title=\"Convert this dataframe to an interactive table.\"\n",
              "              style=\"display:none;\">\n",
              "        \n",
              "  <svg xmlns=\"http://www.w3.org/2000/svg\" height=\"24px\"viewBox=\"0 0 24 24\"\n",
              "       width=\"24px\">\n",
              "    <path d=\"M0 0h24v24H0V0z\" fill=\"none\"/>\n",
              "    <path d=\"M18.56 5.44l.94 2.06.94-2.06 2.06-.94-2.06-.94-.94-2.06-.94 2.06-2.06.94zm-11 1L8.5 8.5l.94-2.06 2.06-.94-2.06-.94L8.5 2.5l-.94 2.06-2.06.94zm10 10l.94 2.06.94-2.06 2.06-.94-2.06-.94-.94-2.06-.94 2.06-2.06.94z\"/><path d=\"M17.41 7.96l-1.37-1.37c-.4-.4-.92-.59-1.43-.59-.52 0-1.04.2-1.43.59L10.3 9.45l-7.72 7.72c-.78.78-.78 2.05 0 2.83L4 21.41c.39.39.9.59 1.41.59.51 0 1.02-.2 1.41-.59l7.78-7.78 2.81-2.81c.8-.78.8-2.07 0-2.86zM5.41 20L4 18.59l7.72-7.72 1.47 1.35L5.41 20z\"/>\n",
              "  </svg>\n",
              "      </button>\n",
              "      \n",
              "  <style>\n",
              "    .colab-df-container {\n",
              "      display:flex;\n",
              "      flex-wrap:wrap;\n",
              "      gap: 12px;\n",
              "    }\n",
              "\n",
              "    .colab-df-convert {\n",
              "      background-color: #E8F0FE;\n",
              "      border: none;\n",
              "      border-radius: 50%;\n",
              "      cursor: pointer;\n",
              "      display: none;\n",
              "      fill: #1967D2;\n",
              "      height: 32px;\n",
              "      padding: 0 0 0 0;\n",
              "      width: 32px;\n",
              "    }\n",
              "\n",
              "    .colab-df-convert:hover {\n",
              "      background-color: #E2EBFA;\n",
              "      box-shadow: 0px 1px 2px rgba(60, 64, 67, 0.3), 0px 1px 3px 1px rgba(60, 64, 67, 0.15);\n",
              "      fill: #174EA6;\n",
              "    }\n",
              "\n",
              "    [theme=dark] .colab-df-convert {\n",
              "      background-color: #3B4455;\n",
              "      fill: #D2E3FC;\n",
              "    }\n",
              "\n",
              "    [theme=dark] .colab-df-convert:hover {\n",
              "      background-color: #434B5C;\n",
              "      box-shadow: 0px 1px 3px 1px rgba(0, 0, 0, 0.15);\n",
              "      filter: drop-shadow(0px 1px 2px rgba(0, 0, 0, 0.3));\n",
              "      fill: #FFFFFF;\n",
              "    }\n",
              "  </style>\n",
              "\n",
              "      <script>\n",
              "        const buttonEl =\n",
              "          document.querySelector('#df-90efd8e3-5196-422a-8ba9-3ad4fa12497f button.colab-df-convert');\n",
              "        buttonEl.style.display =\n",
              "          google.colab.kernel.accessAllowed ? 'block' : 'none';\n",
              "\n",
              "        async function convertToInteractive(key) {\n",
              "          const element = document.querySelector('#df-90efd8e3-5196-422a-8ba9-3ad4fa12497f');\n",
              "          const dataTable =\n",
              "            await google.colab.kernel.invokeFunction('convertToInteractive',\n",
              "                                                     [key], {});\n",
              "          if (!dataTable) return;\n",
              "\n",
              "          const docLinkHtml = 'Like what you see? Visit the ' +\n",
              "            '<a target=\"_blank\" href=https://colab.research.google.com/notebooks/data_table.ipynb>data table notebook</a>'\n",
              "            + ' to learn more about interactive tables.';\n",
              "          element.innerHTML = '';\n",
              "          dataTable['output_type'] = 'display_data';\n",
              "          await google.colab.output.renderOutput(dataTable, element);\n",
              "          const docLink = document.createElement('div');\n",
              "          docLink.innerHTML = docLinkHtml;\n",
              "          element.appendChild(docLink);\n",
              "        }\n",
              "      </script>\n",
              "    </div>\n",
              "  </div>\n",
              "  "
            ]
          },
          "metadata": {},
          "execution_count": 224
        }
      ],
      "source": [
        "scores=get_metrics(y_train_le,y_train_predrf,y_test_le,y_test_predrf,\"Random Forest\",scores)\n",
        "scores"
      ]
    },
    {
      "cell_type": "code",
      "execution_count": null,
      "metadata": {
        "colab": {
          "base_uri": "https://localhost:8080/"
        },
        "id": "CWn5nupXOnRN",
        "outputId": "730e7440-675a-4595-de39-ee39bae50445"
      },
      "outputs": [
        {
          "output_type": "stream",
          "name": "stdout",
          "text": [
            "Looking in indexes: https://pypi.org/simple, https://us-python.pkg.dev/colab-wheels/public/simple/\n",
            "Requirement already satisfied: openpyxl in /usr/local/lib/python3.7/dist-packages (3.0.10)\n",
            "Requirement already satisfied: et-xmlfile in /usr/local/lib/python3.7/dist-packages (from openpyxl) (1.1.0)\n"
          ]
        }
      ],
      "source": [
        "!pip install openpyxl"
      ]
    },
    {
      "cell_type": "code",
      "execution_count": null,
      "metadata": {
        "id": "1jEyxxFWaEZd"
      },
      "outputs": [],
      "source": [
        "df_test=pd.read_excel(\"test_data.xlsx\")"
      ]
    },
    {
      "cell_type": "code",
      "execution_count": null,
      "metadata": {
        "colab": {
          "base_uri": "https://localhost:8080/"
        },
        "id": "Ef2tloxury0a",
        "outputId": "78d5e878-d201-4dfd-bf10-6888cc2cc6a7"
      },
      "outputs": [
        {
          "output_type": "stream",
          "name": "stdout",
          "text": [
            "<class 'pandas.core.frame.DataFrame'>\n",
            "RangeIndex: 3791 entries, 0 to 3790\n",
            "Data columns (total 9 columns):\n",
            " #   Column           Non-Null Count  Dtype \n",
            "---  ------           --------------  ----- \n",
            " 0   Claim Number     3791 non-null   object\n",
            " 1   Incident Date    3791 non-null   object\n",
            " 2   Date Received    3791 non-null   object\n",
            " 3   City Code        3791 non-null   object\n",
            " 4   City             3791 non-null   object\n",
            " 5   Enterprise Type  3791 non-null   object\n",
            " 6   Claim Type       3791 non-null   object\n",
            " 7   Claim Site       3791 non-null   object\n",
            " 8   Product Insured  3791 non-null   object\n",
            "dtypes: object(9)\n",
            "memory usage: 266.7+ KB\n"
          ]
        }
      ],
      "source": [
        "df_test.info()"
      ]
    },
    {
      "cell_type": "code",
      "source": [
        "df_test_a = df[\"Claim Number\"]"
      ],
      "metadata": {
        "id": "gzhwE3tccC76"
      },
      "execution_count": null,
      "outputs": []
    },
    {
      "cell_type": "code",
      "execution_count": null,
      "metadata": {
        "id": "Zy6sd_ELsiO0"
      },
      "outputs": [],
      "source": [
        "df_test.drop([\"Claim Number\",\"City\",\"Incident Date\",\"Date Received\"],axis = 1 , inplace =True)"
      ]
    },
    {
      "cell_type": "code",
      "source": [
        "df_test_d"
      ],
      "metadata": {
        "colab": {
          "base_uri": "https://localhost:8080/"
        },
        "id": "DwxsJgUvbw5o",
        "outputId": "6b85c747-82fd-459e-9a74-2b4f91f5ebd3"
      },
      "execution_count": null,
      "outputs": [
        {
          "output_type": "execute_result",
          "data": {
            "text/plain": [
              "0        DQW1NZO0PL\n",
              "1        JS5GAPRN5B\n",
              "2        ZTSVAQSEAQ\n",
              "3        EW7NWHI7LI\n",
              "4        UJOFDC41EL\n",
              "            ...    \n",
              "34105    5CFGWQ6IR5\n",
              "34106    QQ6EAWA4Q5\n",
              "34107    X1J58PT1J5\n",
              "34108    AGOXXE8KII\n",
              "34109    WT5RH23GPC\n",
              "Name: Claim Number, Length: 34110, dtype: object"
            ]
          },
          "metadata": {},
          "execution_count": 245
        }
      ]
    },
    {
      "cell_type": "code",
      "execution_count": null,
      "metadata": {
        "colab": {
          "base_uri": "https://localhost:8080/",
          "height": 206
        },
        "id": "tP5_zhWwFJZ5",
        "outputId": "c5795683-0960-49e0-f1ad-efc63627d1a1"
      },
      "outputs": [
        {
          "output_type": "execute_result",
          "data": {
            "text/plain": [
              "  City Code                       Enterprise Type       Claim Type  \\\n",
              "0       PNQ                    One Person Company    Property Loss   \n",
              "1       PNQ  Limited Liability Parterneship (LLP)    Property Loss   \n",
              "2       AMD               Private Limited Company    Property Loss   \n",
              "3       DEL                    One Person Company  Property Damage   \n",
              "4       PNQ               Private Limited Company  Property Damage   \n",
              "\n",
              "   Claim Site             Product Insured  \n",
              "0  In Transit  Inventory - Finished Goods  \n",
              "1  In Transit                    Fixtures  \n",
              "2   Warehouse    Inventory - Raw Material  \n",
              "3  In Transit  Inventory - Finished Goods  \n",
              "4  In Transit      Misc. Electronic Items  "
            ],
            "text/html": [
              "\n",
              "  <div id=\"df-3be77948-7274-4582-8cd7-9b9777d5bb32\">\n",
              "    <div class=\"colab-df-container\">\n",
              "      <div>\n",
              "<style scoped>\n",
              "    .dataframe tbody tr th:only-of-type {\n",
              "        vertical-align: middle;\n",
              "    }\n",
              "\n",
              "    .dataframe tbody tr th {\n",
              "        vertical-align: top;\n",
              "    }\n",
              "\n",
              "    .dataframe thead th {\n",
              "        text-align: right;\n",
              "    }\n",
              "</style>\n",
              "<table border=\"1\" class=\"dataframe\">\n",
              "  <thead>\n",
              "    <tr style=\"text-align: right;\">\n",
              "      <th></th>\n",
              "      <th>City Code</th>\n",
              "      <th>Enterprise Type</th>\n",
              "      <th>Claim Type</th>\n",
              "      <th>Claim Site</th>\n",
              "      <th>Product Insured</th>\n",
              "    </tr>\n",
              "  </thead>\n",
              "  <tbody>\n",
              "    <tr>\n",
              "      <th>0</th>\n",
              "      <td>PNQ</td>\n",
              "      <td>One Person Company</td>\n",
              "      <td>Property Loss</td>\n",
              "      <td>In Transit</td>\n",
              "      <td>Inventory - Finished Goods</td>\n",
              "    </tr>\n",
              "    <tr>\n",
              "      <th>1</th>\n",
              "      <td>PNQ</td>\n",
              "      <td>Limited Liability Parterneship (LLP)</td>\n",
              "      <td>Property Loss</td>\n",
              "      <td>In Transit</td>\n",
              "      <td>Fixtures</td>\n",
              "    </tr>\n",
              "    <tr>\n",
              "      <th>2</th>\n",
              "      <td>AMD</td>\n",
              "      <td>Private Limited Company</td>\n",
              "      <td>Property Loss</td>\n",
              "      <td>Warehouse</td>\n",
              "      <td>Inventory - Raw Material</td>\n",
              "    </tr>\n",
              "    <tr>\n",
              "      <th>3</th>\n",
              "      <td>DEL</td>\n",
              "      <td>One Person Company</td>\n",
              "      <td>Property Damage</td>\n",
              "      <td>In Transit</td>\n",
              "      <td>Inventory - Finished Goods</td>\n",
              "    </tr>\n",
              "    <tr>\n",
              "      <th>4</th>\n",
              "      <td>PNQ</td>\n",
              "      <td>Private Limited Company</td>\n",
              "      <td>Property Damage</td>\n",
              "      <td>In Transit</td>\n",
              "      <td>Misc. Electronic Items</td>\n",
              "    </tr>\n",
              "  </tbody>\n",
              "</table>\n",
              "</div>\n",
              "      <button class=\"colab-df-convert\" onclick=\"convertToInteractive('df-3be77948-7274-4582-8cd7-9b9777d5bb32')\"\n",
              "              title=\"Convert this dataframe to an interactive table.\"\n",
              "              style=\"display:none;\">\n",
              "        \n",
              "  <svg xmlns=\"http://www.w3.org/2000/svg\" height=\"24px\"viewBox=\"0 0 24 24\"\n",
              "       width=\"24px\">\n",
              "    <path d=\"M0 0h24v24H0V0z\" fill=\"none\"/>\n",
              "    <path d=\"M18.56 5.44l.94 2.06.94-2.06 2.06-.94-2.06-.94-.94-2.06-.94 2.06-2.06.94zm-11 1L8.5 8.5l.94-2.06 2.06-.94-2.06-.94L8.5 2.5l-.94 2.06-2.06.94zm10 10l.94 2.06.94-2.06 2.06-.94-2.06-.94-.94-2.06-.94 2.06-2.06.94z\"/><path d=\"M17.41 7.96l-1.37-1.37c-.4-.4-.92-.59-1.43-.59-.52 0-1.04.2-1.43.59L10.3 9.45l-7.72 7.72c-.78.78-.78 2.05 0 2.83L4 21.41c.39.39.9.59 1.41.59.51 0 1.02-.2 1.41-.59l7.78-7.78 2.81-2.81c.8-.78.8-2.07 0-2.86zM5.41 20L4 18.59l7.72-7.72 1.47 1.35L5.41 20z\"/>\n",
              "  </svg>\n",
              "      </button>\n",
              "      \n",
              "  <style>\n",
              "    .colab-df-container {\n",
              "      display:flex;\n",
              "      flex-wrap:wrap;\n",
              "      gap: 12px;\n",
              "    }\n",
              "\n",
              "    .colab-df-convert {\n",
              "      background-color: #E8F0FE;\n",
              "      border: none;\n",
              "      border-radius: 50%;\n",
              "      cursor: pointer;\n",
              "      display: none;\n",
              "      fill: #1967D2;\n",
              "      height: 32px;\n",
              "      padding: 0 0 0 0;\n",
              "      width: 32px;\n",
              "    }\n",
              "\n",
              "    .colab-df-convert:hover {\n",
              "      background-color: #E2EBFA;\n",
              "      box-shadow: 0px 1px 2px rgba(60, 64, 67, 0.3), 0px 1px 3px 1px rgba(60, 64, 67, 0.15);\n",
              "      fill: #174EA6;\n",
              "    }\n",
              "\n",
              "    [theme=dark] .colab-df-convert {\n",
              "      background-color: #3B4455;\n",
              "      fill: #D2E3FC;\n",
              "    }\n",
              "\n",
              "    [theme=dark] .colab-df-convert:hover {\n",
              "      background-color: #434B5C;\n",
              "      box-shadow: 0px 1px 3px 1px rgba(0, 0, 0, 0.15);\n",
              "      filter: drop-shadow(0px 1px 2px rgba(0, 0, 0, 0.3));\n",
              "      fill: #FFFFFF;\n",
              "    }\n",
              "  </style>\n",
              "\n",
              "      <script>\n",
              "        const buttonEl =\n",
              "          document.querySelector('#df-3be77948-7274-4582-8cd7-9b9777d5bb32 button.colab-df-convert');\n",
              "        buttonEl.style.display =\n",
              "          google.colab.kernel.accessAllowed ? 'block' : 'none';\n",
              "\n",
              "        async function convertToInteractive(key) {\n",
              "          const element = document.querySelector('#df-3be77948-7274-4582-8cd7-9b9777d5bb32');\n",
              "          const dataTable =\n",
              "            await google.colab.kernel.invokeFunction('convertToInteractive',\n",
              "                                                     [key], {});\n",
              "          if (!dataTable) return;\n",
              "\n",
              "          const docLinkHtml = 'Like what you see? Visit the ' +\n",
              "            '<a target=\"_blank\" href=https://colab.research.google.com/notebooks/data_table.ipynb>data table notebook</a>'\n",
              "            + ' to learn more about interactive tables.';\n",
              "          element.innerHTML = '';\n",
              "          dataTable['output_type'] = 'display_data';\n",
              "          await google.colab.output.renderOutput(dataTable, element);\n",
              "          const docLink = document.createElement('div');\n",
              "          docLink.innerHTML = docLinkHtml;\n",
              "          element.appendChild(docLink);\n",
              "        }\n",
              "      </script>\n",
              "    </div>\n",
              "  </div>\n",
              "  "
            ]
          },
          "metadata": {},
          "execution_count": 229
        }
      ],
      "source": [
        "df_test.head()"
      ]
    },
    {
      "cell_type": "code",
      "execution_count": null,
      "metadata": {
        "id": "Q2247QLDFxgk"
      },
      "outputs": [],
      "source": [
        "df_test[cat_cols] = df_test[cat_cols].astype(\"category\")"
      ]
    },
    {
      "cell_type": "code",
      "execution_count": null,
      "metadata": {
        "id": "tn3jbhjSFR6g"
      },
      "outputs": [],
      "source": [
        "df_test_ohe = ohe.transform(df_test).toarray()"
      ]
    },
    {
      "cell_type": "code",
      "execution_count": null,
      "metadata": {
        "colab": {
          "base_uri": "https://localhost:8080/"
        },
        "id": "hGFpPbrfIUhz",
        "outputId": "aad2fde7-dfd6-417e-8d22-c4d91242cadb"
      },
      "outputs": [
        {
          "output_type": "execute_result",
          "data": {
            "text/plain": [
              "Index(['City Code', 'Enterprise Type', 'Claim Type', 'Claim Site',\n",
              "       'Product Insured'],\n",
              "      dtype='object')"
            ]
          },
          "metadata": {},
          "execution_count": 232
        }
      ],
      "source": [
        "df_test.columns"
      ]
    },
    {
      "cell_type": "code",
      "execution_count": null,
      "metadata": {
        "colab": {
          "base_uri": "https://localhost:8080/"
        },
        "id": "ZJeHuuJpFk_B",
        "outputId": "b926ab80-7beb-4275-8854-9bce77bbf013"
      },
      "outputs": [
        {
          "output_type": "execute_result",
          "data": {
            "text/plain": [
              "array([[0., 0., 0., ..., 0., 0., 0.],\n",
              "       [0., 0., 0., ..., 0., 0., 0.],\n",
              "       [0., 1., 0., ..., 0., 0., 0.],\n",
              "       ...,\n",
              "       [0., 0., 0., ..., 0., 0., 0.],\n",
              "       [0., 0., 0., ..., 0., 0., 0.],\n",
              "       [0., 0., 0., ..., 0., 0., 0.]])"
            ]
          },
          "metadata": {},
          "execution_count": 233
        }
      ],
      "source": [
        "df_test_ohe"
      ]
    },
    {
      "cell_type": "code",
      "execution_count": null,
      "metadata": {
        "colab": {
          "base_uri": "https://localhost:8080/"
        },
        "id": "R8guATH1IOdZ",
        "outputId": "41d82e7f-2818-487a-f4fd-0d735c9b39bf"
      },
      "outputs": [
        {
          "output_type": "execute_result",
          "data": {
            "text/plain": [
              "Index(['City Code', 'Enterprise Type', 'Claim Type', 'Claim Site',\n",
              "       'Product Insured'],\n",
              "      dtype='object')"
            ]
          },
          "metadata": {},
          "execution_count": 234
        }
      ],
      "source": [
        "x_train.columns\n"
      ]
    },
    {
      "cell_type": "code",
      "execution_count": null,
      "metadata": {
        "id": "Syu-UdSkFqVB"
      },
      "outputs": [],
      "source": [
        "\n",
        "df_test_claim = model_dt.predict(df_test_ohe)"
      ]
    },
    {
      "cell_type": "code",
      "execution_count": null,
      "metadata": {
        "id": "9p0u4XuYGZFr"
      },
      "outputs": [],
      "source": [
        "new_df=pd.DataFrame(df_test_claim,columns = [\"Desposition\"])"
      ]
    },
    {
      "cell_type": "code",
      "execution_count": null,
      "metadata": {
        "id": "9PM-tKzytQvW"
      },
      "outputs": [],
      "source": [
        "var1 = new_df\n",
        "var2 = df_test_a"
      ]
    },
    {
      "cell_type": "code",
      "execution_count": null,
      "metadata": {
        "id": "JiraQKfgVss2"
      },
      "outputs": [],
      "source": [
        "var3 = var1.join(var2)"
      ]
    },
    {
      "cell_type": "code",
      "execution_count": null,
      "metadata": {
        "colab": {
          "base_uri": "https://localhost:8080/",
          "height": 423
        },
        "id": "Q6s5oh0XWNA9",
        "outputId": "904d4a98-2f8a-4b8e-d7ce-f1ae15edc607"
      },
      "outputs": [
        {
          "output_type": "execute_result",
          "data": {
            "text/plain": [
              "      Desposition\n",
              "0               1\n",
              "1               1\n",
              "2               1\n",
              "3               1\n",
              "4               1\n",
              "...           ...\n",
              "3786            1\n",
              "3787            1\n",
              "3788            1\n",
              "3789            1\n",
              "3790            1\n",
              "\n",
              "[3791 rows x 1 columns]"
            ],
            "text/html": [
              "\n",
              "  <div id=\"df-b07cde31-5700-4c88-9c78-9544b1a4a782\">\n",
              "    <div class=\"colab-df-container\">\n",
              "      <div>\n",
              "<style scoped>\n",
              "    .dataframe tbody tr th:only-of-type {\n",
              "        vertical-align: middle;\n",
              "    }\n",
              "\n",
              "    .dataframe tbody tr th {\n",
              "        vertical-align: top;\n",
              "    }\n",
              "\n",
              "    .dataframe thead th {\n",
              "        text-align: right;\n",
              "    }\n",
              "</style>\n",
              "<table border=\"1\" class=\"dataframe\">\n",
              "  <thead>\n",
              "    <tr style=\"text-align: right;\">\n",
              "      <th></th>\n",
              "      <th>Desposition</th>\n",
              "    </tr>\n",
              "  </thead>\n",
              "  <tbody>\n",
              "    <tr>\n",
              "      <th>0</th>\n",
              "      <td>1</td>\n",
              "    </tr>\n",
              "    <tr>\n",
              "      <th>1</th>\n",
              "      <td>1</td>\n",
              "    </tr>\n",
              "    <tr>\n",
              "      <th>2</th>\n",
              "      <td>1</td>\n",
              "    </tr>\n",
              "    <tr>\n",
              "      <th>3</th>\n",
              "      <td>1</td>\n",
              "    </tr>\n",
              "    <tr>\n",
              "      <th>4</th>\n",
              "      <td>1</td>\n",
              "    </tr>\n",
              "    <tr>\n",
              "      <th>...</th>\n",
              "      <td>...</td>\n",
              "    </tr>\n",
              "    <tr>\n",
              "      <th>3786</th>\n",
              "      <td>1</td>\n",
              "    </tr>\n",
              "    <tr>\n",
              "      <th>3787</th>\n",
              "      <td>1</td>\n",
              "    </tr>\n",
              "    <tr>\n",
              "      <th>3788</th>\n",
              "      <td>1</td>\n",
              "    </tr>\n",
              "    <tr>\n",
              "      <th>3789</th>\n",
              "      <td>1</td>\n",
              "    </tr>\n",
              "    <tr>\n",
              "      <th>3790</th>\n",
              "      <td>1</td>\n",
              "    </tr>\n",
              "  </tbody>\n",
              "</table>\n",
              "<p>3791 rows × 1 columns</p>\n",
              "</div>\n",
              "      <button class=\"colab-df-convert\" onclick=\"convertToInteractive('df-b07cde31-5700-4c88-9c78-9544b1a4a782')\"\n",
              "              title=\"Convert this dataframe to an interactive table.\"\n",
              "              style=\"display:none;\">\n",
              "        \n",
              "  <svg xmlns=\"http://www.w3.org/2000/svg\" height=\"24px\"viewBox=\"0 0 24 24\"\n",
              "       width=\"24px\">\n",
              "    <path d=\"M0 0h24v24H0V0z\" fill=\"none\"/>\n",
              "    <path d=\"M18.56 5.44l.94 2.06.94-2.06 2.06-.94-2.06-.94-.94-2.06-.94 2.06-2.06.94zm-11 1L8.5 8.5l.94-2.06 2.06-.94-2.06-.94L8.5 2.5l-.94 2.06-2.06.94zm10 10l.94 2.06.94-2.06 2.06-.94-2.06-.94-.94-2.06-.94 2.06-2.06.94z\"/><path d=\"M17.41 7.96l-1.37-1.37c-.4-.4-.92-.59-1.43-.59-.52 0-1.04.2-1.43.59L10.3 9.45l-7.72 7.72c-.78.78-.78 2.05 0 2.83L4 21.41c.39.39.9.59 1.41.59.51 0 1.02-.2 1.41-.59l7.78-7.78 2.81-2.81c.8-.78.8-2.07 0-2.86zM5.41 20L4 18.59l7.72-7.72 1.47 1.35L5.41 20z\"/>\n",
              "  </svg>\n",
              "      </button>\n",
              "      \n",
              "  <style>\n",
              "    .colab-df-container {\n",
              "      display:flex;\n",
              "      flex-wrap:wrap;\n",
              "      gap: 12px;\n",
              "    }\n",
              "\n",
              "    .colab-df-convert {\n",
              "      background-color: #E8F0FE;\n",
              "      border: none;\n",
              "      border-radius: 50%;\n",
              "      cursor: pointer;\n",
              "      display: none;\n",
              "      fill: #1967D2;\n",
              "      height: 32px;\n",
              "      padding: 0 0 0 0;\n",
              "      width: 32px;\n",
              "    }\n",
              "\n",
              "    .colab-df-convert:hover {\n",
              "      background-color: #E2EBFA;\n",
              "      box-shadow: 0px 1px 2px rgba(60, 64, 67, 0.3), 0px 1px 3px 1px rgba(60, 64, 67, 0.15);\n",
              "      fill: #174EA6;\n",
              "    }\n",
              "\n",
              "    [theme=dark] .colab-df-convert {\n",
              "      background-color: #3B4455;\n",
              "      fill: #D2E3FC;\n",
              "    }\n",
              "\n",
              "    [theme=dark] .colab-df-convert:hover {\n",
              "      background-color: #434B5C;\n",
              "      box-shadow: 0px 1px 3px 1px rgba(0, 0, 0, 0.15);\n",
              "      filter: drop-shadow(0px 1px 2px rgba(0, 0, 0, 0.3));\n",
              "      fill: #FFFFFF;\n",
              "    }\n",
              "  </style>\n",
              "\n",
              "      <script>\n",
              "        const buttonEl =\n",
              "          document.querySelector('#df-b07cde31-5700-4c88-9c78-9544b1a4a782 button.colab-df-convert');\n",
              "        buttonEl.style.display =\n",
              "          google.colab.kernel.accessAllowed ? 'block' : 'none';\n",
              "\n",
              "        async function convertToInteractive(key) {\n",
              "          const element = document.querySelector('#df-b07cde31-5700-4c88-9c78-9544b1a4a782');\n",
              "          const dataTable =\n",
              "            await google.colab.kernel.invokeFunction('convertToInteractive',\n",
              "                                                     [key], {});\n",
              "          if (!dataTable) return;\n",
              "\n",
              "          const docLinkHtml = 'Like what you see? Visit the ' +\n",
              "            '<a target=\"_blank\" href=https://colab.research.google.com/notebooks/data_table.ipynb>data table notebook</a>'\n",
              "            + ' to learn more about interactive tables.';\n",
              "          element.innerHTML = '';\n",
              "          dataTable['output_type'] = 'display_data';\n",
              "          await google.colab.output.renderOutput(dataTable, element);\n",
              "          const docLink = document.createElement('div');\n",
              "          docLink.innerHTML = docLinkHtml;\n",
              "          element.appendChild(docLink);\n",
              "        }\n",
              "      </script>\n",
              "    </div>\n",
              "  </div>\n",
              "  "
            ]
          },
          "metadata": {},
          "execution_count": 250
        }
      ],
      "source": [
        "var1"
      ]
    },
    {
      "cell_type": "code",
      "execution_count": null,
      "metadata": {
        "id": "xQkQ_9huXO7v"
      },
      "outputs": [],
      "source": []
    },
    {
      "cell_type": "code",
      "source": [],
      "metadata": {
        "id": "s7cNTt4Ut4Uv"
      },
      "execution_count": null,
      "outputs": []
    },
    {
      "cell_type": "code",
      "execution_count": null,
      "metadata": {
        "id": "ruQFqNYFXO4Z"
      },
      "outputs": [],
      "source": []
    },
    {
      "cell_type": "code",
      "execution_count": null,
      "metadata": {
        "id": "w4GVk2M5VtJL"
      },
      "outputs": [],
      "source": []
    },
    {
      "cell_type": "code",
      "execution_count": null,
      "metadata": {
        "colab": {
          "base_uri": "https://localhost:8080/",
          "height": 423
        },
        "id": "-yB9JRU0WgqX",
        "outputId": "714037e8-38a2-4049-a663-4a2fc6800863"
      },
      "outputs": [
        {
          "output_type": "execute_result",
          "data": {
            "text/plain": [
              "      Desposition Claim Number\n",
              "0               1   DQW1NZO0PL\n",
              "1               1   JS5GAPRN5B\n",
              "2               1   ZTSVAQSEAQ\n",
              "3               1   EW7NWHI7LI\n",
              "4               1   UJOFDC41EL\n",
              "...           ...          ...\n",
              "3786            1   E1PDI1HQJT\n",
              "3787            1   R4WWSUX0JU\n",
              "3788            1   CDXSI2PW6X\n",
              "3789            1   H8BDD1G18L\n",
              "3790            1   YJJBO1DYP2\n",
              "\n",
              "[3791 rows x 2 columns]"
            ],
            "text/html": [
              "\n",
              "  <div id=\"df-79ce795b-e66e-4e01-b690-5ad6bddfdd60\">\n",
              "    <div class=\"colab-df-container\">\n",
              "      <div>\n",
              "<style scoped>\n",
              "    .dataframe tbody tr th:only-of-type {\n",
              "        vertical-align: middle;\n",
              "    }\n",
              "\n",
              "    .dataframe tbody tr th {\n",
              "        vertical-align: top;\n",
              "    }\n",
              "\n",
              "    .dataframe thead th {\n",
              "        text-align: right;\n",
              "    }\n",
              "</style>\n",
              "<table border=\"1\" class=\"dataframe\">\n",
              "  <thead>\n",
              "    <tr style=\"text-align: right;\">\n",
              "      <th></th>\n",
              "      <th>Desposition</th>\n",
              "      <th>Claim Number</th>\n",
              "    </tr>\n",
              "  </thead>\n",
              "  <tbody>\n",
              "    <tr>\n",
              "      <th>0</th>\n",
              "      <td>1</td>\n",
              "      <td>DQW1NZO0PL</td>\n",
              "    </tr>\n",
              "    <tr>\n",
              "      <th>1</th>\n",
              "      <td>1</td>\n",
              "      <td>JS5GAPRN5B</td>\n",
              "    </tr>\n",
              "    <tr>\n",
              "      <th>2</th>\n",
              "      <td>1</td>\n",
              "      <td>ZTSVAQSEAQ</td>\n",
              "    </tr>\n",
              "    <tr>\n",
              "      <th>3</th>\n",
              "      <td>1</td>\n",
              "      <td>EW7NWHI7LI</td>\n",
              "    </tr>\n",
              "    <tr>\n",
              "      <th>4</th>\n",
              "      <td>1</td>\n",
              "      <td>UJOFDC41EL</td>\n",
              "    </tr>\n",
              "    <tr>\n",
              "      <th>...</th>\n",
              "      <td>...</td>\n",
              "      <td>...</td>\n",
              "    </tr>\n",
              "    <tr>\n",
              "      <th>3786</th>\n",
              "      <td>1</td>\n",
              "      <td>E1PDI1HQJT</td>\n",
              "    </tr>\n",
              "    <tr>\n",
              "      <th>3787</th>\n",
              "      <td>1</td>\n",
              "      <td>R4WWSUX0JU</td>\n",
              "    </tr>\n",
              "    <tr>\n",
              "      <th>3788</th>\n",
              "      <td>1</td>\n",
              "      <td>CDXSI2PW6X</td>\n",
              "    </tr>\n",
              "    <tr>\n",
              "      <th>3789</th>\n",
              "      <td>1</td>\n",
              "      <td>H8BDD1G18L</td>\n",
              "    </tr>\n",
              "    <tr>\n",
              "      <th>3790</th>\n",
              "      <td>1</td>\n",
              "      <td>YJJBO1DYP2</td>\n",
              "    </tr>\n",
              "  </tbody>\n",
              "</table>\n",
              "<p>3791 rows × 2 columns</p>\n",
              "</div>\n",
              "      <button class=\"colab-df-convert\" onclick=\"convertToInteractive('df-79ce795b-e66e-4e01-b690-5ad6bddfdd60')\"\n",
              "              title=\"Convert this dataframe to an interactive table.\"\n",
              "              style=\"display:none;\">\n",
              "        \n",
              "  <svg xmlns=\"http://www.w3.org/2000/svg\" height=\"24px\"viewBox=\"0 0 24 24\"\n",
              "       width=\"24px\">\n",
              "    <path d=\"M0 0h24v24H0V0z\" fill=\"none\"/>\n",
              "    <path d=\"M18.56 5.44l.94 2.06.94-2.06 2.06-.94-2.06-.94-.94-2.06-.94 2.06-2.06.94zm-11 1L8.5 8.5l.94-2.06 2.06-.94-2.06-.94L8.5 2.5l-.94 2.06-2.06.94zm10 10l.94 2.06.94-2.06 2.06-.94-2.06-.94-.94-2.06-.94 2.06-2.06.94z\"/><path d=\"M17.41 7.96l-1.37-1.37c-.4-.4-.92-.59-1.43-.59-.52 0-1.04.2-1.43.59L10.3 9.45l-7.72 7.72c-.78.78-.78 2.05 0 2.83L4 21.41c.39.39.9.59 1.41.59.51 0 1.02-.2 1.41-.59l7.78-7.78 2.81-2.81c.8-.78.8-2.07 0-2.86zM5.41 20L4 18.59l7.72-7.72 1.47 1.35L5.41 20z\"/>\n",
              "  </svg>\n",
              "      </button>\n",
              "      \n",
              "  <style>\n",
              "    .colab-df-container {\n",
              "      display:flex;\n",
              "      flex-wrap:wrap;\n",
              "      gap: 12px;\n",
              "    }\n",
              "\n",
              "    .colab-df-convert {\n",
              "      background-color: #E8F0FE;\n",
              "      border: none;\n",
              "      border-radius: 50%;\n",
              "      cursor: pointer;\n",
              "      display: none;\n",
              "      fill: #1967D2;\n",
              "      height: 32px;\n",
              "      padding: 0 0 0 0;\n",
              "      width: 32px;\n",
              "    }\n",
              "\n",
              "    .colab-df-convert:hover {\n",
              "      background-color: #E2EBFA;\n",
              "      box-shadow: 0px 1px 2px rgba(60, 64, 67, 0.3), 0px 1px 3px 1px rgba(60, 64, 67, 0.15);\n",
              "      fill: #174EA6;\n",
              "    }\n",
              "\n",
              "    [theme=dark] .colab-df-convert {\n",
              "      background-color: #3B4455;\n",
              "      fill: #D2E3FC;\n",
              "    }\n",
              "\n",
              "    [theme=dark] .colab-df-convert:hover {\n",
              "      background-color: #434B5C;\n",
              "      box-shadow: 0px 1px 3px 1px rgba(0, 0, 0, 0.15);\n",
              "      filter: drop-shadow(0px 1px 2px rgba(0, 0, 0, 0.3));\n",
              "      fill: #FFFFFF;\n",
              "    }\n",
              "  </style>\n",
              "\n",
              "      <script>\n",
              "        const buttonEl =\n",
              "          document.querySelector('#df-79ce795b-e66e-4e01-b690-5ad6bddfdd60 button.colab-df-convert');\n",
              "        buttonEl.style.display =\n",
              "          google.colab.kernel.accessAllowed ? 'block' : 'none';\n",
              "\n",
              "        async function convertToInteractive(key) {\n",
              "          const element = document.querySelector('#df-79ce795b-e66e-4e01-b690-5ad6bddfdd60');\n",
              "          const dataTable =\n",
              "            await google.colab.kernel.invokeFunction('convertToInteractive',\n",
              "                                                     [key], {});\n",
              "          if (!dataTable) return;\n",
              "\n",
              "          const docLinkHtml = 'Like what you see? Visit the ' +\n",
              "            '<a target=\"_blank\" href=https://colab.research.google.com/notebooks/data_table.ipynb>data table notebook</a>'\n",
              "            + ' to learn more about interactive tables.';\n",
              "          element.innerHTML = '';\n",
              "          dataTable['output_type'] = 'display_data';\n",
              "          await google.colab.output.renderOutput(dataTable, element);\n",
              "          const docLink = document.createElement('div');\n",
              "          docLink.innerHTML = docLinkHtml;\n",
              "          element.appendChild(docLink);\n",
              "        }\n",
              "      </script>\n",
              "    </div>\n",
              "  </div>\n",
              "  "
            ]
          },
          "metadata": {},
          "execution_count": 252
        }
      ],
      "source": [
        "var3"
      ]
    },
    {
      "cell_type": "code",
      "execution_count": null,
      "metadata": {
        "id": "bD-hlbtFVtbD"
      },
      "outputs": [],
      "source": [
        "final_d = var3.dropna()"
      ]
    },
    {
      "cell_type": "code",
      "execution_count": null,
      "metadata": {
        "id": "EfXcglbWvN4d"
      },
      "outputs": [],
      "source": [
        "final_d.to_csv(\"final_p.csv\")"
      ]
    },
    {
      "cell_type": "code",
      "execution_count": null,
      "metadata": {
        "id": "KPa_NRhWvt_Y"
      },
      "outputs": [],
      "source": []
    }
  ],
  "metadata": {
    "colab": {
      "provenance": []
    },
    "kernelspec": {
      "display_name": "Python 3 (ipykernel)",
      "language": "python",
      "name": "python3"
    },
    "language_info": {
      "codemirror_mode": {
        "name": "ipython",
        "version": 3
      },
      "file_extension": ".py",
      "mimetype": "text/x-python",
      "name": "python",
      "nbconvert_exporter": "python",
      "pygments_lexer": "ipython3",
      "version": "3.10.0"
    }
  },
  "nbformat": 4,
  "nbformat_minor": 0
}